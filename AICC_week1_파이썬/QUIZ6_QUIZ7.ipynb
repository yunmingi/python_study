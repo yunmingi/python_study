{
 "cells": [
  {
   "cell_type": "markdown",
   "id": "b567fd14",
   "metadata": {},
   "source": [
    "QUIZ#6. (중급)\n",
    "\n",
    "다음과 같은 기능을 하는 코드를 작성해보세요\n",
    "1. 루프를 1부터 10까지 반복합니다. (=i에는 1부터 10까지의 값이 반복해서 들어갑니다)\n",
    "1. i를 그대로 출력하지 않고, 두 배로 늘려서 출력합니다. (```i * 2```)  \n",
    "1. 반복문 안에서 출력하지 않고, 반복문 안에서 값을 모아뒀다가 반복문이 끝나면 밖에서 출력합니다.     \n",
    "이를 위해서는 빈 리스트를 만든 뒤(```double_list = []```),    \n",
    "리스트의 ```.append``` 기능을 사용해서 값을 집어넣습니다.\n",
    "1. 여기서 i가 5일 경우는 반복을 한 번만 skip하고 다음 반복(i가 6일 경우)을 재시작합니다.\n",
    "1. 그리고 i가 8일 경우는 반복문을 강제로 종료시킵니다"
   ]
  },
  {
   "cell_type": "code",
   "execution_count": 12,
   "id": "8ffe398c",
   "metadata": {},
   "outputs": [
    {
     "name": "stdout",
     "output_type": "stream",
     "text": [
      "1 2\n",
      "2 4\n",
      "3 6\n",
      "4 8\n",
      "6 12\n",
      "7 14\n"
     ]
    },
    {
     "data": {
      "text/plain": [
       "[2, 4, 6, 8, 12, 14]"
      ]
     },
     "execution_count": 12,
     "metadata": {},
     "output_type": "execute_result"
    }
   ],
   "source": [
    "# double_list라는 변수에 빈 리스트를 하나 할당합니다.\n",
    "double_list = []\n",
    "\n",
    "# 1) 1부터 10까지 루프를 반복합니다.\n",
    "for i in range(1, 11):\n",
    "    # 4) i가 5이면 현재 루프를 skip하고 다음 루프(i가 6인 경우)를 실행합니다.\n",
    "    if i == 5:\n",
    "        continue\n",
    "    \n",
    "    # 5) i가 8이면 반복문을 강제로 종료시킵니다.\n",
    "    if i == 8:\n",
    "        break\n",
    "    \n",
    "    # 2)  i 값에 2를 곱한 뒤, 그 결과를 double이라는 이름의 변수에 할당합니다.\n",
    "    double = i * 2\n",
    "    print(i, double)\n",
    "    # 3) doublie_list에 double 변수에 들어있는 값을 할당합니다.\n",
    "    double_list.append(double)\n",
    "\n",
    "# 3) 반복문이 끝난 다음의 결과를 모두 출력합니다.\n",
    "double_list"
   ]
  },
  {
   "cell_type": "code",
   "execution_count": null,
   "id": "329b633f",
   "metadata": {},
   "outputs": [],
   "source": []
  },
  {
   "cell_type": "markdown",
   "id": "3ce941ff",
   "metadata": {},
   "source": [
    "QUIZ#7 (고급 : 도움없이)  \n",
    "콜라츠 추측 (3n+1 문제)  \n",
    "\n",
    "\n",
    "3n + 1 문제는 다음과 같습니다.\n",
    "\n",
    "  * n이 홀수면 3을 곱한 뒤 1을 더하고\n",
    "  * n이 짝수면 2로 나눕니다.\n",
    "  * 마지막으로 n이 1이 되면 프로그램을 종료합니다.\n",
    "\n",
    "이 문제 역시 재귀 함수를 사용하면 간단하게 풀 수 있습니다.\n",
    "\n",
    "참고 : [콜라츠 추측](https://m.blog.naver.com/PostView.naver?isHttpsRedirect=true&blogId=inwook28&logNo=221622650947)\n",
    "\n",
    "**산식**\n",
    "\n",
    "    f(x) = n/2 (if n is even)\n",
    "         = 3n+1 (if n is odd)"
   ]
  },
  {
   "cell_type": "code",
   "execution_count": 15,
   "id": "fc59a043",
   "metadata": {},
   "outputs": [],
   "source": [
    "# cycle이라는 이름의 함수를 만듭니다. 인자로 n을 받습니다.\n",
    "def cycle(n):\n",
    "    # n이 1이면 1이 하나 들어간 리스트를 반환합니다.\n",
    "    if n == 1:\n",
    "        return [1]\n",
    "\n",
    "    # n이 짝수이면 n이 하나 들어간 리스트와, cycle(n / 2)의 결과값을 더해서 반환합니다.\n",
    "    if n % 2 == 0:\n",
    "        return [n] + cycle(n / 2)\n",
    "    \n",
    "    # n이 홀수이면 n이 하나 들어간 리스트와, cycle(3 * n + 2)의 결과값을 더해서 반환합니다.\n",
    "    else:\n",
    "        return [n] + cycle(3 * n + 1)"
   ]
  },
  {
   "cell_type": "code",
   "execution_count": 20,
   "id": "21321448",
   "metadata": {},
   "outputs": [
    {
     "data": {
      "text/plain": [
       "[4, 2.0, 1]"
      ]
     },
     "execution_count": 20,
     "metadata": {},
     "output_type": "execute_result"
    }
   ],
   "source": [
    "cycle(4)"
   ]
  },
  {
   "cell_type": "code",
   "execution_count": 21,
   "id": "ad778c93",
   "metadata": {},
   "outputs": [
    {
     "name": "stdout",
     "output_type": "stream",
     "text": [
      "[1]\n"
     ]
    }
   ],
   "source": [
    "# 1번부터 5번까지 3n + 1 문제를 실행합니다.\n",
    "print(cycle(1))"
   ]
  },
  {
   "cell_type": "code",
   "execution_count": 22,
   "id": "82782a81",
   "metadata": {},
   "outputs": [
    {
     "name": "stdout",
     "output_type": "stream",
     "text": [
      "[27, 82, 41.0, 124.0, 62.0, 31.0, 94.0, 47.0, 142.0, 71.0, 214.0, 107.0, 322.0, 161.0, 484.0, 242.0, 121.0, 364.0, 182.0, 91.0, 274.0, 137.0, 412.0, 206.0, 103.0, 310.0, 155.0, 466.0, 233.0, 700.0, 350.0, 175.0, 526.0, 263.0, 790.0, 395.0, 1186.0, 593.0, 1780.0, 890.0, 445.0, 1336.0, 668.0, 334.0, 167.0, 502.0, 251.0, 754.0, 377.0, 1132.0, 566.0, 283.0, 850.0, 425.0, 1276.0, 638.0, 319.0, 958.0, 479.0, 1438.0, 719.0, 2158.0, 1079.0, 3238.0, 1619.0, 4858.0, 2429.0, 7288.0, 3644.0, 1822.0, 911.0, 2734.0, 1367.0, 4102.0, 2051.0, 6154.0, 3077.0, 9232.0, 4616.0, 2308.0, 1154.0, 577.0, 1732.0, 866.0, 433.0, 1300.0, 650.0, 325.0, 976.0, 488.0, 244.0, 122.0, 61.0, 184.0, 92.0, 46.0, 23.0, 70.0, 35.0, 106.0, 53.0, 160.0, 80.0, 40.0, 20.0, 10.0, 5.0, 16.0, 8.0, 4.0, 2.0, 1]\n"
     ]
    }
   ],
   "source": [
    "print(cycle(27))"
   ]
  },
  {
   "cell_type": "code",
   "execution_count": 23,
   "id": "43867ed9",
   "metadata": {},
   "outputs": [
    {
     "data": {
      "text/plain": [
       "111"
      ]
     },
     "execution_count": 23,
     "metadata": {},
     "output_type": "execute_result"
    }
   ],
   "source": [
    "len(cycle(27))-1"
   ]
  },
  {
   "cell_type": "code",
   "execution_count": 24,
   "id": "58ea7f42",
   "metadata": {},
   "outputs": [
    {
     "name": "stdout",
     "output_type": "stream",
     "text": [
      "숫자를 입력하세요:27\n",
      "27 82 41 124 62 31 94 47 142 71 214 107 322 161 484 242 121 364 182 91 274 137 412 206 103 310 155 466 233 700 350 175 526 263 790 395 1186 593 1780 890 445 1336 668 334 167 502 251 754 377 1132 566 283 850 425 1276 638 319 958 479 1438 719 2158 1079 3238 1619 4858 2429 7288 3644 1822 911 2734 1367 4102 2051 6154 3077 9232 4616 2308 1154 577 1732 866 433 1300 650 325 976 488 244 122 61 184 92 46 23 70 35 106 53 160 80 40 20 10 5 16 8 4 2 "
     ]
    }
   ],
   "source": [
    "# 콜라츠 추측\n",
    "n = int(input(\"숫자를 입력하세요:\"))\n",
    "while n != 1:\n",
    "    print(n, end=' ')\n",
    "    if n % 2 == 0:\n",
    "        n = n // 2\n",
    "    else:\n",
    "        n = 3 * n + 1"
   ]
  }
 ],
 "metadata": {
  "kernelspec": {
   "display_name": "Python 3 (ipykernel)",
   "language": "python",
   "name": "python3"
  },
  "language_info": {
   "codemirror_mode": {
    "name": "ipython",
    "version": 3
   },
   "file_extension": ".py",
   "mimetype": "text/x-python",
   "name": "python",
   "nbconvert_exporter": "python",
   "pygments_lexer": "ipython3",
   "version": "3.9.12"
  }
 },
 "nbformat": 4,
 "nbformat_minor": 5
}
