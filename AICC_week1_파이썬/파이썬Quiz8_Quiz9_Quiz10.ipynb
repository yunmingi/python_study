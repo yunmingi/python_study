{
 "cells": [
  {
   "cell_type": "markdown",
   "id": "b567fd14",
   "metadata": {},
   "source": [
    "QUIZ#8.    \n",
    "\n",
    "함수 - 369 게임\n",
    "\n",
    "다음은 369게임입니다. 369게임은 다음과 같습니다.\n",
    "\n",
    "1. 1부터 시작해 숫자를 하나씩 센다.\n",
    "2. 숫자에 3이나 6이나 9 일 경우 박수(clap)를 친다.\n",
    "3. 지정한 최대 숫자까지 도달하면 프로그램을 종료한다."
   ]
  },
  {
   "cell_type": "code",
   "execution_count": 13,
   "id": "8ffe398c",
   "metadata": {},
   "outputs": [],
   "source": [
    "def game369(n):\n",
    "    for i in range(1, n + 1):\n",
    "        if i % 3 == 0:\n",
    "            print(\"clap\")\n",
    "        elif i % 6 == 0:\n",
    "            print(\"clap\")\n",
    "        elif i % 9 == 0:\n",
    "            print(\"clap\")\n",
    "        else:\n",
    "            print(i)        "
   ]
  },
  {
   "cell_type": "code",
   "execution_count": 14,
   "id": "603ba2d4",
   "metadata": {},
   "outputs": [
    {
     "name": "stdout",
     "output_type": "stream",
     "text": [
      "1\n",
      "2\n",
      "clap\n",
      "4\n",
      "5\n",
      "clap\n",
      "7\n",
      "8\n",
      "clap\n",
      "10\n",
      "11\n",
      "clap\n",
      "13\n",
      "14\n",
      "clap\n",
      "16\n",
      "17\n",
      "clap\n",
      "19\n",
      "20\n"
     ]
    }
   ],
   "source": [
    "game369(20)"
   ]
  },
  {
   "cell_type": "code",
   "execution_count": 15,
   "id": "27257a7d",
   "metadata": {},
   "outputs": [],
   "source": [
    "def game369(finish):\n",
    "    # 1부터 finish까지 반복을 돌며, 매 번 반복하는 값을 n이라는 이름의 변수에 할당합니다.\n",
    "    for n in range(1, finish + 1):\n",
    "        # 여기가 이 프로그램의 핵심입니다. n을 문자열(텍스트)로 변환합니다.\n",
    "        # 가령 3은 \"3\"으로, 33은 \"33\"으로 변환합니다.\n",
    "        n_text = str(n)\n",
    "\n",
    "        # 텍스트로 된 n에 3이나 6이나 9가 있는지 체크합니다.\n",
    "        if \"3\" in n_text or \"6\" in n_text or \"9\" in n_text:\n",
    "            # 3, 6, 9가 있으면 박수를 칩니다.\n",
    "            print(\"clap!\")\n",
    "        else:\n",
    "            # 3, 6, 9가 없으면 숫자를 그대로 출력합니다.\n",
    "            print(n)"
   ]
  },
  {
   "cell_type": "code",
   "execution_count": 16,
   "id": "d6023ab7",
   "metadata": {},
   "outputs": [
    {
     "name": "stdout",
     "output_type": "stream",
     "text": [
      "1\n",
      "2\n",
      "clap!\n",
      "4\n",
      "5\n",
      "clap!\n",
      "7\n",
      "8\n",
      "clap!\n",
      "10\n",
      "11\n",
      "12\n",
      "clap!\n",
      "14\n",
      "15\n",
      "clap!\n",
      "17\n",
      "18\n",
      "clap!\n",
      "20\n",
      "21\n",
      "22\n",
      "clap!\n",
      "24\n",
      "25\n",
      "clap!\n",
      "27\n",
      "28\n",
      "clap!\n",
      "clap!\n"
     ]
    }
   ],
   "source": [
    "game369(30)"
   ]
  },
  {
   "cell_type": "code",
   "execution_count": null,
   "id": "329b633f",
   "metadata": {},
   "outputs": [],
   "source": []
  },
  {
   "cell_type": "markdown",
   "id": "3ce941ff",
   "metadata": {},
   "source": [
    "QUIZ#9\n",
    "\n",
    " - 총 12명의 레벨테스트 점수가 파이썬의 리스트(List)로 담겨져 있고,\n",
    " - 이를 score라는 이름의 변수에 할당하였습니다.\n",
    "\n",
    "score = [80, 60, 70, 50, 100, 95, 40, 75, 90, 65, 90, 100]\n",
    "\n",
    "이 score 변수에 담겨져 있는 값을 활용하여 아래 문제를 풀어보세요.\n",
    "\n",
    " - 전체 점수의 평균을 구하는 코드를 작성해보세요.\n",
    " - 전체 점수 중 가장 높은 점수를 구하는 코드를 작성해보세요.\n",
    " - 전체 점수 중 가장 낮은 점수를 구하는 코드를 작성해보세요."
   ]
  },
  {
   "cell_type": "code",
   "execution_count": 17,
   "id": "fc59a043",
   "metadata": {},
   "outputs": [],
   "source": [
    "score = [80, 60, 70, 50, 100, 95, 40, 75, 90, 65, 90, 100]"
   ]
  },
  {
   "cell_type": "code",
   "execution_count": 20,
   "id": "e71d84aa",
   "metadata": {},
   "outputs": [
    {
     "data": {
      "text/plain": [
       "12"
      ]
     },
     "execution_count": 20,
     "metadata": {},
     "output_type": "execute_result"
    }
   ],
   "source": [
    "len(score)"
   ]
  },
  {
   "cell_type": "code",
   "execution_count": 22,
   "id": "cf4fd9c4",
   "metadata": {},
   "outputs": [
    {
     "name": "stdout",
     "output_type": "stream",
     "text": [
      "1 80 80\n",
      "2 60 140\n",
      "3 70 210\n",
      "4 50 260\n",
      "5 100 360\n",
      "6 95 455\n",
      "7 40 495\n",
      "8 75 570\n",
      "9 90 660\n",
      "10 65 725\n",
      "11 90 815\n",
      "12 100 915\n",
      "평균값 :  76.25\n"
     ]
    }
   ],
   "source": [
    "### 방법1\n",
    "count = 0\n",
    "total = 0\n",
    "\n",
    "for i in score:\n",
    "    count += 1\n",
    "    total += i\n",
    "    print(count, i, total)\n",
    "    \n",
    "print(\"평균값 : \", total / count )    "
   ]
  },
  {
   "cell_type": "code",
   "execution_count": 23,
   "id": "7208e6f1",
   "metadata": {},
   "outputs": [
    {
     "data": {
      "text/plain": [
       "0    76.25\n",
       "dtype: float64"
      ]
     },
     "execution_count": 23,
     "metadata": {},
     "output_type": "execute_result"
    }
   ],
   "source": [
    "### 방법2 : 수포자를 위한\n",
    "import pandas as pd\n",
    "pd.DataFrame(score).mean()"
   ]
  },
  {
   "cell_type": "code",
   "execution_count": 24,
   "id": "73ad7a92",
   "metadata": {},
   "outputs": [
    {
     "data": {
      "text/plain": [
       "40"
      ]
     },
     "execution_count": 24,
     "metadata": {},
     "output_type": "execute_result"
    }
   ],
   "source": [
    "min(score)"
   ]
  },
  {
   "cell_type": "code",
   "execution_count": 25,
   "id": "d9249a1d",
   "metadata": {},
   "outputs": [
    {
     "data": {
      "text/plain": [
       "100"
      ]
     },
     "execution_count": 25,
     "metadata": {},
     "output_type": "execute_result"
    }
   ],
   "source": [
    "max(score)"
   ]
  },
  {
   "cell_type": "code",
   "execution_count": 26,
   "id": "9746756f",
   "metadata": {},
   "outputs": [
    {
     "data": {
      "text/plain": [
       "[40, 50, 60, 65, 70, 75, 80, 90, 90, 95, 100, 100]"
      ]
     },
     "execution_count": 26,
     "metadata": {},
     "output_type": "execute_result"
    }
   ],
   "source": [
    "score.sort()\n",
    "score"
   ]
  },
  {
   "cell_type": "code",
   "execution_count": 27,
   "id": "4215cfca",
   "metadata": {},
   "outputs": [
    {
     "name": "stdout",
     "output_type": "stream",
     "text": [
      "최소값 : 40 최대값 : 100\n"
     ]
    }
   ],
   "source": [
    "print(\"최소값 :\", score[0], \"최대값 :\", score[-1])"
   ]
  },
  {
   "cell_type": "code",
   "execution_count": null,
   "id": "2a74754c",
   "metadata": {},
   "outputs": [],
   "source": []
  },
  {
   "cell_type": "markdown",
   "id": "747310ed",
   "metadata": {},
   "source": [
    "QUIZ#10.   \n",
    "레벨 3 문제\n",
    "다음과 같은 형태의 배열을   \n",
    "> [a1,a2,a3...,an,b1,b2...bn]\n",
    "\n",
    "다음과 같은 형태로 바꾸시오    \n",
    "> [a1,b1,a2,b2.....an,bn]\n",
    "\n",
    "문제 원문을 보니 should be in-place라 되어 있네요. 입력을 저장하는 저장소 이외에 추가적인 저장장소를 사용치 않는다는게 제약조건입니다."
   ]
  },
  {
   "cell_type": "code",
   "execution_count": 28,
   "id": "e1568e40",
   "metadata": {},
   "outputs": [
    {
     "name": "stdout",
     "output_type": "stream",
     "text": [
      "['a1', 'a2', 'a3', 'a4', 'a5', 'b1', 'b2', 'b3', 'b4', 'b5']\n"
     ]
    }
   ],
   "source": [
    "amazon = [\"a1\",\"a2\",\"a3\",\"a4\",\"a5\",\n",
    "          \"b1\",\"b2\",\"b3\",\"b4\",\"b5\"]\n",
    "print(amazon)"
   ]
  },
  {
   "cell_type": "code",
   "execution_count": 29,
   "id": "78c23eb2",
   "metadata": {},
   "outputs": [],
   "source": [
    "final = []"
   ]
  },
  {
   "cell_type": "code",
   "execution_count": 30,
   "id": "5e4c68ff",
   "metadata": {},
   "outputs": [
    {
     "name": "stdout",
     "output_type": "stream",
     "text": [
      "5\n"
     ]
    }
   ],
   "source": [
    "idx = amazon.index(\"b1\")\n",
    "print(idx)"
   ]
  },
  {
   "cell_type": "code",
   "execution_count": 31,
   "id": "2e6a0bbd",
   "metadata": {},
   "outputs": [],
   "source": [
    "for i in range(idx):\n",
    "    final.append(amazon[i])\n",
    "    final.append(amazon[idx+i])"
   ]
  },
  {
   "cell_type": "code",
   "execution_count": 32,
   "id": "70ad9fa5",
   "metadata": {},
   "outputs": [
    {
     "data": {
      "text/plain": [
       "['a1', 'b1', 'a2', 'b2', 'a3', 'b3', 'a4', 'b4', 'a5', 'b5']"
      ]
     },
     "execution_count": 32,
     "metadata": {},
     "output_type": "execute_result"
    }
   ],
   "source": [
    "final"
   ]
  },
  {
   "cell_type": "code",
   "execution_count": null,
   "id": "2eb6cd86",
   "metadata": {},
   "outputs": [],
   "source": []
  },
  {
   "cell_type": "code",
   "execution_count": 64,
   "id": "e1436191",
   "metadata": {},
   "outputs": [],
   "source": [
    "# 테스트용 배열\n",
    "arr = [\"a1\",\"a2\",\"a3\",\"a4\",\"a5\",\n",
    "          \"b1\",\"b2\",\"b3\",\"b4\",\"b5\"]"
   ]
  },
  {
   "cell_type": "code",
   "execution_count": 65,
   "id": "3642e222",
   "metadata": {},
   "outputs": [
    {
     "data": {
      "text/plain": [
       "['a1', 'a2', 'a3', 'a4', 'a5', 'b1', 'b2', 'b3', 'b4', 'b5']"
      ]
     },
     "execution_count": 65,
     "metadata": {},
     "output_type": "execute_result"
    }
   ],
   "source": [
    "arr"
   ]
  },
  {
   "cell_type": "code",
   "execution_count": 66,
   "id": "55953220",
   "metadata": {},
   "outputs": [
    {
     "data": {
      "text/plain": [
       "5"
      ]
     },
     "execution_count": 66,
     "metadata": {},
     "output_type": "execute_result"
    }
   ],
   "source": [
    "n = len(arr) // 2\n",
    "n"
   ]
  },
  {
   "cell_type": "code",
   "execution_count": 67,
   "id": "19c2fda1",
   "metadata": {},
   "outputs": [],
   "source": [
    "# print(arr)\n",
    "# for i in range(n):\n",
    "#     # 현재 요소의 인덱스\n",
    "#     idx = i * 2\n",
    "#     print(i)\n",
    "#     print(arr)\n",
    "#     # 현재 요소를 적절한 위치로 이동\n",
    "#     arr.insert(idx + 1, arr.pop(-n + i))"
   ]
  },
  {
   "cell_type": "code",
   "execution_count": 68,
   "id": "e7538663",
   "metadata": {},
   "outputs": [],
   "source": [
    "def rearrange_array(arr):\n",
    "    # 배열의 길이 계산\n",
    "    n = len(arr) // 2\n",
    "\n",
    "    # 두 번째 절반의 요소를 뒤로 이동하면서 각각의 위치에 첫 번째 절반의 요소 삽입\n",
    "    for i in range(n):\n",
    "        # 현재 요소의 인덱스\n",
    "        idx = i * 2\n",
    "        # 현재 요소를 적절한 위치로 이동\n",
    "        arr.insert(idx + 1, arr.pop(-n + i))"
   ]
  },
  {
   "cell_type": "code",
   "execution_count": 69,
   "id": "d3aa6409",
   "metadata": {},
   "outputs": [
    {
     "name": "stdout",
     "output_type": "stream",
     "text": [
      "['a1', 'b1', 'a2', 'b2', 'a3', 'b3', 'a4', 'b4', 'a5', 'b5']\n"
     ]
    }
   ],
   "source": [
    "# 배열 재배치\n",
    "rearrange_array(arr)\n",
    "\n",
    "# 결과 출력\n",
    "print(arr)"
   ]
  },
  {
   "cell_type": "code",
   "execution_count": null,
   "id": "a9217ac5",
   "metadata": {},
   "outputs": [],
   "source": []
  }
 ],
 "metadata": {
  "kernelspec": {
   "display_name": "Python 3 (ipykernel)",
   "language": "python",
   "name": "python3"
  },
  "language_info": {
   "codemirror_mode": {
    "name": "ipython",
    "version": 3
   },
   "file_extension": ".py",
   "mimetype": "text/x-python",
   "name": "python",
   "nbconvert_exporter": "python",
   "pygments_lexer": "ipython3",
   "version": "3.9.12"
  }
 },
 "nbformat": 4,
 "nbformat_minor": 5
}
