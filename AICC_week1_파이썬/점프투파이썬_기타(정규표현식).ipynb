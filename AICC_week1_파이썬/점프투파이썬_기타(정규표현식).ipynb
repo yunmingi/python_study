{
 "cells": [
  {
   "cell_type": "code",
   "execution_count": 18,
   "id": "1af91b1c",
   "metadata": {},
   "outputs": [],
   "source": [
    "data = \"\"\"\n",
    "park 800905-1049118\n",
    "kim  700905-1059119\n",
    "\"\"\""
   ]
  },
  {
   "cell_type": "code",
   "execution_count": 19,
   "id": "d9e0586e",
   "metadata": {},
   "outputs": [
    {
     "data": {
      "text/plain": [
       "'\\npark 800905-1049118\\nkim  700905-1059119\\n'"
      ]
     },
     "execution_count": 19,
     "metadata": {},
     "output_type": "execute_result"
    }
   ],
   "source": [
    "data"
   ]
  },
  {
   "cell_type": "code",
   "execution_count": 3,
   "id": "5a5fc8d6",
   "metadata": {},
   "outputs": [],
   "source": [
    "result = []"
   ]
  },
  {
   "cell_type": "code",
   "execution_count": 4,
   "id": "db427e48",
   "metadata": {},
   "outputs": [],
   "source": [
    "for line in data.split(\"\\n\"):\n",
    "    word_result = []\n",
    "    for word in line.split(\" \"):\n",
    "        if len(word) == 14 and word[:6].isdigit() and word[7:].isdigit():\n",
    "            word = word[:6] + \"-\" + \"*******\"\n",
    "        word_result.append(word)\n",
    "    result.append(\" \".join(word_result))"
   ]
  },
  {
   "cell_type": "code",
   "execution_count": 5,
   "id": "75d29204",
   "metadata": {},
   "outputs": [
    {
     "name": "stdout",
     "output_type": "stream",
     "text": [
      "\n",
      "park 800905-*******\n",
      "kim  700905-*******\n",
      "\n"
     ]
    }
   ],
   "source": [
    "print(\"\\n\".join(result))"
   ]
  },
  {
   "cell_type": "code",
   "execution_count": null,
   "id": "3ac1b8d6",
   "metadata": {},
   "outputs": [],
   "source": []
  },
  {
   "cell_type": "markdown",
   "id": "18c7ebd5",
   "metadata": {},
   "source": [
    "# Step.1:  문자열 교체"
   ]
  },
  {
   "cell_type": "code",
   "execution_count": 34,
   "id": "51864e3d",
   "metadata": {},
   "outputs": [],
   "source": [
    "name1 = \"park 800905-1049118\"\n",
    "\n",
    "# park 800905-*******"
   ]
  },
  {
   "cell_type": "code",
   "execution_count": 35,
   "id": "646c95a2",
   "metadata": {},
   "outputs": [
    {
     "data": {
      "text/plain": [
       "'park 800905-*******'"
      ]
     },
     "execution_count": 35,
     "metadata": {},
     "output_type": "execute_result"
    }
   ],
   "source": [
    "loc = name1.index('-')+1\n",
    "name1[0:loc] + \"*\"*7"
   ]
  },
  {
   "cell_type": "code",
   "execution_count": 36,
   "id": "1e83b115",
   "metadata": {},
   "outputs": [],
   "source": [
    "name2 = \"kim  700905-1059119\"\n",
    "\n",
    "#kim  700905-*******"
   ]
  },
  {
   "cell_type": "code",
   "execution_count": 37,
   "id": "634fedd2",
   "metadata": {},
   "outputs": [
    {
     "data": {
      "text/plain": [
       "'park 800905-*******'"
      ]
     },
     "execution_count": 37,
     "metadata": {},
     "output_type": "execute_result"
    }
   ],
   "source": [
    "loc = name2.index('-')+1\n",
    "name1[0:loc] + \"*\"*7"
   ]
  },
  {
   "cell_type": "markdown",
   "id": "4318d4d6",
   "metadata": {},
   "source": [
    "# Step.2 : 여러 데이터 처리"
   ]
  },
  {
   "cell_type": "code",
   "execution_count": 80,
   "id": "7fabdebc",
   "metadata": {},
   "outputs": [],
   "source": [
    "data = \"\"\"\n",
    "park 800905-1049118\n",
    "kim  700905-1059119\n",
    "\"\"\""
   ]
  },
  {
   "cell_type": "code",
   "execution_count": 72,
   "id": "a5b920b2",
   "metadata": {},
   "outputs": [
    {
     "data": {
      "text/plain": [
       "'\\npark 800905-1049118\\nkim  700905-1059119\\n'"
      ]
     },
     "execution_count": 72,
     "metadata": {},
     "output_type": "execute_result"
    }
   ],
   "source": [
    "data"
   ]
  },
  {
   "cell_type": "code",
   "execution_count": 87,
   "id": "4e8b6d36",
   "metadata": {},
   "outputs": [
    {
     "data": {
      "text/plain": [
       "['park 800905-1049118', 'kim  700905-1059119']"
      ]
     },
     "execution_count": 87,
     "metadata": {},
     "output_type": "execute_result"
    }
   ],
   "source": [
    "data_list = data.split(\"\\n\")\n",
    "data_list[1:-1] ##후보코드"
   ]
  },
  {
   "cell_type": "code",
   "execution_count": 88,
   "id": "087cb32d",
   "metadata": {},
   "outputs": [
    {
     "data": {
      "text/plain": [
       "['', 'park 800905-1049118', 'kim  700905-1059119', '']"
      ]
     },
     "execution_count": 88,
     "metadata": {},
     "output_type": "execute_result"
    }
   ],
   "source": [
    "data_list"
   ]
  },
  {
   "cell_type": "code",
   "execution_count": 79,
   "id": "e4a7fceb",
   "metadata": {},
   "outputs": [],
   "source": [
    "#data_list.remove('')\n",
    "#data_list.pop('')"
   ]
  },
  {
   "cell_type": "code",
   "execution_count": 76,
   "id": "7b51be74",
   "metadata": {},
   "outputs": [
    {
     "data": {
      "text/plain": [
       "['park 800905-1049118', 'kim  700905-1059119', '']"
      ]
     },
     "execution_count": 76,
     "metadata": {},
     "output_type": "execute_result"
    }
   ],
   "source": [
    "data_list"
   ]
  },
  {
   "cell_type": "code",
   "execution_count": 41,
   "id": "ce5e29d4",
   "metadata": {},
   "outputs": [],
   "source": [
    "## data_list = ['park 800905-1049118', 'kim  700905-1059119']"
   ]
  },
  {
   "cell_type": "code",
   "execution_count": 39,
   "id": "1c7e2214",
   "metadata": {},
   "outputs": [
    {
     "data": {
      "text/plain": [
       "'\\npark 800905-1049118\\nkim  700905-1059119\\n'"
      ]
     },
     "execution_count": 39,
     "metadata": {},
     "output_type": "execute_result"
    }
   ],
   "source": [
    "data"
   ]
  },
  {
   "cell_type": "code",
   "execution_count": 94,
   "id": "edc8b925",
   "metadata": {},
   "outputs": [
    {
     "name": "stdout",
     "output_type": "stream",
     "text": [
      "park 800905-*******\n",
      "kim  700905-*******\n"
     ]
    }
   ],
   "source": [
    "for name in data_list:\n",
    "    if len(name)>0:\n",
    "        loc = name.index('-')+1\n",
    "        rslt = name[0:loc] + \"*\"*7\n",
    "        print(rslt)"
   ]
  },
  {
   "cell_type": "code",
   "execution_count": null,
   "id": "5d563518",
   "metadata": {},
   "outputs": [],
   "source": []
  }
 ],
 "metadata": {
  "kernelspec": {
   "display_name": "Python 3 (ipykernel)",
   "language": "python",
   "name": "python3"
  },
  "language_info": {
   "codemirror_mode": {
    "name": "ipython",
    "version": 3
   },
   "file_extension": ".py",
   "mimetype": "text/x-python",
   "name": "python",
   "nbconvert_exporter": "python",
   "pygments_lexer": "ipython3",
   "version": "3.9.12"
  }
 },
 "nbformat": 4,
 "nbformat_minor": 5
}
