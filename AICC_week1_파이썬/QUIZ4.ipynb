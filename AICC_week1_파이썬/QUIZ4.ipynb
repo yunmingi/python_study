{
 "cells": [
  {
   "cell_type": "markdown",
   "id": "31c3be59",
   "metadata": {},
   "source": [
    "# 퀴즈 4번"
   ]
  },
  {
   "cell_type": "code",
   "execution_count": 9,
   "id": "9582f8c6",
   "metadata": {},
   "outputs": [],
   "source": [
    "names = \"이유덕,이재영,권종표,이재영,박민호,강상희,이재영,김지완,최승혁,이성연,박영서,박민호,전경헌,송정환,김재성,이유덕,전경헌\""
   ]
  },
  {
   "cell_type": "code",
   "execution_count": 10,
   "id": "e8230c51",
   "metadata": {},
   "outputs": [
    {
     "data": {
      "text/plain": [
       "'이유덕,이재영,권종표,이재영,박민호,강상희,이재영,김지완,최승혁,이성연,박영서,박민호,전경헌,송정환,김재성,이유덕,전경헌'"
      ]
     },
     "execution_count": 10,
     "metadata": {},
     "output_type": "execute_result"
    }
   ],
   "source": [
    "names"
   ]
  },
  {
   "cell_type": "code",
   "execution_count": 11,
   "id": "bd94af72",
   "metadata": {},
   "outputs": [
    {
     "data": {
      "text/plain": [
       "str"
      ]
     },
     "execution_count": 11,
     "metadata": {},
     "output_type": "execute_result"
    }
   ],
   "source": [
    "type(names)"
   ]
  },
  {
   "cell_type": "code",
   "execution_count": null,
   "id": "380aca22",
   "metadata": {},
   "outputs": [],
   "source": []
  },
  {
   "cell_type": "markdown",
   "id": "e8dbf053",
   "metadata": {},
   "source": [
    "## Ans.2"
   ]
  },
  {
   "cell_type": "code",
   "execution_count": 12,
   "id": "8edf3433",
   "metadata": {},
   "outputs": [
    {
     "data": {
      "text/plain": [
       "'이유덕,이재영,권종표,이재영,박민호,강상희,이재영,김지완,최승혁,이성연,박영서,박민호,전경헌,송정환,김재성,이유덕,전경헌'"
      ]
     },
     "execution_count": 12,
     "metadata": {},
     "output_type": "execute_result"
    }
   ],
   "source": [
    "names"
   ]
  },
  {
   "cell_type": "code",
   "execution_count": 13,
   "id": "58e1c93c",
   "metadata": {},
   "outputs": [
    {
     "data": {
      "text/plain": [
       "3"
      ]
     },
     "execution_count": 13,
     "metadata": {},
     "output_type": "execute_result"
    }
   ],
   "source": [
    "names.count(\"이재영\")"
   ]
  },
  {
   "cell_type": "code",
   "execution_count": 14,
   "id": "94b3dd51",
   "metadata": {},
   "outputs": [
    {
     "data": {
      "text/plain": [
       "['이유덕',\n",
       " '이재영',\n",
       " '권종표',\n",
       " '이재영',\n",
       " '박민호',\n",
       " '강상희',\n",
       " '이재영',\n",
       " '김지완',\n",
       " '최승혁',\n",
       " '이성연',\n",
       " '박영서',\n",
       " '박민호',\n",
       " '전경헌',\n",
       " '송정환',\n",
       " '김재성',\n",
       " '이유덕',\n",
       " '전경헌']"
      ]
     },
     "execution_count": 14,
     "metadata": {},
     "output_type": "execute_result"
    }
   ],
   "source": [
    "names.split(',')"
   ]
  },
  {
   "cell_type": "code",
   "execution_count": 7,
   "id": "fca2aff4",
   "metadata": {},
   "outputs": [],
   "source": [
    "name_list = names.split(\",\")"
   ]
  },
  {
   "cell_type": "code",
   "execution_count": 15,
   "id": "79a2def9",
   "metadata": {},
   "outputs": [
    {
     "data": {
      "text/plain": [
       "17"
      ]
     },
     "execution_count": 15,
     "metadata": {},
     "output_type": "execute_result"
    }
   ],
   "source": [
    "len(name_list)"
   ]
  },
  {
   "cell_type": "code",
   "execution_count": 16,
   "id": "2cce9b6d",
   "metadata": {},
   "outputs": [
    {
     "data": {
      "text/plain": [
       "['이유덕',\n",
       " '이재영',\n",
       " '권종표',\n",
       " '이재영',\n",
       " '박민호',\n",
       " '강상희',\n",
       " '이재영',\n",
       " '김지완',\n",
       " '최승혁',\n",
       " '이성연',\n",
       " '박영서',\n",
       " '박민호',\n",
       " '전경헌',\n",
       " '송정환',\n",
       " '김재성',\n",
       " '이유덕',\n",
       " '전경헌']"
      ]
     },
     "execution_count": 16,
     "metadata": {},
     "output_type": "execute_result"
    }
   ],
   "source": [
    "name_list"
   ]
  },
  {
   "cell_type": "code",
   "execution_count": null,
   "id": "a904f2f5",
   "metadata": {},
   "outputs": [],
   "source": []
  },
  {
   "cell_type": "markdown",
   "id": "bbd6e210",
   "metadata": {},
   "source": [
    "# Ans.3"
   ]
  },
  {
   "cell_type": "code",
   "execution_count": 20,
   "id": "62d75ac4",
   "metadata": {},
   "outputs": [
    {
     "data": {
      "text/plain": [
       "['김재성',\n",
       " '전경헌',\n",
       " '박민호',\n",
       " '최승혁',\n",
       " '박영서',\n",
       " '송정환',\n",
       " '김지완',\n",
       " '권종표',\n",
       " '이재영',\n",
       " '이유덕',\n",
       " '이성연',\n",
       " '강상희']"
      ]
     },
     "execution_count": 20,
     "metadata": {},
     "output_type": "execute_result"
    }
   ],
   "source": [
    "list(set(name_list))"
   ]
  },
  {
   "cell_type": "code",
   "execution_count": 21,
   "id": "93df327e",
   "metadata": {},
   "outputs": [],
   "source": [
    "uniq_name = list(set(name_list))"
   ]
  },
  {
   "cell_type": "code",
   "execution_count": 22,
   "id": "92ad3b07",
   "metadata": {},
   "outputs": [
    {
     "data": {
      "text/plain": [
       "['김재성',\n",
       " '전경헌',\n",
       " '박민호',\n",
       " '최승혁',\n",
       " '박영서',\n",
       " '송정환',\n",
       " '김지완',\n",
       " '권종표',\n",
       " '이재영',\n",
       " '이유덕',\n",
       " '이성연',\n",
       " '강상희']"
      ]
     },
     "execution_count": 22,
     "metadata": {},
     "output_type": "execute_result"
    }
   ],
   "source": [
    "uniq_name"
   ]
  },
  {
   "cell_type": "code",
   "execution_count": 23,
   "id": "f47dd546",
   "metadata": {},
   "outputs": [
    {
     "data": {
      "text/plain": [
       "12"
      ]
     },
     "execution_count": 23,
     "metadata": {},
     "output_type": "execute_result"
    }
   ],
   "source": [
    "len(uniq_name)"
   ]
  },
  {
   "cell_type": "code",
   "execution_count": null,
   "id": "9f119633",
   "metadata": {},
   "outputs": [],
   "source": []
  },
  {
   "cell_type": "markdown",
   "id": "74dc620e",
   "metadata": {},
   "source": [
    "# Ans.4"
   ]
  },
  {
   "cell_type": "code",
   "execution_count": 25,
   "id": "2648cf80",
   "metadata": {},
   "outputs": [
    {
     "data": {
      "text/plain": [
       "['김재성',\n",
       " '전경헌',\n",
       " '박민호',\n",
       " '최승혁',\n",
       " '박영서',\n",
       " '송정환',\n",
       " '김지완',\n",
       " '권종표',\n",
       " '이재영',\n",
       " '이유덕',\n",
       " '이성연',\n",
       " '강상희']"
      ]
     },
     "execution_count": 25,
     "metadata": {},
     "output_type": "execute_result"
    }
   ],
   "source": [
    "uniq_name"
   ]
  },
  {
   "cell_type": "code",
   "execution_count": 27,
   "id": "32bbfa02",
   "metadata": {},
   "outputs": [],
   "source": [
    "uniq_name.sort()"
   ]
  },
  {
   "cell_type": "code",
   "execution_count": 28,
   "id": "71563942",
   "metadata": {},
   "outputs": [
    {
     "data": {
      "text/plain": [
       "['강상희',\n",
       " '권종표',\n",
       " '김재성',\n",
       " '김지완',\n",
       " '박민호',\n",
       " '박영서',\n",
       " '송정환',\n",
       " '이성연',\n",
       " '이유덕',\n",
       " '이재영',\n",
       " '전경헌',\n",
       " '최승혁']"
      ]
     },
     "execution_count": 28,
     "metadata": {},
     "output_type": "execute_result"
    }
   ],
   "source": [
    "uniq_name"
   ]
  },
  {
   "cell_type": "code",
   "execution_count": null,
   "id": "742d91bb",
   "metadata": {},
   "outputs": [],
   "source": []
  },
  {
   "cell_type": "markdown",
   "id": "d511403b",
   "metadata": {},
   "source": [
    "# Ans.1"
   ]
  },
  {
   "cell_type": "code",
   "execution_count": 32,
   "id": "73af71ee",
   "metadata": {},
   "outputs": [
    {
     "data": {
      "text/plain": [
       "'이유덕,이재영,권종표,이재영,박민호,강상희,이재영,김지완,최승혁,이성연,박영서,박민호,전경헌,송정환,김재성,이유덕,전경헌'"
      ]
     },
     "execution_count": 32,
     "metadata": {},
     "output_type": "execute_result"
    }
   ],
   "source": [
    "names"
   ]
  },
  {
   "cell_type": "code",
   "execution_count": 34,
   "id": "9374df16",
   "metadata": {},
   "outputs": [
    {
     "data": {
      "text/plain": [
       "6"
      ]
     },
     "execution_count": 34,
     "metadata": {},
     "output_type": "execute_result"
    }
   ],
   "source": [
    "# 문제가? 성이 이씨?\n",
    "names.count(\"이\")"
   ]
  },
  {
   "cell_type": "code",
   "execution_count": 37,
   "id": "d61b0cca",
   "metadata": {},
   "outputs": [
    {
     "data": {
      "text/plain": [
       "['이유덕',\n",
       " '이재영',\n",
       " '권종표',\n",
       " '이재영',\n",
       " '박민호',\n",
       " '강상희',\n",
       " '이재영',\n",
       " '김지완',\n",
       " '최승혁',\n",
       " '이성연',\n",
       " '박영서',\n",
       " '박민호',\n",
       " '전경헌',\n",
       " '송정환',\n",
       " '김재성',\n",
       " '이유덕',\n",
       " '전경헌']"
      ]
     },
     "execution_count": 37,
     "metadata": {},
     "output_type": "execute_result"
    }
   ],
   "source": [
    "name_list"
   ]
  },
  {
   "cell_type": "code",
   "execution_count": 56,
   "id": "c035addb",
   "metadata": {},
   "outputs": [
    {
     "data": {
      "text/plain": [
       "'박'"
      ]
     },
     "execution_count": 56,
     "metadata": {},
     "output_type": "execute_result"
    }
   ],
   "source": [
    "# 성\n",
    "name_list[4][0]"
   ]
  },
  {
   "cell_type": "code",
   "execution_count": 50,
   "id": "0c6e7cf3",
   "metadata": {},
   "outputs": [
    {
     "data": {
      "text/plain": [
       "'유덕'"
      ]
     },
     "execution_count": 50,
     "metadata": {},
     "output_type": "execute_result"
    }
   ],
   "source": [
    "# 이름\n",
    "name_list[0][1:]"
   ]
  },
  {
   "cell_type": "code",
   "execution_count": 51,
   "id": "57f1d61e",
   "metadata": {},
   "outputs": [
    {
     "data": {
      "text/plain": [
       "'이덕'"
      ]
     },
     "execution_count": 51,
     "metadata": {},
     "output_type": "execute_result"
    }
   ],
   "source": [
    "# 이름의 첫글자 + 마지막글자\n",
    "name_list[0][0] + name_list[0][2]"
   ]
  },
  {
   "cell_type": "code",
   "execution_count": 52,
   "id": "14a19987",
   "metadata": {},
   "outputs": [
    {
     "data": {
      "text/plain": [
       "'덕'"
      ]
     },
     "execution_count": 52,
     "metadata": {},
     "output_type": "execute_result"
    }
   ],
   "source": [
    "name_list[0][2]"
   ]
  },
  {
   "cell_type": "code",
   "execution_count": null,
   "id": "d1eddeee",
   "metadata": {},
   "outputs": [],
   "source": []
  },
  {
   "cell_type": "code",
   "execution_count": 57,
   "id": "f8a46b54",
   "metadata": {},
   "outputs": [],
   "source": [
    "# 변수와 데이터 초기화 : 리스트로 쓰겠다\n",
    "sung = []"
   ]
  },
  {
   "cell_type": "code",
   "execution_count": 66,
   "id": "1d1690e1",
   "metadata": {},
   "outputs": [
    {
     "name": "stdout",
     "output_type": "stream",
     "text": [
      "이유덕\n",
      "['이']\n",
      "이재영\n",
      "['이', '이']\n",
      "권종표\n",
      "['이', '이', '권']\n",
      "이재영\n",
      "['이', '이', '권', '이']\n",
      "박민호\n",
      "['이', '이', '권', '이', '박']\n",
      "강상희\n",
      "['이', '이', '권', '이', '박', '강']\n",
      "이재영\n",
      "['이', '이', '권', '이', '박', '강', '이']\n",
      "김지완\n",
      "['이', '이', '권', '이', '박', '강', '이', '김']\n",
      "최승혁\n",
      "['이', '이', '권', '이', '박', '강', '이', '김', '최']\n",
      "이성연\n",
      "['이', '이', '권', '이', '박', '강', '이', '김', '최', '이']\n",
      "박영서\n",
      "['이', '이', '권', '이', '박', '강', '이', '김', '최', '이', '박']\n",
      "박민호\n",
      "['이', '이', '권', '이', '박', '강', '이', '김', '최', '이', '박', '박']\n",
      "전경헌\n",
      "['이', '이', '권', '이', '박', '강', '이', '김', '최', '이', '박', '박', '전']\n",
      "송정환\n",
      "['이', '이', '권', '이', '박', '강', '이', '김', '최', '이', '박', '박', '전', '송']\n",
      "김재성\n",
      "['이', '이', '권', '이', '박', '강', '이', '김', '최', '이', '박', '박', '전', '송', '김']\n",
      "이유덕\n",
      "['이', '이', '권', '이', '박', '강', '이', '김', '최', '이', '박', '박', '전', '송', '김', '이']\n",
      "전경헌\n",
      "['이', '이', '권', '이', '박', '강', '이', '김', '최', '이', '박', '박', '전', '송', '김', '이', '전']\n"
     ]
    }
   ],
   "source": [
    "for i in name_list:\n",
    "    print(i)\n",
    "    sung.append(i[0])\n",
    "    print(sung)"
   ]
  },
  {
   "cell_type": "code",
   "execution_count": 67,
   "id": "1ad75305",
   "metadata": {},
   "outputs": [
    {
     "data": {
      "text/plain": [
       "['이',\n",
       " '이',\n",
       " '권',\n",
       " '이',\n",
       " '박',\n",
       " '강',\n",
       " '이',\n",
       " '김',\n",
       " '최',\n",
       " '이',\n",
       " '박',\n",
       " '박',\n",
       " '전',\n",
       " '송',\n",
       " '김',\n",
       " '이',\n",
       " '전']"
      ]
     },
     "execution_count": 67,
     "metadata": {},
     "output_type": "execute_result"
    }
   ],
   "source": [
    "sung"
   ]
  },
  {
   "cell_type": "code",
   "execution_count": 68,
   "id": "c1ebe327",
   "metadata": {},
   "outputs": [
    {
     "name": "stdout",
     "output_type": "stream",
     "text": [
      "김씨 인원 : 2\n",
      "이씨 인원 : 6\n"
     ]
    }
   ],
   "source": [
    "print(\"김씨 인원 :\", sung.count(\"김\"))\n",
    "print(\"이씨 인원 :\", sung.count(\"이\"))"
   ]
  },
  {
   "cell_type": "code",
   "execution_count": null,
   "id": "cb4f9cd7",
   "metadata": {},
   "outputs": [],
   "source": []
  }
 ],
 "metadata": {
  "kernelspec": {
   "display_name": "Python 3 (ipykernel)",
   "language": "python",
   "name": "python3"
  },
  "language_info": {
   "codemirror_mode": {
    "name": "ipython",
    "version": 3
   },
   "file_extension": ".py",
   "mimetype": "text/x-python",
   "name": "python",
   "nbconvert_exporter": "python",
   "pygments_lexer": "ipython3",
   "version": "3.9.12"
  }
 },
 "nbformat": 4,
 "nbformat_minor": 5
}
