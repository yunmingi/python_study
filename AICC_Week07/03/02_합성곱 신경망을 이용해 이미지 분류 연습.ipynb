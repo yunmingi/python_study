{
 "cells": [
  {
   "cell_type": "code",
   "execution_count": 2,
   "id": "b1fe2757",
   "metadata": {},
   "outputs": [],
   "source": [
    "#실행마다 동일한 결과를 얻기 위해 케라스에 랜덤 시드를 사용하고 텐서플로 연산을\n",
    "#결정적으로 만듭니다.\n",
    "import tensorflow as tf \n",
    "\n",
    "tf.keras.utils.set_random_seed(42)\n",
    "tf.config.experimental.enable_op_determinism()"
   ]
  },
  {
   "cell_type": "code",
   "execution_count": 4,
   "id": "781aa61d",
   "metadata": {},
   "outputs": [],
   "source": [
    "#패션 mnist 데이터 불러오기 \n",
    "from tensorflow import keras\n",
    "from sklearn.model_selection import train_test_split\n",
    "\n",
    "#데이터 로딩 \n",
    "(X_train, y_train),(X_test,y_test)= \\\n",
    "    keras.datasets.fashion_mnist.load_data()\n",
    "#스케일 변경 및 깊이 차원 추가 \n",
    "X_train_scaled=X_train.reshape(-1,28,28,1) /255.0\n",
    "\n",
    "#훈련 데이터와 검증 데이터로 분할 \n",
    "X_train_scaled, X_test_val_scaled, y_train,y_test_val = train_test_split(\n",
    "    X_train_scaled, y_train,test_size = 0.2, random_state=42)"
   ]
  },
  {
   "cell_type": "code",
   "execution_count": 5,
   "id": "29b81c22",
   "metadata": {},
   "outputs": [
    {
     "data": {
      "text/plain": [
       "((60000, 28, 28), (10000, 28, 28))"
      ]
     },
     "execution_count": 5,
     "metadata": {},
     "output_type": "execute_result"
    }
   ],
   "source": [
    "X_train.shape, X_test.shape"
   ]
  },
  {
   "cell_type": "code",
   "execution_count": 7,
   "id": "74a1ac1a",
   "metadata": {},
   "outputs": [
    {
     "data": {
      "text/plain": [
       "((48000, 28, 28, 1), (48000,))"
      ]
     },
     "execution_count": 7,
     "metadata": {},
     "output_type": "execute_result"
    }
   ],
   "source": [
    "X_train_scaled.shape,y_train.shape"
   ]
  },
  {
   "cell_type": "code",
   "execution_count": 8,
   "id": "de7eee08",
   "metadata": {},
   "outputs": [
    {
     "data": {
      "text/plain": [
       "((12000, 28, 28, 1), (12000,))"
      ]
     },
     "execution_count": 8,
     "metadata": {},
     "output_type": "execute_result"
    }
   ],
   "source": [
    "X_test_val_scaled.shape, y_test_val.shape"
   ]
  },
  {
   "cell_type": "code",
   "execution_count": 10,
   "id": "82fe1ef6",
   "metadata": {},
   "outputs": [],
   "source": [
    "#Sequentail 객체 생성\n",
    "model= keras.Sequential()"
   ]
  },
  {
   "cell_type": "code",
   "execution_count": null,
   "id": "79dfc233",
   "metadata": {},
   "outputs": [],
   "source": [
    "#첫번째 합성곱 층 추가 \n",
    "model.add(keras.layers.Conv2D(32,kernel_size=3, activation='relu',\n",
    "                             adding='same'))"
   ]
  },
  {
   "cell_type": "code",
   "execution_count": null,
   "id": "3e4c163a",
   "metadata": {},
   "outputs": [],
   "source": []
  }
 ],
 "metadata": {
  "kernelspec": {
   "display_name": "Python 3 (ipykernel)",
   "language": "python",
   "name": "python3"
  },
  "language_info": {
   "codemirror_mode": {
    "name": "ipython",
    "version": 3
   },
   "file_extension": ".py",
   "mimetype": "text/x-python",
   "name": "python",
   "nbconvert_exporter": "python",
   "pygments_lexer": "ipython3",
   "version": "3.9.12"
  }
 },
 "nbformat": 4,
 "nbformat_minor": 5
}
