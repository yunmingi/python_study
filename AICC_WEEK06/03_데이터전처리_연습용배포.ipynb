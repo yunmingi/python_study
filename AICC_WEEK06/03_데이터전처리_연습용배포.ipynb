{
 "cells": [
  {
   "cell_type": "markdown",
   "id": "2d8f629a",
   "metadata": {},
   "source": [
    "# 기존 모델로 예측 결과 확인\n"
   ]
  },
  {
   "cell_type": "code",
   "execution_count": 1,
   "id": "24b0726a",
   "metadata": {},
   "outputs": [],
   "source": [
    "fish_length = [25.4, 26.3, 26.5, 29.0, 29.0, 29.7, 29.7, 30.0, 30.0, 30.7, 31.0, 31.0, \n",
    "                31.5, 32.0, 32.0, 32.0, 33.0, 33.0, 33.5, 33.5, 34.0, 34.0, 34.5, 35.0, \n",
    "                35.0, 35.0, 35.0, 36.0, 36.0, 37.0, 38.5, 38.5, 39.5, 41.0, 41.0, 9.8, \n",
    "                10.5, 10.6, 11.0, 11.2, 11.3, 11.8, 11.8, 12.0, 12.2, 12.4, 13.0, 14.3, 15.0]\n",
    "fish_weight = [242.0, 290.0, 340.0, 363.0, 430.0, 450.0, 500.0, 390.0, 450.0, 500.0, 475.0, 500.0, \n",
    "                500.0, 340.0, 600.0, 600.0, 700.0, 700.0, 610.0, 650.0, 575.0, 685.0, 620.0, 680.0, \n",
    "                700.0, 725.0, 720.0, 714.0, 850.0, 1000.0, 920.0, 955.0, 925.0, 975.0, 950.0, 6.7, \n",
    "                7.5, 7.0, 9.7, 9.8, 8.7, 10.0, 9.9, 9.8, 12.2, 13.4, 12.2, 19.7, 19.9]\n",
    "\n",
    "# 2차원 데이터로 변환(각각의 데이터는 샘플이라 부름)\n",
    "fish_data = [[l, w] for l, w in zip(fish_length, fish_weight)]\n",
    "fish_target = [1]*35 + [0]*14"
   ]
  },
  {
   "cell_type": "code",
   "execution_count": 2,
   "id": "403f3560",
   "metadata": {},
   "outputs": [],
   "source": [
    "# 넘파이 모듈 import하기\n",
    "import numpy as np \n",
    "\n",
    "# 생선 데이터로 numpy 배열 생성(input, target)\n",
    "input_arr = np.array(fish_data)\n",
    "target_arr = np.array(fish_target)\n",
    "\n",
    "# 랜덤한 index 구하기\n",
    " # 항상 동일한 결과를 위해 지정함\n",
    "np.random.seed(1)\n",
    "index = np.arange(49)\n",
    "np.random.shuffle(index)\n",
    "\n",
    "# 넘파이의 배열 인덱싱으로 훈련데이터와 테스트 데이터 나누기\n",
    "X_train = input_arr[index[:35]]\n",
    "y_train = target_arr[index[:35]]\n",
    "\n",
    "train_input = X_train\n",
    "train_target = y_train\n",
    "\n",
    "X_test = input_arr[index[35:]]\n",
    "y_test = target_arr[index[35:]]\n",
    "\n",
    "test_input = X_test\n",
    "test_target = y_test"
   ]
  },
  {
   "cell_type": "code",
   "execution_count": 3,
   "id": "cfbe9886",
   "metadata": {},
   "outputs": [
    {
     "data": {
      "text/plain": [
       "1.0"
      ]
     },
     "execution_count": 3,
     "metadata": {},
     "output_type": "execute_result"
    }
   ],
   "source": [
    "# KNeighborsClassifier 임포트하기\n",
    "from sklearn.neighbors import KNeighborsClassifier\n",
    "\n",
    "# KNeighborsClassifier 객체 생성\n",
    "model = KNeighborsClassifier()\n",
    "\n",
    "# 학습하기\n",
    "model.fit(X_train, y_train) #model.fit(train_input, train_target)\n",
    "\n",
    "# 모델 정확도 평가 점수 확인\n",
    "model.score(test_input, test_target) # model.score(X_test, y_test)"
   ]
  },
  {
   "cell_type": "code",
   "execution_count": 5,
   "id": "7e72fa7b",
   "metadata": {},
   "outputs": [
    {
     "data": {
      "text/plain": [
       "array([0])"
      ]
     },
     "execution_count": 5,
     "metadata": {},
     "output_type": "execute_result"
    }
   ],
   "source": [
    "model.predict([[25,150]]) "
   ]
  },
  {
   "cell_type": "code",
   "execution_count": 6,
   "id": "123a3680",
   "metadata": {},
   "outputs": [
    {
     "data": {
      "image/png": "[encoded data removed]",
      "text/plain": [
       "<Figure size 640x480 with 1 Axes>"
      ]
     },
     "metadata": {},
     "output_type": "display_data"
    }
   ],
   "source": [
    "# 시각화\n",
    "import matplotlib.pyplot as plt\n",
    "\n",
    "plt.scatter(train_input[:, 0], train_input[:, 1])\n",
    "plt.scatter(test_input[:, 0], test_input[:, 1])\n",
    "plt.scatter(25, 150, marker='^') # 분류 대상 표시\n",
    "plt.xlabel('length')\n",
    "plt.ylabel('weight')\n",
    "plt.show()"
   ]
  },
  {
   "cell_type": "markdown",
   "id": "cf437aa3",
   "metadata": {},
   "source": [
    "- 그래프로 확인해보면 25cm에 150g이면 도미로 분류해야 하는데 빙어로 분류됨\n",
    "- 왜일까?"
   ]
  },
  {
   "cell_type": "markdown",
   "id": "845df3be",
   "metadata": {},
   "source": [
    "# 넘파이를 활용하여 다시 준비하기\n",
    "\n",
    "- 훈련 데이터를 만드는 작업에 넘파이를 활용"
   ]
  },
  {
   "cell_type": "code",
   "execution_count": 7,
   "id": "e3fb643c",
   "metadata": {},
   "outputs": [],
   "source": [
    "fish_length = [25.4, 26.3, 26.5, 29.0, 29.0, 29.7, 29.7, 30.0, 30.0, 30.7, 31.0, 31.0, \n",
    "                31.5, 32.0, 32.0, 32.0, 33.0, 33.0, 33.5, 33.5, 34.0, 34.0, 34.5, 35.0, \n",
    "                35.0, 35.0, 35.0, 36.0, 36.0, 37.0, 38.5, 38.5, 39.5, 41.0, 41.0, 9.8, \n",
    "                10.5, 10.6, 11.0, 11.2, 11.3, 11.8, 11.8, 12.0, 12.2, 12.4, 13.0, 14.3, 15.0]\n",
    "fish_weight = [242.0, 290.0, 340.0, 363.0, 430.0, 450.0, 500.0, 390.0, 450.0, 500.0, 475.0, 500.0, \n",
    "                500.0, 340.0, 600.0, 600.0, 700.0, 700.0, 610.0, 650.0, 575.0, 685.0, 620.0, 680.0, \n",
    "                700.0, 725.0, 720.0, 714.0, 850.0, 1000.0, 920.0, 955.0, 925.0, 975.0, 950.0, 6.7, \n",
    "                7.5, 7.0, 9.7, 9.8, 8.7, 10.0, 9.9, 9.8, 12.2, 13.4, 12.2, 19.7, 19.9]"
   ]
  },
  {
   "cell_type": "code",
   "execution_count": 8,
   "id": "8ddc8545",
   "metadata": {},
   "outputs": [],
   "source": [
    "# 넘파이 모듈 임포트\n",
    "import numpy as np"
   ]
  },
  {
   "cell_type": "code",
   "execution_count": 9,
   "id": "b2b960a5",
   "metadata": {},
   "outputs": [
    {
     "data": {
      "text/plain": [
       "array([[1, 4],\n",
       "       [2, 5],\n",
       "       [3, 6]])"
      ]
     },
     "execution_count": 9,
     "metadata": {},
     "output_type": "execute_result"
    }
   ],
   "source": [
    "# 같은 인덱스끼리 묶어줌\n",
    "np.column_stack(([1,2,3], [4,5,6]))"
   ]
  },
  {
   "cell_type": "code",
   "execution_count": 10,
   "id": "6b6579ae",
   "metadata": {},
   "outputs": [
    {
     "data": {
      "text/plain": [
       "array([[ 25.4, 242. ],\n",
       "       [ 26.3, 290. ],\n",
       "       [ 26.5, 340. ],\n",
       "       [ 29. , 363. ],\n",
       "       [ 29. , 430. ]])"
      ]
     },
     "execution_count": 10,
     "metadata": {},
     "output_type": "execute_result"
    }
   ],
   "source": [
    "# column_stack() 함수를 활용하여 생선 길이데이타와 무게 데이터를 합침\n",
    "fish_data = np.column_stack((fish_length, fish_weight))\n",
    "fish_data[:5]"
   ]
  },
  {
   "cell_type": "code",
   "execution_count": 11,
   "id": "e94fb13d",
   "metadata": {},
   "outputs": [
    {
     "data": {
      "text/plain": [
       "(array([1., 1., 1., 1., 1.]), array([0., 0., 0., 0., 0.]))"
      ]
     },
     "execution_count": 11,
     "metadata": {},
     "output_type": "execute_result"
    }
   ],
   "source": [
    "# 1또는 0을 가지는 넘파이배열을 생성하는 함수\n",
    "np.ones(5), np.zeros(5)"
   ]
  },
  {
   "cell_type": "code",
   "execution_count": 12,
   "id": "c9b83327",
   "metadata": {},
   "outputs": [],
   "source": [
    "# concatenate()함수는 넘파이 배열을 이어붙임\n",
    "fish_target = np.concatenate((np.ones(35), np.zeros(14)))"
   ]
  },
  {
   "cell_type": "code",
   "execution_count": 13,
   "id": "bcfb61a4",
   "metadata": {},
   "outputs": [
    {
     "data": {
      "text/plain": [
       "array([1., 1., 1., 1., 1., 1., 1., 1., 1., 1., 1., 1., 1., 1., 1., 1., 1.,\n",
       "       1., 1., 1., 1., 1., 1., 1., 1., 1., 1., 1., 1., 1., 1., 1., 1., 1.,\n",
       "       1., 0., 0., 0., 0., 0., 0., 0., 0., 0., 0., 0., 0., 0., 0.])"
      ]
     },
     "execution_count": 13,
     "metadata": {},
     "output_type": "execute_result"
    }
   ],
   "source": [
    "fish_target"
   ]
  },
  {
   "cell_type": "markdown",
   "id": "a944d4bd",
   "metadata": {},
   "source": [
    "### 데이터 나누기\n",
    "- 사이킷런에서 제공하는 함수를 활용하여 훈련/테스트 데이터를 분할"
   ]
  },
  {
   "cell_type": "code",
   "execution_count": 14,
   "id": "e0cfccec",
   "metadata": {},
   "outputs": [],
   "source": [
    "# train_test_split함수 임포트\n",
    "from sklearn.model_selection import train_test_split"
   ]
  },
  {
   "cell_type": "code",
   "execution_count": 33,
   "id": "4e918085",
   "metadata": {},
   "outputs": [],
   "source": [
    "# train_test_split함수를 사용하여 데이터셋 나누기\n",
    "train_input, test_input, train_target, test_target = train_test_split(fish_data, fish_target, random_state=42)"
   ]
  },
  {
   "cell_type": "code",
   "execution_count": 23,
   "id": "602bc98c",
   "metadata": {},
   "outputs": [
    {
     "data": {
      "text/plain": [
       "((36, 2), (13, 2), (36,), (13,))"
      ]
     },
     "execution_count": 23,
     "metadata": {},
     "output_type": "execute_result"
    }
   ],
   "source": [
    "# 나누어진 데이터셋의 모양 확인\n",
    "train_input.shape, test_input.shape, train_target.shape, test_target.shape"
   ]
  },
  {
   "cell_type": "code",
   "execution_count": 34,
   "id": "9ccc228b",
   "metadata": {},
   "outputs": [
    {
     "data": {
      "text/plain": [
       "array([1., 0., 0., 0., 1., 1., 1., 1., 1., 1., 1., 1., 1.])"
      ]
     },
     "execution_count": 34,
     "metadata": {},
     "output_type": "execute_result"
    }
   ],
   "source": [
    "test_target"
   ]
  },
  {
   "cell_type": "code",
   "execution_count": 52,
   "id": "420d5e27",
   "metadata": {},
   "outputs": [],
   "source": [
    "# stratify=fish_target 옵션을 추가하여 train_test_split함수로 데이터셋 분할하기\n",
    "# 타겟에 들어있는 값들의 비율로 분할됨\n",
    "X_train, X_test, y_train, y_test = \\\n",
    "    train_test_split(fish_data, fish_target, stratify=fish_target)"
   ]
  },
  {
   "cell_type": "code",
   "execution_count": 53,
   "id": "d82ba78b",
   "metadata": {},
   "outputs": [
    {
     "data": {
      "text/plain": [
       "array([1., 0., 1., 0., 1., 1., 1., 1., 0., 0., 1., 1., 1.])"
      ]
     },
     "execution_count": 53,
     "metadata": {},
     "output_type": "execute_result"
    }
   ],
   "source": [
    "y_test"
   ]
  },
  {
   "cell_type": "code",
   "execution_count": 54,
   "id": "b300d5b2",
   "metadata": {},
   "outputs": [
    {
     "data": {
      "text/plain": [
       "1.0"
      ]
     },
     "execution_count": 54,
     "metadata": {},
     "output_type": "execute_result"
    }
   ],
   "source": [
    "# KNeighborsClassifier 임포트하기\n",
    "from sklearn.neighbors import KNeighborsClassifier\n",
    "\n",
    "# KNeighborsClassifier 객체 생성\n",
    "model = KNeighborsClassifier()\n",
    "\n",
    "# 학습하기\n",
    "model.fit(X_train, y_train) # (train_input, train_target)\n",
    "\n",
    "# 모델 정확도 평가 점수 확인\n",
    "model.score(X_test, y_test)"
   ]
  },
  {
   "cell_type": "code",
   "execution_count": 56,
   "id": "e141b2da",
   "metadata": {},
   "outputs": [
    {
     "data": {
      "text/plain": [
       "array([0.])"
      ]
     },
     "execution_count": 56,
     "metadata": {},
     "output_type": "execute_result"
    }
   ],
   "source": [
    "# 25,150 예측 하기\n",
    "model.predict([[25,150]]) "
   ]
  },
  {
   "cell_type": "markdown",
   "id": "83047ff4",
   "metadata": {},
   "source": [
    "- 여전히 결과가 빙어로 처리된다."
   ]
  },
  {
   "cell_type": "code",
   "execution_count": 57,
   "id": "75d95b14",
   "metadata": {},
   "outputs": [
    {
     "name": "stdout",
     "output_type": "stream",
     "text": [
      "[[ 92.00086956 130.48375378 130.73859415 137.17988191 140.00603558]]\n",
      "[[ 5  0 21  8 10]]\n"
     ]
    }
   ],
   "source": [
    "# [25,150]의 이웃 개수 확인\n",
    "distances, indexes = model.kneighbors([[25,150]])\n",
    "print(distances)\n",
    "print(indexes)"
   ]
  },
  {
   "cell_type": "code",
   "execution_count": 59,
   "id": "27eaabe7",
   "metadata": {},
   "outputs": [
    {
     "data": {
      "image/png": "[encoded data removed]",
      "text/plain": [
       "<Figure size 640x480 with 1 Axes>"
      ]
     },
     "metadata": {},
     "output_type": "display_data"
    }
   ],
   "source": [
    "# 시각화 하여 확인\n",
    "import matplotlib.pyplot as plt\n",
    "plt.scatter(X_train[:,0], X_train[:,1])\n",
    "plt.scatter(X_train[indexes,0], X_train[indexes,1], marker='D')\n",
    "plt.scatter(25, 150, marker='^')\n",
    "plt.xlabel('length')\n",
    "plt.ylabel('weight')\n",
    "plt.show()"
   ]
  },
  {
   "cell_type": "markdown",
   "id": "889ab86f",
   "metadata": {},
   "source": [
    "- 왜 더 가까운 도미가 이웃이 아니라 빙어가 이웃으로 판단되는걸까?\n",
    "\n",
    "- k-최근접 이웃 알고리즘은 주변의 샘플 중 가까운 것이 다수인 클래스를 예측\n",
    "- 이웃들 중 가장 가까운 5개를 찾아 분류 결과를 예측함\n",
    "- 가깝다라는 기준을 distances로 확인할 수 있는데 거리 비율이 이상함\n",
    "- [ 92.00086956 130.48375378 130.73859415 138.32150953 138.39320793]\n",
    "- x축 범위 (10 ~ 40)\n",
    "- y축 범위 (0 ~ 1000)\n",
    "- y축으로 조금만 떨어져도 크게 달라지는 것"
   ]
  },
  {
   "cell_type": "code",
   "execution_count": 60,
   "id": "4ca72d11",
   "metadata": {},
   "outputs": [
    {
     "data": {
      "image/png": "[encoded data removed]",
      "text/plain": [
       "<Figure size 640x480 with 1 Axes>"
      ]
     },
     "metadata": {},
     "output_type": "display_data"
    }
   ],
   "source": [
    "plt.scatter(train_input[:,0], train_input[:,1])\n",
    "plt.scatter(25, 150, marker='^')\n",
    "plt.scatter(train_input[indexes,0], train_input[indexes,1], marker='D')\n",
    "plt.xlim((0, 1000)) # x축의 기준범위 변경. ylim은 y축의 기준범위 변경\n",
    "plt.xlabel('length')\n",
    "plt.ylabel('weight')\n",
    "plt.show()"
   ]
  },
  {
   "cell_type": "markdown",
   "id": "d89bc278",
   "metadata": {},
   "source": [
    "- 위와 같이 만들면 생선의 무게가 분류 기준이 될 수 있음\n",
    "- 길이와 무게가 서로 값의 범위가 달라서 생긴 문제(Scale이 다름)\n",
    "- 데이터를 표현하는 기준이 다르면 결과가 올바르지 않음\n",
    "- 거리기반의 알고리즘인 kNN뿐만 아니라 모든 알고리즘에서 영향이 있을 수 있음\n",
    "\n",
    "#### 따라서 샘플들의 값을 일정한 기준으로 맞출 필요가 있음"
   ]
  },
  {
   "cell_type": "markdown",
   "id": "c017d709",
   "metadata": {},
   "source": [
    "# 데이터 전처리\n",
    "- 모델의 결과가 유의미 하기 위해 반드시 데이터 전처리 과정이 필요\n",
    "- 앞서 확인한 것과 같이 모델을 통한 결과에 문제가 발생할 수 있음\n",
    "- 이러한 문제를 덜 발생시키도록 데이터의 전처리는 매우 중요함\n",
    "- 전처리는 일반적으로 표준점수(standard score)를 사용(z점수라고도 함)\n",
    "\n",
    "- 표준점수는 각 특성값이 평균에서 표준편차의 몇 배만큼 떨어져 있는지를 나타냄\n",
    "- 표준점수를 이용하면 특성값의 크기를 동일한 조건으로 만들어 비교 가능"
   ]
  },
  {
   "cell_type": "code",
   "execution_count": 61,
   "id": "16cf93f8",
   "metadata": {},
   "outputs": [
    {
     "name": "stdout",
     "output_type": "stream",
     "text": [
      "[ 26.81666667 436.45555556] [  9.82738521 309.74957219]\n"
     ]
    }
   ],
   "source": [
    "# 분산: 데이터에서 평균을 뺀 값을 모두 제곱한 후 평균값\n",
    "# 표준편차: 분산의 제곱근. 데이터가 분산된 정도를 의미\n",
    "# 표준점수: 데이터가 원점에서 얼마만큼의 표준편차만큼 떨어져 있는가를 나타내는 값\n",
    "\n",
    "# 표준점수 구하기\n",
    "mean = np.mean(X_train, axis=0) #평균. axis=0은 행을 축으로 함\n",
    "std = np.std(X_train, axis=0) # 표준편차. axis=0은 행을 축으로 함\n",
    "print(mean, std)"
   ]
  },
  {
   "cell_type": "markdown",
   "id": "cdb66c18",
   "metadata": {},
   "source": [
    "#### 브로드캐스팅\n",
    "- 넘파이 배열 연산을 할 때 모든 행을 대상으로 진행되는 것을 말함\n",
    "- 값이 하나인 평균과 표준편차가 넘파이 배열의 모든 행과 열에 연산이 적용되는 것"
   ]
  },
  {
   "cell_type": "code",
   "execution_count": 63,
   "id": "e8927cb4",
   "metadata": {},
   "outputs": [
    {
     "name": "stdout",
     "output_type": "stream",
     "text": [
      "[[-1.20242225 -1.34481398]\n",
      " [ 0.93446356  1.33509287]\n",
      " [ 0.39515428  0.2051478 ]\n",
      " [ 0.83270709  0.91539899]\n",
      " [ 0.73095062  0.44727889]\n",
      " [-0.144155   -0.62778313]\n",
      " [-1.65015071 -1.38646053]\n",
      " [ 0.83270709  0.8508307 ]\n",
      " [-1.46698907 -1.36579868]\n",
      " [ 0.29339781  0.2051478 ]\n",
      " [-0.05257417 -0.47281923]\n",
      " [ 0.47655945  0.2051478 ]\n",
      " [ 0.68007239  0.5602734 ]\n",
      " [ 0.93446356  0.8960285 ]\n",
      " [-1.58909683 -1.37742097]\n",
      " [ 1.29061119  1.57722395]\n",
      " [ 0.32392475  0.04372708]\n",
      " [ 0.29339781  0.04372708]\n",
      " [ 0.22216829 -0.23714498]\n",
      " [-1.73155588 -1.38742905]\n",
      " [ 0.83270709  0.78626241]\n",
      " [-1.27365178 -1.34545966]\n",
      " [ 0.83270709  0.93154106]\n",
      " [ 0.42568122  0.12443744]\n",
      " [-0.03222288 -0.31139851]\n",
      " [ 0.22216829 -0.02084121]\n",
      " [-1.66032636 -1.38484632]\n",
      " [ 0.62919416  0.8508307 ]\n",
      " [ 0.73095062  0.80240448]\n",
      " [-1.52804295 -1.37709813]\n",
      " [ 0.62919416  0.8508307 ]\n",
      " [ 1.18885472  1.67407639]\n",
      " [-1.50769166 -1.37742097]\n",
      " [ 0.52743769  0.52798925]\n",
      " [ 1.18885472  1.56108188]\n",
      " [-1.60944812 -1.37774381]]\n"
     ]
    }
   ],
   "source": [
    "X_train_scaled = (X_train - mean) / std # 넘파이 배열 연산은 모든 행을 대상으로 계산됨\n",
    "print(X_train_scaled)"
   ]
  },
  {
   "cell_type": "code",
   "execution_count": 64,
   "id": "7ebbb1c7",
   "metadata": {},
   "outputs": [
    {
     "data": {
      "image/png": "[encoded data removed]",
      "text/plain": [
       "<Figure size 640x480 with 1 Axes>"
      ]
     },
     "metadata": {},
     "output_type": "display_data"
    }
   ],
   "source": [
    "# 표준 점수로 변환된 train_scaled를 시각화\n",
    "plt.scatter(X_train_scaled[:,0], X_train_scaled[:,1])\n",
    "plt.scatter(25, 150, marker='^')\n",
    "plt.xlabel('length')\n",
    "plt.ylabel('weight')\n",
    "plt.show()"
   ]
  },
  {
   "cell_type": "markdown",
   "id": "35012cd8",
   "metadata": {},
   "source": [
    "- 값의 범위가 달라져서 25, 150역시 스케일링 필요\n",
    "- 훈련세트의 mean, std값으로 스케일링해야 함"
   ]
  },
  {
   "cell_type": "code",
   "execution_count": 65,
   "id": "8926012c",
   "metadata": {},
   "outputs": [
    {
     "data": {
      "text/plain": [
       "array([-0.18485758, -0.92479726])"
      ]
     },
     "execution_count": 65,
     "metadata": {},
     "output_type": "execute_result"
    }
   ],
   "source": [
    "# [25, 150]를 훈련데이터셋의 스케일링과 동일하게 변경\n",
    "new = ([25, 150] - mean) / std\n",
    "new"
   ]
  },
  {
   "cell_type": "code",
   "execution_count": 67,
   "id": "b5918bbf",
   "metadata": {},
   "outputs": [
    {
     "data": {
      "image/png": "[encoded data removed]",
      "text/plain": [
       "<Figure size 640x480 with 1 Axes>"
      ]
     },
     "metadata": {},
     "output_type": "display_data"
    }
   ],
   "source": [
    "plt.scatter(X_train_scaled[:,0], X_train_scaled[:,1])\n",
    "plt.scatter(new[0], new[1], marker='^')\n",
    "plt.xlabel('length')\n",
    "plt.ylabel('weight')\n",
    "plt.show()"
   ]
  },
  {
   "cell_type": "markdown",
   "id": "b871eeb4",
   "metadata": {},
   "source": [
    "- 스케일링 하기 전과 형태가 거의 동일함.\n",
    "- 값의 크기만 일정하게 변환되었음"
   ]
  },
  {
   "cell_type": "markdown",
   "id": "6919fb24",
   "metadata": {},
   "source": [
    "### 다시 모델을 정의하여 테스트"
   ]
  },
  {
   "cell_type": "code",
   "execution_count": 69,
   "id": "3455ff2b",
   "metadata": {},
   "outputs": [
    {
     "data": {
      "text/plain": [
       "1.0"
      ]
     },
     "execution_count": 69,
     "metadata": {},
     "output_type": "execute_result"
    }
   ],
   "source": [
    "# KNeighborsClassifier 임포트하기\n",
    "from sklearn.neighbors import KNeighborsClassifier\n",
    "\n",
    "# KNeighborsClassifier 객체 생성\n",
    "model = KNeighborsClassifier()\n",
    "\n",
    "# 학습하기\n",
    "model.fit(X_train_scaled, y_train)\n",
    "\n",
    "# 모델 정확도 평가 점수 확인\n",
    "# 테스트 데이터(test_input)도 훈련데이터로 만든 기준으로 스케일링\n",
    "X_test_scaled = (X_test - mean) / std\n",
    "model.score(X_test_scaled, y_test)"
   ]
  },
  {
   "cell_type": "code",
   "execution_count": 71,
   "id": "1b87345e",
   "metadata": {},
   "outputs": [
    {
     "name": "stdout",
     "output_type": "stream",
     "text": [
      "[1.]\n"
     ]
    }
   ],
   "source": [
    "# 25, 150을 스케일링한 값으로 예측 테스트\n",
    "print(model.predict([new]))"
   ]
  },
  {
   "cell_type": "code",
   "execution_count": 73,
   "id": "e231ccd8",
   "metadata": {},
   "outputs": [
    {
     "data": {
      "image/png": "[encoded data removed]",
      "text/plain": [
       "<Figure size 640x480 with 1 Axes>"
      ]
     },
     "metadata": {},
     "output_type": "display_data"
    }
   ],
   "source": [
    "# 이웃 정보 확인하기\n",
    "distances, indexes = model.kneighbors([new])\n",
    "plt.scatter(X_train_scaled[:,0], X_train_scaled[:,1])\n",
    "plt.scatter(new[0], new[1], marker='^')\n",
    "plt.scatter(X_train_scaled[indexes,0], X_train_scaled[indexes,1], marker='D')\n",
    "plt.xlabel('length')\n",
    "plt.ylabel('weight')\n",
    "plt.show()"
   ]
  },
  {
   "cell_type": "markdown",
   "id": "420b20fe",
   "metadata": {},
   "source": [
    "### 여기까지 정리하기"
   ]
  }
 ],
 "metadata": {
  "kernelspec": {
   "display_name": "Python 3 (ipykernel)",
   "language": "python",
   "name": "python3"
  },
  "language_info": {
   "codemirror_mode": {
    "name": "ipython",
    "version": 3
   },
   "file_extension": ".py",
   "mimetype": "text/x-python",
   "name": "python",
   "nbconvert_exporter": "python",
   "pygments_lexer": "ipython3",
   "version": "3.9.12"
  }
 },
 "nbformat": 4,
 "nbformat_minor": 5
}
