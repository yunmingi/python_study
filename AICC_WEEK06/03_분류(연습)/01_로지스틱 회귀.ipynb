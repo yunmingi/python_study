{
 "cells": [
  {
   "cell_type": "markdown",
   "id": "c8005689",
   "metadata": {},
   "source": [
    "# 시나리오\n",
    "- 무작위의 생선이 하나 들어있는 랜덤생선박스를 판매하려고 함\n",
    "- 완전 무작위 판매가 아닌 선호하는 생선 확률을 보여주고 선택이 가능하도록\n",
    "    ex) A박스에 도미가 있을 확률을 표시\n",
    "- 박스에 들어있는 생선의 확률을 구해야 함\n",
    "\n",
    "## 랜덤생선박스의 확률\n",
    "- 생선의 종류 7가지\n",
    "- 생선의 특성이 주어지면 7개 생선에 대한 확률을 구함\n",
    "- 길이, 높이, 두께, 대각선길이를 특성으로 사용\n",
    "- 이진분류(타겟이 두 종류)와 다중분류(타겟이 세 종류 이상)"
   ]
  },
  {
   "attachments": {
    "image.png": {
     "image/png": "[encoded data removed]"
    }
   },
   "cell_type": "markdown",
   "id": "002ad75c",
   "metadata": {},
   "source": [
    "## k-최근접 이웃 분류기 사용해보기\n",
    "![image.png](attachment:image.png)\n",
    "- 그림과 같은 개념으로 랜덤생선박스의 확률을 표현할 수 있음"
   ]
  },
  {
   "cell_type": "markdown",
   "id": "75895354",
   "metadata": {},
   "source": [
    "#### 데이터 준비"
   ]
  },
  {
   "cell_type": "code",
   "execution_count": 2,
   "id": "5fb59e6e",
   "metadata": {
    "scrolled": true
   },
   "outputs": [
    {
     "data": {
      "text/html": [
       "<div>\n",
       "<style scoped>\n",
       "    .dataframe tbody tr th:only-of-type {\n",
       "        vertical-align: middle;\n",
       "    }\n",
       "\n",
       "    .dataframe tbody tr th {\n",
       "        vertical-align: top;\n",
       "    }\n",
       "\n",
       "    .dataframe thead th {\n",
       "        text-align: right;\n",
       "    }\n",
       "</style>\n",
       "<table border=\"1\" class=\"dataframe\">\n",
       "  <thead>\n",
       "    <tr style=\"text-align: right;\">\n",
       "      <th></th>\n",
       "      <th>Species</th>\n",
       "      <th>Weight</th>\n",
       "      <th>Length</th>\n",
       "      <th>Diagonal</th>\n",
       "      <th>Height</th>\n",
       "      <th>Width</th>\n",
       "    </tr>\n",
       "  </thead>\n",
       "  <tbody>\n",
       "    <tr>\n",
       "      <th>0</th>\n",
       "      <td>Bream</td>\n",
       "      <td>242.0</td>\n",
       "      <td>25.4</td>\n",
       "      <td>30.0</td>\n",
       "      <td>11.5200</td>\n",
       "      <td>4.0200</td>\n",
       "    </tr>\n",
       "    <tr>\n",
       "      <th>1</th>\n",
       "      <td>Bream</td>\n",
       "      <td>290.0</td>\n",
       "      <td>26.3</td>\n",
       "      <td>31.2</td>\n",
       "      <td>12.4800</td>\n",
       "      <td>4.3056</td>\n",
       "    </tr>\n",
       "    <tr>\n",
       "      <th>2</th>\n",
       "      <td>Bream</td>\n",
       "      <td>340.0</td>\n",
       "      <td>26.5</td>\n",
       "      <td>31.1</td>\n",
       "      <td>12.3778</td>\n",
       "      <td>4.6961</td>\n",
       "    </tr>\n",
       "    <tr>\n",
       "      <th>3</th>\n",
       "      <td>Bream</td>\n",
       "      <td>363.0</td>\n",
       "      <td>29.0</td>\n",
       "      <td>33.5</td>\n",
       "      <td>12.7300</td>\n",
       "      <td>4.4555</td>\n",
       "    </tr>\n",
       "    <tr>\n",
       "      <th>4</th>\n",
       "      <td>Bream</td>\n",
       "      <td>430.0</td>\n",
       "      <td>29.0</td>\n",
       "      <td>34.0</td>\n",
       "      <td>12.4440</td>\n",
       "      <td>5.1340</td>\n",
       "    </tr>\n",
       "  </tbody>\n",
       "</table>\n",
       "</div>"
      ],
      "text/plain": [
       "  Species  Weight  Length  Diagonal   Height   Width\n",
       "0   Bream   242.0    25.4      30.0  11.5200  4.0200\n",
       "1   Bream   290.0    26.3      31.2  12.4800  4.3056\n",
       "2   Bream   340.0    26.5      31.1  12.3778  4.6961\n",
       "3   Bream   363.0    29.0      33.5  12.7300  4.4555\n",
       "4   Bream   430.0    29.0      34.0  12.4440  5.1340"
      ]
     },
     "execution_count": 2,
     "metadata": {},
     "output_type": "execute_result"
    }
   ],
   "source": [
    "import pandas as pd\n",
    "\n",
    "fish = pd.read_csv('fish_csv_data.csv')\n",
    "fish.head()"
   ]
  },
  {
   "cell_type": "markdown",
   "id": "bfda04a1",
   "metadata": {},
   "source": [
    "#### 생선 종류 확인"
   ]
  },
  {
   "cell_type": "code",
   "execution_count": 3,
   "id": "a73293f3",
   "metadata": {},
   "outputs": [
    {
     "name": "stdout",
     "output_type": "stream",
     "text": [
      "['Bream' 'Roach' 'Whitefish' 'Parkki' 'Perch' 'Pike' 'Smelt']\n"
     ]
    }
   ],
   "source": [
    "print(pd.unique(fish['Species']))"
   ]
  },
  {
   "cell_type": "markdown",
   "id": "74bd2c86",
   "metadata": {},
   "source": [
    "#### 분류에 사용할 훈련 데이터 열과 타겟데이터 열 선택"
   ]
  },
  {
   "cell_type": "code",
   "execution_count": 4,
   "id": "3ee0eafa",
   "metadata": {},
   "outputs": [
    {
     "data": {
      "text/plain": [
       "array([[242.    ,  25.4   ,  30.    ,  11.52  ,   4.02  ],\n",
       "       [290.    ,  26.3   ,  31.2   ,  12.48  ,   4.3056],\n",
       "       [340.    ,  26.5   ,  31.1   ,  12.3778,   4.6961],\n",
       "       [363.    ,  29.    ,  33.5   ,  12.73  ,   4.4555],\n",
       "       [430.    ,  29.    ,  34.    ,  12.444 ,   5.134 ]])"
      ]
     },
     "execution_count": 4,
     "metadata": {},
     "output_type": "execute_result"
    }
   ],
   "source": [
    "fish_input = fish[['Weight','Length','Diagonal','Height','Width']].to_numpy()\n",
    "fish_input[:5]"
   ]
  },
  {
   "cell_type": "code",
   "execution_count": 5,
   "id": "5d46b03e",
   "metadata": {},
   "outputs": [
    {
     "data": {
      "text/plain": [
       "array(['Bream', 'Bream', 'Bream', 'Bream', 'Bream'], dtype=object)"
      ]
     },
     "execution_count": 5,
     "metadata": {},
     "output_type": "execute_result"
    }
   ],
   "source": [
    "fish_target = fish['Species'].to_numpy()\n",
    "fish_target[:5]"
   ]
  },
  {
   "cell_type": "markdown",
   "id": "1f18d5ba",
   "metadata": {},
   "source": [
    "#### 훈련 데이터와 테스트 데이터 나누기"
   ]
  },
  {
   "cell_type": "code",
   "execution_count": 6,
   "id": "74de898a",
   "metadata": {},
   "outputs": [],
   "source": [
    "from sklearn.model_selection import train_test_split\n",
    "\n",
    "train_input, test_input, train_target, test_target = train_test_split(\n",
    "    fish_input, fish_target, random_state=42)"
   ]
  },
  {
   "cell_type": "markdown",
   "id": "b8858bb6",
   "metadata": {},
   "source": [
    "#### 훈련 데이터셋과 테스트 데이터셋 표준화\n",
    "- StandardScaler 사용"
   ]
  },
  {
   "cell_type": "code",
   "execution_count": 7,
   "id": "ef3363d5",
   "metadata": {},
   "outputs": [],
   "source": [
    "from sklearn.preprocessing import StandardScaler\n",
    "\n",
    "ss = StandardScaler()\n",
    "ss.fit(train_input)\n",
    "train_scaled = ss.transform(train_input)\n",
    "test_scaled = ss.transform(test_input)"
   ]
  },
  {
   "cell_type": "code",
   "execution_count": 8,
   "id": "3be975fb",
   "metadata": {},
   "outputs": [
    {
     "data": {
      "text/plain": [
       "array([[ 0.91965782,  0.60943175,  0.81041221,  1.85194896,  1.00075672],\n",
       "       [ 0.30041219,  1.54653445,  1.45316551, -0.46981663,  0.27291745],\n",
       "       [-1.0858536 , -1.68646987, -1.70848587, -1.70159849, -2.0044758 ],\n",
       "       [-0.79734143, -0.60880176, -0.67486907, -0.82480589, -0.27631471],\n",
       "       [-0.71289885, -0.73062511, -0.70092664, -0.0802298 , -0.7033869 ]])"
      ]
     },
     "execution_count": 8,
     "metadata": {},
     "output_type": "execute_result"
    }
   ],
   "source": [
    "train_scaled[:5]"
   ]
  },
  {
   "cell_type": "markdown",
   "id": "f084f5be",
   "metadata": {},
   "source": [
    "#### k-최근접 이웃 모델 사용"
   ]
  },
  {
   "cell_type": "code",
   "execution_count": 9,
   "id": "77a68709",
   "metadata": {},
   "outputs": [
    {
     "name": "stdout",
     "output_type": "stream",
     "text": [
      "0.8907563025210085\n",
      "0.85\n"
     ]
    }
   ],
   "source": [
    "from sklearn.neighbors import KNeighborsClassifier\n",
    "\n",
    "kn = KNeighborsClassifier(n_neighbors=3) # 이웃 개수 3개로\n",
    "kn.fit(train_scaled, train_target)\n",
    "\n",
    "print(kn.score(train_scaled, train_target))\n",
    "print(kn.score(test_scaled, test_target))"
   ]
  },
  {
   "cell_type": "markdown",
   "id": "b10cf6ee",
   "metadata": {},
   "source": [
    "#### 타겟 클래스 확인\n",
    "- 분류된 클래스 확인"
   ]
  },
  {
   "cell_type": "code",
   "execution_count": 10,
   "id": "3669870b",
   "metadata": {},
   "outputs": [
    {
     "name": "stdout",
     "output_type": "stream",
     "text": [
      "['Bream' 'Parkki' 'Perch' 'Pike' 'Roach' 'Smelt' 'Whitefish']\n"
     ]
    }
   ],
   "source": [
    "print(kn.classes_)"
   ]
  },
  {
   "cell_type": "markdown",
   "id": "f5862040",
   "metadata": {},
   "source": [
    "'Bream': 도미\n",
    "'Parkki' : 파키\n",
    "'Perch' : 농어\n",
    "'Pike' : 강꼬치고기\n",
    "'Roach' : 로치\n",
    "'Smelt' : 바다빙어\n",
    "'Whitefish' : 백어"
   ]
  },
  {
   "cell_type": "markdown",
   "id": "2b432b74",
   "metadata": {},
   "source": [
    "#### 분류 예측"
   ]
  },
  {
   "cell_type": "code",
   "execution_count": 11,
   "id": "93c0baee",
   "metadata": {},
   "outputs": [
    {
     "name": "stdout",
     "output_type": "stream",
     "text": [
      "['Perch' 'Smelt' 'Pike' 'Perch' 'Perch']\n"
     ]
    }
   ],
   "source": [
    "print(kn.predict(test_scaled[:5]))"
   ]
  },
  {
   "cell_type": "markdown",
   "id": "aee32cd6",
   "metadata": {},
   "source": [
    "#### 분류기의 예측 확률 확인"
   ]
  },
  {
   "cell_type": "code",
   "execution_count": 12,
   "id": "3855d600",
   "metadata": {},
   "outputs": [
    {
     "name": "stdout",
     "output_type": "stream",
     "text": [
      "['Bream' 'Parkki' 'Perch' 'Pike' 'Roach' 'Smelt' 'Whitefish']\n",
      "[[0.     0.     1.     0.     0.     0.     0.    ]\n",
      " [0.     0.     0.     0.     0.     1.     0.    ]\n",
      " [0.     0.     0.     1.     0.     0.     0.    ]\n",
      " [0.     0.     0.6667 0.     0.3333 0.     0.    ]\n",
      " [0.     0.     0.6667 0.     0.3333 0.     0.    ]]\n"
     ]
    }
   ],
   "source": [
    "import numpy as np\n",
    "\n",
    "proba = kn.predict_proba(test_scaled[:5])\n",
    "print(kn.classes_)\n",
    "print(np.round(proba, decimals=4))"
   ]
  },
  {
   "cell_type": "code",
   "execution_count": 22,
   "id": "3de31237",
   "metadata": {
    "scrolled": true
   },
   "outputs": [
    {
     "name": "stdout",
     "output_type": "stream",
     "text": [
      "[['Roach' 'Perch' 'Perch']]\n"
     ]
    }
   ],
   "source": [
    "distances, indexes = kn.kneighbors(test_scaled[3:4])\n",
    "print(train_target[indexes])"
   ]
  },
  {
   "cell_type": "markdown",
   "id": "ca596c5c",
   "metadata": {},
   "source": [
    "##### 결과\n",
    "- kneighbors()메서드는 2차원 배열을 전달해야 함(슬라이싱 하면 2차원 반환)\n",
    "- 테스트 데이터셋의 4번째 샘플을 예측\n",
    "- Roach가 하나(30%) Perch가 둘(60%)로 Perch라고 분류함\n",
    "- 확률은 이웃의 개수로 만들어짐\n",
    "- 예제는 3개의 이웃을 사용하므로 네 가지 확률이 나옴\n",
    "    - 0/3, 1/3, 2/3, 3/3\n",
    "- 확률이라고 하기에는 다소 아쉬움"
   ]
  },
  {
   "attachments": {
    "image-2.png": {
     "image/png": "[encoded data removed]"
    }
   },
   "cell_type": "markdown",
   "id": "c22cfa1e",
   "metadata": {},
   "source": [
    "# 로지스틱 회귀(Logistic Regression)\n",
    "- 이름은 회귀이나 분류 모델임\n",
    "- 선형 회귀와 동일한 선형 방정식으로 학습\n",
    "    - $z = a \\times (weight) + b \\times (length) + c \\times (diagonal) + d \\times (height) + e \\times (width) + f$\n",
    "- a, b, c, d는 가중치 또는 계수(다중 회귀를 위한 선형 방정식과 동일)\n",
    "- z는 어떤 값이라도 상관 없지만 확률이 되려면 0 ~ 1 (0 ~ 100%)\n",
    "- 시그모이드 함수를 활용\n",
    "    - z가 아주 큰 음수면 0, 아주 큰 양수면 1을 사용하도록 만드는 것\n",
    "    - $\\varnothing = {1 \\over 1+{e^{-z}}}$\n",
    "    - 자연상수 $e$를 선형 방정식의 출력 $z$의 음수로 거듭제곱하고 1을 더한 값의 역수를 취함\n",
    "    - 다음과 같은 그래프를 만들 수 있음\n",
    "![image-2.png](attachment:image-2.png)\n",
    "    "
   ]
  },
  {
   "cell_type": "code",
   "execution_count": 18,
   "id": "1eaacf26",
   "metadata": {},
   "outputs": [
    {
     "data": {
      "text/plain": [
       "array([-5.00000000e+00, -4.90000000e+00, -4.80000000e+00, -4.70000000e+00,\n",
       "       -4.60000000e+00, -4.50000000e+00, -4.40000000e+00, -4.30000000e+00,\n",
       "       -4.20000000e+00, -4.10000000e+00, -4.00000000e+00, -3.90000000e+00,\n",
       "       -3.80000000e+00, -3.70000000e+00, -3.60000000e+00, -3.50000000e+00,\n",
       "       -3.40000000e+00, -3.30000000e+00, -3.20000000e+00, -3.10000000e+00,\n",
       "       -3.00000000e+00, -2.90000000e+00, -2.80000000e+00, -2.70000000e+00,\n",
       "       -2.60000000e+00, -2.50000000e+00, -2.40000000e+00, -2.30000000e+00,\n",
       "       -2.20000000e+00, -2.10000000e+00, -2.00000000e+00, -1.90000000e+00,\n",
       "       -1.80000000e+00, -1.70000000e+00, -1.60000000e+00, -1.50000000e+00,\n",
       "       -1.40000000e+00, -1.30000000e+00, -1.20000000e+00, -1.10000000e+00,\n",
       "       -1.00000000e+00, -9.00000000e-01, -8.00000000e-01, -7.00000000e-01,\n",
       "       -6.00000000e-01, -5.00000000e-01, -4.00000000e-01, -3.00000000e-01,\n",
       "       -2.00000000e-01, -1.00000000e-01, -1.77635684e-14,  1.00000000e-01,\n",
       "        2.00000000e-01,  3.00000000e-01,  4.00000000e-01,  5.00000000e-01,\n",
       "        6.00000000e-01,  7.00000000e-01,  8.00000000e-01,  9.00000000e-01,\n",
       "        1.00000000e+00,  1.10000000e+00,  1.20000000e+00,  1.30000000e+00,\n",
       "        1.40000000e+00,  1.50000000e+00,  1.60000000e+00,  1.70000000e+00,\n",
       "        1.80000000e+00,  1.90000000e+00,  2.00000000e+00,  2.10000000e+00,\n",
       "        2.20000000e+00,  2.30000000e+00,  2.40000000e+00,  2.50000000e+00,\n",
       "        2.60000000e+00,  2.70000000e+00,  2.80000000e+00,  2.90000000e+00,\n",
       "        3.00000000e+00,  3.10000000e+00,  3.20000000e+00,  3.30000000e+00,\n",
       "        3.40000000e+00,  3.50000000e+00,  3.60000000e+00,  3.70000000e+00,\n",
       "        3.80000000e+00,  3.90000000e+00,  4.00000000e+00,  4.10000000e+00,\n",
       "        4.20000000e+00,  4.30000000e+00,  4.40000000e+00,  4.50000000e+00,\n",
       "        4.60000000e+00,  4.70000000e+00,  4.80000000e+00,  4.90000000e+00])"
      ]
     },
     "execution_count": 18,
     "metadata": {},
     "output_type": "execute_result"
    }
   ],
   "source": [
    "import numpy as np\n",
    "import matplotlib.pyplot as plt\n",
    "\n",
    "z = np.arange(-5, 5, 0.1) # -5 ~ 5 까지 값을 0.1단위로 생성\n",
    "z"
   ]
  },
  {
   "cell_type": "code",
   "execution_count": 19,
   "id": "c2580ae5",
   "metadata": {},
   "outputs": [
    {
     "data": {
      "image/png": "[encoded data removed]",
      "text/plain": [
       "<Figure size 432x288 with 1 Axes>"
      ]
     },
     "metadata": {
      "needs_background": "light"
     },
     "output_type": "display_data"
    }
   ],
   "source": [
    "phi = 1 / (1 + np.exp(-z))\n",
    "\n",
    "plt.plot(z, phi)\n",
    "plt.xlabel('z')\n",
    "plt.ylabel('phi')\n",
    "plt.show()"
   ]
  },
  {
   "cell_type": "markdown",
   "id": "05eaac1e",
   "metadata": {},
   "source": [
    "##### 결과\n",
    "- -5 ~ 5까지의 0.1단위의 값을 0 ~ 1 사이로 표현함(가둔다고 표현)"
   ]
  },
  {
   "cell_type": "markdown",
   "id": "9497d972",
   "metadata": {},
   "source": [
    "## 로지스틱 회귀로 이진 분류 하기"
   ]
  },
  {
   "cell_type": "code",
   "execution_count": 20,
   "id": "22a89797",
   "metadata": {},
   "outputs": [
    {
     "name": "stdout",
     "output_type": "stream",
     "text": [
      "['A' 'C']\n"
     ]
    }
   ],
   "source": [
    "import numpy as np\n",
    "\n",
    "char_arr = np.array(['A', 'B', 'C', 'D', 'E'])\n",
    "print(char_arr[[True, False, True, False, False]])"
   ]
  },
  {
   "cell_type": "markdown",
   "id": "49b170e0",
   "metadata": {},
   "source": [
    "#### 훈련 세트에서 도미(Bream)와 빙어(Smelt)의 행들만 가져오기"
   ]
  },
  {
   "cell_type": "code",
   "execution_count": 16,
   "id": "83fbd8f2",
   "metadata": {},
   "outputs": [
    {
     "data": {
      "text/plain": [
       "array([ True, False, False, False, False, False, False,  True, False,\n",
       "       False, False,  True, False, False, False,  True, False, False,\n",
       "       False,  True, False,  True, False, False, False,  True, False,\n",
       "       False,  True, False, False, False, False,  True, False, False,\n",
       "        True,  True, False, False, False, False, False, False, False,\n",
       "       False, False, False, False,  True, False, False, False, False,\n",
       "       False, False, False, False,  True, False, False, False, False,\n",
       "       False, False,  True, False,  True, False, False, False, False,\n",
       "       False, False, False, False, False,  True, False,  True, False,\n",
       "       False,  True,  True, False, False, False,  True, False, False,\n",
       "       False, False, False, False, False, False, False,  True, False,\n",
       "       False, False, False, False,  True, False, False, False, False,\n",
       "       False, False, False, False, False,  True, False, False,  True,\n",
       "       False, False])"
      ]
     },
     "execution_count": 16,
     "metadata": {},
     "output_type": "execute_result"
    }
   ],
   "source": [
    "train_target == 'Bream' # 도미인 데이터 확인"
   ]
  },
  {
   "cell_type": "code",
   "execution_count": 17,
   "id": "d1ec2353",
   "metadata": {},
   "outputs": [
    {
     "data": {
      "text/plain": [
       "array([False, False,  True, False, False, False, False, False, False,\n",
       "       False, False, False, False, False, False, False,  True, False,\n",
       "       False, False, False, False, False, False, False, False, False,\n",
       "       False, False, False, False, False, False, False, False, False,\n",
       "       False, False, False, False, False, False, False,  True, False,\n",
       "       False, False, False, False, False, False,  True, False, False,\n",
       "        True, False, False, False, False, False, False, False, False,\n",
       "       False, False, False, False, False, False, False, False, False,\n",
       "       False, False, False, False, False, False, False, False, False,\n",
       "       False, False, False, False, False, False, False, False, False,\n",
       "       False, False, False,  True, False, False, False, False, False,\n",
       "        True, False, False,  True, False, False, False, False, False,\n",
       "       False, False, False, False,  True, False, False, False, False,\n",
       "       False, False])"
      ]
     },
     "execution_count": 17,
     "metadata": {},
     "output_type": "execute_result"
    }
   ],
   "source": [
    "train_target == 'Smelt' # 빙어인 데이터 확인"
   ]
  },
  {
   "cell_type": "code",
   "execution_count": 18,
   "id": "51ecc7af",
   "metadata": {},
   "outputs": [
    {
     "data": {
      "text/plain": [
       "array([ True, False,  True, False, False, False, False,  True, False,\n",
       "       False, False,  True, False, False, False,  True,  True, False,\n",
       "       False,  True, False,  True, False, False, False,  True, False,\n",
       "       False,  True, False, False, False, False,  True, False, False,\n",
       "        True,  True, False, False, False, False, False,  True, False,\n",
       "       False, False, False, False,  True, False,  True, False, False,\n",
       "        True, False, False, False,  True, False, False, False, False,\n",
       "       False, False,  True, False,  True, False, False, False, False,\n",
       "       False, False, False, False, False,  True, False,  True, False,\n",
       "       False,  True,  True, False, False, False,  True, False, False,\n",
       "       False, False, False,  True, False, False, False,  True, False,\n",
       "        True, False, False,  True,  True, False, False, False, False,\n",
       "       False, False, False, False,  True,  True, False, False,  True,\n",
       "       False, False])"
      ]
     },
     "execution_count": 18,
     "metadata": {},
     "output_type": "execute_result"
    }
   ],
   "source": [
    "bream_smelt_indexes = (train_target == 'Bream') | (train_target == 'Smelt') # 두 가지만 고름\n",
    "bream_smelt_indexes"
   ]
  },
  {
   "cell_type": "code",
   "execution_count": 19,
   "id": "adf9c816",
   "metadata": {},
   "outputs": [],
   "source": [
    "bream_smelt_indexes = (train_target == 'Bream') | (train_target == 'Smelt') # 두 가지만 고름\n",
    "train_bream_smelt = train_scaled[bream_smelt_indexes] # 도미와 빙어만 훈련 데이터로 생성\n",
    "target_bream_smelt = train_target[bream_smelt_indexes] # 도미와 빙어만 테스트 데이터로 생성"
   ]
  },
  {
   "cell_type": "markdown",
   "id": "2014ebd9",
   "metadata": {},
   "source": [
    "### LogisticRegression 모델로 이진 분류 하기"
   ]
  },
  {
   "cell_type": "code",
   "execution_count": 20,
   "id": "f00f0a2f",
   "metadata": {},
   "outputs": [
    {
     "data": {
      "text/plain": [
       "LogisticRegression()"
      ]
     },
     "execution_count": 20,
     "metadata": {},
     "output_type": "execute_result"
    }
   ],
   "source": [
    "from sklearn.linear_model import LogisticRegression\n",
    "\n",
    "lr = LogisticRegression()\n",
    "lr.fit(train_bream_smelt, target_bream_smelt)"
   ]
  },
  {
   "cell_type": "code",
   "execution_count": 21,
   "id": "4f98fd22",
   "metadata": {},
   "outputs": [
    {
     "name": "stdout",
     "output_type": "stream",
     "text": [
      "['Bream' 'Smelt' 'Bream' 'Bream' 'Bream']\n"
     ]
    }
   ],
   "source": [
    "# 예측하기\n",
    "print(lr.predict(train_bream_smelt[:5]))"
   ]
  },
  {
   "cell_type": "code",
   "execution_count": 22,
   "id": "795de70e",
   "metadata": {},
   "outputs": [
    {
     "name": "stdout",
     "output_type": "stream",
     "text": [
      "[[0.99759855 0.00240145]\n",
      " [0.02735183 0.97264817]\n",
      " [0.99486072 0.00513928]\n",
      " [0.98584202 0.01415798]\n",
      " [0.99767269 0.00232731]]\n"
     ]
    }
   ],
   "source": [
    "# 퍼센트 확인\n",
    "print(lr.predict_proba(train_bream_smelt[:5]))"
   ]
  },
  {
   "cell_type": "code",
   "execution_count": 23,
   "id": "c895ddae",
   "metadata": {},
   "outputs": [
    {
     "name": "stdout",
     "output_type": "stream",
     "text": [
      "['Bream' 'Smelt']\n"
     ]
    }
   ],
   "source": [
    "# 분류 클래스 확인\n",
    "print(lr.classes_)"
   ]
  },
  {
   "cell_type": "code",
   "execution_count": 24,
   "id": "2abe587a",
   "metadata": {},
   "outputs": [
    {
     "name": "stdout",
     "output_type": "stream",
     "text": [
      "[[-0.4037798  -0.57620209 -0.66280298 -1.01290277 -0.73168947]] [-2.16155132]\n"
     ]
    }
   ],
   "source": [
    "# 회귀 계수 확인\n",
    "print(lr.coef_, lr.intercept_)"
   ]
  },
  {
   "cell_type": "markdown",
   "id": "5cd3c3f7",
   "metadata": {},
   "source": [
    "##### 방정식\n",
    "$z = -0.404 \\times (weight) + -0.576 \\times (length) + -0.662 \\times (diagonal) + -1.012 \\times (height) + -0.731 \\times (width) + -2.161$"
   ]
  },
  {
   "cell_type": "code",
   "execution_count": 25,
   "id": "20ffcac7",
   "metadata": {},
   "outputs": [
    {
     "name": "stdout",
     "output_type": "stream",
     "text": [
      "[-6.02927744  3.57123907 -5.26568906 -4.24321775 -6.0607117 ]\n"
     ]
    }
   ],
   "source": [
    "# z값 확인\n",
    "decision = lr.decision_function(train_bream_smelt[:5])\n",
    "print(decision)"
   ]
  },
  {
   "cell_type": "code",
   "execution_count": 47,
   "id": "6dafd4c5",
   "metadata": {},
   "outputs": [
    {
     "name": "stdout",
     "output_type": "stream",
     "text": [
      "[0.00240145 0.97264817 0.00513928 0.01415798 0.00232731]\n"
     ]
    }
   ],
   "source": [
    "# 시그모이드 함수에 적용하면 확률을 구할 수 있음\n",
    "from scipy.special import expit # 시그모이드 함수\n",
    "\n",
    "print(expit(decision))"
   ]
  },
  {
   "cell_type": "markdown",
   "id": "1d0f96f3",
   "metadata": {},
   "source": [
    "##### 결과\n",
    "- decision_function() 메서드는 양성인 클래스에 대한 z값 확인 가능"
   ]
  },
  {
   "cell_type": "markdown",
   "id": "155d81b2",
   "metadata": {},
   "source": [
    "### LogisticRegression 모델로 다중 분류 하기\n",
    "- 기본적으로 반복적인 알고리즘을 사용\n",
    "- max_iter옵션으로 반복 횟수 지정(기본값: 100)\n",
    "- 릿지 회귀와 같이 계수의 제곱을 규제(L2규제)\n",
    "- 규제 제어 매개변수 C(기본값: 1)이며 alpha와 반대 개념으로 적용(값이 작으면 규제가 커짐)"
   ]
  },
  {
   "cell_type": "code",
   "execution_count": 28,
   "id": "ae4a23fd",
   "metadata": {
    "scrolled": true
   },
   "outputs": [
    {
     "name": "stdout",
     "output_type": "stream",
     "text": [
      "0.9327731092436975\n",
      "0.925\n"
     ]
    }
   ],
   "source": [
    "# 훈련하기\n",
    "from sklearn.linear_model import LogisticRegression\n",
    "\n",
    "lr = LogisticRegression(C=20, max_iter=1000)\n",
    "lr.fit(train_scaled, train_target)\n",
    "\n",
    "print(lr.score(train_scaled, train_target))\n",
    "print(lr.score(test_scaled, test_target))"
   ]
  },
  {
   "cell_type": "markdown",
   "id": "43554724",
   "metadata": {},
   "source": [
    "##### 결과\n",
    "- 훈련 데이터셋과 테스트 데이터셋에 대한 점수가 높음\n",
    "- 과대적합이나 과소적합은 아닌 것으로 보임"
   ]
  },
  {
   "cell_type": "code",
   "execution_count": 59,
   "id": "373d1eca",
   "metadata": {},
   "outputs": [
    {
     "data": {
      "text/plain": [
       "array(['Perch', 'Smelt', 'Pike', 'Roach', 'Perch'], dtype=object)"
      ]
     },
     "execution_count": 59,
     "metadata": {},
     "output_type": "execute_result"
    }
   ],
   "source": [
    "# 예측\n",
    "lr.predict(test_scaled[:5])"
   ]
  },
  {
   "cell_type": "code",
   "execution_count": 30,
   "id": "3c1d900f",
   "metadata": {},
   "outputs": [
    {
     "name": "stdout",
     "output_type": "stream",
     "text": [
      "['Bream' 'Parkki' 'Perch' 'Pike' 'Roach' 'Smelt' 'Whitefish']\n",
      "[[0.    0.014 0.841 0.    0.136 0.007 0.003]\n",
      " [0.    0.003 0.044 0.    0.007 0.946 0.   ]\n",
      " [0.    0.    0.034 0.935 0.015 0.016 0.   ]\n",
      " [0.011 0.034 0.306 0.007 0.567 0.    0.076]\n",
      " [0.    0.    0.904 0.002 0.089 0.002 0.001]]\n"
     ]
    }
   ],
   "source": [
    "# 퍼센트 확인\n",
    "proba = lr.predict_proba(test_scaled[:5])\n",
    "print(lr.classes_)\n",
    "print(np.round(proba, decimals=3))"
   ]
  },
  {
   "cell_type": "markdown",
   "id": "d11107f5",
   "metadata": {},
   "source": [
    "##### 해석\n",
    "- 첫 번째 열이 음성 클래스(0)에 대한 확률\n",
    "- 두 번째 열은 양성 클래스(1)에 대한 확률\n",
    "- 분류된 클래스들은 타겟값을 알파벳 순으로 정렬하여 사용(classes_ 속성으로 확인)"
   ]
  },
  {
   "cell_type": "code",
   "execution_count": 61,
   "id": "560b9c37",
   "metadata": {},
   "outputs": [
    {
     "name": "stdout",
     "output_type": "stream",
     "text": [
      "['Bream' 'Parkki' 'Perch' 'Pike' 'Roach' 'Smelt' 'Whitefish']\n"
     ]
    }
   ],
   "source": [
    "print(lr.classes_)"
   ]
  },
  {
   "cell_type": "code",
   "execution_count": 62,
   "id": "3fe2eb19",
   "metadata": {
    "scrolled": true
   },
   "outputs": [
    {
     "name": "stdout",
     "output_type": "stream",
     "text": [
      "(7, 5) (7,)\n"
     ]
    }
   ],
   "source": [
    "print(lr.coef_.shape, lr.intercept_.shape)"
   ]
  },
  {
   "cell_type": "markdown",
   "id": "fe46f31a",
   "metadata": {},
   "source": [
    "##### 해석\n",
    "- 5개의 특성을 사용했으므로 열이 5개 이다.\n",
    "- 분류를 위한 행은 7개 이다.\n",
    "- 각각의 클래스마다의 확률을 모두 계산\n",
    "- 이중 분류는 시그모이드를 적용하고, 다중 분류는 소프트맥스 함수를 사용함"
   ]
  },
  {
   "cell_type": "markdown",
   "id": "281d28a9",
   "metadata": {},
   "source": [
    "#### 소프트맥스(softmax) 함수\n",
    "- 시그모이드 함수는 하나의 선형 방정식의 출력 값을 0~1로 압축\n",
    "- 소프트맥스 함수는 여러 개의 선형 방정식의 출력값을 0~1로 압축하고 전체 합이 1이 되도록 만듦\n",
    "- 지수함수를 사용하므로 정규화된 지수함수라고도 불림\n",
    "\n",
    "- \n",
    "- $z1$ \\~ $z7$ 까지 값을 사용하여 지수함수($e^{z1}$ \\~ $e^{z7}$)을 계산하여 합을 구함(e_sum)\n",
    "    - $ e\\_sum = e^{z1} + e^{z2} + e^{z3} + e^{z4} + e^{z5} + e^{z6} + e^{z7}$\n",
    "- $e^{z1}$ \\~ $e^{z7}$을 각각 $e\\_sum$으로 나눔\n",
    "    - $ s1 = { e^{z1} \\over e\\_sum}, s2 = { e^{z2} \\over e\\_sum}, ... s7 = { e^{z7} \\over e\\_sum}$ \n",
    "- 이렇게 나온 $e^{s1}$ \\~ $e^{s7}$을 모두 더하면 1이 된다.(7개 생선에 대한 확률의 합은 1이어야 함)"
   ]
  },
  {
   "cell_type": "code",
   "execution_count": 31,
   "id": "b2d0a6fe",
   "metadata": {
    "scrolled": true
   },
   "outputs": [
    {
     "data": {
      "text/plain": [
       "1.001"
      ]
     },
     "execution_count": 31,
     "metadata": {},
     "output_type": "execute_result"
    }
   ],
   "source": [
    "# 훈련 데이터의 첫 번째 샘플에 대한 확률 값을 이용하여 1이 되는지 확인\n",
    "0 + 0.014 + 0.841 + 0 + 0.136 + 0.007 + 0.003"
   ]
  },
  {
   "cell_type": "markdown",
   "id": "6bc70f38",
   "metadata": {},
   "source": [
    "#### decision_function()메서드로 직접 해보기"
   ]
  },
  {
   "cell_type": "code",
   "execution_count": 66,
   "id": "fdbeed79",
   "metadata": {},
   "outputs": [
    {
     "name": "stdout",
     "output_type": "stream",
     "text": [
      "[[ -6.5    1.03   5.16  -2.73   3.34   0.33  -0.63]\n",
      " [-10.86   1.93   4.77  -2.4    2.98   7.84  -4.26]\n",
      " [ -4.34  -6.23   3.17   6.49   2.36   2.42  -3.87]\n",
      " [ -0.68   0.45   2.65  -1.19   3.26  -5.75   1.26]\n",
      " [ -6.4   -1.99   5.82  -0.11   3.5   -0.11  -0.71]]\n"
     ]
    }
   ],
   "source": [
    "# 테스트 데이터셋의 처음 5개 샘플에 대한 z1~z7 값 구하기\n",
    "decision = lr.decision_function(test_scaled[:5])\n",
    "print(np.round(decision, decimals=2))"
   ]
  },
  {
   "cell_type": "code",
   "execution_count": 74,
   "id": "6cf50660",
   "metadata": {},
   "outputs": [
    {
     "name": "stdout",
     "output_type": "stream",
     "text": [
      "[[0.    0.014 0.841 0.    0.136 0.007 0.003]\n",
      " [0.    0.003 0.044 0.    0.007 0.946 0.   ]\n",
      " [0.    0.    0.034 0.935 0.015 0.016 0.   ]\n",
      " [0.011 0.034 0.306 0.007 0.567 0.    0.076]\n",
      " [0.    0.    0.904 0.002 0.089 0.002 0.001]]\n"
     ]
    }
   ],
   "source": [
    "# softmax함수로 확률 확인\n",
    "from scipy.special import softmax\n",
    "\n",
    "proba = softmax(decision, axis=1) #  axis=1 행 단위로 계산하도록 축을 설정\n",
    "print(np.round(proba, decimals=3))"
   ]
  },
  {
   "cell_type": "code",
   "execution_count": 75,
   "id": "0c4cf6db",
   "metadata": {},
   "outputs": [
    {
     "name": "stdout",
     "output_type": "stream",
     "text": [
      "[[0.    0.014 0.841 0.    0.136 0.007 0.003]\n",
      " [0.    0.003 0.044 0.    0.007 0.946 0.   ]\n",
      " [0.    0.    0.034 0.935 0.015 0.016 0.   ]\n",
      " [0.011 0.034 0.306 0.007 0.567 0.    0.076]\n",
      " [0.    0.    0.904 0.002 0.089 0.002 0.001]]\n"
     ]
    }
   ],
   "source": [
    "# predict_proba와 비교\n",
    "proba = lr.predict_proba(test_scaled[:5])\n",
    "print(np.round(proba, decimals=3))"
   ]
  },
  {
   "cell_type": "markdown",
   "id": "7fa0600e",
   "metadata": {},
   "source": [
    "##### 결과\n",
    "- 로지스틱 회귀 모델이 구한 확률과 동일한\n",
    "- 로지스틱 회귀로 이중, 다중 분류를 수행할 수 있음"
   ]
  },
  {
   "cell_type": "markdown",
   "id": "bec7005c",
   "metadata": {},
   "source": [
    "## 정리하기\n",
    "\n",
    "### 로지스틱 회귀\n",
    "- 선형 방정식을 사용한 분류 알고리즘\n",
    "- 선형 회귀와 달리 시그모이드 함수 또는 소프트맥스 함수를 사용하여 클래스 확률 출력 가능\n",
    "\n",
    "### 다중 분류\n",
    "- 분류할 타겟 클래스가 3개 이상인 분류 문제\n",
    "- 로지스틱 회귀는 다중 분류를 위해 softmax함수를 사용\n",
    "\n",
    "### 시그모이드 함수\n",
    "- 선형 방정식의 출력을 0과 1사이의 값으로 압축\n",
    "- 이진 분류를 위해 사용\n",
    "\n",
    "### 소프트맥스 함수\n",
    "- 다중 분류 시 여러 타겟 클래스에 대한 선형 방정식의 출력 결과를 정규화\n",
    "- 정규화된 값의 총 합이 1이 되도록 하여 확률을 구함"
   ]
  }
 ],
 "metadata": {
  "kernelspec": {
   "display_name": "Python 3 (ipykernel)",
   "language": "python",
   "name": "python3"
  },
  "language_info": {
   "codemirror_mode": {
    "name": "ipython",
    "version": 3
   },
   "file_extension": ".py",
   "mimetype": "text/x-python",
   "name": "python",
   "nbconvert_exporter": "python",
   "pygments_lexer": "ipython3",
   "version": "3.9.12"
  }
 },
 "nbformat": 4,
 "nbformat_minor": 5
}
