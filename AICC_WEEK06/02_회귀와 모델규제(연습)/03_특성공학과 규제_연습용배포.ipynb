{
 "cells": [
  {
   "cell_type": "markdown",
   "id": "ea9819de",
   "metadata": {},
   "source": [
    "# 시나리오\n",
    "- 다항회귀로 농어의 무게를 예측할 수 있음\n",
    "- 훈련데이터셋보다 테스트데이터셋의 평가점수가 높은 것이 문제로 보임\n",
    "- 두 번째 특성으로 길이의 제곱 대신 다른 고차항을 넣어야 할 것으로 생각됨\n",
    "\n",
    "### 해결방법\n",
    "- 현재 데이터를 확인하면 높이와 두께정보도 있음\n",
    "- 선형회귀는 특성이 많을수록 효과가 좋음\n",
    "- 준비된 데이터 모두(높이와 두께)를 사용하도록 한다.\n"
   ]
  },
  {
   "cell_type": "markdown",
   "id": "e1696205",
   "metadata": {},
   "source": [
    "# 다중회귀(Multiple Regression)\n",
    "- 2개 이상의 특성을 이용하는 회귀 분석\n",
    "\n",
    "### 차원 개념\n",
    "- 1개의 특성을 사용하면 직선\n",
    "- 2개의 특성을 사용하면 평면(곡선)\n",
    "- 3개의 특성을 사용하면 3차원(표현이 어려움)\n",
    "    - $y = W_1 \\times 특성_1 + W_2 \\times 특성_2 + W_3 \\times 특성_3 + b$\n",
    "\n",
    "- 차원이 높다고하여 회귀분석이 안좋은 것이 아님\n",
    "- 높은 차원을 이용하는 경우 매우 복잡한 모델도 표현이 가능함\n",
    "\n",
    "### 특성 공학(Feature Engineering)\n",
    "- 기존의 특성을 사용하여 새로운 특성을 뽑아내는 것을 말함"
   ]
  },
  {
   "cell_type": "markdown",
   "id": "b92c020f",
   "metadata": {},
   "source": [
    "#### 데이터 준비"
   ]
  },
  {
   "cell_type": "code",
   "execution_count": 18,
   "id": "d2436ba1",
   "metadata": {},
   "outputs": [
    {
     "name": "stdout",
     "output_type": "stream",
     "text": [
      "[[ 8.4   2.11  1.41]\n",
      " [13.7   3.53  2.  ]\n",
      " [15.    3.82  2.43]\n",
      " [16.2   4.59  2.63]\n",
      " [17.4   4.59  2.94]]\n"
     ]
    }
   ],
   "source": [
    "import pandas as pd\n",
    "df = pd.read_csv('perch_csv_data.csv')\n",
    "perch_full = df.to_numpy() # 넘파이 배열로 변환\n",
    "print(perch_full[:5])"
   ]
  },
  {
   "cell_type": "markdown",
   "id": "94740b92",
   "metadata": {},
   "source": [
    "#### 기존 타켓(y) 데이터"
   ]
  },
  {
   "cell_type": "code",
   "execution_count": 19,
   "id": "c508903b",
   "metadata": {},
   "outputs": [],
   "source": [
    "import numpy as np\n",
    "\n",
    "perch_weight = np.array(\n",
    "    [5.9, 32.0, 40.0, 51.5, 70.0, 100.0, 78.0, 80.0, 85.0, 85.0, \n",
    "     110.0, 115.0, 125.0, 130.0, 120.0, 120.0, 130.0, 135.0, 110.0, \n",
    "     130.0, 150.0, 145.0, 150.0, 170.0, 225.0, 145.0, 188.0, 180.0, \n",
    "     197.0, 218.0, 300.0, 260.0, 265.0, 250.0, 250.0, 300.0, 320.0, \n",
    "     514.0, 556.0, 840.0, 685.0, 700.0, 700.0, 690.0, 900.0, 650.0, \n",
    "     820.0, 850.0, 900.0, 1015.0, 820.0, 1100.0, 1000.0, 1100.0, \n",
    "     1000.0, 1000.0]\n",
    "     )"
   ]
  },
  {
   "cell_type": "markdown",
   "id": "e9a5c60b",
   "metadata": {},
   "source": [
    "#### 데이터 분할"
   ]
  },
  {
   "cell_type": "code",
   "execution_count": 20,
   "id": "06f34a0d",
   "metadata": {},
   "outputs": [],
   "source": [
    "from sklearn.model_selection import train_test_split\n",
    "\n",
    "train_input, test_input, train_target, test_target = train_test_split(perch_full, perch_weight, random_state=42)"
   ]
  },
  {
   "cell_type": "markdown",
   "id": "0f4578cd",
   "metadata": {},
   "source": [
    "#### 다중 선형 회귀 적용"
   ]
  },
  {
   "cell_type": "code",
   "execution_count": 21,
   "id": "c0618d0d",
   "metadata": {},
   "outputs": [
    {
     "name": "stdout",
     "output_type": "stream",
     "text": [
      "0.9559326821885706\n",
      "0.8796419177546366\n"
     ]
    }
   ],
   "source": [
    "from sklearn.linear_model import LinearRegression\n",
    "\n",
    "lr = LinearRegression()\n",
    "lr.fit(train_input, train_target)\n",
    "\n",
    "print(lr.score(train_input, train_target))\n",
    "print(lr.score(test_input, test_target))"
   ]
  },
  {
   "cell_type": "markdown",
   "id": "bb366967",
   "metadata": {},
   "source": [
    "##### 해석\n",
    "- 길이, 높이, 두께를 모두 사용\n",
    "- 훈련데이터 점수가 높고 테스트 데이터 점수가 꽤 차이가 있어 과대적합으로 보임"
   ]
  },
  {
   "cell_type": "markdown",
   "id": "e5257860",
   "metadata": {},
   "source": [
    "# 사이킷런에서 제공하는 변환기(transformer)\n",
    "### 사이킷런에서는 특성을 만들거나 전처리 작업을 위한 다양한 클래스 제공\n",
    "#### 사이킷런 모델(estimator) 클래스에서 제공하는 일관된 목적의 함수\n",
    "- fit()\n",
    "- score()\n",
    "- predict()\n",
    "\n",
    "#### 변환기(transformer) 클래스에서 제공하는 일관된 목적의 함수\n",
    "- fit()\n",
    "- transform()\n",
    "- fit_transform()\n",
    "\n",
    "### 사이킷런의 PolynomialFeatures 클래스 활용\n",
    "- from sklearn.preprocessing import PolynomialFeatures"
   ]
  },
  {
   "cell_type": "code",
   "execution_count": 22,
   "id": "c33e9d00",
   "metadata": {
    "scrolled": true
   },
   "outputs": [
    {
     "name": "stdout",
     "output_type": "stream",
     "text": [
      "[[1. 2. 3. 4. 6. 9.]]\n"
     ]
    }
   ],
   "source": [
    "from sklearn.preprocessing import PolynomialFeatures\n",
    "\n",
    "poly = PolynomialFeatures()\n",
    "poly.fit([[2, 3]])\n",
    "print(poly.transform([[2, 3]]))"
   ]
  },
  {
   "cell_type": "markdown",
   "id": "ffa44a8d",
   "metadata": {},
   "source": [
    "##### 결과 설명\n",
    "- fit()메서드는 새로 만들 특성 조합을 찾음\n",
    "- transform()메서드는 실제로 데이터를 변환\n",
    "- fit()메서드에는 입력데이터만 전달\n",
    "- 2, 3을 가지고 6개의 특성데이터를 생성한 것\n",
    "\n",
    "#### PolynomialFeatures클래스의 기능\n",
    "- 각 특성을 제곱한 항을 추가(2, 3을 제곱한 4, 9 추가)\n",
    "- 특성끼리 곱한 항을 추가(2, 3을 곱한 6 추가)\n",
    "- 마지막에 선형 방정식의 절편을 항상 1인 특성과 곱해지는 계수로 볼 수 있다.\n",
    "    - $무게 = W_1 \\times 특성1(길이) + W_2 \\times 특성2(높이) + W_3 \\times 특성3(두께) \\times 1$\n",
    "    \n",
    "- 사이킷런의 선형 모델은 자동으로 절편을 추가하므로 1은 제외하도록 한다."
   ]
  },
  {
   "cell_type": "code",
   "execution_count": 23,
   "id": "45e8330d",
   "metadata": {},
   "outputs": [
    {
     "name": "stdout",
     "output_type": "stream",
     "text": [
      "[[2. 3. 4. 6. 9.]]\n"
     ]
    }
   ],
   "source": [
    "from sklearn.preprocessing import PolynomialFeatures\n",
    "\n",
    "poly = PolynomialFeatures(include_bias=False) # 계수(1) 추가 안 함\n",
    "poly.fit([[2, 3]])\n",
    "print(poly.transform([[2, 3]]))"
   ]
  },
  {
   "cell_type": "code",
   "execution_count": 24,
   "id": "6aa7ed36",
   "metadata": {},
   "outputs": [
    {
     "name": "stdout",
     "output_type": "stream",
     "text": [
      "[[ 2.  3.  4.  4.  6.  8.  9. 12. 16.]]\n"
     ]
    }
   ],
   "source": [
    "from sklearn.preprocessing import PolynomialFeatures\n",
    "\n",
    "poly = PolynomialFeatures(include_bias=False) # 계수(1) 추가 안 함\n",
    "poly.fit([[2, 3, 4]])\n",
    "print(poly.transform([[2, 3, 4]]))"
   ]
  },
  {
   "cell_type": "code",
   "execution_count": 25,
   "id": "5cdfafe9",
   "metadata": {
    "scrolled": true
   },
   "outputs": [
    {
     "data": {
      "text/plain": [
       "array([[  19.6   ,    5.14  ,    3.04  ,  384.16  ,  100.744 ,   59.584 ,\n",
       "          26.4196,   15.6256,    9.2416],\n",
       "       [  22.    ,    5.88  ,    3.52  ,  484.    ,  129.36  ,   77.44  ,\n",
       "          34.5744,   20.6976,   12.3904],\n",
       "       [  18.7   ,    5.2   ,    3.12  ,  349.69  ,   97.24  ,   58.344 ,\n",
       "          27.04  ,   16.224 ,    9.7344],\n",
       "       [  17.4   ,    4.59  ,    2.94  ,  302.76  ,   79.866 ,   51.156 ,\n",
       "          21.0681,   13.4946,    8.6436],\n",
       "       [  36.    ,   10.61  ,    6.74  , 1296.    ,  381.96  ,  242.64  ,\n",
       "         112.5721,   71.5114,   45.4276]])"
      ]
     },
     "execution_count": 25,
     "metadata": {},
     "output_type": "execute_result"
    }
   ],
   "source": [
    "from sklearn.preprocessing import PolynomialFeatures\n",
    "\n",
    "# 훈련데이터셋(train_input)에 변환기 적용\n",
    "poly = PolynomialFeatures(include_bias=False) # 계수(1) 추가 안 함\n",
    "poly.fit(train_input)\n",
    "train_poly = poly.transform(train_input)\n",
    "train_poly[:5] # 추가된 특성 확인"
   ]
  },
  {
   "cell_type": "code",
   "execution_count": 26,
   "id": "fc0e316e",
   "metadata": {},
   "outputs": [
    {
     "data": {
      "text/plain": [
       "array([[19.6 ,  5.14,  3.04],\n",
       "       [22.  ,  5.88,  3.52],\n",
       "       [18.7 ,  5.2 ,  3.12],\n",
       "       [17.4 ,  4.59,  2.94],\n",
       "       [36.  , 10.61,  6.74]])"
      ]
     },
     "execution_count": 26,
     "metadata": {},
     "output_type": "execute_result"
    }
   ],
   "source": [
    "train_input[:5]"
   ]
  },
  {
   "cell_type": "code",
   "execution_count": 27,
   "id": "a813e188",
   "metadata": {},
   "outputs": [
    {
     "name": "stdout",
     "output_type": "stream",
     "text": [
      "(42, 9)\n"
     ]
    }
   ],
   "source": [
    "print(train_poly.shape)"
   ]
  },
  {
   "cell_type": "markdown",
   "id": "a23edd67",
   "metadata": {},
   "source": [
    "#### 새로 생성된 특성이 어떻게 만들어졌는지 확인"
   ]
  },
  {
   "cell_type": "code",
   "execution_count": 28,
   "id": "65966558",
   "metadata": {},
   "outputs": [
    {
     "data": {
      "text/plain": [
       "array(['x0', 'x1', 'x2', 'x0^2', 'x0 x1', 'x0 x2', 'x1^2', 'x1 x2',\n",
       "       'x2^2'], dtype=object)"
      ]
     },
     "execution_count": 28,
     "metadata": {},
     "output_type": "execute_result"
    }
   ],
   "source": [
    "poly.get_feature_names_out()"
   ]
  },
  {
   "cell_type": "markdown",
   "id": "252d48e8",
   "metadata": {},
   "source": [
    "- 'x0': 첫 번째 특성\n",
    "- 'x0^2' : 첫 번째 특성에 제곱\n",
    "- 'x0 x1' : 두 특성의 곱"
   ]
  },
  {
   "cell_type": "markdown",
   "id": "529f4643",
   "metadata": {},
   "source": [
    "#### fit된 방식으로 test데이터도 변환"
   ]
  },
  {
   "cell_type": "code",
   "execution_count": 29,
   "id": "91c599a3",
   "metadata": {},
   "outputs": [],
   "source": [
    "test_poly = poly.transform(test_input)"
   ]
  },
  {
   "cell_type": "code",
   "execution_count": 30,
   "id": "f1a2f78c",
   "metadata": {},
   "outputs": [
    {
     "data": {
      "text/plain": [
       "array([[ 8.4 ,  2.11,  1.41],\n",
       "       [18.  ,  5.22,  3.32],\n",
       "       [27.5 ,  7.28,  4.57],\n",
       "       [21.3 ,  6.38,  3.53],\n",
       "       [22.5 ,  5.86,  3.62]])"
      ]
     },
     "execution_count": 30,
     "metadata": {},
     "output_type": "execute_result"
    }
   ],
   "source": [
    "test_input[:5]"
   ]
  },
  {
   "cell_type": "code",
   "execution_count": 31,
   "id": "4dab4f2a",
   "metadata": {},
   "outputs": [
    {
     "data": {
      "text/plain": [
       "array([[  8.4   ,   2.11  ,   1.41  ,  70.56  ,  17.724 ,  11.844 ,\n",
       "          4.4521,   2.9751,   1.9881],\n",
       "       [ 18.    ,   5.22  ,   3.32  , 324.    ,  93.96  ,  59.76  ,\n",
       "         27.2484,  17.3304,  11.0224],\n",
       "       [ 27.5   ,   7.28  ,   4.57  , 756.25  , 200.2   , 125.675 ,\n",
       "         52.9984,  33.2696,  20.8849],\n",
       "       [ 21.3   ,   6.38  ,   3.53  , 453.69  , 135.894 ,  75.189 ,\n",
       "         40.7044,  22.5214,  12.4609],\n",
       "       [ 22.5   ,   5.86  ,   3.62  , 506.25  , 131.85  ,  81.45  ,\n",
       "         34.3396,  21.2132,  13.1044]])"
      ]
     },
     "execution_count": 31,
     "metadata": {},
     "output_type": "execute_result"
    }
   ],
   "source": [
    "test_poly[:5]"
   ]
  },
  {
   "cell_type": "markdown",
   "id": "ea0785a1",
   "metadata": {},
   "source": [
    "#### 다중회귀모델 훈련"
   ]
  },
  {
   "cell_type": "code",
   "execution_count": 32,
   "id": "7164b3b0",
   "metadata": {
    "scrolled": false
   },
   "outputs": [
    {
     "data": {
      "text/plain": [
       "LinearRegression()"
      ]
     },
     "execution_count": 32,
     "metadata": {},
     "output_type": "execute_result"
    }
   ],
   "source": [
    "from sklearn.linear_model import LinearRegression\n",
    "\n",
    "lr = LinearRegression()\n",
    "lr.fit(train_poly, train_target)"
   ]
  },
  {
   "cell_type": "code",
   "execution_count": 33,
   "id": "d92979f1",
   "metadata": {},
   "outputs": [
    {
     "name": "stdout",
     "output_type": "stream",
     "text": [
      "0.9903183436982126\n",
      "0.9714559911594143\n"
     ]
    }
   ],
   "source": [
    "print(lr.score(train_poly, train_target))\n",
    "print(lr.score(test_poly, test_target))"
   ]
  },
  {
   "cell_type": "markdown",
   "id": "bc5628da",
   "metadata": {},
   "source": [
    "##### 결과\n",
    "- 점수가 높게 나왔음\n",
    "- 농어의 길이, 높이, 두께 모두를 사용함\n",
    "- 각 특성을 제곱하거나 서로 곱하여 다항적인 특성을 추가함\n",
    "- 특성이 늘어나면 선형회귀의 예측 결과가 높아짐\n",
    "\n",
    "\n",
    "- 테스트 데이터에 대한 점수는 높아지지 않았음\n",
    "- 농어의 길이만 사용한 결과의 과소적합이 해소된 것으로 보여짐"
   ]
  },
  {
   "cell_type": "markdown",
   "id": "337e0f53",
   "metadata": {},
   "source": [
    "#### 특성을 더 많이 늘리면?\n",
    "- 3세곱, 4제곱 등의 항을 넣어본다.\n",
    "- degree옵션 : 고차항의 최대차수"
   ]
  },
  {
   "cell_type": "code",
   "execution_count": 34,
   "id": "955bf65c",
   "metadata": {},
   "outputs": [],
   "source": [
    "poly = PolynomialFeatures(degree=5, include_bias=False)\n",
    "\n",
    "poly.fit(train_input)\n",
    "train_poly = poly.transform(train_input)\n",
    "test_poly = poly.transform(test_input)"
   ]
  },
  {
   "cell_type": "code",
   "execution_count": 35,
   "id": "d5491b9c",
   "metadata": {},
   "outputs": [
    {
     "name": "stdout",
     "output_type": "stream",
     "text": [
      "[[1.96000000e+01 5.14000000e+00 3.04000000e+00 3.84160000e+02\n",
      "  1.00744000e+02 5.95840000e+01 2.64196000e+01 1.56256000e+01\n",
      "  9.24160000e+00 7.52953600e+03 1.97458240e+03 1.16784640e+03\n",
      "  5.17824160e+02 3.06261760e+02 1.81135360e+02 1.35796744e+02\n",
      "  8.03155840e+01 4.75018240e+01 2.80944640e+01 1.47578906e+05\n",
      "  3.87018150e+04 2.28897894e+04 1.01493535e+04 6.00273050e+03\n",
      "  3.55025306e+03 2.66161618e+03 1.57418545e+03 9.31035750e+02\n",
      "  5.50651494e+02 6.97995264e+02 4.12822102e+02 2.44159375e+02\n",
      "  1.44405545e+02 8.54071706e+01 2.89254655e+06 7.58555575e+05\n",
      "  4.48639873e+05 1.98927329e+05 1.17653518e+05 6.95849599e+04\n",
      "  5.21676772e+04 3.08540347e+04 1.82483007e+04 1.07927693e+04\n",
      "  1.36807072e+04 8.09131319e+03 4.78552376e+03 2.83034868e+03\n",
      "  1.67398054e+03 3.58769566e+03 2.12190560e+03 1.25497919e+03\n",
      "  7.42244501e+02 4.38992857e+02 2.59637799e+02]]\n",
      "[[8.40000000e+00 2.11000000e+00 1.41000000e+00 7.05600000e+01\n",
      "  1.77240000e+01 1.18440000e+01 4.45210000e+00 2.97510000e+00\n",
      "  1.98810000e+00 5.92704000e+02 1.48881600e+02 9.94896000e+01\n",
      "  3.73976400e+01 2.49908400e+01 1.67000400e+01 9.39393100e+00\n",
      "  6.27746100e+00 4.19489100e+00 2.80322100e+00 4.97871360e+03\n",
      "  1.25060544e+03 8.35712640e+02 3.14140176e+02 2.09923056e+02\n",
      "  1.40280336e+02 7.89090204e+01 5.27306724e+01 3.52370844e+01\n",
      "  2.35470564e+01 1.98211944e+01 1.32454427e+01 8.85122001e+00\n",
      "  5.91479631e+00 3.95254161e+00 4.18211942e+04 1.05050857e+04\n",
      "  7.01998618e+03 2.63877748e+03 1.76335367e+03 1.17835482e+03\n",
      "  6.62835771e+02 4.42937648e+02 2.95991509e+02 1.97795274e+02\n",
      "  1.66498033e+02 1.11261719e+02 7.43502481e+01 4.96842890e+01\n",
      "  3.32013495e+01 4.18227202e+01 2.79478841e+01 1.86760742e+01\n",
      "  1.24802202e+01 8.33986280e+00 5.57308367e+00]]\n"
     ]
    }
   ],
   "source": [
    "print(train_poly[:1])\n",
    "print(test_poly[:1])"
   ]
  },
  {
   "cell_type": "code",
   "execution_count": 36,
   "id": "785db63b",
   "metadata": {
    "scrolled": true
   },
   "outputs": [
    {
     "name": "stdout",
     "output_type": "stream",
     "text": [
      "(42, 55)\n"
     ]
    }
   ],
   "source": [
    "print(train_poly.shape)"
   ]
  },
  {
   "cell_type": "code",
   "execution_count": 37,
   "id": "be54b299",
   "metadata": {},
   "outputs": [
    {
     "name": "stdout",
     "output_type": "stream",
     "text": [
      "0.999999999998714\n",
      "-144.4066764700865\n"
     ]
    }
   ],
   "source": [
    "lr.fit(train_poly, train_target)\n",
    "print(lr.score(train_poly, train_target))\n",
    "print(lr.score(test_poly, test_target))"
   ]
  },
  {
   "cell_type": "markdown",
   "id": "bd9d2964",
   "metadata": {},
   "source": [
    "#### 결과 설명\n",
    "- 만들어진 특성의 개수가 55개\n",
    "- 훈련 데이터셋에 대한 점수는 완벽에 가까움\n",
    "- 테스트 데이터셋에 대한 점수는 <b>과대 적합</b> 문제 발생"
   ]
  },
  {
   "cell_type": "markdown",
   "id": "58851ad3",
   "metadata": {},
   "source": [
    "# 시나리오\n",
    "### 샘플의 개수보다 특성이 더 많은 상황\n",
    "- 42개의 샘플이 있는데 특성이 이보다 많음(55개)\n",
    "- 42개의 숫자 중 한 번의 선택으로 값을 맞추는 것은 어렵다.\n",
    "- 42개의 숫자 중 55번 선택해서 값을 맞추는 것은 매우 쉽다.\n",
    "- 이 경우 특성을 다시 줄이는 것이 필요"
   ]
  },
  {
   "attachments": {
    "image.png": {
     "image/png": "[encoded data removed]"
    }
   },
   "cell_type": "markdown",
   "id": "7d97a454",
   "metadata": {},
   "source": [
    "# 규제(Regularization)\n",
    "- 과대적합을 해소하는 방법\n",
    "- 머신러닝 모델이 훈련 데이터셋을 너무 과도하게 학습하지 못하도록 제어하는 것\n",
    "- 특성에 곱해지는 계수(또는 기울기)의 크기를 작게 만드는 것\n",
    "![image.png](attachment:image.png)"
   ]
  },
  {
   "cell_type": "markdown",
   "id": "488941f9",
   "metadata": {},
   "source": [
    "#### 55개의 특성으로 훈련한 선형회귀모델의 계수를 규제\n",
    "- 훈련 데이터셋의 점수를 낮추고 테스트 데이터셋의 점수를 높여본다.\n",
    "\n",
    "#### 특성 스케일링(Feature Scaling)\n",
    "- 계수의 크기 비율을 맞추는 것\n",
    "- 특성1이 1 ~ 10, 특성2가 100 ~ 1000의 값을 갖는다면 특성간 값의 크기 차이로 문제 발생\n",
    "- 사이킷런에서 제공하는 StandardScaler 클래스 사용(Normalization)\n",
    "- 표준화(Standardization)와 정규화(Normalization)가 있음\n",
    "    - 이상치가 있는 데이터가 아니라면 일반적으로 정규화 진행"
   ]
  },
  {
   "cell_type": "code",
   "execution_count": 38,
   "id": "b1f011a2",
   "metadata": {},
   "outputs": [],
   "source": [
    "from sklearn.preprocessing import StandardScaler\n",
    "\n",
    "ss = StandardScaler()\n",
    "ss.fit(train_poly) # 훈련 데이터로 한번만 fit진행. 테스트 데이터는 fit이 아닌 transform을 적용\n",
    "\n",
    "train_scaled = ss.transform(train_poly)\n",
    "test_scaled = ss.transform(test_poly)"
   ]
  },
  {
   "cell_type": "code",
   "execution_count": 39,
   "id": "95a08b5c",
   "metadata": {},
   "outputs": [
    {
     "name": "stdout",
     "output_type": "stream",
     "text": [
      "[[-1.01339619 -1.01007487 -1.01952321 -0.9549757  -0.9496784  -0.95745849\n",
      "  -0.93942079 -0.94342509 -0.94100107 -0.88757122 -0.88399964 -0.89100599\n",
      "  -0.87785292 -0.88311456 -0.88430909 -0.8691891  -0.87259422 -0.87147928\n",
      "  -0.86603533 -0.82233944 -0.82171953 -0.8280588  -0.81928269 -0.82512549\n",
      "  -0.8278857  -0.81486775 -0.82006923 -0.82177279 -0.82010716 -0.80835934\n",
      "  -0.81274154 -0.81321125 -0.8098514  -0.80275974 -0.7637909  -0.76597773\n",
      "  -0.77150714 -0.76668667 -0.77246614 -0.77577893 -0.76571689 -0.77162398\n",
      "  -0.77472752 -0.77517751 -0.76290623 -0.76877311 -0.77148634 -0.77113383\n",
      "  -0.767785   -0.75814062 -0.76376113 -0.76586966 -0.76449499 -0.75967179\n",
      "  -0.75143746]]\n",
      "[[-2.29657672 -2.0645632  -1.95288184 -1.55255604 -1.46585499 -1.45227925\n",
      "  -1.38306012 -1.36853915 -1.3414385  -1.16487216 -1.12766176 -1.12993021\n",
      "  -1.09096504 -1.0919529  -1.08681842 -1.05473034 -1.05422049 -1.04733556\n",
      "  -1.03445922 -0.95097661 -0.93581382 -0.94095847 -0.92003743 -0.92481854\n",
      "  -0.9257405  -0.90344054 -0.9076728  -0.90768173 -0.90365223 -0.88585964\n",
      "  -0.88933355 -0.8882214  -0.88265495 -0.87279092 -0.82345261 -0.81922614\n",
      "  -0.82441462 -0.81401521 -0.81951597 -0.82223805 -0.80760074 -0.81327179\n",
      "  -0.81584326 -0.81548696 -0.79980303 -0.80545985 -0.80768359 -0.80657966\n",
      "  -0.80223729 -0.79049072 -0.7959136  -0.79756241 -0.7954801  -0.78971903\n",
      "  -0.78033726]]\n"
     ]
    }
   ],
   "source": [
    "# 스케일링된 훈련데이터셋과 테스트데이터셋 확인\n",
    "print(train_scaled[:1])\n",
    "print(test_scaled[:1])"
   ]
  },
  {
   "cell_type": "code",
   "execution_count": 40,
   "id": "e58cc8c0",
   "metadata": {
    "scrolled": false
   },
   "outputs": [
    {
     "name": "stdout",
     "output_type": "stream",
     "text": [
      "[2.84452381e+01 8.04238095e+00 4.82047619e+00 8.85315000e+02\n",
      " 2.53486881e+02 1.51959000e+02 7.29365000e+01 4.36999452e+01\n",
      " 2.62868381e+01 2.97326070e+04 8.59817581e+03 5.15200651e+03\n",
      " 2.49680043e+03 1.49567194e+03 8.99184494e+02 7.27945149e+02\n",
      " 4.36019840e+02 2.62115117e+02 1.58141990e+02 1.05917983e+06\n",
      " 3.08429517e+05 1.84644673e+05 9.01239554e+04 5.39478286e+04\n",
      " 3.23998082e+04 2.64224658e+04 1.58167367e+04 9.49991053e+03\n",
      " 5.72489005e+03 7.77162422e+03 4.65285399e+03 2.79521756e+03\n",
      " 1.68494739e+03 1.01911272e+03 3.93876111e+07 1.15192532e+07\n",
      " 6.88842737e+06 3.37865413e+06 2.02034307e+06 1.21184517e+06\n",
      " 9.93774754e+05 5.94291271e+05 3.56516573e+05 2.14541208e+05\n",
      " 2.93110780e+05 1.75313851e+05 1.05196649e+05 6.33244641e+04\n",
      " 3.82394901e+04 8.66870097e+04 5.18625239e+04 3.11308026e+04\n",
      " 1.87477065e+04 1.13270112e+04 6.86569419e+03]\n"
     ]
    }
   ],
   "source": [
    "# StandardScaler의 평균\n",
    "print(ss.mean_)"
   ]
  },
  {
   "cell_type": "code",
   "execution_count": 41,
   "id": "5d68756d",
   "metadata": {
    "scrolled": true
   },
   "outputs": [
    {
     "name": "stdout",
     "output_type": "stream",
     "text": [
      "[8.72831196e+00 2.87343151e+00 1.74638123e+00 5.24782988e+02\n",
      " 1.60836428e+02 9.64793789e+01 4.95165749e+01 2.97578956e+01\n",
      " 1.81139412e+01 2.50155373e+04 7.49275582e+03 4.47153009e+03\n",
      " 2.25433695e+03 1.34683566e+03 8.11988865e+02 6.81265335e+02\n",
      " 4.07639942e+02 2.46263218e+02 1.50164227e+02 1.10854579e+06\n",
      " 3.28247889e+05 1.95342267e+05 9.76153931e+04 5.81064317e+04\n",
      " 3.48472685e+04 2.91591483e+04 1.73674986e+04 1.04273041e+04\n",
      " 6.30922253e+03 8.75059964e+03 5.21694989e+03 3.13701782e+03\n",
      " 1.90225250e+03 1.16311955e+03 4.77814865e+07 1.40483165e+07\n",
      " 8.34702250e+06 4.14736151e+06 2.46313653e+06 1.47240427e+06\n",
      " 1.22970655e+06 7.30196641e+05 4.36628701e+05 2.62841007e+05\n",
      " 3.66270535e+05 2.17518714e+05 1.30152823e+05 7.84482709e+04\n",
      " 4.76246733e+04 1.09609367e+05 6.51258832e+04 3.90090183e+04\n",
      " 2.35520992e+04 1.43325296e+04 8.79122582e+03]\n"
     ]
    }
   ],
   "source": [
    "# StandardScaler의 표준편차\n",
    "print(ss.scale_)"
   ]
  },
  {
   "cell_type": "code",
   "execution_count": 42,
   "id": "50d3c589",
   "metadata": {},
   "outputs": [
    {
     "data": {
      "text/plain": [
       "LinearRegression()"
      ]
     },
     "execution_count": 42,
     "metadata": {},
     "output_type": "execute_result"
    }
   ],
   "source": [
    "from sklearn.linear_model import LinearRegression\n",
    "\n",
    "lr = LinearRegression()\n",
    "lr.fit(train_scaled, train_target)"
   ]
  },
  {
   "cell_type": "code",
   "execution_count": 43,
   "id": "215b9e5e",
   "metadata": {},
   "outputs": [
    {
     "name": "stdout",
     "output_type": "stream",
     "text": [
      "1.0\n",
      "-358.85068617239347\n"
     ]
    }
   ],
   "source": [
    "print(lr.score(train_scaled, train_target))\n",
    "print(lr.score(test_scaled, test_target))"
   ]
  },
  {
   "cell_type": "markdown",
   "id": "0be9483c",
   "metadata": {},
   "source": [
    "# 릿지(ridge), 라쏘(lasso)\n",
    "- 선형회귀에 규제를 추가한 모델\n",
    "- 사이킷런에서 제공\n",
    "- 릿지와 라쏘 모델을 사용할 때 규제의 양(강도) 조절 가능(하이퍼파라미터 alpha)\n",
    "    - alpha 값이 크면 강도가 세짐(적당한 값을 찾아야 함)\n",
    "\n",
    "## 릿지 회귀(L2)\n",
    "- 계수를 제곱한 값을 기준으로 규제 적용\n",
    "- 일반적으로 선호함\n",
    "\n",
    "## 라쏘 회귀(L1)\n",
    "- 계수의 절대값을 기준으로 규제 적용\n",
    "- 아예 0으로 만들 수 있음"
   ]
  },
  {
   "cell_type": "code",
   "execution_count": 44,
   "id": "45b273c8",
   "metadata": {
    "scrolled": true
   },
   "outputs": [
    {
     "name": "stdout",
     "output_type": "stream",
     "text": [
      "0.9559326821885706\n",
      "0.8796419177546366\n"
     ]
    }
   ],
   "source": [
    "# 기존 선형회귀 계수확인\n",
    "from sklearn.linear_model import LinearRegression\n",
    "\n",
    "lr = LinearRegression()\n",
    "lr.fit(train_input, train_target)\n",
    "print(lr.score(train_input, train_target))\n",
    "print(lr.score(test_input, test_target))"
   ]
  },
  {
   "cell_type": "code",
   "execution_count": 45,
   "id": "4ab13cf9",
   "metadata": {},
   "outputs": [
    {
     "name": "stdout",
     "output_type": "stream",
     "text": [
      "[ 9.07538153 69.46401443 38.00385678]\n",
      "-599.1708082981097\n",
      "모델이 예측한 값: [-322.78309496]\n",
      "y =[-322.78309496037974]\n"
     ]
    }
   ],
   "source": [
    "w = lr.coef_ # 기울기, weight, 계수, coef 등으로 불리는 값\n",
    "print(w)\n",
    "b = lr.intercept_ # 절편\n",
    "print(b)\n",
    "print('모델이 예측한 값:', lr.predict([[8.4, 2.11, 1.41]]))\n",
    "print(f'y =[{(w[0]*8.4)+(w[1]*2.11)+(w[2]*1.41) + b}]')"
   ]
  },
  {
   "cell_type": "markdown",
   "id": "01a10b81",
   "metadata": {},
   "source": [
    "### 잠깐 개념 확인\n",
    "\n",
    "#### 단순회귀식\n",
    "- 𝑦=𝑊𝑥+𝑏  \n",
    "- y는 정답. x는 특성\n",
    "- W(기울기)와 b(절편)를 찾는 것\n",
    "- W는 기울기, weight, 계수, coef 다 같은 의미(특성에 곱해줄 값)\n",
    "- b 회귀선의 시작점(y축의 어디를 가를 것인지)\n",
    "\n",
    "#### 다중회귀식\n",
    "- 𝑦=(𝑊1×특성1)+(𝑊2×특성2)+(𝑊3×특성3) ... +𝑏\n",
    "- 단순회귀와 동일한 개념에서 특성이 추가된 것(다양한 특성으로 회귀선을 찾는 개념)\n",
    "- 차원이 3차원 이상이 되면 그래프 표현이 어려운 것"
   ]
  },
  {
   "cell_type": "markdown",
   "id": "dc40c11b",
   "metadata": {},
   "source": [
    "### 릿지 회귀 확인"
   ]
  },
  {
   "cell_type": "code",
   "execution_count": 46,
   "id": "066466a0",
   "metadata": {},
   "outputs": [
    {
     "data": {
      "text/plain": [
       "array([-1.01339619, -1.01007487, -1.01952321, -0.9549757 , -0.9496784 ,\n",
       "       -0.95745849, -0.93942079, -0.94342509, -0.94100107, -0.88757122,\n",
       "       -0.88399964, -0.89100599, -0.87785292, -0.88311456, -0.88430909,\n",
       "       -0.8691891 , -0.87259422, -0.87147928, -0.86603533, -0.82233944,\n",
       "       -0.82171953, -0.8280588 , -0.81928269, -0.82512549, -0.8278857 ,\n",
       "       -0.81486775, -0.82006923, -0.82177279, -0.82010716, -0.80835934,\n",
       "       -0.81274154, -0.81321125, -0.8098514 , -0.80275974, -0.7637909 ,\n",
       "       -0.76597773, -0.77150714, -0.76668667, -0.77246614, -0.77577893,\n",
       "       -0.76571689, -0.77162398, -0.77472752, -0.77517751, -0.76290623,\n",
       "       -0.76877311, -0.77148634, -0.77113383, -0.767785  , -0.75814062,\n",
       "       -0.76376113, -0.76586966, -0.76449499, -0.75967179, -0.75143746])"
      ]
     },
     "execution_count": 46,
     "metadata": {},
     "output_type": "execute_result"
    }
   ],
   "source": [
    "train_scaled[0]"
   ]
  },
  {
   "cell_type": "code",
   "execution_count": 47,
   "id": "e72abdab",
   "metadata": {},
   "outputs": [
    {
     "name": "stdout",
     "output_type": "stream",
     "text": [
      "0.9896101671037343\n",
      "0.9790693977615391\n"
     ]
    }
   ],
   "source": [
    "# 스케일링된 데이터셋으로 릿지회귀 확인\n",
    "from sklearn.linear_model import Ridge\n",
    "\n",
    "ridge = Ridge()\n",
    "ridge.fit(train_scaled, train_target)\n",
    "print(ridge.score(train_scaled, train_target))\n",
    "print(ridge.score(test_scaled, test_target))"
   ]
  },
  {
   "cell_type": "code",
   "execution_count": 92,
   "id": "a8a77cfb",
   "metadata": {},
   "outputs": [
    {
     "name": "stdout",
     "output_type": "stream",
     "text": [
      "[18.75202605  9.99048537  9.64586193 17.278557   14.42089598 12.69251285\n",
      " 12.34283964 10.88252862 12.55963482 12.93825844 12.67925897  9.12136175\n",
      " 12.49327194  9.02641662  8.39716922 12.21409663  8.99564455  8.85968975\n",
      " 11.68602892  7.48294042  8.98610839  3.37199818 10.27381252  4.61786228\n",
      "  1.60700275 11.21975321  5.66171476  2.9808368   3.17359806 11.72544455\n",
      "  6.40554378  4.19129005  5.06384222  8.89201309  1.89344091  4.81186299\n",
      " -2.91832747  7.38733861 -0.51038117 -5.91335297  9.5029666   1.56464851\n",
      " -3.66645267 -6.13031213 11.06068777  3.21356622 -1.71089861 -3.65107495\n",
      " -2.63704498 11.98418393  4.3636902  -0.11776857 -1.40420516  0.45174316\n",
      "  5.29453248]\n",
      "400.8333333333333\n",
      "모델이 예측한 값: [89.5482514]\n",
      "y =[89.5482513762646]\n"
     ]
    }
   ],
   "source": [
    "rw = ridge.coef_\n",
    "print(rw)\n",
    "rb = ridge.intercept_\n",
    "print(rb)\n",
    "\n",
    "print('모델이 예측한 값:', ridge.predict([[-1.01339619, -1.01007487, -1.01952321, -0.9549757 , -0.9496784 ,\n",
    "       -0.95745849, -0.93942079, -0.94342509, -0.94100107, -0.88757122,\n",
    "       -0.88399964, -0.89100599, -0.87785292, -0.88311456, -0.88430909,\n",
    "       -0.8691891 , -0.87259422, -0.87147928, -0.86603533, -0.82233944,\n",
    "       -0.82171953, -0.8280588 , -0.81928269, -0.82512549, -0.8278857 ,\n",
    "       -0.81486775, -0.82006923, -0.82177279, -0.82010716, -0.80835934,\n",
    "       -0.81274154, -0.81321125, -0.8098514 , -0.80275974, -0.7637909 ,\n",
    "       -0.76597773, -0.77150714, -0.76668667, -0.77246614, -0.77577893,\n",
    "       -0.76571689, -0.77162398, -0.77472752, -0.77517751, -0.76290623,\n",
    "       -0.76877311, -0.77148634, -0.77113383, -0.767785  , -0.75814062,\n",
    "       -0.76376113, -0.76586966, -0.76449499, -0.75967179, -0.75143746]]))\n",
    "y = 0\n",
    "i = 0\n",
    "for data in train_scaled[0]:\n",
    "    y += rw[i] * data\n",
    "    i += 1\n",
    "y += rb\n",
    "print(f'y =[{y}]')"
   ]
  },
  {
   "cell_type": "markdown",
   "id": "c43c5973",
   "metadata": {},
   "source": [
    "##### 결과\n",
    "- 선형 회귀에서 0.99였던 훈련 데이터셋에 대한 점수가 낮아졌음\n",
    "- 테스트 데이터셋의 점수가 유의미한 정도로 조정됨"
   ]
  },
  {
   "cell_type": "markdown",
   "id": "8469cf36",
   "metadata": {},
   "source": [
    "### 적당한 alpha값을 찾는 방법\n",
    "- alpha값에 대한 $R^2$ 값의 그래프 그려보기\n",
    "- 훈련 데이터셋과 테스트 데이터 셋의 점수가 가장 가까운 지점이 최적 alpha값"
   ]
  },
  {
   "cell_type": "code",
   "execution_count": 48,
   "id": "18291758",
   "metadata": {},
   "outputs": [],
   "source": [
    "import matplotlib.pyplot as plt\n",
    "\n",
    "train_score = []\n",
    "test_score = []\n",
    "alpha_list = [0.001, 0.01, 0.1, 1, 10, 100] # 적용해볼 alpha값 리스트\n",
    "for alpha in alpha_list:\n",
    "    # 릿지 모델 생성\n",
    "    ridge = Ridge(alpha=alpha)\n",
    "    # 릿지 모델 훈련\n",
    "    ridge.fit(train_scaled, train_target)\n",
    "    # 훈련 점수와 테스트 점수 저장\n",
    "    train_score.append(ridge.score(train_scaled, train_target))\n",
    "    test_score.append(ridge.score(test_scaled, test_target))"
   ]
  },
  {
   "cell_type": "code",
   "execution_count": 49,
   "id": "2637d322",
   "metadata": {},
   "outputs": [
    {
     "data": {
      "text/plain": [
       "[0.9930455252088447,\n",
       " 0.9917809981250527,\n",
       " 0.9903815817570366,\n",
       " 0.9896101671037343,\n",
       " 0.988728468997471,\n",
       " 0.9841843235774494]"
      ]
     },
     "execution_count": 49,
     "metadata": {},
     "output_type": "execute_result"
    }
   ],
   "source": [
    "train_score"
   ]
  },
  {
   "cell_type": "code",
   "execution_count": 50,
   "id": "d3cb3809",
   "metadata": {},
   "outputs": [
    {
     "data": {
      "text/plain": [
       "[0.956938896153057,\n",
       " 0.9800187936873092,\n",
       " 0.9827976465386989,\n",
       " 0.9790693977615391,\n",
       " 0.9725329582461568,\n",
       " 0.9627042641050291]"
      ]
     },
     "execution_count": 50,
     "metadata": {},
     "output_type": "execute_result"
    }
   ],
   "source": [
    "test_score"
   ]
  },
  {
   "cell_type": "code",
   "execution_count": 51,
   "id": "1540bc6d",
   "metadata": {},
   "outputs": [
    {
     "data": {
      "image/png": "[encoded data removed]",
      "text/plain": [
       "<Figure size 432x288 with 1 Axes>"
      ]
     },
     "metadata": {
      "needs_background": "light"
     },
     "output_type": "display_data"
    }
   ],
   "source": [
    "# 그래프 그리기\n",
    "plt.plot(alpha_list, train_score) # alpha리스트의 값이 작으므로 그래프 왼쪽이 너무 촘촘함\n",
    "plt.plot(alpha_list, test_score)\n",
    "\n",
    "plt.xlabel('alpha')\n",
    "plt.ylabel('R^2')\n",
    "\n",
    "plt.show()"
   ]
  },
  {
   "cell_type": "code",
   "execution_count": 52,
   "id": "4615a122",
   "metadata": {},
   "outputs": [
    {
     "name": "stdout",
     "output_type": "stream",
     "text": [
      "[0.001, 0.01, 0.1, 1, 10, 100]\n",
      "[-3. -2. -1.  0.  1.  2.]\n"
     ]
    }
   ],
   "source": [
    "print(alpha_list)\n",
    "print(np.log10(alpha_list))"
   ]
  },
  {
   "cell_type": "code",
   "execution_count": 53,
   "id": "efb09c0a",
   "metadata": {},
   "outputs": [
    {
     "data": {
      "image/png": "[encoded data removed]",
      "text/plain": [
       "<Figure size 432x288 with 1 Axes>"
      ]
     },
     "metadata": {
      "needs_background": "light"
     },
     "output_type": "display_data"
    }
   ],
   "source": [
    "plt.plot(np.log10(alpha_list), train_score) # 로그함수 적용(0.001은 -3, 0.01은 -2와 같이 만듦)\n",
    "plt.plot(np.log10(alpha_list), test_score)\n",
    "plt.xlabel('alpha')\n",
    "plt.ylabel('R^2')\n",
    "plt.show()"
   ]
  },
  {
   "attachments": {
    "image.png": {
     "image/png": "[encoded data removed]"
    }
   },
   "cell_type": "markdown",
   "id": "6d4a59b0",
   "metadata": {},
   "source": [
    "##### 해석\n",
    "![image.png](attachment:image.png)\n",
    "- 그래프의 왼쪽은 훈련 데이터셋과 테스트 데이터셋의 점수 차이가 큼(과대적합)\n",
    "- 그래프의 오른쪽은 훈련 데이터셋과 테스트 데이터셋의 점수가 모두 낮아짐(과소적합)\n",
    "- 적절한 alpha값은 두 그래프가 가장 가까운 지점(-1 => 0.1)\n",
    "- 찾은 값을 alpha로 적용하여 최종 모델 훈련"
   ]
  },
  {
   "cell_type": "code",
   "execution_count": 54,
   "id": "fd23942d",
   "metadata": {},
   "outputs": [
    {
     "name": "stdout",
     "output_type": "stream",
     "text": [
      "0.9903815817570366\n",
      "0.9827976465386989\n"
     ]
    }
   ],
   "source": [
    "ridge = Ridge(alpha=0.1)\n",
    "ridge.fit(train_scaled, train_target)\n",
    "\n",
    "print(ridge.score(train_scaled, train_target))\n",
    "print(ridge.score(test_scaled, test_target))"
   ]
  },
  {
   "cell_type": "markdown",
   "id": "d9673b3a",
   "metadata": {},
   "source": [
    "##### 결과\n",
    "- 훈련 데이터셋과 테스트 데이터셋의 점수가 모두 높음\n",
    "- 과대적합과 과소적합 사이에서 균형을 맞추고 있다고 볼 수 있음"
   ]
  },
  {
   "cell_type": "markdown",
   "id": "a015b498",
   "metadata": {},
   "source": [
    "### 라쏘 회귀 확인\n",
    "- 릿지를 사용할 때와 사용법은 비슷"
   ]
  },
  {
   "cell_type": "code",
   "execution_count": 55,
   "id": "3133d648",
   "metadata": {},
   "outputs": [
    {
     "name": "stdout",
     "output_type": "stream",
     "text": [
      "0.989789897208096\n",
      "0.9800593698421886\n"
     ]
    }
   ],
   "source": [
    "from sklearn.linear_model import Lasso\n",
    "\n",
    "lasso = Lasso()\n",
    "lasso.fit(train_scaled, train_target)\n",
    "print(lasso.score(train_scaled, train_target))\n",
    "print(lasso.score(test_scaled, test_target))"
   ]
  },
  {
   "cell_type": "markdown",
   "id": "5d9608f2",
   "metadata": {},
   "source": [
    "##### 결과\n",
    "- 점수가 릿지회귀만큼 좋음\n",
    "- alpha값을 변경하여 라쏘 규제를 적용한 결과를 조정할 수 있다."
   ]
  },
  {
   "cell_type": "code",
   "execution_count": 56,
   "id": "8146d022",
   "metadata": {
    "scrolled": true
   },
   "outputs": [
    {
     "name": "stderr",
     "output_type": "stream",
     "text": [
      "C:\\Users\\LG\\anaconda3\\lib\\site-packages\\sklearn\\linear_model\\_coordinate_descent.py:647: ConvergenceWarning: Objective did not converge. You might want to increase the number of iterations, check the scale of the features or consider increasing regularisation. Duality gap: 2.336e+04, tolerance: 5.183e+02\n",
      "  model = cd_fast.enet_coordinate_descent(\n",
      "C:\\Users\\LG\\anaconda3\\lib\\site-packages\\sklearn\\linear_model\\_coordinate_descent.py:647: ConvergenceWarning: Objective did not converge. You might want to increase the number of iterations, check the scale of the features or consider increasing regularisation. Duality gap: 2.025e+04, tolerance: 5.183e+02\n",
      "  model = cd_fast.enet_coordinate_descent(\n",
      "C:\\Users\\LG\\anaconda3\\lib\\site-packages\\sklearn\\linear_model\\_coordinate_descent.py:647: ConvergenceWarning: Objective did not converge. You might want to increase the number of iterations, check the scale of the features or consider increasing regularisation. Duality gap: 8.062e+02, tolerance: 5.183e+02\n",
      "  model = cd_fast.enet_coordinate_descent(\n"
     ]
    }
   ],
   "source": [
    "import matplotlib.pyplot as plt\n",
    "\n",
    "train_score = []\n",
    "test_score = []\n",
    "alpha_list = [0.001, 0.01, 0.1, 1, 10, 100] # 적용해볼 alpha값 리스트\n",
    "for alpha in alpha_list:\n",
    "    # 라쏘 모델을 생성\n",
    "    lasso = Lasso(alpha=alpha)\n",
    "    # 라쏘 모델을 훈련\n",
    "    lasso.fit(train_scaled, train_target)\n",
    "    # 훈련 점수와 테스트 점수 저장\n",
    "    train_score.append(lasso.score(train_scaled, train_target))\n",
    "    test_score.append(lasso.score(test_scaled, test_target))"
   ]
  },
  {
   "cell_type": "markdown",
   "id": "ca2becdd",
   "metadata": {},
   "source": [
    "- 발생한 경고는 라쏘 모델 동작 시 최적 계수를 찾기위해 반복 수행을 하는데 횟수 부족 시 발생함\n",
    "- `lasso = Lasso(alpha=alpha, max_iter=10000)` max_iter옵션을 추가할 수 있음(여기선 큰 의미 없음)"
   ]
  },
  {
   "cell_type": "code",
   "execution_count": 57,
   "id": "032a21cf",
   "metadata": {},
   "outputs": [
    {
     "data": {
      "image/png": "[encoded data removed]",
      "text/plain": [
       "<Figure size 432x288 with 1 Axes>"
      ]
     },
     "metadata": {
      "needs_background": "light"
     },
     "output_type": "display_data"
    }
   ],
   "source": [
    "plt.plot(np.log10(alpha_list), train_score)\n",
    "plt.plot(np.log10(alpha_list), test_score)\n",
    "plt.xlabel('alpha')\n",
    "plt.ylabel('R^2')\n",
    "plt.show()"
   ]
  },
  {
   "cell_type": "code",
   "execution_count": 58,
   "id": "a2721cde",
   "metadata": {},
   "outputs": [
    {
     "name": "stdout",
     "output_type": "stream",
     "text": [
      "0.9078632190121441\n",
      "0.9089071866576974\n"
     ]
    }
   ],
   "source": [
    "print(lasso.score(train_scaled, train_target))\n",
    "print(lasso.score(test_scaled, test_target))"
   ]
  },
  {
   "attachments": {
    "image.png": {
     "image/png": "[encoded data removed]"
    }
   },
   "cell_type": "markdown",
   "id": "16ac3702",
   "metadata": {},
   "source": [
    "##### 결과\n",
    "![image.png](attachment:image.png)\n",
    "- 왼쪽은 과대적합으로 보이고 오른쪽은 과소적합으로 보인다.\n",
    "- 라쏘에서 최적 alpha값은 1이다."
   ]
  },
  {
   "cell_type": "code",
   "execution_count": 59,
   "id": "416f64da",
   "metadata": {
    "scrolled": true
   },
   "outputs": [
    {
     "name": "stdout",
     "output_type": "stream",
     "text": [
      "0.9888067471131867\n",
      "0.9824470598706695\n"
     ]
    }
   ],
   "source": [
    "lasso = Lasso(alpha=10)\n",
    "lasso.fit(train_scaled, train_target)\n",
    "\n",
    "print(lasso.score(train_scaled, train_target))\n",
    "print(lasso.score(test_scaled, test_target))"
   ]
  },
  {
   "cell_type": "code",
   "execution_count": 60,
   "id": "562507aa",
   "metadata": {},
   "outputs": [
    {
     "name": "stdout",
     "output_type": "stream",
     "text": [
      "[ 0.          0.          0.         12.14852453 55.44856399 42.23100799\n",
      "  0.          0.         13.70596191  0.         43.2185952   5.7033775\n",
      " 47.46254536  7.42309425 11.85823365  0.          0.         13.53038193\n",
      " 21.22111356  0.          0.          0.          0.          0.\n",
      "  0.         18.66993032  0.          0.          0.         15.81041778\n",
      "  0.          0.          0.          0.          0.          0.\n",
      "  0.          0.          0.          0.          0.          0.\n",
      "  0.          0.         18.14672268  0.          0.          0.\n",
      "  0.         15.51272953  0.          0.          0.          0.\n",
      "  0.        ]\n",
      "400.8333333333333\n",
      "모델이 예측한 값: [97.47905279]\n",
      "y =[97.47905338741793]\n"
     ]
    }
   ],
   "source": [
    "lw = lasso.coef_\n",
    "print(lw)\n",
    "lb = lasso.intercept_\n",
    "print(lb)\n",
    "\n",
    "print('모델이 예측한 값:', lasso.predict([[-1.01339619, -1.01007487, -1.01952321, -0.9549757 , -0.9496784 ,\n",
    "       -0.95745849, -0.93942079, -0.94342509, -0.94100107, -0.88757122,\n",
    "       -0.88399964, -0.89100599, -0.87785292, -0.88311456, -0.88430909,\n",
    "       -0.8691891 , -0.87259422, -0.87147928, -0.86603533, -0.82233944,\n",
    "       -0.82171953, -0.8280588 , -0.81928269, -0.82512549, -0.8278857 ,\n",
    "       -0.81486775, -0.82006923, -0.82177279, -0.82010716, -0.80835934,\n",
    "       -0.81274154, -0.81321125, -0.8098514 , -0.80275974, -0.7637909 ,\n",
    "       -0.76597773, -0.77150714, -0.76668667, -0.77246614, -0.77577893,\n",
    "       -0.76571689, -0.77162398, -0.77472752, -0.77517751, -0.76290623,\n",
    "       -0.76877311, -0.77148634, -0.77113383, -0.767785  , -0.75814062,\n",
    "       -0.76376113, -0.76586966, -0.76449499, -0.75967179, -0.75143746]]))\n",
    "y = 0\n",
    "i = 0\n",
    "for data in train_scaled[0]:\n",
    "    y += lw[i] * data\n",
    "    i += 1\n",
    "y += lb\n",
    "print(f'y =[{y}]')"
   ]
  },
  {
   "cell_type": "markdown",
   "id": "5930503b",
   "metadata": {},
   "source": [
    "##### 결과\n",
    "- 모델의 훈련이 잘 된 것으로 보임\n",
    "- 릿지와 라쏘 모두 과대적합을 잘 억제하고 테스트 성능을 크게 높일 수 있음"
   ]
  },
  {
   "cell_type": "code",
   "execution_count": 61,
   "id": "14fa248b",
   "metadata": {
    "scrolled": true
   },
   "outputs": [
    {
     "name": "stdout",
     "output_type": "stream",
     "text": [
      "40\n"
     ]
    }
   ],
   "source": [
    "# 라쏘 모델은 계수를 0으로 만들 수 있음(coef_게 저장되어 있음)\n",
    "print(np.sum(lasso.coef_ == 0)) # 라쏘 모델에서 계수가 0인 개수"
   ]
  },
  {
   "cell_type": "markdown",
   "id": "0d61992c",
   "metadata": {},
   "source": [
    "- 라쏘 모델에 55개의 특성을 주입했으나 15개만 사용되어짐\n",
    "- 라쏘를 이용하여 유용한 특성을 추려내는 용도로도 사용 가능"
   ]
  }
 ],
 "metadata": {
  "kernelspec": {
   "display_name": "Python 3 (ipykernel)",
   "language": "python",
   "name": "python3"
  },
  "language_info": {
   "codemirror_mode": {
    "name": "ipython",
    "version": 3
   },
   "file_extension": ".py",
   "mimetype": "text/x-python",
   "name": "python",
   "nbconvert_exporter": "python",
   "pygments_lexer": "ipython3",
   "version": "3.9.12"
  }
 },
 "nbformat": 4,
 "nbformat_minor": 5
}
