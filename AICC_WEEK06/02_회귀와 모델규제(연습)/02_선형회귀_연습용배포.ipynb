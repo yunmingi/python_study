{
 "cells": [
  {
   "cell_type": "markdown",
   "id": "a027337a",
   "metadata": {},
   "source": [
    "# 시나리오\n",
    "- 길이가 많이 긴(50cm) 농어의 무게를 예측하는 경우\n",
    "- 50cm의 농어의 무게가 1033g이라고 예측\n",
    "- 실제 농어의 무게가 훨씬 큰 상황이 발생\n",
    "- 예측과 실제의 차이가 너무 큰 경우가 발생함"
   ]
  },
  {
   "cell_type": "code",
   "execution_count": 2,
   "id": "c8755078",
   "metadata": {},
   "outputs": [
    {
     "name": "stdout",
     "output_type": "stream",
     "text": [
      "(42,) (14,)\n",
      "(42, 1) (14, 1)\n"
     ]
    },
    {
     "data": {
      "text/plain": [
       "0.9746459963987609"
      ]
     },
     "execution_count": 2,
     "metadata": {},
     "output_type": "execute_result"
    }
   ],
   "source": [
    "# k-최근접 이웃 모델의 한계\n",
    "\n",
    "# 데이터 준비\n",
    "import numpy as np\n",
    "\n",
    "perch_length = np.array(\n",
    "    [8.4, 13.7, 15.0, 16.2, 17.4, 18.0, 18.7, 19.0, 19.6, 20.0, \n",
    "     21.0, 21.0, 21.0, 21.3, 22.0, 22.0, 22.0, 22.0, 22.0, 22.5, \n",
    "     22.5, 22.7, 23.0, 23.5, 24.0, 24.0, 24.6, 25.0, 25.6, 26.5, \n",
    "     27.3, 27.5, 27.5, 27.5, 28.0, 28.7, 30.0, 32.8, 34.5, 35.0, \n",
    "     36.5, 36.0, 37.0, 37.0, 39.0, 39.0, 39.0, 40.0, 40.0, 40.0, \n",
    "     40.0, 42.0, 43.0, 43.0, 43.5, 44.0]\n",
    "     )\n",
    "perch_weight = np.array(\n",
    "    [5.9, 32.0, 40.0, 51.5, 70.0, 100.0, 78.0, 80.0, 85.0, 85.0, \n",
    "     110.0, 115.0, 125.0, 130.0, 120.0, 120.0, 130.0, 135.0, 110.0, \n",
    "     130.0, 150.0, 145.0, 150.0, 170.0, 225.0, 145.0, 188.0, 180.0, \n",
    "     197.0, 218.0, 300.0, 260.0, 265.0, 250.0, 250.0, 300.0, 320.0, \n",
    "     514.0, 556.0, 840.0, 685.0, 700.0, 700.0, 690.0, 900.0, 650.0, \n",
    "     820.0, 850.0, 900.0, 1015.0, 820.0, 1100.0, 1000.0, 1100.0, \n",
    "     1000.0, 1000.0]\n",
    "     )\n",
    "\n",
    "# 훈련 데이터와 테스트 데이터 나누기\n",
    "from sklearn.model_selection import train_test_split\n",
    "\n",
    "train_input, test_input, train_target, test_target = train_test_split(\n",
    "    perch_length, perch_weight, random_state=42)\n",
    "\n",
    "print(train_input.shape, test_input.shape)\n",
    "\n",
    "# 훈련 데이터셋을 2차원으로 변경\n",
    "train_input = train_input.reshape(-1, 1) # -1이라 하면 나머지 원소의 개수를 사용\n",
    "test_input = test_input.reshape(-1, 1)\n",
    "print(train_input.shape, test_input.shape)\n",
    "\n",
    "# KNeighborsRegressor 임포트\n",
    "from sklearn.neighbors import KNeighborsRegressor\n",
    "\n",
    "# KNeighborsRegressor 인스턴스 생성\n",
    "knr = KNeighborsRegressor(n_neighbors=3)\n",
    "\n",
    "# k-최근접 이웃 회귀 모델 훈련\n",
    "knr.fit(train_input, train_target)\n",
    "\n",
    "# 평가 점수 확인\n",
    "knr.score(test_input, test_target)"
   ]
  },
  {
   "cell_type": "markdown",
   "id": "d89a41b8",
   "metadata": {},
   "source": [
    "#### 50cm의 농어의 무게 예측"
   ]
  },
  {
   "cell_type": "code",
   "execution_count": 3,
   "id": "11165f93",
   "metadata": {
    "scrolled": true
   },
   "outputs": [
    {
     "data": {
      "text/plain": [
       "array([1033.33333333])"
      ]
     },
     "execution_count": 3,
     "metadata": {},
     "output_type": "execute_result"
    }
   ],
   "source": [
    "knr.predict([[50]])"
   ]
  },
  {
   "cell_type": "markdown",
   "id": "a43b7127",
   "metadata": {},
   "source": [
    "#### 산점도로 시각화"
   ]
  },
  {
   "cell_type": "code",
   "execution_count": 4,
   "id": "b3b6ae95",
   "metadata": {
    "scrolled": true
   },
   "outputs": [
    {
     "name": "stdout",
     "output_type": "stream",
     "text": [
      "[[6. 7. 7.]] [[34  8 14]]\n"
     ]
    },
    {
     "data": {
      "image/png": "[encoded data removed]",
      "text/plain": [
       "<Figure size 432x288 with 1 Axes>"
      ]
     },
     "metadata": {
      "needs_background": "light"
     },
     "output_type": "display_data"
    }
   ],
   "source": [
    "import matplotlib.pyplot as plt\n",
    "\n",
    "# 50cm 농어의 이웃 확인\n",
    "distances, indexes = knr.kneighbors([[50]])\n",
    "print(distances, indexes)\n",
    "\n",
    "# 훈련 세트의 산점도 그리기\n",
    "plt.scatter(train_input, train_target)\n",
    "\n",
    "# 훈련 세트 중에서 이웃 샘플만 다시 그리기\n",
    "plt.scatter(train_input[indexes], train_target[indexes], marker='D')\n",
    "\n",
    "# 50cm 농어 데이터\n",
    "plt.scatter(50, 1033, marker='^')\n",
    "plt.xlabel('length')\n",
    "plt.ylabel('weight')\n",
    "plt.show()"
   ]
  },
  {
   "cell_type": "code",
   "execution_count": 5,
   "id": "34617ca0",
   "metadata": {},
   "outputs": [
    {
     "name": "stdout",
     "output_type": "stream",
     "text": [
      "1033.3333333333333\n"
     ]
    }
   ],
   "source": [
    "# 이웃 샘플의 평균\n",
    "print(np.mean(train_target[indexes]))"
   ]
  },
  {
   "cell_type": "markdown",
   "id": "2752639c",
   "metadata": {},
   "source": [
    "##### 해석\n",
    "- 길이가 커질수록 무게가 증가하는 경향이 보임(당연)\n",
    "- 50cm에 가까운 이웃이 40~45cm부근이므로 이 샘플들의 무게로 예측함\n",
    "- k-최근접 이웃 회귀는 가장 가까운 샘플을 찾아 타겟을 평균으로 구하므로 예측하려는 샘플이 훈련 데이터의 범위를 벗어나면 엉뚱하게 예측할 수 있음  \n",
    "ex) 100cm의 농어의 무게는?"
   ]
  },
  {
   "cell_type": "code",
   "execution_count": 6,
   "id": "2bcb8270",
   "metadata": {},
   "outputs": [
    {
     "data": {
      "text/plain": [
       "array([1033.33333333])"
      ]
     },
     "execution_count": 6,
     "metadata": {},
     "output_type": "execute_result"
    }
   ],
   "source": [
    "# 100cm의 농어의 무게는?\n",
    "knr.predict([[100]])"
   ]
  },
  {
   "cell_type": "code",
   "execution_count": 7,
   "id": "5c193362",
   "metadata": {},
   "outputs": [
    {
     "name": "stdout",
     "output_type": "stream",
     "text": [
      "[[56. 57. 57.]] [[34  8 14]]\n"
     ]
    },
    {
     "data": {
      "image/png": "[encoded data removed]",
      "text/plain": [
       "<Figure size 432x288 with 1 Axes>"
      ]
     },
     "metadata": {
      "needs_background": "light"
     },
     "output_type": "display_data"
    }
   ],
   "source": [
    "import matplotlib.pyplot as plt\n",
    "\n",
    "# 50cm 농어의 이웃 확인\n",
    "distances, indexes = knr.kneighbors([[100]])\n",
    "print(distances, indexes)\n",
    "\n",
    "# 훈련 세트의 산점도 그리기\n",
    "plt.scatter(train_input, train_target)\n",
    "\n",
    "# 훈련 세트 중에서 이웃 샘플만 다시 그리기\n",
    "plt.scatter(train_input[indexes], train_target[indexes], marker='D')\n",
    "\n",
    "# 50cm 농어 데이터\n",
    "plt.scatter(100, 1033, marker='^')\n",
    "plt.xlabel('length')\n",
    "plt.ylabel('weight')\n",
    "plt.show()"
   ]
  },
  {
   "cell_type": "markdown",
   "id": "3f832a18",
   "metadata": {},
   "source": [
    "##### 해석\n",
    "- 농어가 크더라도 이웃의 무게만으로 예측되어짐\n",
    "- 이를 해결하기 위해서 K-최근접 이웃 알고리즘은 알맞지 않아보임"
   ]
  },
  {
   "attachments": {
    "image-2.png": {
     "image/png": "[encoded data removed]"
    },
    "image.png": {
     "image/png": "[encoded data removed]"
    }
   },
   "cell_type": "markdown",
   "id": "e9070934",
   "metadata": {},
   "source": [
    "# 선형회귀(Linear Regression)\n",
    "\n",
    "- 많이 사용되는 회귀 알고리즘\n",
    "- 비교적 간단하고 성능이 좋은 편\n",
    "- 특성이 하나인 경우 데이터를 잘 설명하는 직선을 찾는 알고리즘\n",
    "- 선형 회귀 방정식 : $y = ax + b$  \n",
    "    - a는 기울기, weight, w, 계수, coef 다 같은 의미\n",
    "    - b는 절편(intercpet_)\n",
    "    - $y = Wx + b$ (머신러닝에서는 수식을 이렇게 사용하기도 함)\n",
    "    - $농어무게 = W \\times 농어길이 + b$\n",
    "        \n",
    "        \n",
    "- 농어의 무게 산점도가 있다고 하자\n",
    "![image.png](attachment:image.png)\n",
    "\n",
    "- 다음 그래프에서 어떤 직선이 가장 농어를 잘 설명하는가?\n",
    "![image-2.png](attachment:image-2.png)\n",
    "- 첫 번째 그래프:   \n",
    "    모든 농어의 무게를 하나로 예측함  \n",
    "    직선이 훈련세트의 평균에 가깝다면 $R^2$는 0에 가까운 값이 됨  \n",
    "\n",
    "\n",
    "- 두 번째 그래프:  \n",
    "    반대로 예측함\n",
    "    길이가 작은 농어가 무겁고 길이가 큰 농어가 가벼움\n",
    "\n",
    "\n",
    "- 세 번째 그래프:  \n",
    "    가장 좋은 형태의 직선\n"
   ]
  },
  {
   "cell_type": "markdown",
   "id": "770cdefc",
   "metadata": {},
   "source": [
    "### 준비된 데이터를 이용하여 선형회귀 모델 사용"
   ]
  },
  {
   "cell_type": "code",
   "execution_count": 8,
   "id": "e022a13d",
   "metadata": {},
   "outputs": [
    {
     "data": {
      "text/plain": [
       "LinearRegression()"
      ]
     },
     "execution_count": 8,
     "metadata": {},
     "output_type": "execute_result"
    }
   ],
   "source": [
    "# 선형 회귀 모델 사용\n",
    "from sklearn.linear_model import LinearRegression\n",
    "\n",
    "# 객체 생성\n",
    "lr = LinearRegression()\n",
    "\n",
    "# 선형 회귀 모델 훈련\n",
    "lr.fit(train_input, train_target)"
   ]
  },
  {
   "cell_type": "code",
   "execution_count": 9,
   "id": "21728413",
   "metadata": {},
   "outputs": [
    {
     "name": "stdout",
     "output_type": "stream",
     "text": [
      "[1241.83860323]\n"
     ]
    }
   ],
   "source": [
    "# 50cm 농어에 대한 예측\n",
    "print(lr.predict([[50]]))"
   ]
  },
  {
   "cell_type": "code",
   "execution_count": 10,
   "id": "49bbae2f",
   "metadata": {
    "scrolled": true
   },
   "outputs": [
    {
     "name": "stdout",
     "output_type": "stream",
     "text": [
      "[39.01714496] -709.0186449535477\n"
     ]
    }
   ],
   "source": [
    "# 계수, 기울기, 가중치, coef라고 불리는 a(coefficient)와 절편 b(intercept_)\n",
    "# 가중치는 계수와 절편 모두를 의미하기도 함\n",
    "print(lr.coef_, lr.intercept_)"
   ]
  },
  {
   "cell_type": "markdown",
   "id": "cb54dfbb",
   "metadata": {},
   "source": [
    "- k-최근접 이웃은 모델 파라미터가 없음(사례기반학습)\n",
    "- coefficient, weight는 머신러닝 알고리즘이 찾은 값(모델 파라미터)\n",
    "- coefficient: 기울기, weight: 절편\n",
    "- 선형회귀는 모델기반학습"
   ]
  },
  {
   "cell_type": "code",
   "execution_count": 11,
   "id": "d98a1d02",
   "metadata": {},
   "outputs": [],
   "source": [
    "a = lr.coef_ # 가중치 W\n",
    "b = lr.intercept_ # 절편 b"
   ]
  },
  {
   "cell_type": "code",
   "execution_count": 12,
   "id": "868bab02",
   "metadata": {},
   "outputs": [
    {
     "data": {
      "text/plain": [
       "(array([-123.7614705]), array([1241.83860323]))"
      ]
     },
     "execution_count": 12,
     "metadata": {},
     "output_type": "execute_result"
    }
   ],
   "source": [
    "15*a+b, 50*a+b"
   ]
  },
  {
   "cell_type": "code",
   "execution_count": 13,
   "id": "89908391",
   "metadata": {
    "scrolled": true
   },
   "outputs": [
    {
     "data": {
      "image/png": "[encoded data removed]",
      "text/plain": [
       "<Figure size 432x288 with 1 Axes>"
      ]
     },
     "metadata": {
      "needs_background": "light"
     },
     "output_type": "display_data"
    }
   ],
   "source": [
    "# 훈련 세트의 산점도 확인\n",
    "plt.scatter(train_input, train_target)\n",
    "\n",
    "# 15에서 50까지 1차 방정식 그래프 그리기\n",
    "# 기울기와 절편으로 계산한 두 점을 이으면 됨\n",
    "plt.plot([15, 50], [15 * a + b, 50 * a + b])\n",
    "\n",
    "# 50cm 농어 데이터\n",
    "plt.scatter(50, 1241.8, marker='^')\n",
    "plt.xlabel('length')\n",
    "plt.ylabel('weight')\n",
    "plt.show()"
   ]
  },
  {
   "cell_type": "markdown",
   "id": "a0a5ceac",
   "metadata": {},
   "source": [
    "##### 결과 해석\n",
    "- 위 직선이 선형회귀 알고리즘으로 데이터셋에서 찾아낸 최적의 직선\n",
    "- 이 직선을 이용하여 값을 예측\n",
    "- 예측할 데이터가 훈련데이터셋의 범위를 벗어나더라도 이 직선으로 설명(예측)이 가능 "
   ]
  },
  {
   "cell_type": "markdown",
   "id": "816f6897",
   "metadata": {},
   "source": [
    "##### 모델 평가 점수($R^2$) 확인(과대적합/과소적합 확인)"
   ]
  },
  {
   "cell_type": "code",
   "execution_count": 36,
   "id": "a5af8540",
   "metadata": {
    "scrolled": true
   },
   "outputs": [
    {
     "name": "stdout",
     "output_type": "stream",
     "text": [
      "0.939846333997604\n",
      "0.8247503123313558\n"
     ]
    }
   ],
   "source": [
    "print(lr.score(train_input, train_target))\n",
    "print(lr.score(test_input, test_target))"
   ]
  },
  {
   "cell_type": "markdown",
   "id": "d7dfb11a",
   "metadata": {},
   "source": [
    "##### 문제점\n",
    "- 훈련데이터셋의 평가점수와 테스트데이터셋 평가점수가 차이가 남\n",
    "- KNN에 비해서 상대적으로 판단하면 전체적으로 과소적합이라고 보여짐\n",
    "- 점수\n",
    "\n",
    "- 그래프를 보면 농어의 무게가 음수(-)로 설명될 수도 있음\n",
    "- 직선으로 설명하기에 농어의 길이에 따른 무게는 조금 차이가 보여짐"
   ]
  },
  {
   "cell_type": "markdown",
   "id": "575d42d1",
   "metadata": {},
   "source": [
    "# 다항회귀\n",
    "- 데이터를 설명하는 변수가 2개 이상인 회귀 분석\n",
    "- 직선이 아닌 곡선을 찾을 수 있음\n",
    "- 다항식을 활용\n",
    "- $y = (a_1x_1) + (a_2x_2) ... + b$\n",
    "- $무게 = (a_1 \\times 길이_1^2) + (a_2 \\times 길이_2) + b$"
   ]
  },
  {
   "cell_type": "code",
   "execution_count": 14,
   "id": "c63db2bd",
   "metadata": {},
   "outputs": [
    {
     "data": {
      "text/plain": [
       "(array([[ 384.16],\n",
       "        [ 484.  ],\n",
       "        [ 349.69],\n",
       "        [ 302.76],\n",
       "        [1296.  ],\n",
       "        [ 625.  ],\n",
       "        [1600.  ],\n",
       "        [1521.  ],\n",
       "        [1849.  ],\n",
       "        [ 484.  ],\n",
       "        [ 400.  ],\n",
       "        [ 484.  ],\n",
       "        [ 576.  ],\n",
       "        [ 756.25],\n",
       "        [1849.  ],\n",
       "        [1600.  ],\n",
       "        [ 576.  ],\n",
       "        [ 441.  ],\n",
       "        [ 756.25],\n",
       "        [1600.  ],\n",
       "        [1075.84],\n",
       "        [ 702.25],\n",
       "        [1332.25],\n",
       "        [ 187.69],\n",
       "        [ 515.29],\n",
       "        [ 225.  ],\n",
       "        [1369.  ],\n",
       "        [1225.  ],\n",
       "        [ 823.69],\n",
       "        [ 552.25],\n",
       "        [1521.  ],\n",
       "        [ 441.  ],\n",
       "        [ 529.  ],\n",
       "        [ 484.  ],\n",
       "        [1936.  ],\n",
       "        [ 506.25],\n",
       "        [ 361.  ],\n",
       "        [1369.  ],\n",
       "        [ 484.  ],\n",
       "        [ 655.36],\n",
       "        [1764.  ],\n",
       "        [1190.25]]),\n",
       " array([[19.6],\n",
       "        [22. ],\n",
       "        [18.7],\n",
       "        [17.4],\n",
       "        [36. ],\n",
       "        [25. ],\n",
       "        [40. ],\n",
       "        [39. ],\n",
       "        [43. ],\n",
       "        [22. ],\n",
       "        [20. ],\n",
       "        [22. ],\n",
       "        [24. ],\n",
       "        [27.5],\n",
       "        [43. ],\n",
       "        [40. ],\n",
       "        [24. ],\n",
       "        [21. ],\n",
       "        [27.5],\n",
       "        [40. ],\n",
       "        [32.8],\n",
       "        [26.5],\n",
       "        [36.5],\n",
       "        [13.7],\n",
       "        [22.7],\n",
       "        [15. ],\n",
       "        [37. ],\n",
       "        [35. ],\n",
       "        [28.7],\n",
       "        [23.5],\n",
       "        [39. ],\n",
       "        [21. ],\n",
       "        [23. ],\n",
       "        [22. ],\n",
       "        [44. ],\n",
       "        [22.5],\n",
       "        [19. ],\n",
       "        [37. ],\n",
       "        [22. ],\n",
       "        [25.6],\n",
       "        [42. ],\n",
       "        [34.5]]))"
      ]
     },
     "execution_count": 14,
     "metadata": {},
     "output_type": "execute_result"
    }
   ],
   "source": [
    "train_input ** 2, train_input"
   ]
  },
  {
   "cell_type": "code",
   "execution_count": 15,
   "id": "40454228",
   "metadata": {},
   "outputs": [],
   "source": [
    "# 여기서는 농어의 길이를 제곱한 값을 두 번째 변수로 설정\n",
    "# 넘파이 브로드캐스트 활용\n",
    "train_poly = np.column_stack((train_input ** 2, train_input))\n",
    "test_poly = np.column_stack((test_input ** 2, test_input))"
   ]
  },
  {
   "cell_type": "code",
   "execution_count": 16,
   "id": "06641729",
   "metadata": {},
   "outputs": [
    {
     "data": {
      "text/plain": [
       "array([[ 384.16,   19.6 ],\n",
       "       [ 484.  ,   22.  ],\n",
       "       [ 349.69,   18.7 ],\n",
       "       [ 302.76,   17.4 ],\n",
       "       [1296.  ,   36.  ],\n",
       "       [ 625.  ,   25.  ],\n",
       "       [1600.  ,   40.  ],\n",
       "       [1521.  ,   39.  ],\n",
       "       [1849.  ,   43.  ],\n",
       "       [ 484.  ,   22.  ],\n",
       "       [ 400.  ,   20.  ],\n",
       "       [ 484.  ,   22.  ],\n",
       "       [ 576.  ,   24.  ],\n",
       "       [ 756.25,   27.5 ],\n",
       "       [1849.  ,   43.  ],\n",
       "       [1600.  ,   40.  ],\n",
       "       [ 576.  ,   24.  ],\n",
       "       [ 441.  ,   21.  ],\n",
       "       [ 756.25,   27.5 ],\n",
       "       [1600.  ,   40.  ],\n",
       "       [1075.84,   32.8 ],\n",
       "       [ 702.25,   26.5 ],\n",
       "       [1332.25,   36.5 ],\n",
       "       [ 187.69,   13.7 ],\n",
       "       [ 515.29,   22.7 ],\n",
       "       [ 225.  ,   15.  ],\n",
       "       [1369.  ,   37.  ],\n",
       "       [1225.  ,   35.  ],\n",
       "       [ 823.69,   28.7 ],\n",
       "       [ 552.25,   23.5 ],\n",
       "       [1521.  ,   39.  ],\n",
       "       [ 441.  ,   21.  ],\n",
       "       [ 529.  ,   23.  ],\n",
       "       [ 484.  ,   22.  ],\n",
       "       [1936.  ,   44.  ],\n",
       "       [ 506.25,   22.5 ],\n",
       "       [ 361.  ,   19.  ],\n",
       "       [1369.  ,   37.  ],\n",
       "       [ 484.  ,   22.  ],\n",
       "       [ 655.36,   25.6 ],\n",
       "       [1764.  ,   42.  ],\n",
       "       [1190.25,   34.5 ]])"
      ]
     },
     "execution_count": 16,
     "metadata": {},
     "output_type": "execute_result"
    }
   ],
   "source": [
    "train_poly"
   ]
  },
  {
   "cell_type": "code",
   "execution_count": 17,
   "id": "994ac63a",
   "metadata": {},
   "outputs": [
    {
     "name": "stdout",
     "output_type": "stream",
     "text": [
      "(42, 2) (14, 2)\n"
     ]
    }
   ],
   "source": [
    "# 데이터셋 형태 확인\n",
    "print(train_poly.shape, test_poly.shape)"
   ]
  },
  {
   "cell_type": "code",
   "execution_count": 19,
   "id": "5b63e979",
   "metadata": {},
   "outputs": [
    {
     "name": "stdout",
     "output_type": "stream",
     "text": [
      "[  1.01433211 -21.55792498] 116.05021078278259\n",
      "[1573.98423528]\n"
     ]
    }
   ],
   "source": [
    "# 길이제곱이 추가된 데이터셋으로 모델 학습, 평가 및 예측\n",
    "\n",
    "# 새로운 회귀모델 생성\n",
    "lr = LinearRegression()\n",
    "\n",
    "# 학습\n",
    "lr.fit(train_poly, train_target)\n",
    "\n",
    "# 결정계수와 가중치 확인\n",
    "print(lr.coef_, lr.intercept_)\n",
    "\n",
    "# 예측하기\n",
    "print(lr.predict([[50**2, 50]]))"
   ]
  },
  {
   "cell_type": "markdown",
   "id": "c1e97fa3",
   "metadata": {},
   "source": [
    "##### 결과 해석\n",
    "- $무게 = (1.01433211 \\times 길이_1^2) + (-21.55792498 \\times 길이_2) + 116.05021078278259$"
   ]
  },
  {
   "cell_type": "code",
   "execution_count": 42,
   "id": "1a258bec",
   "metadata": {},
   "outputs": [
    {
     "data": {
      "text/plain": [
       "1573.9842352827407"
      ]
     },
     "execution_count": 42,
     "metadata": {},
     "output_type": "execute_result"
    }
   ],
   "source": [
    "# 직접 계산해보기\n",
    "a1 = lr.coef_[0]\n",
    "a2 = lr.coef_[1]\n",
    "b = lr.intercept_\n",
    "\n",
    "y = (a1 * 50**2) + (a2 * 50) + b\n",
    "y"
   ]
  },
  {
   "cell_type": "code",
   "execution_count": 43,
   "id": "7897c08b",
   "metadata": {
    "scrolled": true
   },
   "outputs": [
    {
     "data": {
      "image/png": "[encoded data removed]",
      "text/plain": [
       "<Figure size 432x288 with 1 Axes>"
      ]
     },
     "metadata": {
      "needs_background": "light"
     },
     "output_type": "display_data"
    }
   ],
   "source": [
    "# 산점도 그리기\n",
    "\n",
    "# 구간별 직선을 그리기 위해 15에서 49까지 정수 배열 생성\n",
    "point = np.arange(15, 50)\n",
    "\n",
    "# 훈련 세트의 산점도를 그리기\n",
    "plt.scatter(train_input, train_target)\n",
    "\n",
    "# 15에서 49까지 2차 방정식 그래프 그리기\n",
    "plt.plot(point, (a1*point**2) + (a2*point) + 116.05)\n",
    "# 50cm 농어 데이터\n",
    "plt.scatter([50], [1574], marker='^')\n",
    "plt.xlabel('length')\n",
    "plt.ylabel('weight')\n",
    "plt.show()"
   ]
  },
  {
   "cell_type": "markdown",
   "id": "40e31472",
   "metadata": {},
   "source": [
    "#### 평가 점수($R^2$) 확인"
   ]
  },
  {
   "cell_type": "code",
   "execution_count": 20,
   "id": "10889afb",
   "metadata": {
    "scrolled": true
   },
   "outputs": [
    {
     "name": "stdout",
     "output_type": "stream",
     "text": [
      "0.9706807451768623\n",
      "0.9775935108325121\n"
     ]
    }
   ],
   "source": [
    "print(lr.score(train_poly, train_target))\n",
    "print(lr.score(test_poly, test_target))"
   ]
  },
  {
   "cell_type": "markdown",
   "id": "7e569a11",
   "metadata": {},
   "source": [
    "##### 결과 해석\n",
    "- 단순 선형회귀보다 데이터를 더 잘 설명하는 라인을 찾음\n",
    "- 평가점수가 모두 높아짐\n",
    "- 테스트데이터의 평가점수가 조금 더 높으므로 약간의 과소적합이라 할 수 있음\n",
    "- 과소적합을 해소하기 위해 모델을 조금 더 복잡하게 만들어야 함"
   ]
  },
  {
   "cell_type": "markdown",
   "id": "0f15e163",
   "metadata": {},
   "source": [
    "## 키워드 정리\n",
    "### 선형회귀\n",
    "- 특성과 타겟의 관계를 가장 잘 설명하는 선형 방정식을 찾는 것\n",
    "- 특성이 하나라면 직선이 됨(단순 선형 회귀)\n",
    "- 선형회귀로 찾은 특성과 타겟 사이의 관계는 coefficient, intercept에 저장됨\n",
    "\n",
    "### 모델 파라미터(Model Parameters)\n",
    "- 머신러닝 모델이 학습을 통해 찾아낸 값\n",
    "- 이 값을 조정할 수 있는 함수의 파라미터를 조절하는 것을 하이퍼파라미터 튜닝이라 함\n",
    "\n",
    "### 다항회귀\n",
    "- 두 개 이상의 특성을 이용하여 회귀분석을 하는 것\n",
    "- 비선형일 수 있으나 선형으로 표현가능"
   ]
  }
 ],
 "metadata": {
  "kernelspec": {
   "display_name": "Python 3 (ipykernel)",
   "language": "python",
   "name": "python3"
  },
  "language_info": {
   "codemirror_mode": {
    "name": "ipython",
    "version": 3
   },
   "file_extension": ".py",
   "mimetype": "text/x-python",
   "name": "python",
   "nbconvert_exporter": "python",
   "pygments_lexer": "ipython3",
   "version": "3.9.12"
  }
 },
 "nbformat": 4,
 "nbformat_minor": 5
}
