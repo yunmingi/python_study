{
 "cells": [
  {
   "cell_type": "markdown",
   "id": "1488f63d",
   "metadata": {},
   "source": [
    "# 시나리오\n",
    "- 농어를 무게 단위로 판매하려 함\n",
    "- 공급처로부터 농어를 받았는데 표시된 무게가 잘못된 경우가 발생\n",
    "- 농어의 길이, 높이, 두께 정보가 존재\n",
    "- 이 정보를 토대로 무게를 예측하고자 함\n",
    "- 농어의 무게를 정확하게 측정한 샘플 필요\n",
    "\n",
    "## 지도학습\n",
    "### 분류\n",
    "- 범주형(클래스) 데이터를 사용\n",
    "- 클래스 중 하나의 결과\n",
    "\n",
    "### 회귀\n",
    "- 회귀는 수치형 데이터를 사용\n",
    "- 수치 결과"
   ]
  },
  {
   "cell_type": "markdown",
   "id": "502d8f74",
   "metadata": {},
   "source": [
    "### K-최근접 이웃 회귀 사용\n",
    "- 예측하려는 샘플에 가장 가까운 샘플 K개를 선택\n",
    "- 이 샘플들의 수치의 평균을 이용하여 값을 예측"
   ]
  },
  {
   "cell_type": "markdown",
   "id": "1fb528a1",
   "metadata": {},
   "source": [
    "#### 데이터 준비"
   ]
  },
  {
   "cell_type": "code",
   "execution_count": 12,
   "id": "0245980f",
   "metadata": {},
   "outputs": [],
   "source": [
    "import numpy as np\n",
    "\n",
    "perch_length = np.array(\n",
    "    [8.4, 13.7, 15.0, 16.2, 17.4, 18.0, 18.7, 19.0, 19.6, 20.0, \n",
    "     21.0, 21.0, 21.0, 21.3, 22.0, 22.0, 22.0, 22.0, 22.0, 22.5, \n",
    "     22.5, 22.7, 23.0, 23.5, 24.0, 24.0, 24.6, 25.0, 25.6, 26.5, \n",
    "     27.3, 27.5, 27.5, 27.5, 28.0, 28.7, 30.0, 32.8, 34.5, 35.0, \n",
    "     36.5, 36.0, 37.0, 37.0, 39.0, 39.0, 39.0, 40.0, 40.0, 40.0, \n",
    "     40.0, 42.0, 43.0, 43.0, 43.5, 44.0]\n",
    "     )\n",
    "perch_weight = np.array(\n",
    "    [5.9, 32.0, 40.0, 51.5, 70.0, 100.0, 78.0, 80.0, 85.0, 85.0, \n",
    "     110.0, 115.0, 125.0, 130.0, 120.0, 120.0, 130.0, 135.0, 110.0, \n",
    "     130.0, 150.0, 145.0, 150.0, 170.0, 225.0, 145.0, 188.0, 180.0, \n",
    "     197.0, 218.0, 300.0, 260.0, 265.0, 250.0, 250.0, 300.0, 320.0, \n",
    "     514.0, 556.0, 840.0, 685.0, 700.0, 700.0, 690.0, 900.0, 650.0, \n",
    "     820.0, 850.0, 900.0, 1015.0, 820.0, 1100.0, 1000.0, 1100.0, \n",
    "     1000.0, 1000.0]\n",
    "     )"
   ]
  },
  {
   "cell_type": "markdown",
   "id": "3887888d",
   "metadata": {},
   "source": [
    "#### 데이터 탐색"
   ]
  },
  {
   "cell_type": "code",
   "execution_count": 13,
   "id": "d5f32546",
   "metadata": {},
   "outputs": [
    {
     "data": {
      "image/png": "[encoded data removed]",
      "text/plain": [
       "<Figure size 432x288 with 1 Axes>"
      ]
     },
     "metadata": {
      "needs_background": "light"
     },
     "output_type": "display_data"
    }
   ],
   "source": [
    "import matplotlib.pyplot as plt\n",
    "\n",
    "plt.scatter(perch_length, perch_weight)\n",
    "plt.xlabel('length')\n",
    "plt.ylabel('weight')\n",
    "plt.show()"
   ]
  },
  {
   "cell_type": "markdown",
   "id": "d6344dbb",
   "metadata": {},
   "source": [
    "##### 해석\n",
    "- 농어의 길이가 길면 무게도 늘어남"
   ]
  },
  {
   "cell_type": "markdown",
   "id": "4cf533af",
   "metadata": {},
   "source": [
    "#### 데이터 나누기"
   ]
  },
  {
   "cell_type": "code",
   "execution_count": 20,
   "id": "c0afaf22",
   "metadata": {},
   "outputs": [
    {
     "name": "stdout",
     "output_type": "stream",
     "text": [
      "(42,) (14,)\n"
     ]
    }
   ],
   "source": [
    "from sklearn.model_selection import train_test_split\n",
    "\n",
    "\n",
    "# 데이터 나누기\n",
    "train_input, test_input, train_target, test_target = train_test_split(perch_length, perch_weight, random_state=42)\n",
    "    \n",
    "print(train_input.shape, test_input.shape)"
   ]
  },
  {
   "cell_type": "code",
   "execution_count": 15,
   "id": "60f6fae6",
   "metadata": {},
   "outputs": [
    {
     "name": "stdout",
     "output_type": "stream",
     "text": [
      "[1 2 3 4]\n",
      "(4,)\n",
      "[[1 2]\n",
      " [3 4]]\n",
      "(2, 2)\n",
      "[[1]\n",
      " [2]\n",
      " [3]\n",
      " [4]]\n",
      "(4, 1)\n"
     ]
    }
   ],
   "source": [
    "# 사이킷런에 사용할 훈련 데이터셋은 2차원 배열이어야 함\n",
    "# reshape예시\n",
    "test_array = np.array([1,2,3,4])\n",
    "print(test_array)\n",
    "print(test_array.shape)\n",
    "print(test_array.reshape(2, 2))\n",
    "print(test_array.reshape(2, 2).shape)\n",
    "print(test_array.reshape(4, 1))\n",
    "print(test_array.reshape(4, 1).shape)"
   ]
  },
  {
   "cell_type": "code",
   "execution_count": 21,
   "id": "4ebaec88",
   "metadata": {},
   "outputs": [
    {
     "name": "stdout",
     "output_type": "stream",
     "text": [
      "(42, 1) (14, 1)\n"
     ]
    }
   ],
   "source": [
    "# 훈련 데이터셋을 2차원으로 변경\n",
    "train_input=train_input.reshape(-1,1)\n",
    "test_input=test_input.reshape(-1,1)\n",
    "print(train_input.shape, test_input.shape)"
   ]
  },
  {
   "cell_type": "code",
   "execution_count": 22,
   "id": "cdba6391",
   "metadata": {},
   "outputs": [
    {
     "data": {
      "text/plain": [
       "array([[ 8.4],\n",
       "       [18. ],\n",
       "       [27.5],\n",
       "       [21.3],\n",
       "       [22.5],\n",
       "       [40. ],\n",
       "       [30. ],\n",
       "       [24.6],\n",
       "       [39. ],\n",
       "       [21. ],\n",
       "       [43.5],\n",
       "       [16.2],\n",
       "       [28. ],\n",
       "       [27.3]])"
      ]
     },
     "execution_count": 22,
     "metadata": {},
     "output_type": "execute_result"
    }
   ],
   "source": [
    "test_input"
   ]
  },
  {
   "cell_type": "markdown",
   "id": "3ab2255b",
   "metadata": {},
   "source": [
    "#### 결정계수($R^2$)\n",
    "- 회귀모델을 평가하는 기준"
   ]
  },
  {
   "cell_type": "code",
   "execution_count": 23,
   "id": "beaf3f9e",
   "metadata": {
    "scrolled": true
   },
   "outputs": [
    {
     "data": {
      "text/plain": [
       "0.992809406101064"
      ]
     },
     "execution_count": 23,
     "metadata": {},
     "output_type": "execute_result"
    }
   ],
   "source": [
    "# KNeighborsRegressor 임포트\n",
    "from sklearn.neighbors import KNeighborsRegressor\n",
    "\n",
    "# KNeighborsRegressor 인스턴스 생성\n",
    "knr = KNeighborsRegressor()\n",
    "\n",
    "# k-최근접 이웃 회귀 모델 훈련\n",
    "knr.fit(train_input,train_target)\n",
    "\n",
    "# 평가 점수 확인\n",
    "knr.score(test_input, test_target)"
   ]
  },
  {
   "cell_type": "markdown",
   "id": "c3b59bee",
   "metadata": {},
   "source": [
    "##### 해석\n",
    "- 분류에서 score는 샘플을 정확하게 분류한 개수의 비율(정확도)\n",
    "- 회귀에서 score는 결정계수(coefficent of determination)\n",
    "- 사이킷런에서 score는 정확도나 결정계수인 경우 높을수록 좋음\n",
    "- 결정계수 계산방법\n",
    "    - $ R^2 = 1-{(타겟-예측)^2의 합 \\over (타겟-평균)^2 의 합 }$\n",
    "    - 각 샘플의 타겟과 예측한 값의 차이를 제곱하여 더함(A)\n",
    "    - 타깃과 타깃평균의 차이를 제곱하여 더한 값으로 A를 나눔\n",
    "        \n",
    "##### 의미해석 \n",
    "- 만약 타깃이 평균 정도를 예측하는 수준이라면 \n",
    "- 분자와 분모가 비슷해지면 $R^2$는 0에 가까워짐\n",
    "- 예측이 타깃에 가까워지면(분자가 0에 가까워짐) 1에 가까운 값이 됨"
   ]
  },
  {
   "cell_type": "code",
   "execution_count": 26,
   "id": "2f7d1765",
   "metadata": {},
   "outputs": [
    {
     "name": "stdout",
     "output_type": "stream",
     "text": [
      "[  60.    79.6  248.   122.   136.   847.   311.4  183.4  847.   113.\n",
      " 1010.    60.   248.   248. ]\n"
     ]
    }
   ],
   "source": [
    "# 평균 절대값 오차 확인\n",
    "from sklearn.metrics import mean_absolute_error\n",
    "\n",
    "# 테스트 세트에 대해 예측하기\n",
    "test_pred = knr.predict(test_input)\n",
    "print(test_pred)\n",
    "# 테스트 세트에 대한 평균 절댓값 오차를 계산\n",
    "mae = mean_absolute_error(test_target, test_pred)\n"
   ]
  },
  {
   "cell_type": "code",
   "execution_count": 27,
   "id": "847f0c00",
   "metadata": {},
   "outputs": [
    {
     "data": {
      "text/plain": [
       "array([  60. ,   79.6,  248. ,  122. ,  136. ,  847. ,  311.4,  183.4,\n",
       "        847. ,  113. , 1010. ,   60. ,  248. ,  248. ])"
      ]
     },
     "execution_count": 27,
     "metadata": {},
     "output_type": "execute_result"
    }
   ],
   "source": [
    "test_pred"
   ]
  },
  {
   "cell_type": "code",
   "execution_count": null,
   "id": "f8adc4e5",
   "metadata": {},
   "outputs": [],
   "source": []
  },
  {
   "cell_type": "markdown",
   "id": "8097e452",
   "metadata": {},
   "source": [
    "##### 해석\n",
    "- 평균적으로 19g정도 예측한 값이 타깃값과 다르다"
   ]
  },
  {
   "cell_type": "markdown",
   "id": "78f44975",
   "metadata": {},
   "source": [
    "#### 과대, 과소적합\n",
    "- 훈련데이터셋으로 훈련했으므로 당연히 훈련데이터셋에 잘 맞는 모델이 생성됨\n",
    "\n",
    "\n",
    "- 이 모델을 훈련셋과 테스트셋으로 각각 평가하면?\n",
    "    - 일반적으로 훈련셋의 점수가 다소 높음\n",
    "\n",
    "\n",
    "- 훈련셋의 점수가 좋은데 테스트셋에서 점수가 나쁘면 <b>과대적합</b>\n",
    "    - 훈련셋에만 최적화된 모델이라는 의미\n",
    "\n",
    "\n",
    "- 훈련셋보다 테스트셋의 점수가 높거나 두 점수가 모두 낮은 경우는 <b>과소적합</b>\n",
    "    - 모델이 너무 단순하여 훈련셋이 적절하게 훈련되지 않음\n",
    "    - 훈련데이터셋이 전체 데이터를 대표한다고 가정하므로 학습이 매우 중요함\n",
    "    \n",
    "#### 과소적합 이유\n",
    "- 훈련 데이터셋과 테스트 데이터셋이 충분하지 않은 경우 발생"
   ]
  },
  {
   "cell_type": "code",
   "execution_count": 29,
   "id": "ac58a182",
   "metadata": {},
   "outputs": [
    {
     "name": "stdout",
     "output_type": "stream",
     "text": [
      "0.9698823289099254\n"
     ]
    }
   ],
   "source": [
    "# 훈련 데이터로 예측하기 \n",
    "print(knr.score(train_input, train_target))"
   ]
  },
  {
   "cell_type": "code",
   "execution_count": 30,
   "id": "935afa2e",
   "metadata": {
    "scrolled": true
   },
   "outputs": [
    {
     "name": "stdout",
     "output_type": "stream",
     "text": [
      "훈련데이터 점수: 0.9698823289099254\n",
      "테스트데이터 점수: 0.992809406101064\n"
     ]
    }
   ],
   "source": [
    "print('훈련데이터 점수:', knr.score(train_input, train_target))\n",
    "print('테스트데이터 점수:', knr.score(test_input, test_target))"
   ]
  },
  {
   "cell_type": "markdown",
   "id": "99d6921e",
   "metadata": {},
   "source": [
    "- 훈련데이터셋의 점수가 테스트 세트의 점수보다 낮으므로 현재 <b>과소적합</b>\n",
    "- 이 문제를 해결하려면?\n",
    "    - 훈련 데이터셋에 더 잘 맞도록 모델을 더 복잡하게 만든다.\n",
    "    - KNN은 n_neighbors 속성값을 조정(값을 줄임)\n",
    "\n",
    "\n",
    "- 만약 <b>과대적합</b>인 경우 모델을 덜 복잡하게 만든다\n",
    "    - KNN은 n_neighbors 속성값을 조정(값을 늘림)\n"
   ]
  },
  {
   "cell_type": "code",
   "execution_count": 31,
   "id": "c09c33ec",
   "metadata": {
    "scrolled": true
   },
   "outputs": [
    {
     "name": "stdout",
     "output_type": "stream",
     "text": [
      "훈련데이터 점수: 0.9804899950518966\n",
      "테스트데이터 점수: 0.9746459963987609\n"
     ]
    }
   ],
   "source": [
    "# 이웃의 갯수를 3으로 설정\n",
    "knr.n_neighbors = 3\n",
    "\n",
    "# 모델을 다시 훈련\n",
    "knr.fit(train_input, train_target)\n",
    "print('훈련데이터 점수:', knr.score(train_input, train_target))\n",
    "print('테스트데이터 점수:', knr.score(test_input, test_target))"
   ]
  },
  {
   "cell_type": "markdown",
   "id": "2b50a2d1",
   "metadata": {},
   "source": [
    "##### 결과 해석\n",
    "- 훈련데이터의 평가 점수가 테스트 데이터의 평가점수보다 높으므로 과소적합 해소\n",
    "- 두 점수가 큰 차이가 나지 않으므로 과대적합도 아니라고 볼 수 있다."
   ]
  },
  {
   "cell_type": "code",
   "execution_count": 32,
   "id": "16aad6b9",
   "metadata": {},
   "outputs": [
    {
     "data": {
      "image/png": "[encoded data removed]",
      "text/plain": [
       "<Figure size 432x288 with 1 Axes>"
      ]
     },
     "metadata": {
      "needs_background": "light"
     },
     "output_type": "display_data"
    },
    {
     "data": {
      "image/png": "[encoded data removed]",
      "text/plain": [
       "<Figure size 432x288 with 1 Axes>"
      ]
     },
     "metadata": {
      "needs_background": "light"
     },
     "output_type": "display_data"
    },
    {
     "data": {
      "image/png": "[encoded data removed]",
      "text/plain": [
       "<Figure size 432x288 with 1 Axes>"
      ]
     },
     "metadata": {
      "needs_background": "light"
     },
     "output_type": "display_data"
    }
   ],
   "source": [
    "# 최근접 이웃 회귀의 n_neighbors값에 따라 모델의 단순화 확인\n",
    "\n",
    "# k-최근접 이웃 회귀 객체 생성\n",
    "knr = KNeighborsRegressor()\n",
    "\n",
    "# 5에서 45까지 x 좌표 생성\n",
    "x = np.arange(5,45).reshape(-1,1)\n",
    "\n",
    "# n = 1, 5, 10일 때 예측 결과를 그래프로 확인(반복문)\n",
    "for n in [1,5,10]:\n",
    "    knr.n_neighbors = n\n",
    "    knr.fit(train_input,train_target)\n",
    "    pred = knr.predict(x)\n",
    "    \n",
    "    plt.scatter(train_input, train_target)\n",
    "    plt.plot(x,pred)\n",
    "    plt.show()"
   ]
  },
  {
   "cell_type": "code",
   "execution_count": null,
   "id": "45237946",
   "metadata": {},
   "outputs": [],
   "source": []
  }
 ],
 "metadata": {
  "kernelspec": {
   "display_name": "Python 3 (ipykernel)",
   "language": "python",
   "name": "python3"
  },
  "language_info": {
   "codemirror_mode": {
    "name": "ipython",
    "version": 3
   },
   "file_extension": ".py",
   "mimetype": "text/x-python",
   "name": "python",
   "nbconvert_exporter": "python",
   "pygments_lexer": "ipython3",
   "version": "3.9.12"
  }
 },
 "nbformat": 4,
 "nbformat_minor": 5
}
