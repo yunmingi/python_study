{
 "cells": [
  {
   "cell_type": "code",
   "execution_count": 1,
   "id": "3a7901e3",
   "metadata": {},
   "outputs": [
    {
     "data": {
      "text/html": [
       "<div>\n",
       "<style scoped>\n",
       "    .dataframe tbody tr th:only-of-type {\n",
       "        vertical-align: middle;\n",
       "    }\n",
       "\n",
       "    .dataframe tbody tr th {\n",
       "        vertical-align: top;\n",
       "    }\n",
       "\n",
       "    .dataframe thead th {\n",
       "        text-align: right;\n",
       "    }\n",
       "</style>\n",
       "<table border=\"1\" class=\"dataframe\">\n",
       "  <thead>\n",
       "    <tr style=\"text-align: right;\">\n",
       "      <th></th>\n",
       "      <th>survived</th>\n",
       "      <th>pclass</th>\n",
       "      <th>sex</th>\n",
       "      <th>age</th>\n",
       "      <th>sibsp</th>\n",
       "      <th>parch</th>\n",
       "      <th>fare</th>\n",
       "      <th>embarked</th>\n",
       "      <th>class</th>\n",
       "      <th>who</th>\n",
       "      <th>adult_male</th>\n",
       "      <th>deck</th>\n",
       "      <th>embark_town</th>\n",
       "      <th>alive</th>\n",
       "      <th>alone</th>\n",
       "    </tr>\n",
       "  </thead>\n",
       "  <tbody>\n",
       "    <tr>\n",
       "      <th>0</th>\n",
       "      <td>0</td>\n",
       "      <td>3</td>\n",
       "      <td>male</td>\n",
       "      <td>22.0</td>\n",
       "      <td>1</td>\n",
       "      <td>0</td>\n",
       "      <td>7.2500</td>\n",
       "      <td>S</td>\n",
       "      <td>Third</td>\n",
       "      <td>man</td>\n",
       "      <td>True</td>\n",
       "      <td>NaN</td>\n",
       "      <td>Southampton</td>\n",
       "      <td>no</td>\n",
       "      <td>False</td>\n",
       "    </tr>\n",
       "    <tr>\n",
       "      <th>1</th>\n",
       "      <td>1</td>\n",
       "      <td>1</td>\n",
       "      <td>female</td>\n",
       "      <td>38.0</td>\n",
       "      <td>1</td>\n",
       "      <td>0</td>\n",
       "      <td>71.2833</td>\n",
       "      <td>C</td>\n",
       "      <td>First</td>\n",
       "      <td>woman</td>\n",
       "      <td>False</td>\n",
       "      <td>C</td>\n",
       "      <td>Cherbourg</td>\n",
       "      <td>yes</td>\n",
       "      <td>False</td>\n",
       "    </tr>\n",
       "    <tr>\n",
       "      <th>2</th>\n",
       "      <td>1</td>\n",
       "      <td>3</td>\n",
       "      <td>female</td>\n",
       "      <td>26.0</td>\n",
       "      <td>0</td>\n",
       "      <td>0</td>\n",
       "      <td>7.9250</td>\n",
       "      <td>S</td>\n",
       "      <td>Third</td>\n",
       "      <td>woman</td>\n",
       "      <td>False</td>\n",
       "      <td>NaN</td>\n",
       "      <td>Southampton</td>\n",
       "      <td>yes</td>\n",
       "      <td>True</td>\n",
       "    </tr>\n",
       "    <tr>\n",
       "      <th>3</th>\n",
       "      <td>1</td>\n",
       "      <td>1</td>\n",
       "      <td>female</td>\n",
       "      <td>35.0</td>\n",
       "      <td>1</td>\n",
       "      <td>0</td>\n",
       "      <td>53.1000</td>\n",
       "      <td>S</td>\n",
       "      <td>First</td>\n",
       "      <td>woman</td>\n",
       "      <td>False</td>\n",
       "      <td>C</td>\n",
       "      <td>Southampton</td>\n",
       "      <td>yes</td>\n",
       "      <td>False</td>\n",
       "    </tr>\n",
       "    <tr>\n",
       "      <th>4</th>\n",
       "      <td>0</td>\n",
       "      <td>3</td>\n",
       "      <td>male</td>\n",
       "      <td>35.0</td>\n",
       "      <td>0</td>\n",
       "      <td>0</td>\n",
       "      <td>8.0500</td>\n",
       "      <td>S</td>\n",
       "      <td>Third</td>\n",
       "      <td>man</td>\n",
       "      <td>True</td>\n",
       "      <td>NaN</td>\n",
       "      <td>Southampton</td>\n",
       "      <td>no</td>\n",
       "      <td>True</td>\n",
       "    </tr>\n",
       "    <tr>\n",
       "      <th>...</th>\n",
       "      <td>...</td>\n",
       "      <td>...</td>\n",
       "      <td>...</td>\n",
       "      <td>...</td>\n",
       "      <td>...</td>\n",
       "      <td>...</td>\n",
       "      <td>...</td>\n",
       "      <td>...</td>\n",
       "      <td>...</td>\n",
       "      <td>...</td>\n",
       "      <td>...</td>\n",
       "      <td>...</td>\n",
       "      <td>...</td>\n",
       "      <td>...</td>\n",
       "      <td>...</td>\n",
       "    </tr>\n",
       "    <tr>\n",
       "      <th>886</th>\n",
       "      <td>0</td>\n",
       "      <td>2</td>\n",
       "      <td>male</td>\n",
       "      <td>27.0</td>\n",
       "      <td>0</td>\n",
       "      <td>0</td>\n",
       "      <td>13.0000</td>\n",
       "      <td>S</td>\n",
       "      <td>Second</td>\n",
       "      <td>man</td>\n",
       "      <td>True</td>\n",
       "      <td>NaN</td>\n",
       "      <td>Southampton</td>\n",
       "      <td>no</td>\n",
       "      <td>True</td>\n",
       "    </tr>\n",
       "    <tr>\n",
       "      <th>887</th>\n",
       "      <td>1</td>\n",
       "      <td>1</td>\n",
       "      <td>female</td>\n",
       "      <td>19.0</td>\n",
       "      <td>0</td>\n",
       "      <td>0</td>\n",
       "      <td>30.0000</td>\n",
       "      <td>S</td>\n",
       "      <td>First</td>\n",
       "      <td>woman</td>\n",
       "      <td>False</td>\n",
       "      <td>B</td>\n",
       "      <td>Southampton</td>\n",
       "      <td>yes</td>\n",
       "      <td>True</td>\n",
       "    </tr>\n",
       "    <tr>\n",
       "      <th>888</th>\n",
       "      <td>0</td>\n",
       "      <td>3</td>\n",
       "      <td>female</td>\n",
       "      <td>NaN</td>\n",
       "      <td>1</td>\n",
       "      <td>2</td>\n",
       "      <td>23.4500</td>\n",
       "      <td>S</td>\n",
       "      <td>Third</td>\n",
       "      <td>woman</td>\n",
       "      <td>False</td>\n",
       "      <td>NaN</td>\n",
       "      <td>Southampton</td>\n",
       "      <td>no</td>\n",
       "      <td>False</td>\n",
       "    </tr>\n",
       "    <tr>\n",
       "      <th>889</th>\n",
       "      <td>1</td>\n",
       "      <td>1</td>\n",
       "      <td>male</td>\n",
       "      <td>26.0</td>\n",
       "      <td>0</td>\n",
       "      <td>0</td>\n",
       "      <td>30.0000</td>\n",
       "      <td>C</td>\n",
       "      <td>First</td>\n",
       "      <td>man</td>\n",
       "      <td>True</td>\n",
       "      <td>C</td>\n",
       "      <td>Cherbourg</td>\n",
       "      <td>yes</td>\n",
       "      <td>True</td>\n",
       "    </tr>\n",
       "    <tr>\n",
       "      <th>890</th>\n",
       "      <td>0</td>\n",
       "      <td>3</td>\n",
       "      <td>male</td>\n",
       "      <td>32.0</td>\n",
       "      <td>0</td>\n",
       "      <td>0</td>\n",
       "      <td>7.7500</td>\n",
       "      <td>Q</td>\n",
       "      <td>Third</td>\n",
       "      <td>man</td>\n",
       "      <td>True</td>\n",
       "      <td>NaN</td>\n",
       "      <td>Queenstown</td>\n",
       "      <td>no</td>\n",
       "      <td>True</td>\n",
       "    </tr>\n",
       "  </tbody>\n",
       "</table>\n",
       "<p>891 rows × 15 columns</p>\n",
       "</div>"
      ],
      "text/plain": [
       "     survived  pclass     sex   age  sibsp  parch     fare embarked   class  \\\n",
       "0           0       3    male  22.0      1      0   7.2500        S   Third   \n",
       "1           1       1  female  38.0      1      0  71.2833        C   First   \n",
       "2           1       3  female  26.0      0      0   7.9250        S   Third   \n",
       "3           1       1  female  35.0      1      0  53.1000        S   First   \n",
       "4           0       3    male  35.0      0      0   8.0500        S   Third   \n",
       "..        ...     ...     ...   ...    ...    ...      ...      ...     ...   \n",
       "886         0       2    male  27.0      0      0  13.0000        S  Second   \n",
       "887         1       1  female  19.0      0      0  30.0000        S   First   \n",
       "888         0       3  female   NaN      1      2  23.4500        S   Third   \n",
       "889         1       1    male  26.0      0      0  30.0000        C   First   \n",
       "890         0       3    male  32.0      0      0   7.7500        Q   Third   \n",
       "\n",
       "       who  adult_male deck  embark_town alive  alone  \n",
       "0      man        True  NaN  Southampton    no  False  \n",
       "1    woman       False    C    Cherbourg   yes  False  \n",
       "2    woman       False  NaN  Southampton   yes   True  \n",
       "3    woman       False    C  Southampton   yes  False  \n",
       "4      man        True  NaN  Southampton    no   True  \n",
       "..     ...         ...  ...          ...   ...    ...  \n",
       "886    man        True  NaN  Southampton    no   True  \n",
       "887  woman       False    B  Southampton   yes   True  \n",
       "888  woman       False  NaN  Southampton    no  False  \n",
       "889    man        True    C    Cherbourg   yes   True  \n",
       "890    man        True  NaN   Queenstown    no   True  \n",
       "\n",
       "[891 rows x 15 columns]"
      ]
     },
     "execution_count": 1,
     "metadata": {},
     "output_type": "execute_result"
    }
   ],
   "source": [
    "#데이터 준비 및 나누기 \n",
    "import pandas as pd\n",
    "import seaborn as sns\n",
    "from sklearn.model_selection import train_test_split\n",
    "from sklearn.preprocessing import StandardScaler\n",
    "from sklearn.linear_model import LogisticRegression\n",
    "from sklearn.tree import DecisionTreeClassifier\n",
    "from sklearn.metrics import accuracy_score, classification_report, confusion_matrix\n",
    "from sklearn.metrics import f1_score\n",
    "from sklearn.metrics import roc_curve, roc_auc_score\n",
    "import matplotlib.pyplot as plt\n",
    "import warnings\n",
    "titanic_df = sns.load_dataset('titanic')\n",
    "# 데이터 확인\n",
    "titanic_df"
   ]
  },
  {
   "cell_type": "code",
   "execution_count": 7,
   "id": "958ef777",
   "metadata": {},
   "outputs": [],
   "source": [
    "# 필요한 특성 선택 및 결측치 처리\n",
    "features = ['pclass', 'sex' , 'age', 'sibsp', 'parch', 'fare' , 'embarked']\n",
    "X = titanic_df[features]\n",
    "y = titanic_df['survived']\n",
    "\n",
    "# 범주형 변수를 더미 변수로 변환\n",
    "X = pd.get_dummies(X, columns=['sex', 'embarked'], drop_first=True)\n",
    "\n",
    "# 결측치 처리 (예: 평균값으로 대체)\n",
    "X['age'].fillna(X['age'].mean(), inplace=True)\n",
    "\n",
    "# 훈련 세트와 테스트 세트로 분할\n",
    "X_train, X_test, y_train, y_test = train_test_split(X, y, test_size=0.2, random_state=42)\n",
    "\n",
    "# 데이터 표준화\n",
    "scaler = StandardScaler()\n",
    "X_train_scaled = scaler.fit_transform(X_train)\n",
    "X_test_scaled = scaler.transform(X_test)"
   ]
  },
  {
   "cell_type": "code",
   "execution_count": 13,
   "id": "04eb6927",
   "metadata": {},
   "outputs": [
    {
     "name": "stdout",
     "output_type": "stream",
     "text": [
      "(712, 8)\n",
      "(712,)\n"
     ]
    }
   ],
   "source": [
    "print(X_train_scaled.shape)\n",
    "print(y_train.shape)"
   ]
  },
  {
   "cell_type": "code",
   "execution_count": 17,
   "id": "a798b5e0",
   "metadata": {},
   "outputs": [
    {
     "name": "stderr",
     "output_type": "stream",
     "text": [
      "C:\\Users\\LG\\anaconda3\\lib\\site-packages\\sklearn\\model_selection\\_validation.py:372: FitFailedWarning: \n",
      "20 fits failed out of a total of 80.\n",
      "The score on these train-test partitions for these parameters will be set to nan.\n",
      "If these failures are not expected, you can try to debug them by setting error_score='raise'.\n",
      "\n",
      "Below are more details about the failures:\n",
      "--------------------------------------------------------------------------------\n",
      "20 fits failed with the following error:\n",
      "Traceback (most recent call last):\n",
      "  File \"C:\\Users\\LG\\anaconda3\\lib\\site-packages\\sklearn\\model_selection\\_validation.py\", line 680, in _fit_and_score\n",
      "    estimator.fit(X_train, y_train, **fit_params)\n",
      "  File \"C:\\Users\\LG\\anaconda3\\lib\\site-packages\\sklearn\\linear_model\\_logistic.py\", line 1471, in fit\n",
      "    raise ValueError(\n",
      "ValueError: l1_ratio must be between 0 and 1; got (l1_ratio=None)\n",
      "\n",
      "  warnings.warn(some_fits_failed_message, FitFailedWarning)\n",
      "C:\\Users\\LG\\anaconda3\\lib\\site-packages\\sklearn\\model_selection\\_search.py:969: UserWarning: One or more of the test scores are non-finite: [0.79207131 0.79066286        nan 0.78925441 0.79207131 0.79066286\n",
      "        nan 0.78925441 0.79066286 0.79066286        nan 0.78925441\n",
      " 0.79066286 0.79066286        nan 0.78925441]\n",
      "  warnings.warn(\n"
     ]
    },
    {
     "data": {
      "text/plain": [
       "GridSearchCV(estimator=LogisticRegression(), n_jobs=-1,\n",
       "             param_grid={'C': [1, 1.5, 2, 2.5],\n",
       "                         'penalty': ['l1', 'l2', 'elasticnet', 'none'],\n",
       "                         'solver': ['saga']})"
      ]
     },
     "execution_count": 17,
     "metadata": {},
     "output_type": "execute_result"
    }
   ],
   "source": [
    "from sklearn.model_selection import GridSearchCV\n",
    "\n",
    "# 로지스틱 회귀 모델 생성\n",
    "logreg_model = LogisticRegression()\n",
    "\n",
    "params = {\n",
    "    'C': [1,1.5,2,2.5],\n",
    "    'penalty':['l1', 'l2', 'elasticnet', 'none'],\n",
    "    'solver': ['saga'],\n",
    "}\n",
    "\n",
    "gs = GridSearchCV(logreg_model, params, n_jobs=-1)\n",
    "gs.fit(X_train_scaled,y_train)\n",
    "\n",
    "\n",
    "# 예측 및 성능 평가\n",
    "# y_pred_logreg = logreg_model.predict(X_test_scaled)\n",
    "# accuracy_logreg = accuracy_score(y_test, y_pred_logreg)\n",
    "# f1_logreg = f1_score(y_test, y_pred_logreg)\n",
    "\n",
    "# print(\"로지스틱 회귀 정확도:\", accuracy_logreg)\n",
    "# print(\"분류 보고서:\\n\", classification_report(y_test, y_pred_logreg))\n",
    "# print(\"혼동 행렬:\\n\", confusion_matrix(y_test, y_pred_logreg))\n",
    "# print(\"F1-score:\", f1_logreg)\n",
    "# print(\"ROC AUC:\", roc_auc)"
   ]
  },
  {
   "cell_type": "code",
   "execution_count": 22,
   "id": "4e2a5740",
   "metadata": {},
   "outputs": [
    {
     "name": "stdout",
     "output_type": "stream",
     "text": [
      "0.7991573033707865\n",
      "0.8044692737430168\n"
     ]
    }
   ],
   "source": [
    "lr = gs.best_estimator_\n",
    "print(lr.score(X_train_scaled,y_train))\n",
    "print(lr.score(X_test_scaled,y_test))"
   ]
  },
  {
   "cell_type": "code",
   "execution_count": 26,
   "id": "b198f6fd",
   "metadata": {},
   "outputs": [
    {
     "data": {
      "text/plain": [
       "{'C': 1, 'penalty': 'l1', 'solver': 'saga'}"
      ]
     },
     "execution_count": 26,
     "metadata": {},
     "output_type": "execute_result"
    }
   ],
   "source": [
    "gs.best_params_"
   ]
  },
  {
   "cell_type": "code",
   "execution_count": 27,
   "id": "1b07bf32",
   "metadata": {},
   "outputs": [
    {
     "data": {
      "text/plain": [
       "GridSearchCV(estimator=DecisionTreeClassifier(random_state=42), n_jobs=-1,\n",
       "             param_grid={'max_depth': range(5, 20),\n",
       "                         'min_impurity_decrease': [0.0001, 0.0002, 0.0003,\n",
       "                                                   0.0004, 0.0005],\n",
       "                         'min_samples_split': range(2, 100, 10)})"
      ]
     },
     "execution_count": 27,
     "metadata": {},
     "output_type": "execute_result"
    }
   ],
   "source": [
    "#GridSearchCV정의 \n",
    "from sklearn.tree import DecisionTreeClassifier\n",
    "from sklearn.model_selection import GridSearchCV\n",
    "\n",
    "params = {\n",
    "    'min_impurity_decrease': [0.0001, 0.0002, 0.0003, 0.0004, 0.0005],\n",
    "    'max_depth': range(5, 20, 1),\n",
    "    'min_samples_split': range(2, 100, 10)\n",
    "}\n",
    "gs = GridSearchCV(DecisionTreeClassifier(random_state=42), params, n_jobs=-1)\n",
    "gs.fit(X_train, y_train)"
   ]
  },
  {
   "cell_type": "code",
   "execution_count": 28,
   "id": "9acd013f",
   "metadata": {},
   "outputs": [
    {
     "name": "stdout",
     "output_type": "stream",
     "text": [
      "결정 트리 정확도: 0.7821229050279329\n",
      "분류 보고서:\n",
      "               precision    recall  f1-score   support\n",
      "\n",
      "           0       0.81      0.83      0.82       105\n",
      "           1       0.75      0.72      0.73        74\n",
      "\n",
      "    accuracy                           0.78       179\n",
      "   macro avg       0.78      0.77      0.77       179\n",
      "weighted avg       0.78      0.78      0.78       179\n",
      "\n",
      "혼동 행렬:\n",
      " [[87 18]\n",
      " [21 53]]\n",
      "F1-score: 0.7310344827586208\n"
     ]
    }
   ],
   "source": [
    "# 결정 트리 모델 생성\n",
    "dt_model = DecisionTreeClassifier()\n",
    "dt_model.fit(X_train_scaled, y_train)\n",
    "\n",
    "# 예측 및 성능 평가\n",
    "y_pred_dt = dt_model.predict(X_test_scaled)\n",
    "accuracy_dt = accuracy_score(y_test, y_pred_dt)\n",
    "f1_dt = f1_score(y_test, y_pred_dt)\n",
    "\n",
    "print(\"결정 트리 정확도:\", accuracy_dt)\n",
    "print(\"분류 보고서:\\n\", classification_report(y_test, y_pred_dt))\n",
    "print(\"혼동 행렬:\\n\", confusion_matrix(y_test, y_pred_dt))\n",
    "print(\"F1-score:\", f1_dt)"
   ]
  },
  {
   "cell_type": "code",
   "execution_count": 29,
   "id": "b472b471",
   "metadata": {},
   "outputs": [
    {
     "data": {
      "text/plain": [
       "0.8609550561797753"
      ]
     },
     "execution_count": 29,
     "metadata": {},
     "output_type": "execute_result"
    }
   ],
   "source": [
    "dt = gs.best_estimator_\n",
    "dt.score(X_train, y_train)"
   ]
  },
  {
   "cell_type": "code",
   "execution_count": 30,
   "id": "70883a7f",
   "metadata": {},
   "outputs": [
    {
     "data": {
      "text/plain": [
       "{'max_depth': 6, 'min_impurity_decrease': 0.0002, 'min_samples_split': 12}"
      ]
     },
     "execution_count": 30,
     "metadata": {},
     "output_type": "execute_result"
    }
   ],
   "source": [
    "gs.best_params_"
   ]
  },
  {
   "cell_type": "code",
   "execution_count": 31,
   "id": "c03452c0",
   "metadata": {},
   "outputs": [
    {
     "data": {
      "text/plain": [
       "array([0.80476706, 0.81039102, 0.80616567, 0.80053186, 0.80053186,\n",
       "       0.79912341, 0.79630651, 0.79630651, 0.80895302, 0.79486851,\n",
       "       0.80756427, 0.81318822, 0.80616567, 0.80053186, 0.80053186,\n",
       "       0.79912341, 0.79630651, 0.79630651, 0.80895302, 0.79486851,\n",
       "       0.80756427, 0.81318822, 0.80616567, 0.80053186, 0.80053186,\n",
       "       0.79912341, 0.79630651, 0.79630651, 0.80895302, 0.79486851,\n",
       "       0.80897272, 0.81318822, 0.80616567, 0.80053186, 0.80053186,\n",
       "       0.79912341, 0.79630651, 0.79630651, 0.80895302, 0.79486851,\n",
       "       0.80897272, 0.81318822, 0.80616567, 0.80053186, 0.80053186,\n",
       "       0.79912341, 0.79630651, 0.79630651, 0.80895302, 0.79486851,\n",
       "       0.80474737, 0.81460652, 0.80757412, 0.80475721, 0.80196001,\n",
       "       0.79351916, 0.79211071, 0.79350931, 0.80615582, 0.79207131,\n",
       "       0.80614597, 0.81600512, 0.80757412, 0.80475721, 0.80196001,\n",
       "       0.79351916, 0.79211071, 0.79350931, 0.80615582, 0.79207131,\n",
       "       0.80755442, 0.81600512, 0.80757412, 0.80475721, 0.80196001,\n",
       "       0.79351916, 0.79211071, 0.79350931, 0.80615582, 0.79207131,\n",
       "       0.80896287, 0.81600512, 0.80757412, 0.80475721, 0.80196001,\n",
       "       0.79351916, 0.79211071, 0.79350931, 0.80615582, 0.79207131,\n",
       "       0.80896287, 0.81600512, 0.80757412, 0.80475721, 0.80196001,\n",
       "       0.79351916, 0.79211071, 0.79350931, 0.80615582, 0.79207131,\n",
       "       0.79634591, 0.80900227, 0.80476706, 0.80474737, 0.80195016,\n",
       "       0.79350931, 0.79070226, 0.79210086, 0.80615582, 0.79207131,\n",
       "       0.79914311, 0.81040087, 0.80476706, 0.80474737, 0.80195016,\n",
       "       0.79350931, 0.79070226, 0.79210086, 0.80615582, 0.79207131,\n",
       "       0.80196001, 0.81040087, 0.80476706, 0.80474737, 0.80195016,\n",
       "       0.79350931, 0.79070226, 0.79210086, 0.80615582, 0.79207131,\n",
       "       0.80196001, 0.81040087, 0.80476706, 0.80474737, 0.80195016,\n",
       "       0.79350931, 0.79070226, 0.79210086, 0.80615582, 0.79207131,\n",
       "       0.80336846, 0.81040087, 0.80476706, 0.80474737, 0.80195016,\n",
       "       0.79350931, 0.79070226, 0.79210086, 0.80615582, 0.79207131,\n",
       "       0.79634591, 0.80196986, 0.80476706, 0.80474737, 0.80195016,\n",
       "       0.79350931, 0.79070226, 0.79210086, 0.80615582, 0.79207131,\n",
       "       0.79913326, 0.80336846, 0.80476706, 0.80474737, 0.80195016,\n",
       "       0.79350931, 0.79070226, 0.79210086, 0.80615582, 0.79207131,\n",
       "       0.79913326, 0.80336846, 0.80476706, 0.80474737, 0.80195016,\n",
       "       0.79350931, 0.79070226, 0.79210086, 0.80615582, 0.79207131,\n",
       "       0.80195016, 0.80477691, 0.80476706, 0.80474737, 0.80195016,\n",
       "       0.79350931, 0.79070226, 0.79210086, 0.80615582, 0.79207131,\n",
       "       0.79773466, 0.80477691, 0.80476706, 0.80474737, 0.80195016,\n",
       "       0.79350931, 0.79070226, 0.79210086, 0.80615582, 0.79207131,\n",
       "       0.78087265, 0.78930365, 0.79630651, 0.79628681, 0.79348961,\n",
       "       0.78504875, 0.7892938 , 0.79069241, 0.80615582, 0.79207131,\n",
       "       0.7850586 , 0.79070226, 0.79630651, 0.79628681, 0.79348961,\n",
       "       0.78504875, 0.7892938 , 0.79069241, 0.80615582, 0.79207131,\n",
       "       0.78365015, 0.79070226, 0.79630651, 0.79628681, 0.79348961,\n",
       "       0.78504875, 0.7892938 , 0.79069241, 0.80615582, 0.79207131,\n",
       "       0.78646705, 0.79070226, 0.79630651, 0.79628681, 0.79348961,\n",
       "       0.78504875, 0.7892938 , 0.79069241, 0.80615582, 0.79207131,\n",
       "       0.7822614 , 0.79211071, 0.79348961, 0.79346991, 0.79348961,\n",
       "       0.78504875, 0.7892938 , 0.79069241, 0.80615582, 0.79207131,\n",
       "       0.76824584, 0.7907318 , 0.80055156, 0.79348961, 0.79069241,\n",
       "       0.78504875, 0.7892938 , 0.79069241, 0.80615582, 0.79207131,\n",
       "       0.77947405, 0.7921304 , 0.80055156, 0.79348961, 0.79069241,\n",
       "       0.78504875, 0.7892938 , 0.79069241, 0.80615582, 0.79207131,\n",
       "       0.7808825 , 0.79072195, 0.80055156, 0.79348961, 0.79069241,\n",
       "       0.78504875, 0.7892938 , 0.79069241, 0.80615582, 0.79207131,\n",
       "       0.77947405, 0.79072195, 0.80055156, 0.79348961, 0.79069241,\n",
       "       0.78504875, 0.7892938 , 0.79069241, 0.80615582, 0.79207131,\n",
       "       0.7836994 , 0.7921304 , 0.79069241, 0.79067271, 0.79069241,\n",
       "       0.78504875, 0.7892938 , 0.79069241, 0.80615582, 0.79207131,\n",
       "       0.76969369, 0.7907712 , 0.79915296, 0.79348961, 0.79069241,\n",
       "       0.78504875, 0.7892938 , 0.79069241, 0.80615582, 0.79207131,\n",
       "       0.77250074, 0.7907712 , 0.79915296, 0.79348961, 0.79069241,\n",
       "       0.78504875, 0.7892938 , 0.79069241, 0.80615582, 0.79207131,\n",
       "       0.77250074, 0.79217965, 0.79915296, 0.79348961, 0.79069241,\n",
       "       0.78504875, 0.7892938 , 0.79069241, 0.80615582, 0.79207131,\n",
       "       0.77390919, 0.79217965, 0.79915296, 0.79348961, 0.79069241,\n",
       "       0.78504875, 0.7892938 , 0.79069241, 0.80615582, 0.79207131,\n",
       "       0.77672609, 0.79217965, 0.7892938 , 0.79067271, 0.79069241,\n",
       "       0.78504875, 0.7892938 , 0.79069241, 0.80615582, 0.79207131,\n",
       "       0.76406973, 0.77952329, 0.79915296, 0.79348961, 0.79069241,\n",
       "       0.78504875, 0.7892938 , 0.79069241, 0.80615582, 0.79207131,\n",
       "       0.77107259, 0.7809219 , 0.79915296, 0.79348961, 0.79069241,\n",
       "       0.78504875, 0.7892938 , 0.79069241, 0.80615582, 0.79207131,\n",
       "       0.77668669, 0.78233035, 0.79915296, 0.79348961, 0.79069241,\n",
       "       0.78504875, 0.7892938 , 0.79069241, 0.80615582, 0.79207131,\n",
       "       0.77669654, 0.78233035, 0.79915296, 0.79348961, 0.79069241,\n",
       "       0.78504875, 0.7892938 , 0.79069241, 0.80615582, 0.79207131,\n",
       "       0.76828524, 0.78233035, 0.7892938 , 0.79067271, 0.79069241,\n",
       "       0.78504875, 0.7892938 , 0.79069241, 0.80615582, 0.79207131,\n",
       "       0.74723727, 0.78378804, 0.79495716, 0.7892938 , 0.79069241,\n",
       "       0.78504875, 0.7892938 , 0.79069241, 0.80615582, 0.79207131,\n",
       "       0.75706688, 0.78518664, 0.79495716, 0.7892938 , 0.79069241,\n",
       "       0.78504875, 0.7892938 , 0.79069241, 0.80615582, 0.79207131,\n",
       "       0.75704718, 0.78236974, 0.79495716, 0.7892938 , 0.79069241,\n",
       "       0.78504875, 0.7892938 , 0.79069241, 0.80615582, 0.79207131,\n",
       "       0.75564858, 0.78236974, 0.79495716, 0.7892938 , 0.79069241,\n",
       "       0.78504875, 0.7892938 , 0.79069241, 0.80615582, 0.79207131,\n",
       "       0.77112184, 0.78236974, 0.785098  , 0.7864769 , 0.79069241,\n",
       "       0.78504875, 0.7892938 , 0.79069241, 0.80615582, 0.79207131,\n",
       "       0.74582882, 0.78238944, 0.79355855, 0.7878952 , 0.79069241,\n",
       "       0.78504875, 0.7892938 , 0.79069241, 0.80615582, 0.79207131,\n",
       "       0.75987393, 0.78378804, 0.79355855, 0.7878952 , 0.79069241,\n",
       "       0.78504875, 0.7892938 , 0.79069241, 0.80615582, 0.79207131,\n",
       "       0.76407958, 0.78097114, 0.79355855, 0.7878952 , 0.79069241,\n",
       "       0.78504875, 0.7892938 , 0.79069241, 0.80615582, 0.79207131,\n",
       "       0.76690633, 0.78097114, 0.79355855, 0.7878952 , 0.79069241,\n",
       "       0.78504875, 0.7892938 , 0.79069241, 0.80615582, 0.79207131,\n",
       "       0.77674579, 0.78097114, 0.7836994 , 0.7850783 , 0.79069241,\n",
       "       0.78504875, 0.7892938 , 0.79069241, 0.80615582, 0.79207131,\n",
       "       0.74302177, 0.77958239, 0.79355855, 0.7878952 , 0.79069241,\n",
       "       0.78504875, 0.7892938 , 0.79069241, 0.80615582, 0.79207131,\n",
       "       0.75002462, 0.78238944, 0.79355855, 0.7878952 , 0.79069241,\n",
       "       0.78504875, 0.7892938 , 0.79069241, 0.80615582, 0.79207131,\n",
       "       0.75564858, 0.78097114, 0.79355855, 0.7878952 , 0.79069241,\n",
       "       0.78504875, 0.7892938 , 0.79069241, 0.80615582, 0.79207131,\n",
       "       0.76270068, 0.78097114, 0.79355855, 0.7878952 , 0.79069241,\n",
       "       0.78504875, 0.7892938 , 0.79069241, 0.80615582, 0.79207131,\n",
       "       0.77675564, 0.78097114, 0.7836994 , 0.7850783 , 0.79069241,\n",
       "       0.78504875, 0.7892938 , 0.79069241, 0.80615582, 0.79207131,\n",
       "       0.74443022, 0.77817394, 0.79355855, 0.7878952 , 0.79069241,\n",
       "       0.78504875, 0.7892938 , 0.79069241, 0.80615582, 0.79207131,\n",
       "       0.75003447, 0.78098099, 0.79355855, 0.7878952 , 0.79069241,\n",
       "       0.78504875, 0.7892938 , 0.79069241, 0.80615582, 0.79207131,\n",
       "       0.75845563, 0.78097114, 0.79355855, 0.7878952 , 0.79069241,\n",
       "       0.78504875, 0.7892938 , 0.79069241, 0.80615582, 0.79207131,\n",
       "       0.76408943, 0.78097114, 0.79355855, 0.7878952 , 0.79069241,\n",
       "       0.78504875, 0.7892938 , 0.79069241, 0.80615582, 0.79207131,\n",
       "       0.76692603, 0.78097114, 0.7836994 , 0.7850783 , 0.79069241,\n",
       "       0.78504875, 0.7892938 , 0.79069241, 0.80615582, 0.79207131,\n",
       "       0.74725697, 0.77817394, 0.79355855, 0.7878952 , 0.79069241,\n",
       "       0.78504875, 0.7892938 , 0.79069241, 0.80615582, 0.79207131,\n",
       "       0.75286122, 0.78098099, 0.79355855, 0.7878952 , 0.79069241,\n",
       "       0.78504875, 0.7892938 , 0.79069241, 0.80615582, 0.79207131,\n",
       "       0.75564858, 0.78097114, 0.79355855, 0.7878952 , 0.79069241,\n",
       "       0.78504875, 0.7892938 , 0.79069241, 0.80615582, 0.79207131,\n",
       "       0.76129223, 0.78097114, 0.79355855, 0.7878952 , 0.79069241,\n",
       "       0.78504875, 0.7892938 , 0.79069241, 0.80615582, 0.79207131,\n",
       "       0.77254999, 0.78097114, 0.7836994 , 0.7850783 , 0.79069241,\n",
       "       0.78504875, 0.7892938 , 0.79069241, 0.80615582, 0.79207131,\n",
       "       0.75003447, 0.77817394, 0.79355855, 0.7878952 , 0.79069241,\n",
       "       0.78504875, 0.7892938 , 0.79069241, 0.80615582, 0.79207131,\n",
       "       0.75986408, 0.78098099, 0.79355855, 0.7878952 , 0.79069241,\n",
       "       0.78504875, 0.7892938 , 0.79069241, 0.80615582, 0.79207131,\n",
       "       0.75703733, 0.78097114, 0.79355855, 0.7878952 , 0.79069241,\n",
       "       0.78504875, 0.7892938 , 0.79069241, 0.80615582, 0.79207131,\n",
       "       0.76267113, 0.78097114, 0.79355855, 0.7878952 , 0.79069241,\n",
       "       0.78504875, 0.7892938 , 0.79069241, 0.80615582, 0.79207131,\n",
       "       0.77395844, 0.78097114, 0.7836994 , 0.7850783 , 0.79069241,\n",
       "       0.78504875, 0.7892938 , 0.79069241, 0.80615582, 0.79207131,\n",
       "       0.74863587, 0.77817394, 0.79355855, 0.7878952 , 0.79069241,\n",
       "       0.78504875, 0.7892938 , 0.79069241, 0.80615582, 0.79207131,\n",
       "       0.75986408, 0.78098099, 0.79355855, 0.7878952 , 0.79069241,\n",
       "       0.78504875, 0.7892938 , 0.79069241, 0.80615582, 0.79207131,\n",
       "       0.75844578, 0.78097114, 0.79355855, 0.7878952 , 0.79069241,\n",
       "       0.78504875, 0.7892938 , 0.79069241, 0.80615582, 0.79207131,\n",
       "       0.76407958, 0.78097114, 0.79355855, 0.7878952 , 0.79069241,\n",
       "       0.78504875, 0.7892938 , 0.79069241, 0.80615582, 0.79207131,\n",
       "       0.77395844, 0.78097114, 0.7836994 , 0.7850783 , 0.79069241,\n",
       "       0.78504875, 0.7892938 , 0.79069241, 0.80615582, 0.79207131])"
      ]
     },
     "execution_count": 31,
     "metadata": {},
     "output_type": "execute_result"
    }
   ],
   "source": [
    "gs.cv_results_['mean_test_score']"
   ]
  },
  {
   "cell_type": "code",
   "execution_count": 32,
   "id": "4ef998e9",
   "metadata": {},
   "outputs": [
    {
     "data": {
      "text/plain": [
       "{'max_depth': 6, 'min_impurity_decrease': 0.0002, 'min_samples_split': 12}"
      ]
     },
     "execution_count": 32,
     "metadata": {},
     "output_type": "execute_result"
    }
   ],
   "source": [
    "import numpy as np\n",
    "\n",
    "best_index = np.argmax(gs.cv_results_['mean_test_score'])\n",
    "gs.cv_results_['params'][best_index]"
   ]
  },
  {
   "cell_type": "code",
   "execution_count": 33,
   "id": "ae3e8cdc",
   "metadata": {},
   "outputs": [
    {
     "data": {
      "text/plain": [
       "range(2, 100, 10)"
      ]
     },
     "execution_count": 33,
     "metadata": {},
     "output_type": "execute_result"
    }
   ],
   "source": [
    "range(2, 100, 10)"
   ]
  },
  {
   "cell_type": "code",
   "execution_count": 34,
   "id": "dfccb390",
   "metadata": {},
   "outputs": [],
   "source": [
    "params = {'min_impurity_decrease': np.arange(0.0001, 0.001, 0.0001),\n",
    "          'max_depth': range(5, 20, 1),\n",
    "          'min_samples_split': range(2, 100, 10)\n",
    "          }"
   ]
  },
  {
   "cell_type": "code",
   "execution_count": 35,
   "id": "2d039308",
   "metadata": {},
   "outputs": [
    {
     "data": {
      "text/plain": [
       "GridSearchCV(estimator=DecisionTreeClassifier(random_state=42), n_jobs=-1,\n",
       "             param_grid={'max_depth': range(5, 20),\n",
       "                         'min_impurity_decrease': array([0.0001, 0.0002, 0.0003, 0.0004, 0.0005, 0.0006, 0.0007, 0.0008,\n",
       "       0.0009]),\n",
       "                         'min_samples_split': range(2, 100, 10)})"
      ]
     },
     "execution_count": 35,
     "metadata": {},
     "output_type": "execute_result"
    }
   ],
   "source": [
    "gs = GridSearchCV(DecisionTreeClassifier(random_state=42), params, n_jobs=-1)\n",
    "gs.fit(X_train, y_train)"
   ]
  },
  {
   "cell_type": "code",
   "execution_count": null,
   "id": "d6702eec",
   "metadata": {},
   "outputs": [],
   "source": []
  },
  {
   "cell_type": "code",
   "execution_count": 36,
   "id": "a8af0f2f",
   "metadata": {},
   "outputs": [
    {
     "data": {
      "text/plain": [
       "{'max_depth': 6,\n",
       " 'min_impurity_decrease': 0.0007000000000000001,\n",
       " 'min_samples_split': 12}"
      ]
     },
     "execution_count": 36,
     "metadata": {},
     "output_type": "execute_result"
    }
   ],
   "source": [
    "gs.best_params_"
   ]
  },
  {
   "cell_type": "code",
   "execution_count": 37,
   "id": "aac01125",
   "metadata": {},
   "outputs": [
    {
     "data": {
      "text/plain": [
       "0.8188023244361272"
      ]
     },
     "execution_count": 37,
     "metadata": {},
     "output_type": "execute_result"
    }
   ],
   "source": [
    "np.max(gs.cv_results_['mean_test_score'])"
   ]
  },
  {
   "cell_type": "code",
   "execution_count": 38,
   "id": "d87df37c",
   "metadata": {},
   "outputs": [
    {
     "data": {
      "text/plain": [
       "0.8100558659217877"
      ]
     },
     "execution_count": 38,
     "metadata": {},
     "output_type": "execute_result"
    }
   ],
   "source": [
    "dt = gs.best_estimator_\n",
    "\n",
    "dt.score(X_test, y_test)"
   ]
  },
  {
   "cell_type": "code",
   "execution_count": 39,
   "id": "d5c31b01",
   "metadata": {},
   "outputs": [
    {
     "data": {
      "text/plain": [
       "(array([0, 1, 2, 3, 4, 5, 6, 7, 8, 9]),\n",
       " array([ 90,  89,  94,  96, 113,  92, 111, 113,  89, 113], dtype=int64))"
      ]
     },
     "execution_count": 39,
     "metadata": {},
     "output_type": "execute_result"
    }
   ],
   "source": [
    "#SPIPY\n",
    "from scipy.stats import uniform, randint\n",
    "rgen = randint(0, 10)\n",
    "rgen.rvs(10)\n",
    "\n",
    "\n",
    "# 샘플링 갯수를 늘려서 고르게 가져오는 것 확인\n",
    "np.unique(rgen.rvs(1000), return_counts=True)"
   ]
  },
  {
   "cell_type": "code",
   "execution_count": 40,
   "id": "61531bd8",
   "metadata": {},
   "outputs": [
    {
     "data": {
      "text/plain": [
       "array([0.76002166, 0.15609087, 0.18069064, 0.53564306, 0.97284253,\n",
       "       0.08323118, 0.23985906, 0.17550565, 0.01960609, 0.41622431])"
      ]
     },
     "execution_count": 40,
     "metadata": {},
     "output_type": "execute_result"
    }
   ],
   "source": [
    "# 0 ~ 1 사이의 10개 실수를 추출\n",
    "ugen = uniform(0, 1)\n",
    "ugen.rvs(10)"
   ]
  },
  {
   "cell_type": "code",
   "execution_count": 41,
   "id": "d2043247",
   "metadata": {},
   "outputs": [
    {
     "data": {
      "text/plain": [
       "RandomizedSearchCV(estimator=DecisionTreeClassifier(random_state=42),\n",
       "                   n_iter=100, n_jobs=-1,\n",
       "                   param_distributions={'max_depth': <scipy.stats._distn_infrastructure.rv_frozen object at 0x000002603A30ED60>,\n",
       "                                        'min_impurity_decrease': <scipy.stats._distn_infrastructure.rv_frozen object at 0x000002603B8F3F40>,\n",
       "                                        'min_samples_leaf': <scipy.stats._distn_infrastructure.rv_frozen object at 0x000002603A7DDF40>,\n",
       "                                        'min_samples_split': <scipy.stats._distn_infrastructure.rv_frozen object at 0x000002603B8F3E20>},\n",
       "                   random_state=42)"
      ]
     },
     "execution_count": 41,
     "metadata": {},
     "output_type": "execute_result"
    }
   ],
   "source": [
    "#min_samples_leaf 매개 변수 사용 \n",
    "\n",
    "from sklearn.model_selection import RandomizedSearchCV\n",
    "\n",
    "params = {'min_impurity_decrease': uniform(0.0001, 0.001),\n",
    "          'max_depth': randint(20, 50),\n",
    "          'min_samples_split': randint(2, 25),\n",
    "          'min_samples_leaf': randint(1, 25),\n",
    "          }\n",
    "\n",
    "gs = RandomizedSearchCV(DecisionTreeClassifier(random_state=42), params, \n",
    "                        n_iter=100, n_jobs=-1, random_state=42)\n",
    "gs.fit(X_train, y_train)"
   ]
  },
  {
   "cell_type": "code",
   "execution_count": 42,
   "id": "f1b4f560",
   "metadata": {},
   "outputs": [
    {
     "data": {
      "text/plain": [
       "{'max_depth': 37,\n",
       " 'min_impurity_decrease': 0.0010488855372533332,\n",
       " 'min_samples_leaf': 14,\n",
       " 'min_samples_split': 19}"
      ]
     },
     "execution_count": 42,
     "metadata": {},
     "output_type": "execute_result"
    }
   ],
   "source": [
    "gs.best_params_"
   ]
  },
  {
   "cell_type": "code",
   "execution_count": 43,
   "id": "0885fb14",
   "metadata": {},
   "outputs": [
    {
     "data": {
      "text/plain": [
       "0.8201910765291048"
      ]
     },
     "execution_count": 43,
     "metadata": {},
     "output_type": "execute_result"
    }
   ],
   "source": [
    "np.max(gs.cv_results_['mean_test_score'])"
   ]
  },
  {
   "cell_type": "code",
   "execution_count": 44,
   "id": "383c6023",
   "metadata": {},
   "outputs": [
    {
     "data": {
      "text/plain": [
       "0.7932960893854749"
      ]
     },
     "execution_count": 44,
     "metadata": {},
     "output_type": "execute_result"
    }
   ],
   "source": [
    "dt = gs.best_estimator_\n",
    "\n",
    "dt.score(X_test, y_test)"
   ]
  },
  {
   "cell_type": "code",
   "execution_count": 4,
   "id": "cb6f9552",
   "metadata": {},
   "outputs": [
    {
     "data": {
      "image/png": "[encoded data removed]",
      "text/plain": [
       "<Figure size 432x288 with 1 Axes>"
      ]
     },
     "metadata": {
      "needs_background": "light"
     },
     "output_type": "display_data"
    },
    {
     "name": "stdout",
     "output_type": "stream",
     "text": [
      "AUC: 0.68\n"
     ]
    }
   ],
   "source": [
    "# 필요한 라이브러리 임포트\n",
    "import pandas as pd\n",
    "from sklearn.model_selection import train_test_split\n",
    "from sklearn.tree import DecisionTreeClassifier\n",
    "from sklearn.metrics import roc_curve, auc, roc_auc_score\n",
    "import matplotlib.pyplot as plt\n",
    "\n",
    "\n",
    "# 데이터 로드 및 전처리\n",
    "# 타이타닉 데이터셋 로드 (이 예시에서는 seaborn 라이브러리를 사용하여 데이터셋을 로드합니다.)\n",
    "\n",
    "import seaborn as sns\n",
    "data = sns.load_dataset('titanic')\n",
    "\n",
    "# 결측값 처리 및 필요없는 열 제거\n",
    "data = data.dropna(subset=['age', 'fare', 'embarked'])\n",
    "data = data.drop(columns=['deck', 'embark_town', 'alive', 'class', 'who', 'adult_male', 'parch', 'sibsp', 'alone'])\n",
    "\n",
    "# 범주형 변수 변환\n",
    "data['sex'] = data['sex'].map({'male': 0, 'female': 1})\n",
    "data = pd.get_dummies(data, columns=['embarked'])\n",
    "\n",
    "# 특징과 레이블 분리\n",
    "X = data.drop(columns=['survived'])\n",
    "y = data['survived']\n",
    "\n",
    "# 학습 데이터와 테스트 데이터로 분리\n",
    "X_train, X_test, y_train, y_test = train_test_split(X, y, test_size=0.3, random_state=42)\n",
    "\n",
    "# 결정 트리 모델 생성 및 학습\n",
    "model = DecisionTreeClassifier(random_state=42)\n",
    "model.fit(X_train, y_train)\n",
    "\n",
    "# 예측 확률 계산\n",
    "y_proba = model.predict_proba(X_test)[:, 1]\n",
    "\n",
    "# ROC 곡선 계산\n",
    "fpr, tpr, thresholds = roc_curve(y_test, y_proba)\n",
    "\n",
    "# AUC 계산\n",
    "roc_auc = auc(fpr, tpr)\n",
    "\n",
    "# ROC 곡선 그리기\n",
    "plt.figure()\n",
    "plt.plot(fpr, tpr, color='darkorange', lw=2, label=f'ROC curve (area = {roc_auc:.2f})')\n",
    "plt.plot([0, 1], [0, 1], color='navy', lw=2, linestyle='--')\n",
    "plt.xlim([0.0, 1.0])\n",
    "plt.ylim([0.0, 1.05])\n",
    "plt.xlabel('False Positive Rate')\n",
    "plt.ylabel('True Positive Rate')\n",
    "plt.title('Receiver Operating Characteristic')\n",
    "plt.legend(loc='lower right')\n",
    "plt.show()\n",
    "\n",
    "# AUC 값 출력\n",
    "print(f'AUC: {roc_auc:.2f}')"
   ]
  },
  {
   "cell_type": "code",
   "execution_count": 75,
   "id": "95c00e00",
   "metadata": {},
   "outputs": [
    {
     "name": "stdout",
     "output_type": "stream",
     "text": [
      "<class 'pandas.core.frame.DataFrame'>\n",
      "RangeIndex: 398 entries, 0 to 397\n",
      "Data columns (total 9 columns):\n",
      " #   Column        Non-Null Count  Dtype  \n",
      "---  ------        --------------  -----  \n",
      " 0   mpg           398 non-null    float64\n",
      " 1   cylinders     398 non-null    int64  \n",
      " 2   displacement  398 non-null    float64\n",
      " 3   horsepower    392 non-null    float64\n",
      " 4   weight        398 non-null    int64  \n",
      " 5   acceleration  398 non-null    float64\n",
      " 6   model_year    398 non-null    int64  \n",
      " 7   origin        398 non-null    object \n",
      " 8   name          398 non-null    object \n",
      "dtypes: float64(4), int64(3), object(2)\n",
      "memory usage: 28.1+ KB\n"
     ]
    }
   ],
   "source": [
    "#mpg 연비 예측 모델 생성 \n",
    "import pandas as pd \n",
    "import seaborn as sns\n",
    "\n",
    "mpg = sns.load_dataset(\"mpg\")\n"
   ]
  },
  {
   "cell_type": "code",
   "execution_count": 92,
   "id": "b7b603c4",
   "metadata": {},
   "outputs": [
    {
     "name": "stdout",
     "output_type": "stream",
     "text": [
      "<class 'pandas.core.frame.DataFrame'>\n",
      "RangeIndex: 398 entries, 0 to 397\n",
      "Data columns (total 9 columns):\n",
      " #   Column        Non-Null Count  Dtype  \n",
      "---  ------        --------------  -----  \n",
      " 0   mpg           398 non-null    float64\n",
      " 1   cylinders     398 non-null    int64  \n",
      " 2   displacement  398 non-null    float64\n",
      " 3   horsepower    398 non-null    float64\n",
      " 4   weight        398 non-null    int64  \n",
      " 5   acceleration  398 non-null    float64\n",
      " 6   model_year    398 non-null    int64  \n",
      " 7   origin        398 non-null    object \n",
      " 8   name          398 non-null    object \n",
      "dtypes: float64(4), int64(3), object(2)\n",
      "memory usage: 28.1+ KB\n"
     ]
    }
   ],
   "source": [
    "mpg.info()"
   ]
  },
  {
   "cell_type": "code",
   "execution_count": 100,
   "id": "029cde78",
   "metadata": {},
   "outputs": [],
   "source": [
    "# NaN 값 평균치로 채움\n",
    "#df['horsepower'] = df['horsepower'].fillna(df['horsepower'].mean())\n",
    "#df.describe()\n",
    "\n",
    "# 데이터 분할\n",
    "X_train, X_test, y_train, y_test = train_test_split(\n",
    "    X, y, test_size=0.2, random_state=42)\n"
   ]
  },
  {
   "cell_type": "code",
   "execution_count": 77,
   "id": "cb6296ed",
   "metadata": {},
   "outputs": [
    {
     "data": {
      "text/html": [
       "<div>\n",
       "<style scoped>\n",
       "    .dataframe tbody tr th:only-of-type {\n",
       "        vertical-align: middle;\n",
       "    }\n",
       "\n",
       "    .dataframe tbody tr th {\n",
       "        vertical-align: top;\n",
       "    }\n",
       "\n",
       "    .dataframe thead th {\n",
       "        text-align: right;\n",
       "    }\n",
       "</style>\n",
       "<table border=\"1\" class=\"dataframe\">\n",
       "  <thead>\n",
       "    <tr style=\"text-align: right;\">\n",
       "      <th></th>\n",
       "      <th>mpg</th>\n",
       "      <th>cylinders</th>\n",
       "      <th>displacement</th>\n",
       "      <th>horsepower</th>\n",
       "      <th>weight</th>\n",
       "      <th>acceleration</th>\n",
       "      <th>model_year</th>\n",
       "    </tr>\n",
       "  </thead>\n",
       "  <tbody>\n",
       "    <tr>\n",
       "      <th>count</th>\n",
       "      <td>398.000000</td>\n",
       "      <td>398.000000</td>\n",
       "      <td>398.000000</td>\n",
       "      <td>392.000000</td>\n",
       "      <td>398.000000</td>\n",
       "      <td>398.000000</td>\n",
       "      <td>398.000000</td>\n",
       "    </tr>\n",
       "    <tr>\n",
       "      <th>mean</th>\n",
       "      <td>23.514573</td>\n",
       "      <td>5.454774</td>\n",
       "      <td>193.425879</td>\n",
       "      <td>104.469388</td>\n",
       "      <td>2970.424623</td>\n",
       "      <td>15.568090</td>\n",
       "      <td>76.010050</td>\n",
       "    </tr>\n",
       "    <tr>\n",
       "      <th>std</th>\n",
       "      <td>7.815984</td>\n",
       "      <td>1.701004</td>\n",
       "      <td>104.269838</td>\n",
       "      <td>38.491160</td>\n",
       "      <td>846.841774</td>\n",
       "      <td>2.757689</td>\n",
       "      <td>3.697627</td>\n",
       "    </tr>\n",
       "    <tr>\n",
       "      <th>min</th>\n",
       "      <td>9.000000</td>\n",
       "      <td>3.000000</td>\n",
       "      <td>68.000000</td>\n",
       "      <td>46.000000</td>\n",
       "      <td>1613.000000</td>\n",
       "      <td>8.000000</td>\n",
       "      <td>70.000000</td>\n",
       "    </tr>\n",
       "    <tr>\n",
       "      <th>25%</th>\n",
       "      <td>17.500000</td>\n",
       "      <td>4.000000</td>\n",
       "      <td>104.250000</td>\n",
       "      <td>75.000000</td>\n",
       "      <td>2223.750000</td>\n",
       "      <td>13.825000</td>\n",
       "      <td>73.000000</td>\n",
       "    </tr>\n",
       "    <tr>\n",
       "      <th>50%</th>\n",
       "      <td>23.000000</td>\n",
       "      <td>4.000000</td>\n",
       "      <td>148.500000</td>\n",
       "      <td>93.500000</td>\n",
       "      <td>2803.500000</td>\n",
       "      <td>15.500000</td>\n",
       "      <td>76.000000</td>\n",
       "    </tr>\n",
       "    <tr>\n",
       "      <th>75%</th>\n",
       "      <td>29.000000</td>\n",
       "      <td>8.000000</td>\n",
       "      <td>262.000000</td>\n",
       "      <td>126.000000</td>\n",
       "      <td>3608.000000</td>\n",
       "      <td>17.175000</td>\n",
       "      <td>79.000000</td>\n",
       "    </tr>\n",
       "    <tr>\n",
       "      <th>max</th>\n",
       "      <td>46.600000</td>\n",
       "      <td>8.000000</td>\n",
       "      <td>455.000000</td>\n",
       "      <td>230.000000</td>\n",
       "      <td>5140.000000</td>\n",
       "      <td>24.800000</td>\n",
       "      <td>82.000000</td>\n",
       "    </tr>\n",
       "  </tbody>\n",
       "</table>\n",
       "</div>"
      ],
      "text/plain": [
       "              mpg   cylinders  displacement  horsepower       weight  \\\n",
       "count  398.000000  398.000000    398.000000  392.000000   398.000000   \n",
       "mean    23.514573    5.454774    193.425879  104.469388  2970.424623   \n",
       "std      7.815984    1.701004    104.269838   38.491160   846.841774   \n",
       "min      9.000000    3.000000     68.000000   46.000000  1613.000000   \n",
       "25%     17.500000    4.000000    104.250000   75.000000  2223.750000   \n",
       "50%     23.000000    4.000000    148.500000   93.500000  2803.500000   \n",
       "75%     29.000000    8.000000    262.000000  126.000000  3608.000000   \n",
       "max     46.600000    8.000000    455.000000  230.000000  5140.000000   \n",
       "\n",
       "       acceleration  model_year  \n",
       "count    398.000000  398.000000  \n",
       "mean      15.568090   76.010050  \n",
       "std        2.757689    3.697627  \n",
       "min        8.000000   70.000000  \n",
       "25%       13.825000   73.000000  \n",
       "50%       15.500000   76.000000  \n",
       "75%       17.175000   79.000000  \n",
       "max       24.800000   82.000000  "
      ]
     },
     "execution_count": 77,
     "metadata": {},
     "output_type": "execute_result"
    }
   ],
   "source": [
    "mpg.describe()"
   ]
  },
  {
   "cell_type": "code",
   "execution_count": 78,
   "id": "803f16d9",
   "metadata": {},
   "outputs": [
    {
     "data": {
      "text/html": [
       "<div>\n",
       "<style scoped>\n",
       "    .dataframe tbody tr th:only-of-type {\n",
       "        vertical-align: middle;\n",
       "    }\n",
       "\n",
       "    .dataframe tbody tr th {\n",
       "        vertical-align: top;\n",
       "    }\n",
       "\n",
       "    .dataframe thead th {\n",
       "        text-align: right;\n",
       "    }\n",
       "</style>\n",
       "<table border=\"1\" class=\"dataframe\">\n",
       "  <thead>\n",
       "    <tr style=\"text-align: right;\">\n",
       "      <th></th>\n",
       "      <th>survived</th>\n",
       "      <th>pclass</th>\n",
       "      <th>sex</th>\n",
       "      <th>age</th>\n",
       "      <th>fare</th>\n",
       "      <th>embarked_C</th>\n",
       "      <th>embarked_Q</th>\n",
       "      <th>embarked_S</th>\n",
       "    </tr>\n",
       "  </thead>\n",
       "  <tbody>\n",
       "    <tr>\n",
       "      <th>0</th>\n",
       "      <td>0</td>\n",
       "      <td>3</td>\n",
       "      <td>0</td>\n",
       "      <td>22.0</td>\n",
       "      <td>7.2500</td>\n",
       "      <td>0</td>\n",
       "      <td>0</td>\n",
       "      <td>1</td>\n",
       "    </tr>\n",
       "    <tr>\n",
       "      <th>1</th>\n",
       "      <td>1</td>\n",
       "      <td>1</td>\n",
       "      <td>1</td>\n",
       "      <td>38.0</td>\n",
       "      <td>71.2833</td>\n",
       "      <td>1</td>\n",
       "      <td>0</td>\n",
       "      <td>0</td>\n",
       "    </tr>\n",
       "    <tr>\n",
       "      <th>2</th>\n",
       "      <td>1</td>\n",
       "      <td>3</td>\n",
       "      <td>1</td>\n",
       "      <td>26.0</td>\n",
       "      <td>7.9250</td>\n",
       "      <td>0</td>\n",
       "      <td>0</td>\n",
       "      <td>1</td>\n",
       "    </tr>\n",
       "    <tr>\n",
       "      <th>3</th>\n",
       "      <td>1</td>\n",
       "      <td>1</td>\n",
       "      <td>1</td>\n",
       "      <td>35.0</td>\n",
       "      <td>53.1000</td>\n",
       "      <td>0</td>\n",
       "      <td>0</td>\n",
       "      <td>1</td>\n",
       "    </tr>\n",
       "    <tr>\n",
       "      <th>4</th>\n",
       "      <td>0</td>\n",
       "      <td>3</td>\n",
       "      <td>0</td>\n",
       "      <td>35.0</td>\n",
       "      <td>8.0500</td>\n",
       "      <td>0</td>\n",
       "      <td>0</td>\n",
       "      <td>1</td>\n",
       "    </tr>\n",
       "    <tr>\n",
       "      <th>...</th>\n",
       "      <td>...</td>\n",
       "      <td>...</td>\n",
       "      <td>...</td>\n",
       "      <td>...</td>\n",
       "      <td>...</td>\n",
       "      <td>...</td>\n",
       "      <td>...</td>\n",
       "      <td>...</td>\n",
       "    </tr>\n",
       "    <tr>\n",
       "      <th>885</th>\n",
       "      <td>0</td>\n",
       "      <td>3</td>\n",
       "      <td>1</td>\n",
       "      <td>39.0</td>\n",
       "      <td>29.1250</td>\n",
       "      <td>0</td>\n",
       "      <td>1</td>\n",
       "      <td>0</td>\n",
       "    </tr>\n",
       "    <tr>\n",
       "      <th>886</th>\n",
       "      <td>0</td>\n",
       "      <td>2</td>\n",
       "      <td>0</td>\n",
       "      <td>27.0</td>\n",
       "      <td>13.0000</td>\n",
       "      <td>0</td>\n",
       "      <td>0</td>\n",
       "      <td>1</td>\n",
       "    </tr>\n",
       "    <tr>\n",
       "      <th>887</th>\n",
       "      <td>1</td>\n",
       "      <td>1</td>\n",
       "      <td>1</td>\n",
       "      <td>19.0</td>\n",
       "      <td>30.0000</td>\n",
       "      <td>0</td>\n",
       "      <td>0</td>\n",
       "      <td>1</td>\n",
       "    </tr>\n",
       "    <tr>\n",
       "      <th>889</th>\n",
       "      <td>1</td>\n",
       "      <td>1</td>\n",
       "      <td>0</td>\n",
       "      <td>26.0</td>\n",
       "      <td>30.0000</td>\n",
       "      <td>1</td>\n",
       "      <td>0</td>\n",
       "      <td>0</td>\n",
       "    </tr>\n",
       "    <tr>\n",
       "      <th>890</th>\n",
       "      <td>0</td>\n",
       "      <td>3</td>\n",
       "      <td>0</td>\n",
       "      <td>32.0</td>\n",
       "      <td>7.7500</td>\n",
       "      <td>0</td>\n",
       "      <td>1</td>\n",
       "      <td>0</td>\n",
       "    </tr>\n",
       "  </tbody>\n",
       "</table>\n",
       "<p>712 rows × 8 columns</p>\n",
       "</div>"
      ],
      "text/plain": [
       "     survived  pclass  sex   age     fare  embarked_C  embarked_Q  embarked_S\n",
       "0           0       3    0  22.0   7.2500           0           0           1\n",
       "1           1       1    1  38.0  71.2833           1           0           0\n",
       "2           1       3    1  26.0   7.9250           0           0           1\n",
       "3           1       1    1  35.0  53.1000           0           0           1\n",
       "4           0       3    0  35.0   8.0500           0           0           1\n",
       "..        ...     ...  ...   ...      ...         ...         ...         ...\n",
       "885         0       3    1  39.0  29.1250           0           1           0\n",
       "886         0       2    0  27.0  13.0000           0           0           1\n",
       "887         1       1    1  19.0  30.0000           0           0           1\n",
       "889         1       1    0  26.0  30.0000           1           0           0\n",
       "890         0       3    0  32.0   7.7500           0           1           0\n",
       "\n",
       "[712 rows x 8 columns]"
      ]
     },
     "execution_count": 78,
     "metadata": {},
     "output_type": "execute_result"
    }
   ],
   "source": [
    "# 결측치 처리 (NaN 값 처리)\n",
    "data = data.dropna()\n",
    "# 무한대 값 처리 (무한대 값을 NaN으로 변환한 후 제거)\n",
    "data.replace([np.inf, -np.inf], np.nan, inplace=True)\n",
    "data = data.dropna()\n",
    "\n",
    "data"
   ]
  },
  {
   "cell_type": "code",
   "execution_count": 97,
   "id": "619e4da6",
   "metadata": {},
   "outputs": [],
   "source": [
    "mpg_notnull\n",
    "X = mpg[['cylinders', 'displacement','horsepower','weight','acceleration']]\n",
    "y = mpg['mpg'].to_numpy()\n",
    "from sklearn.model_selection import train_test_split\n",
    "\n",
    "# train_input, test_input, train_target, test_target\n",
    "X_train, X_test, y_train, y_test = train_test_split(\n",
    "    X, y, test_size=0.2, random_state=42)"
   ]
  },
  {
   "cell_type": "code",
   "execution_count": 101,
   "id": "90360ee6",
   "metadata": {},
   "outputs": [
    {
     "data": {
      "text/plain": [
       "((318, 5), (80, 5))"
      ]
     },
     "execution_count": 101,
     "metadata": {},
     "output_type": "execute_result"
    }
   ],
   "source": [
    "X_train.shape, X_test.shape"
   ]
  },
  {
   "cell_type": "code",
   "execution_count": 102,
   "id": "c2db79f0",
   "metadata": {},
   "outputs": [],
   "source": [
    "from sklearn.preprocessing import StandardScaler\n",
    "\n",
    "ss = StandardScaler()\n",
    "ss.fit(X_train)\n",
    "\n",
    "X_train_scaled = ss.transform(X_train)\n",
    "X_test_scaled = ss.transform(X_test)"
   ]
  },
  {
   "cell_type": "code",
   "execution_count": 103,
   "id": "11f2fe51",
   "metadata": {},
   "outputs": [
    {
     "data": {
      "text/plain": [
       "array([[ 1.52718818,  1.0901965 ,  1.26183446,  0.55282624, -1.31933367],\n",
       "       [-0.85051483, -0.92299623, -0.41351298, -0.99966729, -0.41318225],\n",
       "       [-0.85051483, -0.98134964, -0.95394763, -1.1247723 ,  0.92792185],\n",
       "       ...,\n",
       "       [-0.85051483, -0.56315019, -0.22436085, -0.54094894, -0.30444408],\n",
       "       [-0.85051483, -1.00080078, -1.11607803, -1.09498539,  0.60170734],\n",
       "       [-0.85051483, -0.92299623, -1.54842576, -1.21413301,  1.94281144]])"
      ]
     },
     "execution_count": 103,
     "metadata": {},
     "output_type": "execute_result"
    }
   ],
   "source": [
    "X_train_scaled"
   ]
  },
  {
   "cell_type": "code",
   "execution_count": 104,
   "id": "1322d898",
   "metadata": {},
   "outputs": [
    {
     "data": {
      "text/plain": [
       "array([[-0.85051483, -0.98134964, -1.35927363, -1.39881183,  0.63795339],\n",
       "       [-0.85051483, -0.69930815, -0.65670857, -0.40988656,  1.07290607],\n",
       "       [ 0.33833667,  0.38995555, -0.08925218, -0.39916327, -0.9568731 ],\n",
       "       [ 1.52718818,  1.22635446,  1.26183446,  1.15690469, -0.88438099],\n",
       "       [ 1.52718818,  1.22635446,  1.26183446,  1.51077313, -0.41318225],\n",
       "       [-0.85051483, -0.92299623, -0.41351298, -1.03541158,  0.31173888],\n",
       "       [-0.85051483, -0.50479678, -0.30542605, -0.12393226,  0.27549283],\n",
       "       [ 1.52718818,  2.41287384,  3.01824709,  2.10412829, -1.68179423],\n",
       "       [ 1.52718818,  0.66227147,  0.18096514,  1.29988184,  1.2178903 ],\n",
       "       [ 0.33833667,  0.07873735,  0.03151842, -0.1120175 ,  0.49296917],\n",
       "       [ 1.52718818,  1.92659541,  2.34270377,  1.04967183, -2.58794565],\n",
       "       [-0.85051483, -0.98134964, -0.98096937, -1.19626087, -0.23195197],\n",
       "       [-0.85051483, -0.98134964, -0.89990417, -1.20817563,  1.76158115],\n",
       "       [ 1.52718818,  1.0901965 ,  1.26183446,  1.09971383, -1.13810338],\n",
       "       [-0.85051483, -0.50479678, -0.7647955 , -0.50877909,  0.49296917],\n",
       "       [ 1.52718818,  1.85851643,  2.07248644,  2.36625306, -1.50056395],\n",
       "       [-0.85051483, -0.7771127 , -0.49457818, -0.46946037,  0.20300071],\n",
       "       [ 0.33833667, -0.28110869,  0.58629114,  0.2037237 , -0.73939676],\n",
       "       [ 1.52718818,  2.02385109,  2.07248644,  1.49051803, -1.64554818],\n",
       "       [-0.85051483, -0.98134964, -0.95394763, -1.19030349,  0.71044551],\n",
       "       [-0.85051483, -0.68958258, -0.73777377, -0.54571485,  0.85542973],\n",
       "       [ 0.33833667,  0.05928621, -0.22436085, -0.1620595 , -0.05072168],\n",
       "       [ 0.33833667,  0.38995555,  0.23500861, -0.15967655, -0.34069014],\n",
       "       [-0.85051483, -0.91327066, -0.54862164, -1.06519849,  0.09426254],\n",
       "       [ 1.52718818,  1.1193732 ,  0.7213998 ,  0.63742105, -1.31933367],\n",
       "       [-0.85051483, -0.92299623, -1.38629536, -0.99966729,  3.24766948],\n",
       "       [-0.85051483, -0.91327066, -0.35946951, -0.838818  , -0.05072168],\n",
       "       [-0.85051483, -0.39781552, -0.41351298, -0.27286679,  0.1305086 ],\n",
       "       [ 0.33833667,  0.64282033,  0.45118247,  0.52542228, -0.19570591],\n",
       "       [ 1.52718818,  2.02385109,  1.72120392,  2.30787073, -1.13810338],\n",
       "       [-0.85051483, -0.50479678, -0.46755644, -0.21329298, -0.01447563],\n",
       "       [-0.85051483, -0.84519168, -0.79181724, -1.17838873, -0.1232138 ],\n",
       "       [ 1.52718818,  1.53757266,  0.58629114,  1.10924564,  0.63795339],\n",
       "       [-0.85051483, -0.76738713, -0.22436085, -0.82332881, -0.05072168],\n",
       "       [-0.85051483, -1.02997749, -1.03501283, -1.13192115,  0.27549283],\n",
       "       [ 1.52718818,  2.02385109,  3.42357308,  1.55962365, -2.22548508],\n",
       "       [ 0.33833667, -0.35891324,  0.09989995, -0.59218242, -0.59441253],\n",
       "       [ 1.52718818,  1.09992206,  1.12672579,  0.54329443, -0.88438099],\n",
       "       [ 1.52718818,  1.22635446,  1.26183446,  1.82174843, -0.41318225],\n",
       "       [-0.85051483, -0.91327066, -0.54862164, -0.89362591,  0.31173888],\n",
       "       [ 0.33833667, -0.18385301,  0.31607381, -0.32052584, -0.99311916],\n",
       "       [-0.85051483, -0.92299623, -1.1701215 , -1.35234426,  1.2178903 ],\n",
       "       [-0.85051483, -0.68958258,  0.23500861, -0.04291188, -0.41318225],\n",
       "       [ 1.52718818,  1.63482835,  3.01824709,  1.96115114, -0.59441253],\n",
       "       [-0.85051483, -0.69930815, -0.17031738, -0.55167223, -0.41318225],\n",
       "       [-0.85051483, -0.69930815, -0.41351298, -0.96392301, -0.41318225],\n",
       "       [-0.85051483, -0.73821043, -0.7647955 , -0.86145605, -0.59441253],\n",
       "       [-0.85051483, -0.68958258,  0.31607381, -0.35507865, -0.77564282],\n",
       "       [-0.85051483, -0.85491725, -0.22436085, -0.70775562,  0.67419945],\n",
       "       [-0.85051483, -0.99107521, -0.87288244, -0.88886   ,  0.31173888],\n",
       "       [-0.85051483, -0.50479678, -0.8458607 , -0.6684369 ,  1.2178903 ],\n",
       "       [-0.85051483, -1.02997749, -1.03501283, -1.18434611, -0.15945985],\n",
       "       [-0.85051483, -0.82574054, -0.8458607 , -0.8090311 ,  0.49296917],\n",
       "       [ 1.52718818,  2.02385109,  2.34270377,  1.73119623, -1.13810338],\n",
       "       [ 0.33833667, -0.18385301,  0.18096514, -0.29073893, -1.10185733],\n",
       "       [ 1.52718818,  2.02385109,  1.93737778,  1.78123823, -1.50056395],\n",
       "       [ 1.52718818,  1.63482835,  1.26183446,  1.15690469, -0.9568731 ],\n",
       "       [-0.85051483, -0.56315019, -0.35946951, -0.3074196 , -0.05072168],\n",
       "       [-0.85051483, -0.50479678, -0.35946951, -0.84000948, -0.05072168],\n",
       "       [ 0.33833667,  0.32187657, -0.22436085,  0.35146675,  0.1305086 ],\n",
       "       [ 1.52718818,  1.53757266,  2.07248644,  0.82805725, -1.68179423],\n",
       "       [-0.85051483, -0.98134964, -1.35927363, -1.39881183,  0.67419945],\n",
       "       [-0.85051483, -0.50479678, -0.54862164, -0.39320589,  0.49296917],\n",
       "       [-0.85051483, -0.69930815, -0.44053471,  0.01189603,  1.39912058],\n",
       "       [ 0.33833667,  0.05928621, -0.22436085, -0.07746469,  0.1305086 ],\n",
       "       [-0.85051483, -0.76738713, -0.22436085, -0.88290262, -0.59441253],\n",
       "       [-0.85051483, -0.39781552, -0.49457818, -0.13584702,  0.71044551],\n",
       "       [-0.85051483, -0.91327066, -1.03501283, -1.10094277,  0.20300071],\n",
       "       [-0.85051483, -0.91327066, -1.1701215 , -0.9591571 ,  2.34151806],\n",
       "       [ 1.52718818,  1.1193732 ,  0.7213998 ,  1.34515793, -0.59441253],\n",
       "       [-0.85051483, -0.84519168, -1.0890563 , -0.89839181, -0.26819802],\n",
       "       [ 1.52718818,  1.0901965 ,  1.26183446,  1.53460265, -0.05072168],\n",
       "       [ 1.52718818,  2.30589259,  2.55887763,  1.63468666, -2.0442548 ],\n",
       "       [ 0.33833667,  0.64282033,  0.18096514, -0.00835907, -0.77564282],\n",
       "       [ 0.33833667, -0.10604846,  0.18096514, -0.02861416,  0.27549283],\n",
       "       [ 1.52718818,  0.66227147,  0.18096514,  0.47180585, -0.05072168],\n",
       "       [ 0.33833667,  0.56501578,  0.18096514,  0.65648467,  0.27549283],\n",
       "       [-0.85051483, -0.7771127 , -0.41351298, -0.43371608,  1.43536664],\n",
       "       [-0.85051483, -0.99107521, -0.89990417, -1.22962221, -0.59441253],\n",
       "       [ 1.52718818,  1.09992206,  0.7213998 ,  1.03775706, -0.08696774]])"
      ]
     },
     "execution_count": 104,
     "metadata": {},
     "output_type": "execute_result"
    }
   ],
   "source": [
    "X_test_scaled"
   ]
  },
  {
   "cell_type": "code",
   "execution_count": 105,
   "id": "2fd15176",
   "metadata": {},
   "outputs": [
    {
     "data": {
      "text/plain": [
       "array([16. , 27. , 37. , 36.1, 23. , 14. , 32.8, 29.9, 20. , 12. , 15.5,\n",
       "       23.7, 24. , 36. , 19. , 38. , 29. , 21.5, 27.9, 14. , 36.1, 22. ,\n",
       "       18. , 17. , 18. , 14. , 26. , 13. , 33. , 37. , 32. , 28. , 19.2,\n",
       "       32. , 27.4, 20. , 26. , 20.6, 37.3, 16.2, 15. , 21. , 21. , 20.5,\n",
       "       21. , 25.4, 34.1, 27. , 36. , 31.6, 38.1, 32. , 40.8, 19. , 20. ,\n",
       "       22. , 17.5, 35.1, 30.5, 33.7, 19. , 14. , 15.5, 15. , 22.5, 29. ,\n",
       "       23. , 18. , 25.5, 24. , 14. , 16.5, 20.3, 26. , 15. , 33.8, 11. ,\n",
       "       28. , 19. , 30. , 27.2, 16.5, 29. , 20. , 15. , 17.5, 18. , 24. ,\n",
       "       20.2, 13. , 12. , 20. , 13. , 26. , 34.5, 18. , 18.5, 13. , 26. ,\n",
       "       18. , 31. , 24. , 11. , 19.4, 32.9, 31.5, 19.1, 24. , 20. , 28. ,\n",
       "       29. , 14. , 35. , 29.5, 23.6, 15.5, 20.6, 34.2, 25. , 36.4, 22.3,\n",
       "       19. , 19.8, 31. , 14. , 14. , 43.4, 26. , 33.5, 19. , 22. , 27.2,\n",
       "       32.7, 29. , 17.6, 23. , 34. , 17.6, 30.7, 21. , 38. , 16. , 15. ,\n",
       "       20. , 29. , 32. , 18. , 32. , 15. , 16. , 34. , 10. , 19. , 28.4,\n",
       "       15. , 32.3, 30. , 26.4, 30. , 19. , 13. , 32.2, 27. , 28. , 44.6,\n",
       "       18. , 39.4, 25.1, 16. , 43.1, 25. , 16.9, 13. , 20.2, 14. , 37. ,\n",
       "       13. , 21.5, 27. , 14. , 15. , 17. ,  9. , 23. , 26. , 34.3, 23.2,\n",
       "       17.5, 12. , 30. , 30.5, 25.4, 44.3, 23. , 14. , 29.8, 26.5, 20.2,\n",
       "       38. , 17. , 20.5, 32.4, 18. , 20.5, 25.8, 13. , 24. , 16. , 13. ,\n",
       "       21. , 19. , 25. , 27.5, 18. , 34.5, 11. , 32.1, 15.5, 18.6, 18.2,\n",
       "       15. , 27.2, 14. , 13. , 18. , 15. , 14. , 15. , 23.9, 24. , 16. ,\n",
       "       14. , 26.6, 46.6, 31.5, 29.5, 27. , 25.5, 20. , 16.5, 35.7, 24.2,\n",
       "       20.2, 26. , 22.4, 31.8, 30.9, 18.5, 16. , 13. , 30. , 14.5, 41.5,\n",
       "       20.8, 13. , 31. , 15. , 23. , 22. , 28. , 16. , 17.7, 13. , 26.6,\n",
       "       30. , 18.1, 22. , 14. , 24.3, 14. , 23.9, 13. , 30. , 36. , 16. ,\n",
       "       28.8, 36. , 31.3, 21.5, 35. , 28. , 18. , 15.5, 32. , 17.5, 20. ,\n",
       "       25. , 18. , 39. , 26. , 19.2, 24. , 28. , 17. , 21.6, 22. , 31.9,\n",
       "       39.1, 19.4, 33.5, 24. , 26. , 31. , 28.1, 18. , 27. , 13. , 40.9,\n",
       "       13. , 15. , 31. , 25. , 16. , 19. , 12. , 21.1, 37.7, 26. ])"
      ]
     },
     "execution_count": 105,
     "metadata": {},
     "output_type": "execute_result"
    }
   ],
   "source": [
    "y_train"
   ]
  },
  {
   "cell_type": "code",
   "execution_count": null,
   "id": "bf1ce565",
   "metadata": {},
   "outputs": [],
   "source": []
  },
  {
   "cell_type": "code",
   "execution_count": 114,
   "id": "b2b27f6d",
   "metadata": {},
   "outputs": [],
   "source": [
    "import pandas as pd\n",
    "import seaborn as sns\n",
    "import numpy as np\n",
    "from sklearn.linear_model import Ridge, Lasso\n",
    "from sklearn.model_selection import train_test_split, GridSearchCV\n",
    "from sklearn.metrics import mean_squared_error, mean_absolute_error, r2_score\n",
    "\n",
    "# 데이터 로드 및 전처리\n",
    "mpg = sns.load_dataset(\"mpg\")\n",
    "mpg = mpg.dropna(subset=[\"horsepower\"])  # 결측치 처리\n",
    "\n",
    "# 특징과 레이블 설정\n",
    "X = mpg[['cylinders', 'displacement', 'horsepower', 'weight', 'acceleration']]\n",
    "y = mpg['mpg']\n",
    "\n",
    "# 데이터 분할\n",
    "X_train, X_test, y_train, y_test = train_test_split(\n",
    "    X, y, test_size=0.2, random_state=42)\n"
   ]
  },
  {
   "cell_type": "code",
   "execution_count": 115,
   "id": "15739e47",
   "metadata": {},
   "outputs": [
    {
     "name": "stdout",
     "output_type": "stream",
     "text": [
      "릿지 회귀 최적의 파라미터: {'alpha': 100}\n",
      "릿지 회귀 최고 성능 (MSE): 18.76518598292154\n",
      "릿지 회귀 평가 지표:\n",
      "Mean Squared Error (MSE): 17.999908436885946\n",
      "Mean Absolute Error (MAE): 3.499106918941303\n",
      "R-squared (R2): 0.647341247017196\n"
     ]
    }
   ],
   "source": [
    "# 릿지 회귀 모델 설정 및 그리드 서치\n",
    "ridge_params = {\n",
    "    'alpha': [0.01, 0.1, 1, 10, 100],  # 정규화 강도\n",
    "}\n",
    "\n",
    "ridge = Ridge()\n",
    "ridge_gs = GridSearchCV(ridge, ridge_params, cv=5, n_jobs=-1, scoring='neg_mean_squared_error')\n",
    "ridge_gs.fit(X_train, y_train)\n",
    "\n",
    "print(\"릿지 회귀 최적의 파라미터:\", ridge_gs.best_params_)\n",
    "print(\"릿지 회귀 최고 성능 (MSE):\", -ridge_gs.best_score_)\n",
    "\n",
    "# 최적의 모델로 예측\n",
    "ridge_best = ridge_gs.best_estimator_\n",
    "y_pred_ridge = ridge_best.predict(X_test)\n",
    "\n",
    "# 평가\n",
    "ridge_mse = mean_squared_error(y_test, y_pred_ridge)\n",
    "ridge_mae = mean_absolute_error(y_test, y_pred_ridge)\n",
    "ridge_r2 = r2_score(y_test, y_pred_ridge)\n",
    "\n",
    "print(\"릿지 회귀 평가 지표:\")\n",
    "print(\"Mean Squared Error (MSE):\", ridge_mse)\n",
    "print(\"Mean Absolute Error (MAE):\", ridge_mae)\n",
    "print(\"R-squared (R2):\", ridge_r2)\n"
   ]
  },
  {
   "cell_type": "code",
   "execution_count": 116,
   "id": "6e181cdf",
   "metadata": {},
   "outputs": [
    {
     "name": "stdout",
     "output_type": "stream",
     "text": [
      "라쏘 회귀 최적의 파라미터: {'alpha': 1}\n",
      "라쏘 회귀 최고 성능 (MSE): 18.52345506866304\n",
      "라쏘 회귀 평가 지표:\n",
      "Mean Squared Error (MSE): 17.97318976230977\n",
      "Mean Absolute Error (MAE): 3.505851530701927\n",
      "R-squared (R2): 0.6478647260387935\n"
     ]
    }
   ],
   "source": [
    "# 라쏘 회귀 모델 설정 및 그리드 서치\n",
    "lasso_params = {\n",
    "    'alpha': [0.01, 0.1, 1, 10, 100],  # 정규화 강도\n",
    "}\n",
    "\n",
    "lasso = Lasso()\n",
    "lasso_gs = GridSearchCV(lasso, lasso_params, cv=5, n_jobs=-1, scoring='neg_mean_squared_error')\n",
    "lasso_gs.fit(X_train, y_train)\n",
    "\n",
    "print(\"라쏘 회귀 최적의 파라미터:\", lasso_gs.best_params_)\n",
    "print(\"라쏘 회귀 최고 성능 (MSE):\", -lasso_gs.best_score_)\n",
    "\n",
    "# 최적의 모델로 예측\n",
    "lasso_best = lasso_gs.best_estimator_\n",
    "y_pred_lasso = lasso_best.predict(X_test)\n",
    "\n",
    "# 평가\n",
    "lasso_mse = mean_squared_error(y_test, y_pred_lasso)\n",
    "lasso_mae = mean_absolute_error(y_test, y_pred_lasso)\n",
    "lasso_r2 = r2_score(y_test, y_pred_lasso)\n",
    "\n",
    "print(\"라쏘 회귀 평가 지표:\")\n",
    "print(\"Mean Squared Error (MSE):\", lasso_mse)\n",
    "print(\"Mean Absolute Error (MAE):\", lasso_mae)\n",
    "print(\"R-squared (R2):\", lasso_r2)\n"
   ]
  },
  {
   "cell_type": "code",
   "execution_count": null,
   "id": "918572c5",
   "metadata": {},
   "outputs": [],
   "source": []
  },
  {
   "cell_type": "code",
   "execution_count": 117,
   "id": "c4950a7c",
   "metadata": {},
   "outputs": [
    {
     "data": {
      "text/plain": [
       "{'max_depth': None, 'min_samples_leaf': 10, 'min_samples_split': 30}"
      ]
     },
     "execution_count": 117,
     "metadata": {},
     "output_type": "execute_result"
    }
   ],
   "source": [
    "gs.best_params_"
   ]
  },
  {
   "cell_type": "code",
   "execution_count": 118,
   "id": "25382302",
   "metadata": {},
   "outputs": [
    {
     "data": {
      "text/plain": [
       "0.7334085894144117"
      ]
     },
     "execution_count": 118,
     "metadata": {},
     "output_type": "execute_result"
    }
   ],
   "source": [
    "np.max(gs.cv_results_['mean_test_score'])"
   ]
  },
  {
   "cell_type": "code",
   "execution_count": 119,
   "id": "30306743",
   "metadata": {},
   "outputs": [
    {
     "data": {
      "text/plain": [
       "0.6520514841304537"
      ]
     },
     "execution_count": 119,
     "metadata": {},
     "output_type": "execute_result"
    }
   ],
   "source": [
    "dt = gs.best_estimator_\n",
    "\n",
    "dt.score(X_test, y_test)"
   ]
  },
  {
   "cell_type": "code",
   "execution_count": null,
   "id": "5f822e63",
   "metadata": {},
   "outputs": [],
   "source": []
  },
  {
   "cell_type": "code",
   "execution_count": null,
   "id": "29424e63",
   "metadata": {},
   "outputs": [],
   "source": []
  }
 ],
 "metadata": {
  "kernelspec": {
   "display_name": "Python 3 (ipykernel)",
   "language": "python",
   "name": "python3"
  },
  "language_info": {
   "codemirror_mode": {
    "name": "ipython",
    "version": 3
   },
   "file_extension": ".py",
   "mimetype": "text/x-python",
   "name": "python",
   "nbconvert_exporter": "python",
   "pygments_lexer": "ipython3",
   "version": "3.9.12"
  }
 },
 "nbformat": 4,
 "nbformat_minor": 5
}
