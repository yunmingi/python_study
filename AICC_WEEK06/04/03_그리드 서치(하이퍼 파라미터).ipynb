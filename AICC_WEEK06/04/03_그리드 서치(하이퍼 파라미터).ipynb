{
 "cells": [
  {
   "cell_type": "markdown",
   "id": "61bfa78e",
   "metadata": {},
   "source": [
    "# 시나리오\n",
    "- 교차검증을 통해 최적 파라미터 값을 찾을 수 있음\n",
    "- 결정트리 모델의 최적의 파라미터를 찾으려고 함\n",
    "- 결정트리 모델에서 최적의 max_depth를 찾고 min_samples_split을 변경하면서 최적 값을 찾을 수 없음\n",
    "- 하나의 파라미터가 변경되면 다른 파라미터의 결과도 고정되지 않음(연관 변수를 함께 변경하면서 찾아야 함)\n",
    "- 모델마다 하이퍼 파라미터의 갯수가 다름(1개 ~ 6개 등 모델마다 다양)\n",
    "- 수동으로 일일이 파라미터를 변경하면서 모델의 점수를 확인하는 것은 매우 힘듦\n",
    "\n",
    "\n",
    "- 사이킷런의 GridSearchCV를 사용하면 최적의 하이퍼파라미터를 찾을 수 있음(교차 검증 내장)"
   ]
  },
  {
   "cell_type": "markdown",
   "id": "c18cb3fe",
   "metadata": {},
   "source": [
    "## 하이퍼 파리미터 튜닝(Hyper Parameter Tuning)\n",
    "- 머신러닝 모델이 학습하는 파라미터는 모델 파라미터\n",
    "- 사용자가 지정해야 하는 파라미터는 하이퍼파라미터\n",
    "- 모든 하이퍼파라미터는 클래스 또는 매개변수로 표현"
   ]
  },
  {
   "cell_type": "markdown",
   "id": "adb64185",
   "metadata": {},
   "source": [
    "### 데이터 준비 및 나누기"
   ]
  },
  {
   "cell_type": "code",
   "execution_count": 1,
   "id": "6880e9b3",
   "metadata": {},
   "outputs": [],
   "source": [
    "import pandas as pd\n",
    "\n",
    "wine = pd.read_csv('wine_csv_data.csv')\n",
    "\n",
    "# class열은 종속변수(y), 나머지는 독립변수(X)\n",
    "data = wine[['alcohol', 'sugar', 'pH']]\n",
    "target = wine['class']\n",
    "\n",
    "from sklearn.model_selection import train_test_split\n",
    "\n",
    "X_train, X_test, y_train, y_test = train_test_split(\n",
    "    data, target, test_size=0.2, random_state=42)"
   ]
  },
  {
   "cell_type": "markdown",
   "id": "5a548369",
   "metadata": {},
   "source": [
    "#### GridSearchCV 정의\n",
    "- 결정트리 모델에서 min_impurity_decrease 파라미터 리스트 준비\n",
    "- 파라미터 리스트를 이용하여 GridSearchCV객체 생성\n",
    "- GridSearchCV의 cv 디폴트 값은 5(총 5번 수행. 총 25번 진행)\n",
    "- n_jobs는 병렬실행에 사용할 CPU코어 수 지정(기본값은 1. -1로 지정하면 모든 코어 사용)"
   ]
  },
  {
   "cell_type": "code",
   "execution_count": 2,
   "id": "1f03b29f",
   "metadata": {},
   "outputs": [
    {
     "data": {
      "text/plain": [
       "GridSearchCV(estimator=DecisionTreeClassifier(random_state=42), n_jobs=-1,\n",
       "             param_grid={'min_impurity_decrease': [0.0001, 0.0002, 0.0003,\n",
       "                                                   0.0004, 0.0005]})"
      ]
     },
     "execution_count": 2,
     "metadata": {},
     "output_type": "execute_result"
    }
   ],
   "source": [
    "from sklearn.tree import DecisionTreeClassifier\n",
    "from sklearn.model_selection import GridSearchCV\n",
    "\n",
    "params = {'min_impurity_decrease': [0.0001, 0.0002, 0.0003, 0.0004, 0.0005]}\n",
    "\n",
    "gs = GridSearchCV(DecisionTreeClassifier(random_state=42), params, n_jobs=-1)\n",
    "gs.fit(X_train, y_train)"
   ]
  },
  {
   "cell_type": "code",
   "execution_count": 3,
   "id": "fef43e36",
   "metadata": {},
   "outputs": [
    {
     "data": {
      "text/plain": [
       "0.9615162593804117"
      ]
     },
     "execution_count": 3,
     "metadata": {},
     "output_type": "execute_result"
    }
   ],
   "source": [
    "dt = gs.best_estimator_\n",
    "dt.score(X_train, y_train)"
   ]
  },
  {
   "cell_type": "code",
   "execution_count": 4,
   "id": "7d47160f",
   "metadata": {},
   "outputs": [
    {
     "data": {
      "text/plain": [
       "{'min_impurity_decrease': 0.0001}"
      ]
     },
     "execution_count": 4,
     "metadata": {},
     "output_type": "execute_result"
    }
   ],
   "source": [
    "gs.best_params_"
   ]
  },
  {
   "cell_type": "markdown",
   "id": "c9275ee1",
   "metadata": {},
   "source": [
    "##### 결과\n",
    "- 훈련이 끝나면 25개의 모델 중 검증 점수가 가장 높은 모델의 매개변수 조합으로 전체 훈련세트로 다시 훈련한 모델이 준비됨\n",
    "- best_estimator_로 사용 가능\n",
    "- best_params_는 가장 좋은 하이퍼 파라미터값이 저장되어 있음"
   ]
  },
  {
   "cell_type": "markdown",
   "id": "94f96b50",
   "metadata": {},
   "source": [
    "#### 각 매개변수에서 수행한 교차 검증의 평균 점수 확인"
   ]
  },
  {
   "cell_type": "code",
   "execution_count": 5,
   "id": "3d66d48e",
   "metadata": {},
   "outputs": [
    {
     "data": {
      "text/plain": [
       "array([0.86819297, 0.86453617, 0.86492226, 0.86780891, 0.86761605])"
      ]
     },
     "execution_count": 5,
     "metadata": {},
     "output_type": "execute_result"
    }
   ],
   "source": [
    "gs.cv_results_['mean_test_score']"
   ]
  },
  {
   "cell_type": "markdown",
   "id": "332bd5dc",
   "metadata": {},
   "source": [
    "#### 평균 점수에서 가장 큰 값 구하기\n",
    "- gs.best_params_ 값과 동일함"
   ]
  },
  {
   "cell_type": "code",
   "execution_count": 6,
   "id": "b417acef",
   "metadata": {},
   "outputs": [
    {
     "data": {
      "text/plain": [
       "{'min_impurity_decrease': 0.0001}"
      ]
     },
     "execution_count": 6,
     "metadata": {},
     "output_type": "execute_result"
    }
   ],
   "source": [
    "import numpy as np\n",
    "\n",
    "best_index = np.argmax(gs.cv_results_['mean_test_score'])\n",
    "gs.cv_results_['params'][best_index]"
   ]
  },
  {
   "cell_type": "markdown",
   "id": "cd174c25",
   "metadata": {},
   "source": [
    "### 좀 더 복잡한 매개변수 조합 탐색"
   ]
  },
  {
   "cell_type": "code",
   "execution_count": 7,
   "id": "1711f6f0",
   "metadata": {},
   "outputs": [
    {
     "data": {
      "text/plain": [
       "range(2, 100, 10)"
      ]
     },
     "execution_count": 7,
     "metadata": {},
     "output_type": "execute_result"
    }
   ],
   "source": [
    "range(2, 100, 10)"
   ]
  },
  {
   "cell_type": "code",
   "execution_count": 8,
   "id": "8663319a",
   "metadata": {},
   "outputs": [],
   "source": [
    "params = {'min_impurity_decrease': np.arange(0.0001, 0.001, 0.0001),\n",
    "          'max_depth': range(5, 20, 1),\n",
    "          'min_samples_split': range(2, 100, 10)\n",
    "          }"
   ]
  },
  {
   "cell_type": "markdown",
   "id": "8dc11aac",
   "metadata": {},
   "source": [
    "- 교차 검증 횟수\n",
    "    - 9 x 15 x 10 = 1350개\n",
    "- 여기에 기본 5폴드\n",
    "    - 6750개"
   ]
  },
  {
   "cell_type": "code",
   "execution_count": 9,
   "id": "84ae9dad",
   "metadata": {},
   "outputs": [
    {
     "data": {
      "text/plain": [
       "GridSearchCV(estimator=DecisionTreeClassifier(random_state=42), n_jobs=-1,\n",
       "             param_grid={'max_depth': range(5, 20),\n",
       "                         'min_impurity_decrease': array([0.0001, 0.0002, 0.0003, 0.0004, 0.0005, 0.0006, 0.0007, 0.0008,\n",
       "       0.0009]),\n",
       "                         'min_samples_split': range(2, 100, 10)})"
      ]
     },
     "execution_count": 9,
     "metadata": {},
     "output_type": "execute_result"
    }
   ],
   "source": [
    "gs = GridSearchCV(DecisionTreeClassifier(random_state=42), params, n_jobs=-1)\n",
    "gs.fit(X_train, y_train)"
   ]
  },
  {
   "cell_type": "code",
   "execution_count": 101,
   "id": "c8ad5fb1",
   "metadata": {},
   "outputs": [
    {
     "data": {
      "text/plain": [
       "{'max_depth': 14, 'min_impurity_decrease': 0.0004, 'min_samples_split': 12}"
      ]
     },
     "execution_count": 101,
     "metadata": {},
     "output_type": "execute_result"
    }
   ],
   "source": [
    "gs.best_params_"
   ]
  },
  {
   "cell_type": "code",
   "execution_count": 10,
   "id": "1c12f9f9",
   "metadata": {},
   "outputs": [
    {
     "data": {
      "text/plain": [
       "0.8683865773302731"
      ]
     },
     "execution_count": 10,
     "metadata": {},
     "output_type": "execute_result"
    }
   ],
   "source": [
    "np.max(gs.cv_results_['mean_test_score'])"
   ]
  },
  {
   "cell_type": "markdown",
   "id": "78df9fc7",
   "metadata": {},
   "source": [
    "##### 생각해볼 것\n",
    "- 탐색할 매개변수의 간격\n",
    "- 예제에서 0.0001부터 시작하는 간격은 근거가 없음(더 넓거나 좁게 설정 가능함)"
   ]
  },
  {
   "cell_type": "markdown",
   "id": "794390fe",
   "metadata": {},
   "source": [
    "### 랜덤 서치\n",
    "- RandomizedSearchCV\n",
    "- 매개변수의 값이 수치일 때 값의 범위나 간격을 미리 정하기 어려울 수 있음\n",
    "- 매개변수를 샘플링할 수 있는 확률 분포 객체를 이용"
   ]
  },
  {
   "cell_type": "markdown",
   "id": "65609b08",
   "metadata": {},
   "source": [
    "#### 확률 분포 클래스 활용\n",
    "- 주어진 범위에서 고르게 값을 선택(균등 분포 샘플링)\n",
    "- uniform(): 실수값\n",
    "- randint(): 정수값"
   ]
  },
  {
   "cell_type": "markdown",
   "id": "1b2295db",
   "metadata": {},
   "source": [
    "#### scipy 사용\n",
    "- 매개변수 값이 수치형(연속적)\n",
    "- scipy에 확률 분포 객체를 전달하여 특정 범위 내에서 지정된 횟수만큼 값을 샘플링하고 교차검증까지 가능"
   ]
  },
  {
   "cell_type": "code",
   "execution_count": 103,
   "id": "a2d2746a",
   "metadata": {},
   "outputs": [
    {
     "data": {
      "text/plain": [
       "array([4, 7, 6, 1, 2, 4, 1, 2, 9, 3])"
      ]
     },
     "execution_count": 103,
     "metadata": {},
     "output_type": "execute_result"
    }
   ],
   "source": [
    "from scipy.stats import uniform, randint\n",
    "rgen = randint(0, 10)\n",
    "rgen.rvs(10)"
   ]
  },
  {
   "cell_type": "code",
   "execution_count": 104,
   "id": "bf0cfe53",
   "metadata": {
    "scrolled": true
   },
   "outputs": [
    {
     "data": {
      "text/plain": [
       "(array([0, 1, 2, 3, 4, 5, 6, 7, 8, 9]),\n",
       " array([104,  86,  86, 106, 100,  94, 108,  88, 112, 116], dtype=int64))"
      ]
     },
     "execution_count": 104,
     "metadata": {},
     "output_type": "execute_result"
    }
   ],
   "source": [
    "# 샘플링 갯수를 늘려서 고르게 가져오는 것 확인\n",
    "np.unique(rgen.rvs(1000), return_counts=True)"
   ]
  },
  {
   "cell_type": "markdown",
   "id": "19dc0fee",
   "metadata": {},
   "source": [
    "##### 결과\n",
    "- 샘플링 횟수는 시스템 자원이 허락하는 범위에서 최대한 큰 것이 유리"
   ]
  },
  {
   "cell_type": "code",
   "execution_count": 105,
   "id": "48c87a5f",
   "metadata": {},
   "outputs": [
    {
     "data": {
      "text/plain": [
       "array([0.25022293, 0.29121426, 0.86938672, 0.74434921, 0.37515348,\n",
       "       0.72034619, 0.9969255 , 0.88386968, 0.56306274, 0.49074374])"
      ]
     },
     "execution_count": 105,
     "metadata": {},
     "output_type": "execute_result"
    }
   ],
   "source": [
    "# 0 ~ 1 사이의 10개 실수를 추출\n",
    "ugen = uniform(0, 1)\n",
    "ugen.rvs(10)"
   ]
  },
  {
   "cell_type": "markdown",
   "id": "82f0f86c",
   "metadata": {},
   "source": [
    "##### min_samples_leaf 매개변수 사용\n",
    "- min_samples_leaf는 leaf노드가 되기 위한 최소 샘플의 갯수\n",
    "- 어떤 노드를 분할해서 만들어지는 자식 노드들의 샘플 수가 이 값보다 작으면 분할하지 않흠"
   ]
  },
  {
   "cell_type": "code",
   "execution_count": 106,
   "id": "00060fbe",
   "metadata": {},
   "outputs": [
    {
     "data": {
      "text/plain": [
       "RandomizedSearchCV(estimator=DecisionTreeClassifier(random_state=42),\n",
       "                   n_iter=100, n_jobs=-1,\n",
       "                   param_distributions={'max_depth': <scipy.stats._distn_infrastructure.rv_frozen object at 0x000001F93F159190>,\n",
       "                                        'min_impurity_decrease': <scipy.stats._distn_infrastructure.rv_frozen object at 0x000001F93F16E9A0>,\n",
       "                                        'min_samples_leaf': <scipy.stats._distn_infrastructure.rv_frozen object at 0x000001F93F1591F0>,\n",
       "                                        'min_samples_split': <scipy.stats._distn_infrastructure.rv_frozen object at 0x000001F93F16E2B0>},\n",
       "                   random_state=42)"
      ]
     },
     "execution_count": 106,
     "metadata": {},
     "output_type": "execute_result"
    }
   ],
   "source": [
    "from sklearn.model_selection import RandomizedSearchCV\n",
    "\n",
    "params = {'min_impurity_decrease': uniform(0.0001, 0.001),\n",
    "          'max_depth': randint(20, 50),\n",
    "          'min_samples_split': randint(2, 25),\n",
    "          'min_samples_leaf': randint(1, 25),\n",
    "          }\n",
    "\n",
    "gs = RandomizedSearchCV(DecisionTreeClassifier(random_state=42), params, \n",
    "                        n_iter=100, n_jobs=-1, random_state=42)\n",
    "gs.fit(X_train, y_train)"
   ]
  },
  {
   "cell_type": "code",
   "execution_count": 107,
   "id": "ce6ed7b7",
   "metadata": {},
   "outputs": [
    {
     "data": {
      "text/plain": [
       "{'max_depth': 39,\n",
       " 'min_impurity_decrease': 0.00034102546602601173,\n",
       " 'min_samples_leaf': 7,\n",
       " 'min_samples_split': 13}"
      ]
     },
     "execution_count": 107,
     "metadata": {},
     "output_type": "execute_result"
    }
   ],
   "source": [
    "gs.best_params_"
   ]
  },
  {
   "cell_type": "code",
   "execution_count": 108,
   "id": "e3d03cad",
   "metadata": {},
   "outputs": [
    {
     "data": {
      "text/plain": [
       "0.8695428296438884"
      ]
     },
     "execution_count": 108,
     "metadata": {},
     "output_type": "execute_result"
    }
   ],
   "source": [
    "np.max(gs.cv_results_['mean_test_score'])"
   ]
  },
  {
   "cell_type": "markdown",
   "id": "491eb4cd",
   "metadata": {},
   "source": [
    "#### 훈련세트로 훈련된 객체를 이용하여 테스트 데이터셋점수 확인"
   ]
  },
  {
   "cell_type": "markdown",
   "id": "5c76ebf0",
   "metadata": {},
   "source": [
    "##### 해석\n",
    "- 최적 모델(best_estimator_)는 이미 훈련세트로 훈련되어 best_estimator_에 저장되어 있음"
   ]
  },
  {
   "cell_type": "code",
   "execution_count": 109,
   "id": "a75c25d7",
   "metadata": {},
   "outputs": [
    {
     "data": {
      "text/plain": [
       "0.86"
      ]
     },
     "execution_count": 109,
     "metadata": {},
     "output_type": "execute_result"
    }
   ],
   "source": [
    "dt = gs.best_estimator_\n",
    "\n",
    "dt.score(X_test, y_test)"
   ]
  },
  {
   "cell_type": "markdown",
   "id": "d83f4929",
   "metadata": {},
   "source": [
    "##### 결과\n",
    "- 테스트데이터셋의 점수는 검증 세트에 대한 점수보다 약간 작은 것이 일반적\n",
    "- 다양한 매개변수(하이퍼 파라미터)를 이용하여 여러 번 테스트 하는 작업을 GridSearchCV/RandomizedSearchCV 적용"
   ]
  },
  {
   "cell_type": "markdown",
   "id": "f6d84d74",
   "metadata": {},
   "source": [
    "### 정리\n",
    "- 교차 검증을 이용하여 다양한 파라미터를 탐색\n",
    "- 그리스서치 관련 클래스를 활용하여 자동화 가능"
   ]
  }
 ],
 "metadata": {
  "kernelspec": {
   "display_name": "Python 3 (ipykernel)",
   "language": "python",
   "name": "python3"
  },
  "language_info": {
   "codemirror_mode": {
    "name": "ipython",
    "version": 3
   },
   "file_extension": ".py",
   "mimetype": "text/x-python",
   "name": "python",
   "nbconvert_exporter": "python",
   "pygments_lexer": "ipython3",
   "version": "3.9.12"
  }
 },
 "nbformat": 4,
 "nbformat_minor": 5
}
