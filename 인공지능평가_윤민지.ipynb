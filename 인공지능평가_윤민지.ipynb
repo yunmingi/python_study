{
 "cells": [
  {
   "cell_type": "markdown",
   "id": "ca3aef5c-184b-4225-aff8-ed50cc63bfc9",
   "metadata": {},
   "source": [
    "# Iris 데이터셋을 활용한 인공지능 평가 문제\n",
    "    인공지능의 기반 개념인 데이터 분석 및 머신러닝 실습을 수행하는 것이 목표\n",
    "    전체 문제는 데이터 탐색, 전처리, 모델 생성, 모델 평가의 단계로 나누어져 있음\n",
    "    각 단계에서 실질적인 인공지능 활용을 위한 기반이 되는 데이터 분석과 모델링 과정을 평가"
   ]
  },
  {
   "cell_type": "markdown",
   "id": "642a5099-eb44-4ce1-92b3-669c7893f765",
   "metadata": {},
   "source": [
    "### **[문제1]** Seaborn의 'iris' 데이터셋을 불러오시오."
   ]
  },
  {
   "cell_type": "code",
   "execution_count": 9,
   "id": "5eac5413-9782-4c94-bfbd-72b414eca4cb",
   "metadata": {},
   "outputs": [
    {
     "name": "stdout",
     "output_type": "stream",
     "text": [
      "   sepal_length  sepal_width  petal_length  petal_width species\n",
      "0           5.1          3.5           1.4          0.2  setosa\n",
      "1           4.9          3.0           1.4          0.2  setosa\n",
      "2           4.7          3.2           1.3          0.2  setosa\n",
      "3           4.6          3.1           1.5          0.2  setosa\n",
      "4           5.0          3.6           1.4          0.2  setosa\n"
     ]
    }
   ],
   "source": [
    "import seaborn as sns\n",
    "\n",
    "# iris 데이터셋 불러오기\n",
    "iris = sns.load_dataset('iris')\n",
    "\n",
    "# 데이터셋의 첫 5행 출력\n",
    "print(iris.head())"
   ]
  },
  {
   "cell_type": "markdown",
   "id": "d1892442-1125-48a4-a1f5-6c6eefbeb239",
   "metadata": {},
   "source": [
    "### **[문제2]** 데이터셋의 기본 정보를 3가지 이상 출력하시오. (행과 열의 수, 데이터 타입 등)"
   ]
  },
  {
   "cell_type": "code",
   "execution_count": 11,
   "id": "5b825482-2337-4e4d-91c5-eaa97bb2c542",
   "metadata": {},
   "outputs": [
    {
     "name": "stdout",
     "output_type": "stream",
     "text": [
      "(150, 5)\n",
      "sepal_length    float64\n",
      "sepal_width     float64\n",
      "petal_length    float64\n",
      "petal_width     float64\n",
      "species          object\n",
      "dtype: object\n",
      "       sepal_length  sepal_width  petal_length  petal_width\n",
      "count    150.000000   150.000000    150.000000   150.000000\n",
      "mean       5.843333     3.057333      3.758000     1.199333\n",
      "std        0.828066     0.435866      1.765298     0.762238\n",
      "min        4.300000     2.000000      1.000000     0.100000\n",
      "25%        5.100000     2.800000      1.600000     0.300000\n",
      "50%        5.800000     3.000000      4.350000     1.300000\n",
      "75%        6.400000     3.300000      5.100000     1.800000\n",
      "max        7.900000     4.400000      6.900000     2.500000\n"
     ]
    }
   ],
   "source": [
    "print(iris.shape)         # 행과 열의 수\n",
    "print(iris.dtypes)        # 데이터 타입\n",
    "print(iris.describe())    # 기초 통계 정보"
   ]
  },
  {
   "cell_type": "code",
   "execution_count": null,
   "id": "bd7088b3-4441-471c-9309-202a55523045",
   "metadata": {},
   "outputs": [],
   "source": []
  },
  {
   "cell_type": "markdown",
   "id": "373580ba-1b54-4d45-9521-00f06bdb8c84",
   "metadata": {},
   "source": [
    "### **[문제3]** 데이터셋의 기초 통계량을 출력하시오."
   ]
  },
  {
   "cell_type": "code",
   "execution_count": 17,
   "id": "50792137-1059-4462-ab8e-b38da68a861c",
   "metadata": {},
   "outputs": [
    {
     "name": "stdout",
     "output_type": "stream",
     "text": [
      "       sepal_length  sepal_width  petal_length  petal_width\n",
      "count    150.000000   150.000000    150.000000   150.000000\n",
      "mean       5.843333     3.057333      3.758000     1.199333\n",
      "std        0.828066     0.435866      1.765298     0.762238\n",
      "min        4.300000     2.000000      1.000000     0.100000\n",
      "25%        5.100000     2.800000      1.600000     0.300000\n",
      "50%        5.800000     3.000000      4.350000     1.300000\n",
      "75%        6.400000     3.300000      5.100000     1.800000\n",
      "max        7.900000     4.400000      6.900000     2.500000\n"
     ]
    }
   ],
   "source": [
    "import seaborn as sns\n",
    "\n",
    "# iris 데이터셋 불러오기\n",
    "iris = sns.load_dataset('iris')\n",
    "\n",
    "# 기초 통계량 출력\n",
    "print(iris.describe())\n"
   ]
  },
  {
   "cell_type": "markdown",
   "id": "e3f70818-709e-4829-945f-8279a418a2f9",
   "metadata": {},
   "source": [
    "### **[문제4]** 결측값이 있는 열과 그 개수를 출력하시오."
   ]
  },
  {
   "cell_type": "code",
   "execution_count": 13,
   "id": "a7013347-4457-4e56-9149-0dae1e447a24",
   "metadata": {},
   "outputs": [
    {
     "name": "stdout",
     "output_type": "stream",
     "text": [
      "Series([], dtype: int64)\n"
     ]
    }
   ],
   "source": [
    "# 결측값이 있는 열과 그 개수를 출력하는 코드\n",
    "missing_values = iris.isnull().sum()\n",
    "\n",
    "# 결측값이 있는 열만 필터링해서 출력\n",
    "print(missing_values[missing_values > 0])"
   ]
  },
  {
   "cell_type": "markdown",
   "id": "12dbac56-9644-42a9-a95e-20e04622571d",
   "metadata": {},
   "source": [
    "### **[문제5]** 종(species) 열을 숫자형으로 변환하시오."
   ]
  },
  {
   "cell_type": "code",
   "execution_count": 29,
   "id": "53836687-1846-43f6-9b61-5ebff4dcee82",
   "metadata": {},
   "outputs": [
    {
     "name": "stdout",
     "output_type": "stream",
     "text": [
      "  species  species_numeric\n",
      "0  setosa                0\n",
      "1  setosa                0\n",
      "2  setosa                0\n",
      "3  setosa                0\n",
      "4  setosa                0\n"
     ]
    }
   ],
   "source": [
    "import seaborn as sns\n",
    "\n",
    "# iris 데이터셋 불러오기\n",
    "iris = sns.load_dataset('iris')\n",
    "\n",
    "# 'species' 열을 숫자형으로 변환\n",
    "iris['species_numeric'] = iris['species'].map({'setosa': 0, 'versicolor': 1, 'virginica': 2})\n",
    "\n",
    "# 변환된 데이터 확인\n",
    "print(iris[['species', 'species_numeric']].head())\n"
   ]
  },
  {
   "cell_type": "markdown",
   "id": "6489d1b3-ac01-4243-8da8-ad2dc3fcd2bd",
   "metadata": {},
   "source": [
    "### **[문제6]** 각 특성(꽃받침과 꽃잎의 길이와 너비)에 대해 표준화(Standardization)를 수행하시오."
   ]
  },
  {
   "cell_type": "code",
   "execution_count": 45,
   "id": "6c9f6869-925c-4cb9-ae43-e292acfb6391",
   "metadata": {},
   "outputs": [
    {
     "name": "stdout",
     "output_type": "stream",
     "text": [
      "   sepal length (cm)  sepal width (cm)  petal length (cm)  petal width (cm)\n",
      "0          -0.900681          1.019004          -1.340227         -1.315444\n",
      "1          -1.143017         -0.131979          -1.340227         -1.315444\n",
      "2          -1.385353          0.328414          -1.397064         -1.315444\n",
      "3          -1.506521          0.098217          -1.283389         -1.315444\n",
      "4          -1.021849          1.249201          -1.340227         -1.315444\n"
     ]
    }
   ],
   "source": [
    "import pandas as pd\n",
    "from sklearn.preprocessing import StandardScaler\n",
    "from sklearn.datasets import load_iris\n",
    "\n",
    "# iris 데이터셋 로드\n",
    "iris = load_iris()\n",
    "df = pd.DataFrame(data=iris.data, columns=iris.feature_names)\n",
    "\n",
    "# StandardScaler 객체 생성\n",
    "scaler = StandardScaler()\n",
    "\n",
    "# Sepal.Length, Sepal.Width, Petal.Length, Petal.Width의 표준화\n",
    "scaled_features = scaler.fit_transform(df)\n",
    "\n",
    "# 표준화된 데이터 프레임 생성\n",
    "scaled_df = pd.DataFrame(scaled_features, columns=df.columns)\n",
    "\n",
    "# 결과 확인\n",
    "print(scaled_df.head())\n"
   ]
  },
  {
   "cell_type": "code",
   "execution_count": null,
   "id": "ff2c6375-4047-4df4-8acd-9a78c8bb79b5",
   "metadata": {},
   "outputs": [],
   "source": []
  },
  {
   "cell_type": "code",
   "execution_count": null,
   "id": "7bb8bea1-e2f6-40eb-ad1e-c8650ece6f2b",
   "metadata": {},
   "outputs": [],
   "source": []
  },
  {
   "cell_type": "code",
   "execution_count": null,
   "id": "ad95b830-82ec-41aa-ac63-60cc6b74dcb5",
   "metadata": {},
   "outputs": [],
   "source": []
  },
  {
   "cell_type": "markdown",
   "id": "674c4a0a-8a54-49e3-9e1d-a764e41421c0",
   "metadata": {},
   "source": [
    "### **[문제7]** 특성(X)과 타겟(y) 데이터를 분리하시오. (타겟 변수는 'species')"
   ]
  },
  {
   "cell_type": "code",
   "execution_count": 25,
   "id": "e2913e49-36f6-4ddf-a402-fd1b14ccc1aa",
   "metadata": {},
   "outputs": [],
   "source": [
    "X_train, X_test, y_train, y_test = train_test_split(X, y, test_size=0.2, random_state=42)"
   ]
  },
  {
   "cell_type": "markdown",
   "id": "c20f436b-202a-424c-8ee3-e7dcdadbdd0c",
   "metadata": {},
   "source": [
    "### **[문제8]** 훈련 데이터와 테스트 데이터로 분리하시오. (train_test_split 사용, 비율 80:20)"
   ]
  },
  {
   "cell_type": "code",
   "execution_count": 47,
   "id": "8bcb3c9d-ff67-459b-a022-5aaa3429b829",
   "metadata": {},
   "outputs": [
    {
     "name": "stdout",
     "output_type": "stream",
     "text": [
      "Total samples: 150\n",
      "Training set ratio: 0.80\n",
      "Test set ratio: 0.20\n"
     ]
    }
   ],
   "source": [
    "# 원본 데이터셋의 샘플 수\n",
    "total_samples = X_train.shape[0] + X_test.shape[0]\n",
    "\n",
    "# 데이터셋의 총 샘플 수를 확인\n",
    "print(f\"Total samples: {total_samples}\")\n",
    "\n",
    "# X_train, X_test의 비율 확인\n",
    "train_ratio = X_train.shape[0] / total_samples\n",
    "test_ratio = X_test.shape[0] / total_samples\n",
    "\n",
    "# 비율 확인 출력\n",
    "print(f\"Training set ratio: {train_ratio:.2f}\")\n",
    "print(f\"Test set ratio: {test_ratio:.2f}\")\n",
    "\n",
    "# 비율이 8:2에 가까운지 확인\n",
    "assert abs(train_ratio - 0.8) < 0.01, \"Training set ratio is not close to 80%\"\n",
    "assert abs(test_ratio - 0.2) < 0.01, \"Test set ratio is not close to 20%\"\n"
   ]
  },
  {
   "cell_type": "code",
   "execution_count": null,
   "id": "a1346a73-a53b-4e10-8461-43e450adc664",
   "metadata": {},
   "outputs": [],
   "source": []
  },
  {
   "cell_type": "code",
   "execution_count": null,
   "id": "35080956-900f-4201-a6bc-542860df7b38",
   "metadata": {},
   "outputs": [],
   "source": []
  },
  {
   "cell_type": "markdown",
   "id": "662a9ad4-d183-4111-8822-93adcdb10b5d",
   "metadata": {},
   "source": [
    "### **[문제9]** 로지스틱 회귀(Logistic Regression) 모델을 생성하고 훈련시키시오."
   ]
  },
  {
   "cell_type": "code",
   "execution_count": 53,
   "id": "353b4868-3774-4e3a-88ae-f5287ad8f098",
   "metadata": {},
   "outputs": [
    {
     "name": "stdout",
     "output_type": "stream",
     "text": [
      "Accuracy: 1.00\n",
      "Classification Report:\n",
      "              precision    recall  f1-score   support\n",
      "\n",
      "      setosa       1.00      1.00      1.00        10\n",
      "  versicolor       1.00      1.00      1.00         9\n",
      "   virginica       1.00      1.00      1.00        11\n",
      "\n",
      "    accuracy                           1.00        30\n",
      "   macro avg       1.00      1.00      1.00        30\n",
      "weighted avg       1.00      1.00      1.00        30\n",
      "\n"
     ]
    }
   ],
   "source": [
    "from sklearn.datasets import load_iris\n",
    "from sklearn.model_selection import train_test_split\n",
    "from sklearn.linear_model import LogisticRegression\n",
    "from sklearn.metrics import accuracy_score, classification_report\n",
    "\n",
    "# Iris 데이터셋 로드\n",
    "iris = load_iris()\n",
    "X = iris.data\n",
    "y = iris.target\n",
    "\n",
    "# 데이터셋을 훈련 세트와 테스트 세트로 분리 (80% 훈련, 20% 테스트)\n",
    "X_train, X_test, y_train, y_test = train_test_split(X, y, test_size=0.2, random_state=42)\n",
    "\n",
    "# 로지스틱 회귀 모델 생성\n",
    "model = LogisticRegression(max_iter=200)\n",
    "\n",
    "# 모델 훈련\n",
    "model.fit(X_train, y_train)\n",
    "\n",
    "# 테스트 세트에 대한 예측\n",
    "y_pred = model.predict(X_test)\n",
    "\n",
    "# 모델 평가\n",
    "accuracy = accuracy_score(y_test, y_pred)\n",
    "report = classification_report(y_test, y_pred, target_names=iris.target_names)\n",
    "\n",
    "# 결과 출력\n",
    "print(f\"Accuracy: {accuracy:.2f}\")\n",
    "print(\"Classification Report:\")\n",
    "print(report)\n"
   ]
  },
  {
   "cell_type": "code",
   "execution_count": null,
   "id": "3afac628-186a-4c50-8fd4-a5d39ed0a551",
   "metadata": {},
   "outputs": [],
   "source": []
  },
  {
   "cell_type": "markdown",
   "id": "2af046ac-350a-4f36-97cf-36f31ab659fb",
   "metadata": {},
   "source": [
    "### **[문제10]** 테스트 데이터를 사용하여 모델을 평가하시오."
   ]
  },
  {
   "cell_type": "code",
   "execution_count": 57,
   "id": "7eca80a0-5c5f-4cec-8b0f-050354866f99",
   "metadata": {},
   "outputs": [
    {
     "name": "stdout",
     "output_type": "stream",
     "text": [
      "Accuracy: 1.00\n",
      "Confusion Matrix:\n",
      "[[10  0  0]\n",
      " [ 0  9  0]\n",
      " [ 0  0 11]]\n",
      "Classification Report:\n",
      "              precision    recall  f1-score   support\n",
      "\n",
      "      setosa       1.00      1.00      1.00        10\n",
      "  versicolor       1.00      1.00      1.00         9\n",
      "   virginica       1.00      1.00      1.00        11\n",
      "\n",
      "    accuracy                           1.00        30\n",
      "   macro avg       1.00      1.00      1.00        30\n",
      "weighted avg       1.00      1.00      1.00        30\n",
      "\n"
     ]
    }
   ],
   "source": [
    "from sklearn.datasets import load_iris\n",
    "from sklearn.model_selection import train_test_split\n",
    "from sklearn.linear_model import LogisticRegression\n",
    "from sklearn.metrics import accuracy_score, classification_report, confusion_matrix\n",
    "\n",
    "# Iris 데이터셋 로드\n",
    "iris = load_iris()\n",
    "X = iris.data\n",
    "y = iris.target\n",
    "\n",
    "# 데이터셋을 훈련 세트와 테스트 세트로 분리 (80% 훈련, 20% 테스트)\n",
    "X_train, X_test, y_train, y_test = train_test_split(X, y, test_size=0.2, random_state=42)\n",
    "\n",
    "# 로지스틱 회귀 모델 생성\n",
    "model = LogisticRegression(max_iter=200)\n",
    "\n",
    "# 모델 훈련\n",
    "model.fit(X_train, y_train)\n",
    "\n",
    "# 테스트 세트에 대한 예측\n",
    "y_pred = model.predict(X_test)\n",
    "\n",
    "# 모델 평가\n",
    "accuracy = accuracy_score(y_test, y_pred)\n",
    "conf_matrix = confusion_matrix(y_test, y_pred)\n",
    "report = classification_report(y_test, y_pred, target_names=iris.target_names)\n",
    "\n",
    "# 결과 출력\n",
    "print(f\"Accuracy: {accuracy:.2f}\")\n",
    "print(\"Confusion Matrix:\")\n",
    "print(conf_matrix)\n",
    "print(\"Classification Report:\")\n",
    "print(report)\n"
   ]
  },
  {
   "cell_type": "code",
   "execution_count": null,
   "id": "636de0ae-032a-4d00-a297-b7daff2ff266",
   "metadata": {},
   "outputs": [],
   "source": []
  },
  {
   "cell_type": "markdown",
   "id": "63fdf871-8956-49f1-952e-343b68edabbf",
   "metadata": {},
   "source": [
    "### **[문제11]** 정확도(Accuracy), 정밀도(Precision), 재현율(Recall), F1 스코어를 출력하시오."
   ]
  },
  {
   "cell_type": "code",
   "execution_count": 5,
   "id": "4cddffcb-410c-4fb3-aedd-ad0b53abf8e7",
   "metadata": {},
   "outputs": [
    {
     "name": "stdout",
     "output_type": "stream",
     "text": [
      "Accuracy: 1.0\n",
      "Precision: 1.0\n",
      "Recall: 1.0\n",
      "F1 Score: 1.0\n"
     ]
    }
   ],
   "source": [
    "from sklearn.model_selection import train_test_split\n",
    "from sklearn.ensemble import RandomForestClassifier\n",
    "from sklearn.metrics import accuracy_score, precision_score, recall_score, f1_score\n",
    "from sklearn.datasets import load_iris\n",
    "\n",
    "# iris 데이터셋 로드\n",
    "iris = load_iris()\n",
    "X = iris.data\n",
    "y = iris.target\n",
    "\n",
    "# 학습 데이터와 테스트 데이터 분할\n",
    "X_train, X_test, y_train, y_test = train_test_split(X, y, test_size=0.2, random_state=42)\n",
    "\n",
    "# 랜덤 포레스트 모델 학습\n",
    "model = RandomForestClassifier()\n",
    "model.fit(X_train, y_train)\n",
    "\n",
    "# 예측값 생성\n",
    "y_pred = model.predict(X_test)\n",
    "\n",
    "# 성능 지표 계산 및 출력\n",
    "accuracy = accuracy_score(y_test, y_pred)\n",
    "precision = precision_score(y_test, y_pred, average='macro')\n",
    "recall = recall_score(y_test, y_pred, average='macro')\n",
    "f1 = f1_score(y_test, y_pred, average='macro')\n",
    "\n",
    "print(f'Accuracy: {accuracy}')\n",
    "print(f'Precision: {precision}')\n",
    "print(f'Recall: {recall}')\n",
    "print(f'F1 Score: {f1}')\n"
   ]
  },
  {
   "cell_type": "markdown",
   "id": "2e3e9063-312f-48b4-897f-baf85945fa8d",
   "metadata": {},
   "source": [
    "### **[문제12]** 혼동 행렬(Confusion Matrix)을 시각화하시오."
   ]
  },
  {
   "cell_type": "code",
   "execution_count": 7,
   "id": "a87f6d09-cda3-4613-9b2a-4dc3a191c027",
   "metadata": {},
   "outputs": [
    {
     "data": {
      "image/png": "[encoded data removed]",
      "text/plain": [
       "<Figure size 800x600 with 2 Axes>"
      ]
     },
     "metadata": {},
     "output_type": "display_data"
    }
   ],
   "source": [
    "import seaborn as sns\n",
    "import matplotlib.pyplot as plt\n",
    "from sklearn.metrics import confusion_matrix\n",
    "from sklearn.datasets import load_iris\n",
    "from sklearn.model_selection import train_test_split\n",
    "from sklearn.ensemble import RandomForestClassifier\n",
    "\n",
    "# iris 데이터셋 로드\n",
    "iris = load_iris()\n",
    "X = iris.data\n",
    "y = iris.target\n",
    "\n",
    "# 학습 데이터와 테스트 데이터 분할\n",
    "X_train, X_test, y_train, y_test = train_test_split(X, y, test_size=0.2, random_state=42)\n",
    "\n",
    "# 랜덤 포레스트 모델 학습\n",
    "model = RandomForestClassifier()\n",
    "model.fit(X_train, y_train)\n",
    "\n",
    "# 예측값 생성\n",
    "y_pred = model.predict(X_test)\n",
    "\n",
    "# 혼동 행렬 생성\n",
    "cm = confusion_matrix(y_test, y_pred)\n",
    "\n",
    "# 혼동 행렬 시각화\n",
    "plt.figure(figsize=(8, 6))\n",
    "sns.heatmap(cm, annot=True, fmt='d', cmap='Blues', xticklabels=iris.target_names, yticklabels=iris.target_names)\n",
    "plt.ylabel('Actual')\n",
    "plt.xlabel('Predicted')\n",
    "plt.title('Confusion Matrix')\n",
    "plt.show()\n"
   ]
  },
  {
   "cell_type": "code",
   "execution_count": null,
   "id": "78d5097d-6ab1-4928-a845-3d97b395570d",
   "metadata": {},
   "outputs": [],
   "source": []
  }
 ],
 "metadata": {
  "kernelspec": {
   "display_name": "Python 3 (ipykernel)",
   "language": "python",
   "name": "python3"
  },
  "language_info": {
   "codemirror_mode": {
    "name": "ipython",
    "version": 3
   },
   "file_extension": ".py",
   "mimetype": "text/x-python",
   "name": "python",
   "nbconvert_exporter": "python",
   "pygments_lexer": "ipython3",
   "version": "3.12.4"
  }
 },
 "nbformat": 4,
 "nbformat_minor": 5
}
