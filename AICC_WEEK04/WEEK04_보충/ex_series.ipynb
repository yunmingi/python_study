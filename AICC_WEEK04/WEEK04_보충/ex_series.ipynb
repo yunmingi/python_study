{
 "cells": [
  {
   "cell_type": "code",
   "execution_count": 7,
   "metadata": {},
   "outputs": [
    {
     "name": "stdout",
     "output_type": "stream",
     "text": [
      "월    100\n",
      "수    300\n",
      "dtype: int64\n",
      "월    100\n",
      "화    200\n",
      "dtype: int64\n",
      "월    100\n",
      "수    300\n",
      "dtype: int64\n",
      "월    100\n",
      "수    300\n",
      "dtype: int64\n"
     ]
    }
   ],
   "source": [
    "import pandas as pd\n",
    "\n",
    "data = [100, 200, 300]\n",
    "index = [\"월\",\"화\",\"수\"]\n",
    "s = pd.Series(data, index)\n",
    "\n",
    "#iloc 활용\n",
    "print(s.iloc[0:2])\n",
    "#loc 활용\n",
    "print(s.loc[\"월\":\"화\"])\n",
    "#[] 활용\n",
    "print(s[0:2])\n"
   ]
  },
  {
   "cell_type": "code",
   "execution_count": null,
   "metadata": {},
   "outputs": [],
   "source": []
  }
 ],
 "metadata": {
  "kernelspec": {
   "display_name": "base",
   "language": "python",
   "name": "python3"
  },
  "language_info": {
   "codemirror_mode": {
    "name": "ipython",
    "version": 3
   },
   "file_extension": ".py",
   "mimetype": "text/x-python",
   "name": "python",
   "nbconvert_exporter": "python",
   "pygments_lexer": "ipython3",
   "version": "3.9.12"
  }
 },
 "nbformat": 4,
 "nbformat_minor": 2
}
