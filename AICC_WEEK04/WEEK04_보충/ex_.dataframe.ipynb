{
 "cells": [
  {
   "cell_type": "code",
   "execution_count": 10,
   "metadata": {},
   "outputs": [
    {
     "name": "stdout",
     "output_type": "stream",
     "text": [
      "    국어  수학\n",
      "재욱  90  40\n",
      "철수  50  50\n",
      "    국어  수학\n",
      "재욱  90  40\n",
      "철수  50  50\n"
     ]
    }
   ],
   "source": [
    "import pandas as pd\n",
    "\n",
    "data = {\"국어\":[90, 50, 80, 85],\"수학\":[40, 50, 60, 90],\n",
    "        \"영어\":[20, 70, 70, 99],\"코딩\":[90, 50, 88, 70]}\n",
    "\n",
    "index = [\"재욱\",\"철수\",\"제니\",\"지수\"]\n",
    "df = pd.DataFrame(data, index)\n",
    "\n",
    "#iloc 활용\n",
    "print(df.iloc[0:2,0:2])\n",
    "#loc 활용\n",
    "print(df.loc[\"재욱\":\"철수\",\"국어\":\"수학\"])"
   ]
  },
  {
   "cell_type": "code",
   "execution_count": null,
   "metadata": {},
   "outputs": [],
   "source": []
  },
  {
   "cell_type": "code",
   "execution_count": null,
   "metadata": {},
   "outputs": [],
   "source": []
  }
 ],
 "metadata": {
  "kernelspec": {
   "display_name": "base",
   "language": "python",
   "name": "python3"
  },
  "language_info": {
   "codemirror_mode": {
    "name": "ipython",
    "version": 3
   },
   "file_extension": ".py",
   "mimetype": "text/x-python",
   "name": "python",
   "nbconvert_exporter": "python",
   "pygments_lexer": "ipython3",
   "version": "3.9.12"
  }
 },
 "nbformat": 4,
 "nbformat_minor": 2
}
