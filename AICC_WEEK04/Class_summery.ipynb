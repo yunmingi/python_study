{
 "cells": [
  {
   "cell_type": "markdown",
   "id": "6f8ef4e4-0c03-4a87-8bc4-2bc61330c4bc",
   "metadata": {},
   "source": [
    "# 클래스"
   ]
  },
  {
   "cell_type": "markdown",
   "id": "32aba268-4d38-4fce-bb96-b69055f3c509",
   "metadata": {},
   "source": [
    "## 클래스 만들기\n",
    "클래스는 class 키워드와 속성(변수) 그리고 기능(함수)를 이용해 만든다\n",
    "\n",
    "## 객체 생성\n",
    "객체는 클래스 생성자를 호출한다"
   ]
  },
  {
   "cell_type": "code",
   "execution_count": null,
   "id": "2eff7d44-d493-47af-bd40-ac3cb6516f2c",
   "metadata": {},
   "outputs": [],
   "source": [
    "class Car: # 클래스 선언\n",
    "    def __init__(self, color, length):    # 생성자 속성\n",
    "        self.color = color\n",
    "        self.length = length\n",
    "    def doStop(self):     # 기능\n",
    "        print('stop!!')\n",
    "    def doStart(self):    # 기능\n",
    "        print('start!!')\n",
    "    def printCarInfo(self):\n",
    "        print(f'color : {self.color}')\n",
    "        print(f'length : {self.length}')"
   ]
  },
  {
   "cell_type": "code",
   "execution_count": null,
   "id": "ac5659a1-d5e4-4101-9a06-6a1e80e8acf4",
   "metadata": {},
   "outputs": [],
   "source": [
    "car1 = Car('red', 200)   # 객체 2개 생성\n",
    "car2 = Car('blue', 300)\n",
    "print(car1)              # 객체가 저장된 주소 출력\n",
    "print(car2)\n",
    "car1.printCarInfo()      # Car 클래스의 printCarInfo 기능 호출\n",
    "car2.printCarInfo()"
   ]
  },
  {
   "cell_type": "markdown",
   "id": "dce2827f-660c-4a74-b982-d7f018375723",
   "metadata": {},
   "source": [
    "## 클래스 생성 예제\n",
    "### 비행기 클래스를 만들고 비행기 객체 5개를 생성해 보자.\n",
    "속성 : 색생, 길이, 무게    \n",
    "기능 : 이륙, 착륙, 정보출력"
   ]
  },
  {
   "cell_type": "code",
   "execution_count": null,
   "id": "36ad0450-c257-42b4-919f-0783faf6f713",
   "metadata": {},
   "outputs": [],
   "source": [
    "class Airplane:\n",
    "\n",
    "    def __init__(self, color, length, weight):\n",
    "        self.color = color\n",
    "        self.length = length\n",
    "        self.weight = weight\n",
    "\n",
    "    def doFly(self):\n",
    "        print('Fly!!')\n",
    "\n",
    "    def doLand(self):\n",
    "        print('landing!!')\n",
    "\n",
    "    def printAirplaneInfo(self):\n",
    "        print(f'color : {self.color}')\n",
    "        print(f'length : {self.length}')\n",
    "        print(f'weight : {self.weight}')"
   ]
  },
  {
   "cell_type": "code",
   "execution_count": null,
   "id": "efcb1d12-0084-4d5f-9f8c-03b12f4ec401",
   "metadata": {},
   "outputs": [],
   "source": [
    "airplane1 = Airplane('red', 1000, 10000)\n",
    "airplane2 = Airplane('orange', 2000, 20000)\n",
    "airplane3 = Airplane('yellow', 3000, 30000)\n",
    "airplane4 = Airplane('green', 4000, 40000)\n",
    "airplane5 = Airplane('blue', 5000, 50000)\n",
    "\n",
    "airplane1.printAirplaneInfo()"
   ]
  },
  {
   "cell_type": "markdown",
   "id": "01ea6afc-ba57-4373-9d55-df7cc32d940b",
   "metadata": {},
   "source": [
    "# 객체 속성 변경"
   ]
  },
  {
   "cell_type": "code",
   "execution_count": null,
   "id": "3fd5d906-916c-4576-9654-60500a495a83",
   "metadata": {},
   "outputs": [],
   "source": [
    "class NewGenerationPC:\n",
    "\n",
    "    def __init__(self, name, cpu, memory, ssd):\n",
    "        self.name = name\n",
    "        self.cpu = cpu\n",
    "        self.memory = memory\n",
    "        self.ssd = ssd\n",
    "\n",
    "    def doExcel(self):\n",
    "        print('EXCEL RUN')\n",
    "\n",
    "    def doPhotoshop(self):\n",
    "        print('PHOTOSHOP RUN')\n",
    "\n",
    "    def printPCInfo(self):\n",
    "        print(f'name : {self.name}')\n",
    "        print(f'cpu : {self.cpu}')\n",
    "        print(f'memory : {self.memory}')\n",
    "        print(f'ssd : {self.ssd}')"
   ]
  },
  {
   "cell_type": "code",
   "execution_count": null,
   "id": "6da4dbcc-ca76-4b79-84f1-3ce4a5e5c59d",
   "metadata": {},
   "outputs": [],
   "source": [
    "myPC = NewGenerationPC('myPC', 'i5', '16G', '256G')\n",
    "myPC.printPCInfo()\n",
    "\n",
    "friendPC = NewGenerationPC('friend', 'i7', '32G', '512G')\n",
    "friendPC.printPCInfo()\n",
    "\n",
    "myPC.cpu = 'i9'          # 객체 속성 변경\n",
    "myPC.memory = '64G'\n",
    "myPC.ssd = '1TB'\n",
    "myPC.printPCInfo()"
   ]
  },
  {
   "cell_type": "markdown",
   "id": "ae143efa-1e9a-42ce-9de3-d5385060bff2",
   "metadata": {},
   "source": [
    "## 계산기 클래스를 만들고 사칙연산을 실행해 보자"
   ]
  },
  {
   "cell_type": "code",
   "execution_count": null,
   "id": "80945d61-9156-4676-9d6f-ae950423d4fd",
   "metadata": {},
   "outputs": [],
   "source": [
    "class Calculator:\n",
    "\n",
    "    def __init__(self, number1, number2):\n",
    "        self.number1 = number1\n",
    "        self.number2 = number2\n",
    "        self.result = 0\n",
    "\n",
    "    def add(self):\n",
    "        self.result = self.number1 + self.number2\n",
    "        return self.result\n",
    "\n",
    "    def sub(self):\n",
    "        self.result = self.number1 - self.number2\n",
    "        return self.result\n",
    "\n",
    "    def mul(self):\n",
    "        self.result = self.number1 * self.number2\n",
    "        return self.result\n",
    "\n",
    "    def div(self):\n",
    "        self.result = self.number1 / self.number2\n",
    "        return self.result\n",
    "\n",
    "    def printCalResult(self):\n",
    "        print(f'calculator.add() : {self.number1 + self.number2}')\n",
    "        print(f'calculator.sub() : {self.number1 - self.number2}')\n",
    "        print(f'calculator.mul() : {self.number1 * self.number2}')\n",
    "        print(f'calculator.div() : {self.number1 / self.number2}')"
   ]
  },
  {
   "cell_type": "code",
   "execution_count": null,
   "id": "9b0bc5e8-4b4d-4edf-8a00-86f1d0e9a51f",
   "metadata": {},
   "outputs": [],
   "source": [
    "cal = Calculator(10, 20)\n",
    "cal.printCalResult()"
   ]
  },
  {
   "cell_type": "markdown",
   "id": "8fecea76-2a15-4ac0-85e7-375926eaed97",
   "metadata": {},
   "source": [
    "# 객체와 메모리\n",
    "- 변수는 객체의 메모리 주소를 저장하고 이를 이용해서 객체를 참조한다."
   ]
  },
  {
   "cell_type": "code",
   "execution_count": null,
   "id": "a28066f6-a23e-4756-9de7-f65981cd9664",
   "metadata": {},
   "outputs": [],
   "source": [
    "class Robot:\n",
    "\n",
    "    def __init__(self, color, height, weight):\n",
    "        self.color = color\n",
    "        self.height = height\n",
    "        self.weight = weight\n",
    "\n",
    "    def printRobotInfo(self):\n",
    "        print(f'color : {self.color}')\n",
    "        print(f'height : {self.height}')\n",
    "        print(f'weight : {self.weight}')"
   ]
  },
  {
   "cell_type": "code",
   "execution_count": null,
   "id": "485e1cad-e9b9-470f-ad33-77c705c2cdfb",
   "metadata": {},
   "outputs": [],
   "source": [
    "rb1 = Robot('red', 200, 80)\n",
    "rb2 = Robot('blue', 300, 120)\n",
    "rb3 = rb1                         # rb1의 주소값이 저장됨.\n",
    "print(rb1)                        # print 해보면 rb1과 rb3과 저장된 메모리 주소가 같다.\n",
    "print(rb2)\n",
    "print(rb3)\n",
    "\n",
    "rb1.color = 'gray'\n",
    "rb1.height = 250\n",
    "rb1.weight = 100\n",
    "\n",
    "rb1.printRobotInfo()\n",
    "rb2.printRobotInfo()\n",
    "rb3.printRobotInfo()"
   ]
  },
  {
   "cell_type": "markdown",
   "id": "72d587e4-3d53-4876-b3d1-5a8f50862701",
   "metadata": {},
   "source": [
    "## 예제\n",
    "- 국어, 영어, 수학 점수를 입력받아 리스트에 저장하고 원본을 유지한 상태로,\n",
    "- 복사본을 만들어 과목별 10% 올렸을 경우에 평균을 출력해보자"
   ]
  },
  {
   "cell_type": "code",
   "execution_count": null,
   "id": "3f790fe7-0b90-4dc0-bb5c-c52578f12d99",
   "metadata": {},
   "outputs": [],
   "source": [
    "scores = [int(input('국어 점수 입력 : ')), int(input('영어 점수 입력 : ')), int(input('수학 점수 입력 : '))]\n",
    "\n",
    "print(scores)\n",
    "\n",
    "copyscores = scores.copy()\n",
    "\n",
    "for idx, score in enumerate(copyscores):\n",
    "    result = score * 1.1\n",
    "    copyscores[idx] = 100 if result > 100 else result\n",
    "\n",
    "print(f'이전 평균: {sum(scores) / len(scores)}')\n",
    "print(f'이전 평균: {sum(copyscores) / len(copyscores)}')"
   ]
  },
  {
   "cell_type": "markdown",
   "id": "b89a036c-e791-4895-b5b9-e9daa45b9fdf",
   "metadata": {},
   "source": [
    "# 객체 복사에 대한 이해\n",
    "## 얕은 복사와 깊은 복사"
   ]
  },
  {
   "cell_type": "markdown",
   "id": "b2a2b82e-81b9-4e22-8022-0b64531b88ff",
   "metadata": {},
   "source": [
    "### 얕은 복사\n",
    "- 얕은 복사란 객체 주소를 복사하는 것으로 객체 자체가 복사되지 않는다.\n",
    "\n",
    "### 깊은 복사\n",
    "- 깊은 복사란, 객체 자체를 복사하는 것으로 또 하나의 객체가 만들어진다."
   ]
  },
  {
   "cell_type": "code",
   "execution_count": null,
   "id": "e7bbe1d1-dde9-4b93-a57d-f7581800672e",
   "metadata": {},
   "outputs": [],
   "source": [
    "class TempCls:\n",
    "\n",
    "    def __init__(self, n, s):\n",
    "        self.number = n\n",
    "        self.str = s\n",
    "\n",
    "    def printClsInfo(self):\n",
    "        print(f'self.number : {self.number}')\n",
    "        print(f'self.str : {self.str}')"
   ]
  },
  {
   "cell_type": "code",
   "execution_count": null,
   "id": "f8ac3941-fe44-432c-8668-1b53219cff00",
   "metadata": {},
   "outputs": [],
   "source": [
    "# 얕은 복사\n",
    "tc1 = TempCls(10, 'Hello')\n",
    "tc2 = tc1\n",
    "\n",
    "tc1.printClsInfo()\n",
    "tc2.printClsInfo()\n",
    "\n",
    "tc2.number = 3.14\n",
    "tc2.str = 'Bye'\n",
    "\n",
    "tc1.printClsInfo()\n",
    "tc2.printClsInfo()"
   ]
  },
  {
   "cell_type": "code",
   "execution_count": null,
   "id": "aad2941c-6a57-44d8-8fe5-c333591b65b7",
   "metadata": {},
   "outputs": [],
   "source": [
    "# 깊은 복사\n",
    "import copy"
   ]
  },
  {
   "cell_type": "code",
   "execution_count": null,
   "id": "c094d5d7-74ea-433f-ab7e-be3201b23cd4",
   "metadata": {},
   "outputs": [],
   "source": [
    "tc1 = TempCls(10, 'Hello')\n",
    "tc2 = copy.copy(tc1)         # copy 모듈의 copy 함수를 통해 객체를 복사\n",
    "\n",
    "tc1.printClsInfo()           # 객체 자체를 복사 하였기 떄문에 프린트 값은 동일\n",
    "tc2.printClsInfo()\n",
    "\n",
    "print(tc1)                   # 하지만 주소값을 확인하면 서로 다른 주소를 가리키고 있음\n",
    "print(tc2)"
   ]
  },
  {
   "cell_type": "markdown",
   "id": "f000932b-874d-43fa-9b85-0fbddd200bd4",
   "metadata": {},
   "source": [
    "### 리스트를 이용하여 깊은 복사를 하는 방법"
   ]
  },
  {
   "cell_type": "code",
   "execution_count": null,
   "id": "1b50d386-7adb-41fc-8f9c-3ab5775170ee",
   "metadata": {},
   "outputs": [],
   "source": [
    "# 1. import copy 이용"
   ]
  },
  {
   "cell_type": "code",
   "execution_count": null,
   "id": "014cc7a5-dc50-40ed-9b27-0c86488d1e9d",
   "metadata": {},
   "outputs": [],
   "source": [
    "# 2. for문 이용\n",
    "scores = [9, 8, 5, 7, 6, 10]\n",
    "scoresCopy = []\n",
    "\n",
    "for s in scores:\n",
    "    scoresCopy.append(s)\n",
    "\n",
    "print(f'id(scores) : {id(scores)}')           \n",
    "print(f'id(scoresCopy) : {id(scoresCopy)}')"
   ]
  },
  {
   "cell_type": "code",
   "execution_count": null,
   "id": "f993fc57-d28c-46a1-8c6e-c950fd06a4d3",
   "metadata": {},
   "outputs": [],
   "source": [
    "# 3. extend 함수 이용\n",
    "scores = [9, 8, 5, 7, 6, 10]\n",
    "scoresCopy = []\n",
    "\n",
    "scoresCopy.extend(scores)\n",
    "print(f'id(scores) : {id(scores)}')           \n",
    "print(f'id(scoresCopy) : {id(scoresCopy)}')"
   ]
  },
  {
   "cell_type": "code",
   "execution_count": null,
   "id": "e363bf89-f9be-457b-9e5f-b6682e0febaa",
   "metadata": {},
   "outputs": [],
   "source": [
    "# 4. 리스트 자체 함수인 copy 함수 이용\n",
    "scores = [9, 8, 5, 7, 6, 10]\n",
    "scoresCopy = []\n",
    "\n",
    "scoresCopy = scores.copy()\n",
    "print(f'id(scores) : {id(scores)}')           \n",
    "print(f'id(scoresCopy) : {id(scoresCopy)}')"
   ]
  },
  {
   "cell_type": "code",
   "execution_count": null,
   "id": "f507b8ca-d6b3-41e7-b8d4-7cfac4fb2946",
   "metadata": {},
   "outputs": [],
   "source": [
    "# 5. 슬라이싱을 활용한 깊은 복사\n",
    "scores = [9, 8, 5, 7, 6, 10]\n",
    "scoresCopy = []\n",
    "\n",
    "scoresCopy = scores[:]\n",
    "print(f'id(scores) : {id(scores)}')           \n",
    "print(f'id(scoresCopy) : {id(scoresCopy)}')"
   ]
  },
  {
   "cell_type": "markdown",
   "id": "d35ce105-340d-4428-b1a8-7a647216eca7",
   "metadata": {},
   "source": [
    "### 예제\n",
    "- 선수의 원본 점수를 이용해서 평균을 출력하고, 최고값과 최저값을 제외한 평균을 출력하는 프로그램을 만들어보자"
   ]
  },
  {
   "cell_type": "code",
   "execution_count": null,
   "id": "1ffff95c-871e-4090-bc26-5b51c918aa12",
   "metadata": {},
   "outputs": [],
   "source": [
    "plaOriSco = [8.7, 9.1, 8.9, 9.0, 7.9, 9.5, 8.8, 8.3]\n",
    "plaCopSco = plaOriSco.copy()\n",
    "\n",
    "oriTotal = sum(plaOriSco)\n",
    "oriAvg = oriTotal / len(plaOriSco)\n",
    "plaCopSco.remove(max(plaCopSco))\n",
    "plaCopSco.remove(min(plaCopSco))\n",
    "\n",
    "copTotal = sum(plaCopSco)\n",
    "copAvg = copTotal / len(plaCopSco)\n",
    "\n",
    "print(f'plaOriSco : {plaOriSco}')\n",
    "print(f'plaCopSco : {plaCopSco}')\n",
    "print(f'Original Total : {oriTotal}')\n",
    "print(f'Original Average : {oriAvg}')\n",
    "print(f'copy Total : {copTotal}')\n",
    "print(f'copy Average : {copAvg}')\n",
    "print(f'oriAvg - copAvg : {oriAvg - copAvg}')"
   ]
  },
  {
   "cell_type": "markdown",
   "id": "3765ab3d-492d-489a-b206-5e161ffd8681",
   "metadata": {},
   "source": [
    "#  클래스 상속\n",
    "## 상속 이란?\n",
    "- 클래스는 또 다른 클래스를 상속해서 내 것처럼 사용할 수 있다."
   ]
  },
  {
   "cell_type": "code",
   "execution_count": null,
   "id": "aa21da1c-20ed-47e9-8947-992f72f67eba",
   "metadata": {},
   "outputs": [],
   "source": [
    "class NormalCar:\n",
    "\n",
    "    def drive(self):\n",
    "        print('[NormalCar] drive() Called!!')\n",
    "        \n",
    "    def back(self):\n",
    "        print('[NormalCar] back() Called!!')\n",
    "\n",
    "class TurboCar(NormalCar):\n",
    "\n",
    "    def turbo(self):\n",
    "        print('[TurboCar] turbo() Called!!')"
   ]
  },
  {
   "cell_type": "code",
   "execution_count": null,
   "id": "c34192fd-b69d-482f-8ba1-d695a2b29db0",
   "metadata": {},
   "outputs": [],
   "source": [
    "myTurboCar = TurboCar()\n",
    "myTurboCar.turbo()\n",
    "myTurboCar.drive()\n",
    "myTurboCar.back()"
   ]
  },
  {
   "cell_type": "markdown",
   "id": "80b6f124-06cd-417f-b82b-693519175d48",
   "metadata": {},
   "source": [
    "## 예제\n",
    "- 덧셈, 뺄셈 기능이 있는 클래스를 만들고, 이를 상속하는 클래스를 만들어서 곱센과 나눗셈 기능을 추가해보자."
   ]
  },
  {
   "cell_type": "code",
   "execution_count": null,
   "id": "bc7706aa-dc31-4e8b-822b-9d254e47d60b",
   "metadata": {},
   "outputs": [],
   "source": [
    "class CalculatorAddSub:\n",
    "\n",
    "    def add(self, n1, n2):\n",
    "        return n1 + n2\n",
    "\n",
    "    def sub(self, n1, n2):\n",
    "        return n1 - n2\n",
    "\n",
    "class CalculatorMulDiv(CalculatorAddSub):\n",
    "\n",
    "    def mul(self, n1, n2):\n",
    "        return n1 * n2\n",
    "\n",
    "    def div(self, n1, n2):\n",
    "        return n1 / n2"
   ]
  },
  {
   "cell_type": "code",
   "execution_count": null,
   "id": "c366ff6c-70c9-4d12-9794-ed7ef16b9959",
   "metadata": {},
   "outputs": [],
   "source": [
    "cal = CalculatorMulDiv()\n",
    "cal.add(10,20)\n",
    "print(f'cal.add(10,20) : {cal.add(10,20)}')\n",
    "print(f'cal.sub(10,20) : {cal.sub(10,20)}')\n",
    "print(f'cal.mul(10,20) : {cal.mul(10,20)}')\n",
    "print(f'cal.div(10,20) : {cal.div(10,20)}')"
   ]
  },
  {
   "cell_type": "markdown",
   "id": "d9543144-568a-4f1c-ae4a-adc02bf3f288",
   "metadata": {},
   "source": [
    "# 생성자\n",
    "- 객체가 생성될 때 생성자를 호출하면 \\__init__()가 자동 호출된다."
   ]
  },
  {
   "cell_type": "code",
   "execution_count": null,
   "id": "312a98d0-2b94-4564-8b2e-7e88123ee268",
   "metadata": {},
   "outputs": [],
   "source": [
    "class Calculator:\n",
    "\n",
    "    def __init__(self):\n",
    "        print('[Calculator] __init__() Called!!')"
   ]
  },
  {
   "cell_type": "code",
   "execution_count": null,
   "id": "5a92e9ed-fd5c-4eca-8fe8-bdfe4d95d529",
   "metadata": {},
   "outputs": [],
   "source": [
    "cal = Calculator()"
   ]
  },
  {
   "cell_type": "markdown",
   "id": "cab50102-1814-4517-b6e1-9348f34e1f80",
   "metadata": {},
   "source": [
    "### \\__init__()가 속성을 초기화 한다"
   ]
  },
  {
   "cell_type": "code",
   "execution_count": null,
   "id": "b51f7fa8-42f8-4341-a487-7c309e9d6ec0",
   "metadata": {},
   "outputs": [],
   "source": [
    "class Calculator:\n",
    "\n",
    "    def __init__(self, n1, n2):               # 메개변수를 받아서 초기화 하는 방법\n",
    "        print('[Calculator] __init__() Called!!')\n",
    "        self.num1 = n1\n",
    "        self.num2 = n2"
   ]
  },
  {
   "cell_type": "code",
   "execution_count": null,
   "id": "a5a5b079-53d9-41bf-956b-1fb0afb678fd",
   "metadata": {},
   "outputs": [],
   "source": [
    "cal = Calculator(10, 20)\n",
    "print(f'cal.num1 : {cal.num1}')\n",
    "print(f'cal.num2 : {cal.num2}')"
   ]
  },
  {
   "cell_type": "code",
   "execution_count": null,
   "id": "bc12099e-7033-455b-86b1-a399dc73f9ea",
   "metadata": {},
   "outputs": [],
   "source": [
    "# 값을 초기화 하는 다른 방법\n",
    "\n",
    "class Calculator:\n",
    "\n",
    "    def __init__(self):\n",
    "        print('[Calculator] __init__() Called!!')\n",
    "        self.num1 = 10                            # 매게변수를 받지 않고 처음부터 값을 세팅하는 방법\n",
    "        self.num2 = 100\n",
    "\n",
    "cal = Calculator()\n",
    "print(f'cal.num1 : {cal.num1}')\n",
    "print(f'cal.num2 : {cal.num2}')"
   ]
  },
  {
   "cell_type": "markdown",
   "id": "e7d00941-ef64-4282-807e-ad4b06635fba",
   "metadata": {},
   "source": [
    "### super()\n",
    "- 상위 클래스의 속성을 초기화하기 위해서 super()를 이용한다."
   ]
  },
  {
   "cell_type": "code",
   "execution_count": null,
   "id": "8bdd2f62-4dbb-4ed3-a921-9fb95c7bb3f2",
   "metadata": {},
   "outputs": [],
   "source": [
    "class P_Class:\n",
    "    \n",
    "    def __init__(self, pNum1, pNum2):\n",
    "        print('[pClass] __init__()')\n",
    "        \n",
    "        self.pNum1 = pNum1\n",
    "        self.pNum2 = pNum2\n",
    "\n",
    "class C_Class(P_Class):\n",
    "\n",
    "    def __init__(self, cNum1, cNum2):\n",
    "        print('[cClass] __init__()')\n",
    "\n",
    "        # P_Class.__init__(self, cNum1, cNum2)    # P_Class 강제 호출 하는 방법\n",
    "        super().__init__(100, 200)                # C_Class 의 super는 P_Class\n",
    "       \n",
    "        self.cNum1 = cNum1\n",
    "        self.cNum2 = cNum2\n"
   ]
  },
  {
   "cell_type": "code",
   "execution_count": null,
   "id": "dbcec946-92a6-4b41-97ac-85dace42270b",
   "metadata": {},
   "outputs": [],
   "source": [
    "cls = C_Class(10, 20)"
   ]
  },
  {
   "cell_type": "markdown",
   "id": "eb185707-e4d8-4c34-8e33-3673595b6ec7",
   "metadata": {},
   "source": [
    "### 예제\n",
    "\n",
    "- 중간고사 클래스와 기말고사 클래스를 상속관계로 만들고 각각의 점수를 초기화하자.\n",
    "- 또한 총점 및 평균을 반환하는 기능도 만들어 보자."
   ]
  },
  {
   "cell_type": "code",
   "execution_count": null,
   "id": "43df0814-2fe3-4cbe-91a3-b520664a90f1",
   "metadata": {},
   "outputs": [],
   "source": [
    "class MidEx:\n",
    "\n",
    "    def __init__(self, s1, s2, s3):\n",
    "        print('[MidEx] __init__() Called')\n",
    "        self.mid_kor_score = s1\n",
    "        self.mid_eng_score = s2\n",
    "        self.mid_math_score = s3\n",
    "\n",
    "    def printScores(self):\n",
    "        print(f'Mid_Kor_Score : {self.mid_kor_score}')\n",
    "        print(f'Mid_Eng_Score : {self.mid_eng_score}')\n",
    "        print(f'Mid_Math_Score : {self.mid_math_score}')\n",
    "\n",
    "class FinalEx(MidEx):\n",
    "\n",
    "    def __init__(self, s1, s2, s3, s4, s5, s6):\n",
    "        print('[FinalEx] __init__() Called')\n",
    "\n",
    "        super().__init__(s1, s2, s3)\n",
    "        self.final_kor_score = s4\n",
    "        self.final_eng_score = s5\n",
    "        self.final_math_score = s6\n",
    "\n",
    "    def printScores(self):\n",
    "        super().printScores()\n",
    "        print(f'Final_Kor_Score : {self.final_kor_score}')\n",
    "        print(f'Final_Eng_Score : {self.final_eng_score}')\n",
    "        print(f'Final_Math_Score : {self.final_math_score}')\n",
    "\n",
    "    def getTotalScore(self):\n",
    "        total = self.mid_kor_score + self.mid_eng_score + self.mid_math_score\n",
    "        total += self.final_kor_score + self.final_eng_score + self.final_math_score\n",
    "\n",
    "        return total\n",
    "\n",
    "    def getAverageScore(self):\n",
    "        return self.getTotalScore() / 6"
   ]
  },
  {
   "cell_type": "code",
   "execution_count": null,
   "id": "3cd9be6b-9417-4fa6-8ce1-e315c1fb12e6",
   "metadata": {},
   "outputs": [],
   "source": [
    "exam = FinalEx(85, 90, 88, 75, 85, 95)\n",
    "exam.printScores()\n",
    "\n",
    "print(f'total : {exam.getTotalScore()}')\n",
    "print(f'average : {round(exam.getAverageScore(), 2)}')\n"
   ]
  },
  {
   "cell_type": "markdown",
   "id": "74ac8b8e-aa6d-4810-986f-7c08ddee30d2",
   "metadata": {},
   "source": [
    "## 다중 상속\n",
    "- 2개 이상의 클래스를 상속한다."
   ]
  },
  {
   "cell_type": "code",
   "execution_count": null,
   "id": "303e9875-c80b-417c-801c-d971e670ab05",
   "metadata": {},
   "outputs": [],
   "source": [
    "class Car01:\n",
    "\n",
    "    def drive(self):\n",
    "        print('drive() method called!!')\n",
    "\n",
    "class Car02:\n",
    "\n",
    "    def turbo(self):\n",
    "        print('turbo() method called!!')\n",
    "\n",
    "class Car03:\n",
    "\n",
    "    def fly(self):\n",
    "        print('fly() method called!!')\n",
    "\n",
    "class Car(Car01, Car02, Car03):\n",
    "\n",
    "    def __init__(self):\n",
    "        pass"
   ]
  },
  {
   "cell_type": "code",
   "execution_count": null,
   "id": "2fffcd63-e300-4df0-a8b1-9c3248cd409f",
   "metadata": {},
   "outputs": [],
   "source": [
    "myCar = Car()\n",
    "\n",
    "myCar.drive()\n",
    "myCar.turbo()\n",
    "myCar.fly()"
   ]
  },
  {
   "cell_type": "markdown",
   "id": "0ddd6365-f607-4072-933c-9fa04d567eca",
   "metadata": {},
   "source": [
    "### 예제\n",
    "- BasicCalculator 와 DeveloperCalculator 클래스를 다음과 같이 만들고 이들 클래스를 상속해서 Calculator 클래스를 만들고 사용해보자 "
   ]
  },
  {
   "cell_type": "code",
   "execution_count": null,
   "id": "5d6fac68-b9a4-4a9a-8821-3d8258cc0543",
   "metadata": {},
   "outputs": [],
   "source": [
    "class BasicCalculator:\n",
    "\n",
    "    def add(self, n1, n2):\n",
    "        return n1 + n2\n",
    "\n",
    "    def sub(self, n1, n2):\n",
    "        return n1 - n2\n",
    "\n",
    "    def mul(self, n1, n2):\n",
    "        return n1 * n2\n",
    "\n",
    "    def div(self, n1, n2):\n",
    "        return n1 / n2\n",
    "\n",
    "class DeveloperCalculator:\n",
    "\n",
    "    def mod(self, n1, n2):\n",
    "        return n1 % n2\n",
    "\n",
    "    def flo(self, n1, n2):\n",
    "        return n1 // n2\n",
    "\n",
    "    def exp(self, n1, n2):\n",
    "        return n1 ** n2\n",
    "\n",
    "class Calculator(BasicCalculator, DeveloperCalculator):\n",
    "\n",
    "    def __init__(self):\n",
    "        pass"
   ]
  },
  {
   "cell_type": "code",
   "execution_count": null,
   "id": "e6308075-c568-4fef-b891-9798ae89b86b",
   "metadata": {},
   "outputs": [],
   "source": [
    "cal = Calculator()\n",
    "cal.add(1, 2)\n",
    "cal.exp(10, 2)"
   ]
  },
  {
   "cell_type": "markdown",
   "id": "e492240c-e706-46b5-b4f9-372c2a67a6a3",
   "metadata": {},
   "source": [
    "## 오버라이딩\n",
    "- 하위 클래스에서 상위 클래스의 메서드를 재정의(override)한다."
   ]
  },
  {
   "cell_type": "code",
   "execution_count": null,
   "id": "3c8172b6-55cd-438c-a388-c30af2631700",
   "metadata": {},
   "outputs": [],
   "source": [
    "class Robot:\n",
    "\n",
    "    def __init__(self, c, h, w):\n",
    "        self.color = c\n",
    "        self.height = h\n",
    "        self.weight = w\n",
    "\n",
    "    def fire(self):\n",
    "        print('총알 발사!!')\n",
    "\n",
    "    def printRobotInfo(self):\n",
    "        print(f'color : {self.color}')\n",
    "        print(f'height : {self.height}')\n",
    "        print(f'weight : {self.weight}')\n",
    "\n",
    "class NewRobot(Robot):\n",
    "\n",
    "    def __init__(self, c, h, w):\n",
    "        super().__init__(c, h, w)\n",
    "\n",
    "    def fire(self):\n",
    "        print('레이저 발사!!')"
   ]
  },
  {
   "cell_type": "code",
   "execution_count": null,
   "id": "1a2809cd-9e71-44a1-a4b8-dfe62038096e",
   "metadata": {},
   "outputs": [],
   "source": [
    "nr = NewRobot('red', 100, 200)\n",
    "nr.fire()\n",
    "nr.printRobotInfo()"
   ]
  },
  {
   "cell_type": "markdown",
   "id": "1f84f9ab-3463-47f1-8e13-173cf282a63e",
   "metadata": {},
   "source": [
    "### 예제\n",
    "- 삼각형 넓이를 계산하는 클래스를 만들고 이를 상속하는 클래스에서 getArea()를 오버라이딩 해서 출력 결과가 다음과 같을 수 있도록 클래스를 만들어 보자"
   ]
  },
  {
   "cell_type": "code",
   "execution_count": null,
   "id": "8fe7cc41-411a-4250-b6c8-7acf81cc0a5f",
   "metadata": {},
   "outputs": [],
   "source": [
    "class TriangleArea:\n",
    "\n",
    "    def __init__(self, w, h):\n",
    "        self.width = w\n",
    "        self.height = h\n",
    "\n",
    "    def printInfo(self):\n",
    "        print(f'width : {self.width}')\n",
    "        print(f'height : {self.height}')\n",
    "\n",
    "    def getArea(self):\n",
    "        return self.width * self.height / 2\n",
    "\n",
    "class NewTriangleArea(TriangleArea):\n",
    "\n",
    "    def __init__(self, w, h):\n",
    "        super().__init__(w, h)\n",
    "\n",
    "    def getArea(self):\n",
    "        return self.width * self.height // 2\n",
    "\n",
    "ta = NewTriangleArea(7, 5)\n",
    "ta.printInfo()\n",
    "ta.getArea()\n",
    "print(f'TriangleArea : {ta.getArea()}')\n"
   ]
  },
  {
   "cell_type": "markdown",
   "id": "d25eb59c-7aef-4a89-9318-f378d3bdfad6",
   "metadata": {},
   "source": [
    "## 추상클래스\n",
    "- 상위 클래스에서 하위 클래스에 메서드 구현을 강요한다.\n",
    "- 구현이 안되면 에러가나고 반드시 꼭 구현해야 한다."
   ]
  },
  {
   "cell_type": "markdown",
   "id": "e354b72a-33ee-4e9b-b0bb-3c3f7cb6fd26",
   "metadata": {},
   "source": [
    "### 추상클래스를 쓰는 이유\n",
    "- 어떠한 특정 기능을 상속을 받았을 때 각자 알아서 입맛에 맞게 쓰게 하려고 할 때 사용"
   ]
  },
  {
   "cell_type": "code",
   "execution_count": null,
   "id": "b3617dc3-aa92-4d15-840f-318945d3de9b",
   "metadata": {},
   "outputs": [],
   "source": [
    "from abc import ABCMeta\n",
    "from abc import abstractmethod"
   ]
  },
  {
   "cell_type": "code",
   "execution_count": null,
   "id": "9908b16e-1761-4cec-b852-9238f84baa1b",
   "metadata": {},
   "outputs": [],
   "source": [
    "class AirPlane(metaclass = ABCMeta):\n",
    "\n",
    "    @abstractmethod\n",
    "    def flight(self):\n",
    "        pass\n",
    "\n",
    "    def forward(self):\n",
    "        print('전진!!')\n",
    "\n",
    "    def backward(self):\n",
    "        print('후진!!')\n",
    "\n",
    "class Airliner(AirPlane):\n",
    "\n",
    "    def __init__(self, c):\n",
    "        self.color = c\n",
    "\n",
    "    def flight(self):                 # 메서드 구체화\n",
    "        print('시속 400km/h 비행!!')\n",
    "\n",
    "al = Airliner('red')\n",
    "al.flight()\n",
    "al.forward()\n",
    "al.backward()"
   ]
  },
  {
   "cell_type": "markdown",
   "id": "13d9e7be-5176-434c-ae42-1d8fb0c0c155",
   "metadata": {},
   "source": [
    "### 예제\n",
    "- 계산기 추상 클래스를 만들고 이를 이용해서 새로운 계산기 클래스를 만들어 보자.\n",
    "- 추상 클래스에는 덧셈, 뺄셈, 곱셈, 나눗셈 기능이 선언되어 있어야 한다."
   ]
  },
  {
   "cell_type": "code",
   "execution_count": null,
   "id": "f4d803bb-90a3-408a-8c26-c9c676de4490",
   "metadata": {},
   "outputs": [],
   "source": [
    "class Calculator(metaclass = ABCMeta):\n",
    "\n",
    "    @abstractmethod\n",
    "    def add(self, n1, n2):\n",
    "        pass\n",
    "\n",
    "    @abstractmethod\n",
    "    def sub(self, n1, n2):\n",
    "        pass\n",
    "\n",
    "    @abstractmethod\n",
    "    def mul(self, n1, n2):\n",
    "        pass\n",
    "\n",
    "    @abstractmethod\n",
    "    def div(self, n1, n2):\n",
    "        pass\n",
    "\n",
    "class DeveloperCalculator(Calculator):\n",
    "\n",
    "    def add(self, n1, n2):\n",
    "        print(n1 + n2)\n",
    "\n",
    "    def sub(self, n1, n2):\n",
    "        print(n1 - n2)\n",
    "\n",
    "    def mul(self, n1, n2):\n",
    "        print(n1 * n2)\n",
    "\n",
    "    def div(self, n1, n2):\n",
    "        print(n1 / n2)\n",
    "\n",
    "    def mod(self, n1, n2):\n",
    "        print(n1 % n2)\n",
    "\n",
    "    def flo(self, n1, n2):\n",
    "        print(n1 // n2)"
   ]
  },
  {
   "cell_type": "markdown",
   "id": "75d5db6a-0cda-4001-bac8-f10e188bd8ed",
   "metadata": {},
   "source": [
    "## 예외란?\n",
    "- 예상하지 못한 문제로 프로그램 실행이 어려운 상태\n",
    "- 예외란, 문법적인 문제는 없으나 실행 중 발생하는 예상하지 못한 문제이다."
   ]
  },
  {
   "cell_type": "markdown",
   "id": "2a4e86e4-0b63-4970-ad19-872f38a557ce",
   "metadata": {},
   "source": [
    "## 예외 종류\n",
    "- 예외 관련 클래스는 Exception 클래스를 상속한다.\n",
    "- ex. ZeroDivisionError, IOError, IndexError, IndentationError등 보다 더 많이 있다."
   ]
  },
  {
   "cell_type": "markdown",
   "id": "1ce55524-f5f1-4cff-a68b-0da9fa543d15",
   "metadata": {},
   "source": [
    "## 예외 처리\n",
    "- 예상하지 못한 예외가 프로그램 전체 실행에 영향이 없도록 처리함\n",
    "- try ~ except 구문을 사용함"
   ]
  },
  {
   "cell_type": "code",
   "execution_count": null,
   "id": "c2c343a4-378b-4e4c-9edf-660074ce9b9a",
   "metadata": {},
   "outputs": [],
   "source": [
    "n1 = 10; n2 = 0\n",
    "\n",
    "try:\n",
    "    print(n1/n2)\n",
    "\n",
    "except:\n",
    "    print('예상치 못한 예외가 발생했습니다.')\n",
    "    print('다른 프로그램에는 문제가 없습니다.')\n",
    "    \n",
    "print(n1*n2)\n",
    "print(n1-n2)\n",
    "print(n1+n2)"
   ]
  },
  {
   "cell_type": "markdown",
   "id": "4ff3b043-97bc-4275-bfe3-446160e47609",
   "metadata": {},
   "source": [
    "### 예제\n",
    "- 사용자로부터 숫자 5개를 입력 받을 떄 숫자가 아닌 자료형이 입력되면 예외 처리하는 프로그램을 만들어 보자."
   ]
  },
  {
   "cell_type": "code",
   "execution_count": null,
   "id": "c4bd3480-8acf-415e-b80b-f704ee11bc6a",
   "metadata": {},
   "outputs": [],
   "source": [
    "nums = []\n",
    "\n",
    "n = 1\n",
    "while n < 6:\n",
    "    try:\n",
    "        num = int(input('정수 입력 : '))\n",
    "\n",
    "    except:\n",
    "        print('예외 발생')\n",
    "        continue\n",
    "\n",
    "    nums.append(num)\n",
    "    n += 1\n",
    "print(f'nums : {nums}')"
   ]
  },
  {
   "cell_type": "markdown",
   "id": "b4839d0a-76e1-4414-8403-5664c4731a39",
   "metadata": {},
   "source": [
    "## try ~ except ~ else 구문\n",
    "- 예외가 발생하지 않은 경우 실행하는 구문이다.\n",
    "- else는 try, except를 썼을 때만 쓸 수 있다"
   ]
  },
  {
   "cell_type": "code",
   "execution_count": null,
   "id": "36cfc8a1-be8d-46e4-8943-f8af46f54ae8",
   "metadata": {},
   "outputs": [],
   "source": [
    "nums = []\n",
    "\n",
    "n = 1\n",
    "while n < 6:\n",
    "    try:\n",
    "        num = int(input('정수 입력 : '))\n",
    "\n",
    "    except:\n",
    "        print('예외 발생')\n",
    "        continue\n",
    "    else:\n",
    "        if num % 2 == 0:\n",
    "            nums.append(num)\n",
    "            n += 1\n",
    "\n",
    "        else:\n",
    "            print('입력한 숫자는 홀수 입니다')\n",
    "            print('다시 입력 하세요')\n",
    "            continue\n",
    "print(f'nums : {nums}')"
   ]
  },
  {
   "cell_type": "markdown",
   "id": "5d5a56b6-234b-45d0-9493-41bb362c4422",
   "metadata": {},
   "source": [
    "### 예제\n",
    "- 사용자로부터 숫자 5개를 입력받아 짝수, 홀수, 실수로 구분해서 각각을 리스트에 저장하는 프로그램을 만들어 보자."
   ]
  },
  {
   "cell_type": "code",
   "execution_count": 3,
   "id": "c0d6b8c1-a580-48a6-81bf-59f466df827f",
   "metadata": {},
   "outputs": [
    {
     "name": "stdin",
     "output_type": "stream",
     "text": [
      "숫자 입력 :  1\n",
      "숫자 입력 :  2\n",
      "숫자 입력 :  3\n",
      "숫자 입력 :  4\n",
      "숫자 입력 :  5\n"
     ]
    },
    {
     "name": "stdout",
     "output_type": "stream",
     "text": [
      "eveList : [2.0, 4.0]\n",
      "oddList : [1.0, 3.0, 5.0]\n",
      "floatList : []\n"
     ]
    }
   ],
   "source": [
    "eveList = []\n",
    "oddList = []\n",
    "floatList = []\n",
    "\n",
    "n = 1\n",
    "while n < 6:\n",
    "    try:\n",
    "        num = float(input('숫자 입력 : '))\n",
    "\n",
    "    except:\n",
    "        print('예외 발생!! 숫자를 입력하시오!!')\n",
    "        continue\n",
    "\n",
    "    else:\n",
    "        if num - int(num) != 0:\n",
    "            floatList.append(num)\n",
    "        else:\n",
    "            if num % 2 == 0:\n",
    "                eveList.append(num)\n",
    "            else:\n",
    "                oddList.append(num)\n",
    "    n += 1\n",
    "\n",
    "print(f'eveList : {eveList}')\n",
    "print(f'oddList : {oddList}')\n",
    "print(f'floatList : {floatList}')"
   ]
  },
  {
   "cell_type": "markdown",
   "id": "15c98310-8f42-4248-976b-c6f981e43dab",
   "metadata": {},
   "source": [
    "## fianlly\n",
    "- 예외 발생과 상관없이 항상 실행한다.\n",
    "- 외부 자원을 갖고 작업을 할 때 예외가 발행을 하던 안하던 꼭 실행해야 할 때 사용\n",
    "- 보통 try ~ except ~ else ~ finally 순으로 사용한다."
   ]
  },
  {
   "cell_type": "markdown",
   "id": "9121700b-73b2-48f6-9ca2-41e35e4f16c0",
   "metadata": {},
   "source": [
    "### 예제\n",
    "- 사용자로부터 숫자 5개를 입력받아 짝수, 홀수, 실수와 입력한 모든 데이터를 각각 출력하는 프로그램을 만들어보자\n",
    "  "
   ]
  },
  {
   "cell_type": "code",
   "execution_count": 7,
   "id": "03391328-0ebd-4824-a3e1-88287481d110",
   "metadata": {},
   "outputs": [
    {
     "name": "stdin",
     "output_type": "stream",
     "text": [
      "숫자 입력 :  abc\n"
     ]
    },
    {
     "name": "stdout",
     "output_type": "stream",
     "text": [
      "exception raise!!\n",
      "input number again!!\n"
     ]
    },
    {
     "name": "stdin",
     "output_type": "stream",
     "text": [
      "숫자 입력 :  3.14\n"
     ]
    },
    {
     "name": "stdout",
     "output_type": "stream",
     "text": [
      "float number!!\n"
     ]
    },
    {
     "name": "stdin",
     "output_type": "stream",
     "text": [
      "숫자 입력 :  0\n"
     ]
    },
    {
     "name": "stdout",
     "output_type": "stream",
     "text": [
      "even number!!\n"
     ]
    },
    {
     "name": "stdin",
     "output_type": "stream",
     "text": [
      "숫자 입력 :  6\n"
     ]
    },
    {
     "name": "stdout",
     "output_type": "stream",
     "text": [
      "even number!!\n"
     ]
    },
    {
     "name": "stdin",
     "output_type": "stream",
     "text": [
      "숫자 입력 :  3\n"
     ]
    },
    {
     "name": "stdout",
     "output_type": "stream",
     "text": [
      "odd number!!\n"
     ]
    },
    {
     "name": "stdin",
     "output_type": "stream",
     "text": [
      "숫자 입력 :  8\n"
     ]
    },
    {
     "name": "stdout",
     "output_type": "stream",
     "text": [
      "even number!!\n",
      "eveList : [0, 6, 8]\n",
      "oddList : [3]\n",
      "floatList : [3.14]\n",
      "dataList : ['abc', '3.14', '0', '6', '3', '8']\n"
     ]
    }
   ],
   "source": [
    "eveList = []; oddList = []; floatList = []; dataList = []\n",
    "\n",
    "n = 1\n",
    "while n < 6:\n",
    "    try:\n",
    "        num = input('숫자 입력 : ')\n",
    "        floatNum = float(num)\n",
    "\n",
    "    except:\n",
    "        print('exception raise!!')\n",
    "        print('input number again!!')\n",
    "        continue\n",
    "    else:\n",
    "        if floatNum - int(floatNum) != 0:\n",
    "            print('float number!!')\n",
    "            floatList.append(floatNum)\n",
    "\n",
    "        else:\n",
    "            if floatNum % 2 == 0:\n",
    "                print('even number!!')\n",
    "                eveList.append(int(floatNum))\n",
    "            else:\n",
    "                print('odd number!!')\n",
    "                oddList.append(int(floatNum))\n",
    "        n += 1\n",
    "    finally:\n",
    "        dataList.append(num)\n",
    "\n",
    "print(f'eveList : {eveList}')\n",
    "print(f'oddList : {oddList}')\n",
    "print(f'floatList : {floatList}')\n",
    "print(f'dataList : {dataList}')"
   ]
  },
  {
   "cell_type": "markdown",
   "id": "5cd79a49-8fde-493c-8760-18c9dfb35849",
   "metadata": {},
   "source": [
    "## Exception 클래스\n",
    "- Exception : 예외 담당 클래스\n",
    "- raise : raise 키워드를 이용하면 강제로 예외를 발생시킬 수 있다."
   ]
  },
  {
   "cell_type": "code",
   "execution_count": 8,
   "id": "49875882-d9dd-45b3-91ef-38ece8fa804e",
   "metadata": {},
   "outputs": [
    {
     "name": "stdin",
     "output_type": "stream",
     "text": [
      "정수1 입력 :  10\n",
      "정수2 입력 :  0\n"
     ]
    },
    {
     "name": "stdout",
     "output_type": "stream",
     "text": [
      "exception : division by zero\n",
      "num1 * num2 = 0\n",
      "num1 + num2 = 10\n",
      "num1 - num2 = 10\n"
     ]
    }
   ],
   "source": [
    "num1 = int(input('정수1 입력 : '))\n",
    "num2 = int(input('정수2 입력 : '))\n",
    "\n",
    "try :\n",
    "    print(f'num1 / num2 = {num1 / num2}')\n",
    "\n",
    "except Exception as e:\n",
    "    print(f'exception : {e}')\n",
    "\n",
    "print(f'num1 * num2 = {num1 * num2}')\n",
    "print(f'num1 + num2 = {num1 + num2}')\n",
    "print(f'num1 - num2 = {num1 - num2}')\n"
   ]
  },
  {
   "cell_type": "code",
   "execution_count": 12,
   "id": "25e922f7-dd87-4eab-a77f-fa753aa1a57c",
   "metadata": {},
   "outputs": [
    {
     "name": "stdin",
     "output_type": "stream",
     "text": [
      "정수1 입력 :  10\n",
      "정수2 입력 :  0\n"
     ]
    },
    {
     "name": "stdout",
     "output_type": "stream",
     "text": [
      "Excepetion : 0으로 나눌 수 없습니다.\n"
     ]
    }
   ],
   "source": [
    "def divdCalculator(n1, n2):\n",
    "\n",
    "    if n2 != 0:\n",
    "        print(f'{n1} / {n2} = {n1 / n2}')\n",
    "\n",
    "    else:\n",
    "        raise Exception('0으로 나눌 수 없습니다.')\n",
    "\n",
    "num1 = int(input('정수1 입력 : '))\n",
    "num2 = int(input('정수2 입력 : '))\n",
    "\n",
    "try:\n",
    "    divdCalculator(num1, num2)\n",
    "\n",
    "except Exception as e:\n",
    "    print(f'Excepetion : {e}')"
   ]
  },
  {
   "cell_type": "markdown",
   "id": "c12f92e0-8a09-4ba8-ab78-5a0733be81ca",
   "metadata": {},
   "source": [
    "# 사용자 Exception 클래스\n",
    "- Exception 클래스를 상속해서 사용자 예외 클래스를 만들 수 있다."
   ]
  },
  {
   "cell_type": "code",
   "execution_count": 16,
   "id": "115d1b87-3160-478f-bd32-d3fab84c8c1a",
   "metadata": {},
   "outputs": [
    {
     "name": "stdin",
     "output_type": "stream",
     "text": [
      "정수1 입력 :  10\n",
      "정수2 입력 :  0\n"
     ]
    },
    {
     "name": "stdout",
     "output_type": "stream",
     "text": [
      "0은 사용할 수 없습니다.\n"
     ]
    }
   ],
   "source": [
    "class NotUseZeroException(Exception):\n",
    "\n",
    "    def __init__(self, n):\n",
    "        super().__init__(f'{n}은 사용할 수 없습니다.')\n",
    "\n",
    "def divCalculator(n1, n2):\n",
    "\n",
    "    if num2 == 0:\n",
    "        raise NotUseZeroException(n2)\n",
    "\n",
    "    else:\n",
    "        print(f'{n1} / {n2} = {n1/n2}')\n",
    "\n",
    "num1 = int(input('정수1 입력 : '))\n",
    "num2 = int(input('정수2 입력 : '))\n",
    "\n",
    "try:\n",
    "    divCalculator(num1,num2)\n",
    "\n",
    "except NotUseZeroException as e:\n",
    "    print(e)"
   ]
  },
  {
   "cell_type": "markdown",
   "id": "1a46dc8d-0049-4390-a05c-bb778fbd6bc0",
   "metadata": {},
   "source": [
    "### 예제\n",
    "관리자 암호를 입력하고 다음 상태에 따라 예외 처리하는 예외 클래스를 만들어보자.\n",
    "\n",
    "- 암호 길이가 5 미만인 경우 : PasswordLengthShortException\n",
    "- 암호 길이가 10을 초과하는 경우 : PasswordLengthLongException\n",
    "- 암호가 잘못된 경우 : PasswordWrongException"
   ]
  },
  {
   "cell_type": "code",
   "execution_count": 26,
   "id": "b22c64fe-5d96-46ba-a766-361508e84c0c",
   "metadata": {},
   "outputs": [
    {
     "name": "stdin",
     "output_type": "stream",
     "text": [
      "input admin password :  admin1234\n"
     ]
    },
    {
     "name": "stdout",
     "output_type": "stream",
     "text": [
      "빙고!\n"
     ]
    }
   ],
   "source": [
    "class PasswordLengthShortException(Exception):\n",
    "\n",
    "    def __init__(self, n):\n",
    "        super().__init__(f'{n} : 길이 5 미만!!')\n",
    "\n",
    "class PasswordLengthLongException(Exception):\n",
    "\n",
    "    def __init__(self, n):\n",
    "        super().__init__(f'{n} : 길이 10 초과!!')\n",
    "    \n",
    "class PasswordWrongException(Exception):\n",
    "\n",
    "    def __init__(self, n):\n",
    "        super().__init__(f'{n} : 잘못된 비밀번호!!')\n",
    "\n",
    "        \n",
    "def Password(p):\n",
    "    \n",
    "    if p == 'admin1234':\n",
    "        print('빙고!')\n",
    "\n",
    "    elif len(p) < 5:\n",
    "        raise PasswordLengthShortException(p)\n",
    "\n",
    "    elif len(p) > 10:\n",
    "        raise PasswordLengthLongException(p)\n",
    "\n",
    "    else:\n",
    "        raise PasswordWrongException(p)\n",
    "\n",
    "pw = input('input admin password : ')\n",
    "\n",
    "try:\n",
    "    Password(pw)\n",
    "\n",
    "except PasswordLengthShortException as s:\n",
    "    print(s)\n",
    "\n",
    "except PasswordLengthLongException as l:\n",
    "    print(l)\n",
    "\n",
    "except PasswordWrongException as w:\n",
    "    print(w)"
   ]
  },
  {
   "cell_type": "code",
   "execution_count": null,
   "id": "ab166ebb-4dc8-44bf-b67e-9f9e8f3d7e5b",
   "metadata": {},
   "outputs": [],
   "source": []
  },
  {
   "cell_type": "code",
   "execution_count": null,
   "id": "b6d5b9ef-ea7e-4d31-a9b7-221881ee70e9",
   "metadata": {},
   "outputs": [],
   "source": []
  },
  {
   "cell_type": "code",
   "execution_count": null,
   "id": "d055b134-4cb9-4357-8745-11a6693f5434",
   "metadata": {},
   "outputs": [],
   "source": []
  },
  {
   "cell_type": "code",
   "execution_count": null,
   "id": "d7c6d3b3-a80a-4fc9-beaa-22feb4d47ca8",
   "metadata": {},
   "outputs": [],
   "source": []
  },
  {
   "cell_type": "code",
   "execution_count": null,
   "id": "c615cd6c-09cc-4e29-8ea0-0bdd2a2ad8b4",
   "metadata": {},
   "outputs": [],
   "source": []
  },
  {
   "cell_type": "code",
   "execution_count": null,
   "id": "85f8789b-dc6e-41b0-82a3-410ad401b25d",
   "metadata": {},
   "outputs": [],
   "source": []
  },
  {
   "cell_type": "code",
   "execution_count": null,
   "id": "27482d3e-1be0-4b8c-9200-24b6bcd0f3b6",
   "metadata": {},
   "outputs": [],
   "source": []
  },
  {
   "cell_type": "code",
   "execution_count": null,
   "id": "2256a9eb-a432-4056-b9d3-bce82ca6a254",
   "metadata": {},
   "outputs": [],
   "source": []
  },
  {
   "cell_type": "code",
   "execution_count": null,
   "id": "e8eb3113-aedb-486e-9a4c-3ffecb3d0f17",
   "metadata": {},
   "outputs": [],
   "source": []
  },
  {
   "cell_type": "code",
   "execution_count": null,
   "id": "9afa8ac3-8288-4d88-bef4-660a505696f7",
   "metadata": {},
   "outputs": [],
   "source": []
  }
 ],
 "metadata": {
  "kernelspec": {
   "display_name": "Python 3 (ipykernel)",
   "language": "python",
   "name": "python3"
  },
  "language_info": {
   "codemirror_mode": {
    "name": "ipython",
    "version": 3
   },
   "file_extension": ".py",
   "mimetype": "text/x-python",
   "name": "python",
   "nbconvert_exporter": "python",
   "pygments_lexer": "ipython3",
   "version": "3.9.12"
  }
 },
 "nbformat": 4,
 "nbformat_minor": 5
}
