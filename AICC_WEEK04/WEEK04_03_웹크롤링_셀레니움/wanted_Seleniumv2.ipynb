{
 "cells": [
  {
   "cell_type": "code",
   "execution_count": 2,
   "id": "27720e77",
   "metadata": {},
   "outputs": [],
   "source": [
    "# 설치한 selenium에서 webdriver를 import\n",
    "from selenium import webdriver\n",
    "from selenium.webdriver.common.by import By\n",
    "from selenium.webdriver.common.keys import Keys\n",
    "import time\n",
    "from bs4 import BeautifulSoup\n",
    "import pandas as pd\n",
    "from tqdm import tqdm\n",
    "import pymysql"
   ]
  },
  {
   "cell_type": "code",
   "execution_count": null,
   "id": "1817dc53",
   "metadata": {},
   "outputs": [],
   "source": []
  },
  {
   "cell_type": "code",
   "execution_count": null,
   "id": "b02d9383",
   "metadata": {},
   "outputs": [],
   "source": []
  },
  {
   "cell_type": "code",
   "execution_count": 7,
   "id": "02fec32e",
   "metadata": {},
   "outputs": [],
   "source": [
    "# selenum의 webdriver에 앞서 설치한 chromedirver를 연동한다.\n",
    "driver = webdriver.Chrome(\"\")"
   ]
  },
  {
   "cell_type": "code",
   "execution_count": null,
   "id": "c502f2a6",
   "metadata": {},
   "outputs": [],
   "source": []
  },
  {
   "cell_type": "code",
   "execution_count": null,
   "id": "2a234c6a",
   "metadata": {},
   "outputs": [],
   "source": []
  },
  {
   "cell_type": "code",
   "execution_count": null,
   "id": "e698306a",
   "metadata": {},
   "outputs": [],
   "source": []
  },
  {
   "cell_type": "code",
   "execution_count": 8,
   "id": "acf1d2ae",
   "metadata": {},
   "outputs": [
    {
     "data": {
      "text/plain": [
       "'html lang=\"ko-KR\" class=\"ko kr windows chrome blink\" style=\"\"><head><meta charset=\"utf-8\"><meta name=\"viewport\" content=\"width=device-width, initial-scale=1.0\"><meta http-equiv=\"X-UA-Compatible\" content=\"IE=edge\"><meta http-equiv=\"cache-control\" content=\"no-store\"><meta property=\"og:type\" content=\"website\"><meta property=\"og:locale\" content=\"ko_KR\"><meta property=\"fb:app_id\" content=\"316787678519888\"><meta name=\"theme-color\" content=\"#fffffe\"><meta name=\"msapplication-TileColor\" content=\"#ffffff\"><meta name=\"msapplication-TileImage\" content=\"//static.wanted.co.kr/favicon/new/144x144.png\"><meta name=\"naver-site-verification\" content=\"ef4f7f8504106401fe915b922514a5b352f59ca2\"><meta name=\"google-site-verification\" content=\"KEXLzgQBOVNqw8uNBWOXYOz2L4vUApbKxqxV6twdkxQ\"><title>개발 채용 정보 | 원티드</title><meta property=\"og:title\" content=\"개발 채용 정보 | 원티드\"><meta name=\"description\" content=\"글로벌 2만 4천 개 회사의 개발 채용 공고, 원티드에서 지금 바로 만나보세요. 신입 취업·경력직 이직은 원티드.\"><meta property=\"og:description\" content=\"글로벌 '"
      ]
     },
     "execution_count": 8,
     "metadata": {},
     "output_type": "execute_result"
    }
   ],
   "source": [
    "url = 'https://www.wanted.co.kr/wdlist/518?country=kr&job_sort=job.recommend_order&years=-1&selected=873&selected=669&selected=1024&selected=655&selected=899&locations=all'\n",
    "driver.get(url)\n",
    "driver.page_source[1:1000]"
   ]
  },
  {
   "cell_type": "code",
   "execution_count": null,
   "id": "15584237",
   "metadata": {},
   "outputs": [],
   "source": []
  },
  {
   "cell_type": "code",
   "execution_count": null,
   "id": "4db1c545",
   "metadata": {},
   "outputs": [],
   "source": []
  },
  {
   "cell_type": "code",
   "execution_count": null,
   "id": "7659abb8",
   "metadata": {},
   "outputs": [],
   "source": []
  },
  {
   "cell_type": "code",
   "execution_count": 53,
   "id": "6410a3ce",
   "metadata": {},
   "outputs": [],
   "source": [
    "# driver.find_element(By.XPATH, value = '//*[@id=\"__next\"]/div[3]/div[2]/ul/li[1]/div/a/div[2]/p').click()"
   ]
  },
  {
   "cell_type": "code",
   "execution_count": null,
   "id": "b31b8840",
   "metadata": {},
   "outputs": [],
   "source": []
  },
  {
   "cell_type": "code",
   "execution_count": 54,
   "id": "022dcd8f",
   "metadata": {},
   "outputs": [],
   "source": [
    "#//*[@id=\"__next\"]/main/div[1]/div/section/header"
   ]
  },
  {
   "cell_type": "code",
   "execution_count": 55,
   "id": "ecc37e0e",
   "metadata": {},
   "outputs": [],
   "source": [
    "# elem = driver.find_element(By.XPATH, value ='//*[@id=\"__next\"]/main/div[1]/div/section/header')"
   ]
  },
  {
   "cell_type": "code",
   "execution_count": 11,
   "id": "1ec3c7f2",
   "metadata": {},
   "outputs": [
    {
     "data": {
      "text/plain": [
       "'포디리플레이코리아∙경기 성남시∙경력 2-4년\\nWeb Front-end Development'"
      ]
     },
     "execution_count": 11,
     "metadata": {},
     "output_type": "execute_result"
    }
   ],
   "source": [
    "# elem.text"
   ]
  },
  {
   "cell_type": "code",
   "execution_count": 12,
   "id": "90263117",
   "metadata": {},
   "outputs": [
    {
     "data": {
      "text/plain": [
       "['포디리플레이코리아∙경기 성남시∙경력 2-4년', 'Web Front-end Development']"
      ]
     },
     "execution_count": 12,
     "metadata": {},
     "output_type": "execute_result"
    }
   ],
   "source": [
    "elem.text.split('\\n')"
   ]
  },
  {
   "cell_type": "code",
   "execution_count": 13,
   "id": "e62d76a6",
   "metadata": {},
   "outputs": [
    {
     "data": {
      "text/plain": [
       "'포디리플레이코리아∙경기 성남시∙경력 2-4년'"
      ]
     },
     "execution_count": 13,
     "metadata": {},
     "output_type": "execute_result"
    }
   ],
   "source": [
    "elem.text.split('\\n')[0]"
   ]
  },
  {
   "cell_type": "code",
   "execution_count": 14,
   "id": "08e62c04",
   "metadata": {},
   "outputs": [
    {
     "data": {
      "text/plain": [
       "'Web Front-end Development'"
      ]
     },
     "execution_count": 14,
     "metadata": {},
     "output_type": "execute_result"
    }
   ],
   "source": [
    "elem.text.split('\\n')[1]"
   ]
  },
  {
   "cell_type": "code",
   "execution_count": 15,
   "id": "ec2f3070",
   "metadata": {},
   "outputs": [],
   "source": [
    "elem_a = elem.text.split('\\n')[0]"
   ]
  },
  {
   "cell_type": "code",
   "execution_count": 148,
   "id": "fa1b7166",
   "metadata": {},
   "outputs": [],
   "source": [
    "title = []\n",
    "name = [] \n",
    "loc = []\n",
    "career = [] \n"
   ]
  },
  {
   "cell_type": "code",
   "execution_count": 17,
   "id": "3d29e843",
   "metadata": {},
   "outputs": [],
   "source": [
    "title.append(elem.text.split('\\n')[1])\n",
    "name.append(elem_a.split('∙')[0])\n",
    "loc.append(elem_a.split('∙')[1])\n",
    "career.append(elem_a.split('∙')[2])"
   ]
  },
  {
   "cell_type": "code",
   "execution_count": 18,
   "id": "93b27a8a",
   "metadata": {},
   "outputs": [
    {
     "name": "stdout",
     "output_type": "stream",
     "text": [
      "['Web Front-end Development']\n",
      "['포디리플레이코리아']\n",
      "['경기 성남시']\n",
      "['경력 2-4년']\n"
     ]
    }
   ],
   "source": [
    "print(title)\n",
    "print(name)\n",
    "print(loc)\n",
    "print(career)"
   ]
  },
  {
   "cell_type": "code",
   "execution_count": 19,
   "id": "33b58827",
   "metadata": {},
   "outputs": [
    {
     "data": {
      "text/plain": [
       "['포디리플레이코리아', '경기 성남시', '경력 2-4년']"
      ]
     },
     "execution_count": 19,
     "metadata": {},
     "output_type": "execute_result"
    }
   ],
   "source": [
    "elem_a.split('∙')"
   ]
  },
  {
   "cell_type": "code",
   "execution_count": 20,
   "id": "d07c59e0",
   "metadata": {},
   "outputs": [
    {
     "data": {
      "text/plain": [
       "selenium.webdriver.remote.webelement.WebElement"
      ]
     },
     "execution_count": 20,
     "metadata": {},
     "output_type": "execute_result"
    }
   ],
   "source": [
    "type(elem)"
   ]
  },
  {
   "cell_type": "code",
   "execution_count": 21,
   "id": "4d73be80",
   "metadata": {},
   "outputs": [
    {
     "name": "stdout",
     "output_type": "stream",
     "text": [
      "<class 'selenium.webdriver.remote.webelement.WebElement'>\n"
     ]
    }
   ],
   "source": [
    "elem_a.split('∙')\n",
    "print(type(elem))"
   ]
  },
  {
   "cell_type": "code",
   "execution_count": 22,
   "id": "cf4e9325",
   "metadata": {},
   "outputs": [],
   "source": [
    "df = pd.DataFrame()"
   ]
  },
  {
   "cell_type": "code",
   "execution_count": 23,
   "id": "f7a453fc",
   "metadata": {},
   "outputs": [
    {
     "data": {
      "text/plain": [
       "pandas.core.frame.DataFrame"
      ]
     },
     "execution_count": 23,
     "metadata": {},
     "output_type": "execute_result"
    }
   ],
   "source": [
    "type(df)"
   ]
  },
  {
   "cell_type": "code",
   "execution_count": 24,
   "id": "1f292d77",
   "metadata": {},
   "outputs": [],
   "source": [
    "df['기업명'] = name\n",
    "df['채용공고'] = title\n",
    "df['경력'] = career\n",
    "df['위치'] = loc"
   ]
  },
  {
   "cell_type": "code",
   "execution_count": 25,
   "id": "368685da",
   "metadata": {},
   "outputs": [
    {
     "data": {
      "text/html": [
       "<div>\n",
       "<style scoped>\n",
       "    .dataframe tbody tr th:only-of-type {\n",
       "        vertical-align: middle;\n",
       "    }\n",
       "\n",
       "    .dataframe tbody tr th {\n",
       "        vertical-align: top;\n",
       "    }\n",
       "\n",
       "    .dataframe thead th {\n",
       "        text-align: right;\n",
       "    }\n",
       "</style>\n",
       "<table border=\"1\" class=\"dataframe\">\n",
       "  <thead>\n",
       "    <tr style=\"text-align: right;\">\n",
       "      <th></th>\n",
       "      <th>기업명</th>\n",
       "      <th>채용공고</th>\n",
       "      <th>경력</th>\n",
       "      <th>위치</th>\n",
       "    </tr>\n",
       "  </thead>\n",
       "  <tbody>\n",
       "    <tr>\n",
       "      <th>0</th>\n",
       "      <td>포디리플레이코리아</td>\n",
       "      <td>Web Front-end Development</td>\n",
       "      <td>경력 2-4년</td>\n",
       "      <td>경기 성남시</td>\n",
       "    </tr>\n",
       "  </tbody>\n",
       "</table>\n",
       "</div>"
      ],
      "text/plain": [
       "         기업명                       채용공고       경력      위치\n",
       "0  포디리플레이코리아  Web Front-end Development  경력 2-4년  경기 성남시"
      ]
     },
     "execution_count": 25,
     "metadata": {},
     "output_type": "execute_result"
    }
   ],
   "source": [
    "df"
   ]
  },
  {
   "cell_type": "code",
   "execution_count": 26,
   "id": "1079ce32",
   "metadata": {},
   "outputs": [],
   "source": [
    "driver.back()"
   ]
  },
  {
   "cell_type": "code",
   "execution_count": 28,
   "id": "695f1eac",
   "metadata": {},
   "outputs": [
    {
     "name": "stderr",
     "output_type": "stream",
     "text": [
      "\r",
      "  0%|                                                                                          | 0/199 [00:00<?, ?it/s]"
     ]
    },
    {
     "name": "stdout",
     "output_type": "stream",
     "text": [
      "포지큐브(POSICUBE)∙서울 강남구∙신입-경력 5년\n",
      "Vision Deep learning 기술 개발\n"
     ]
    },
    {
     "name": "stderr",
     "output_type": "stream",
     "text": [
      "100%|████████████████████████████████████████████████████████████████████████████████| 199/199 [00:20<00:00,  9.67it/s]\n"
     ]
    }
   ],
   "source": [
    "#//*[@id=\"__next\"]/div[3]/div[2]/ul/li[1]/div/a/div[2]/p\n",
    "#//*[@id=\"__next\"]/div[3]/div[2]/ul/li[1]\n",
    "title = []\n",
    "name = [] \n",
    "loc = []\n",
    "career = [] \n",
    "loc2=[]\n",
    "tag=[]\n",
    "cdate=[]\n",
    "position=[]\n",
    "\n",
    "# selenum의 webdriver에 앞서 설치한 chromedirver를 연동한다.\n",
    "driver = webdriver.Chrome(\"\")\n",
    "time.sleep(3)\n",
    "url = 'https://www.wanted.co.kr/wdlist/518/1634?country=kr&job_sort=job.recommend_order&years=-1&selected=1634&locations=seoul.gangnam-gu&locations=seoul.guro-gu&locations=seoul.geumcheon-gu&locations=seoul.seocho-gu&locations=seoul.songpa-gu'\n",
    "driver.get(url)\n",
    "time.sleep(3)\n",
    "\n",
    "for i in tqdm(range(1,200)):\n",
    "    try:\n",
    "        driver.find_element(By.XPATH, value = f'//*[@id=\"__next\"]/div[3]/div[2]/ul/li[{i}]/div/a/div[2]').click()\n",
    "        time.sleep(5)\n",
    "        elem = driver.find_element(By.XPATH, value = '//*[@id=\"__next\"]/main/div[1]/div/section/header')\n",
    "        print(elem.text)\n",
    "        elem_a = elem.text.split('\\n')[0]\n",
    "        title.append(elem.text.split('\\n')[1])\n",
    "        name.append(elem_a.split('∙')[0])\n",
    "        loc.append(elem_a.split('∙')[1])\n",
    "        career.append(elem_a.split('∙')[2])\n",
    "        driver.execute_script('window.scrollTo(0, document.body.scrollHeight);')\n",
    "        time.sleep(5)\n",
    "        \n",
    "        #더보기 버튼 활성화 \n",
    "        try:\n",
    "            driver.find_element(By.XPATH, value = f'//*[@id=\"__next\"]/main/div[1]/div/section/section/article[1]/div/button').click()\n",
    "            time.sleep(5)\n",
    "            driver.execute_script(\"window.scrollBy(0, 200);\")\n",
    "        \n",
    "        #혜택및 복지(포지션)\n",
    "            elem= driver.find_element(By.XPATH, value = '//*[@id=\"__next\"]/main/div[1]/div/section/section/article[1]/div/div[4]')\n",
    "            time.sleep(5)\n",
    "        #태그\n",
    "            elem = driver.find_element(By.XPATH, value ='//*[@id=\"__next\"]/main/div[1]/div/section/section/article[2]')\n",
    "            time.sleep(5)\n",
    "        #마감일\n",
    "            elem = driver.find_element(By.XPATH, value ='//*[@id=\"__next\"]/main/div[1]/div/section/section/article[3]/span')\n",
    "            time.sleep(5)\n",
    "        #근무지역 \n",
    "            elem = driver.find_element(By.XPATH, value = '//*[@id=\"__next\"]/main/div[1]/div/section/section/article[5]/div/div/span')\n",
    "            time.sleep(5)\n",
    "            driver.back()\n",
    "        \n",
    "            driver.switch_to.window(driver.window_handles[0])\n",
    "        except: \n",
    "            elem= driver.find_element(By.CLASS_NAME, value = 'CompanyTags_CompanyTags__list__KgTBZ')        \n",
    "            driver.execute_script('window.scrollTo(0, document.body.scrollHeight);')\n",
    "            time.sleep(5)\n",
    "            driver.find_element(By.XPATH, value = f'//*[@id=\"__next\"]/div[3]/div[2]/ul/li[{i}]/div/a/div[2]').click()\n",
    "            time.sleep(7)\n",
    "            elem = driver.find_element(By.XPATH, value = '//*[@id=\"__next\"]/main/div[1]/div/section/header')\n",
    "            print(elem.text)\n",
    "            elem_a = elem.text.split('\\n')[0]\n",
    "            title.append(elem.text.split('\\n')[1])\n",
    "            name.append(elem_a.split('∙')[0])\n",
    "            loc.append(elem_a.split('∙')[1])\n",
    "            career.append(elem_a.split('∙')[2])\n",
    "            tag.append(elem_a.splt('\\n'))\n",
    "\n",
    "            driver.back()\n",
    "            time.sleep(7)\n",
    "    except:\n",
    "        pass"
   ]
  },
  {
   "cell_type": "code",
   "execution_count": null,
   "id": "9269758e",
   "metadata": {},
   "outputs": [],
   "source": []
  },
  {
   "cell_type": "code",
   "execution_count": null,
   "id": "a3a7d371",
   "metadata": {},
   "outputs": [],
   "source": []
  },
  {
   "cell_type": "code",
   "execution_count": null,
   "id": "a3acd2c3",
   "metadata": {},
   "outputs": [],
   "source": []
  },
  {
   "cell_type": "code",
   "execution_count": 26,
   "id": "d7eebea5",
   "metadata": {},
   "outputs": [
    {
     "data": {
      "text/html": [
       "<div>\n",
       "<style scoped>\n",
       "    .dataframe tbody tr th:only-of-type {\n",
       "        vertical-align: middle;\n",
       "    }\n",
       "\n",
       "    .dataframe tbody tr th {\n",
       "        vertical-align: top;\n",
       "    }\n",
       "\n",
       "    .dataframe thead th {\n",
       "        text-align: right;\n",
       "    }\n",
       "</style>\n",
       "<table border=\"1\" class=\"dataframe\">\n",
       "  <thead>\n",
       "    <tr style=\"text-align: right;\">\n",
       "      <th></th>\n",
       "      <th>기업명</th>\n",
       "      <th>채용공고</th>\n",
       "      <th>경력</th>\n",
       "      <th>위치</th>\n",
       "    </tr>\n",
       "  </thead>\n",
       "  <tbody>\n",
       "    <tr>\n",
       "      <th>0</th>\n",
       "      <td>포지큐브(POSICUBE)</td>\n",
       "      <td>Vision Deep learning 기술 개발</td>\n",
       "      <td>신입-경력 5년</td>\n",
       "      <td>서울 강남구</td>\n",
       "    </tr>\n",
       "  </tbody>\n",
       "</table>\n",
       "</div>"
      ],
      "text/plain": [
       "              기업명                        채용공고        경력      위치\n",
       "0  포지큐브(POSICUBE)  Vision Deep learning 기술 개발  신입-경력 5년  서울 강남구"
      ]
     },
     "execution_count": 26,
     "metadata": {},
     "output_type": "execute_result"
    }
   ],
   "source": [
    "df"
   ]
  },
  {
   "cell_type": "code",
   "execution_count": null,
   "id": "752e1bc8",
   "metadata": {},
   "outputs": [],
   "source": []
  },
  {
   "cell_type": "code",
   "execution_count": null,
   "id": "a7951a46",
   "metadata": {},
   "outputs": [],
   "source": []
  },
  {
   "cell_type": "code",
   "execution_count": 5,
   "id": "4d85adc5",
   "metadata": {},
   "outputs": [],
   "source": [
    "#try:\n",
    "   # driver.find_element(By.XPATH, value = f'//*[@id=\"__next\"]/main/div[1]/div/section/section/article[1]/div/button').click()\n",
    "#except:\n",
    "   # driver.back()"
   ]
  },
  {
   "cell_type": "code",
   "execution_count": null,
   "id": "87855528",
   "metadata": {},
   "outputs": [],
   "source": []
  },
  {
   "cell_type": "code",
   "execution_count": 13,
   "id": "4f4d539c",
   "metadata": {},
   "outputs": [],
   "source": [
    "#elem= driver.find_element(By.CLASS_NAME, value = 'CompanyTags_CompanyTags__list__KgTBZ')\n"
   ]
  },
  {
   "cell_type": "code",
   "execution_count": null,
   "id": "ab36457c",
   "metadata": {},
   "outputs": [],
   "source": []
  },
  {
   "cell_type": "code",
   "execution_count": 16,
   "id": "15f5ba1c",
   "metadata": {},
   "outputs": [
    {
     "data": {
      "text/plain": [
       "'장비지원\\n휴가비\\n보너스\\n커피·스낵바\\n유급휴가\\n설립4~9년'"
      ]
     },
     "execution_count": 16,
     "metadata": {},
     "output_type": "execute_result"
    }
   ],
   "source": [
    "elem.text"
   ]
  },
  {
   "cell_type": "code",
   "execution_count": null,
   "id": "9735a5c5",
   "metadata": {},
   "outputs": [],
   "source": []
  },
  {
   "cell_type": "code",
   "execution_count": null,
   "id": "2d757714",
   "metadata": {},
   "outputs": [],
   "source": []
  },
  {
   "cell_type": "code",
   "execution_count": null,
   "id": "27ae591f",
   "metadata": {},
   "outputs": [],
   "source": [
    "#혜택및 복지 \n",
    "#elem='//*[@id=\"__next\"]/main/div[1]/div/section/section/article[1]/div/div[4]'\n",
    "#time.sleep(5)\n",
    "#태그\n",
    "#elem='//*[@id=\"__next\"]/main/div[1]/div/section/section/article[2]'\n",
    "#time.sleep(5)\n",
    "#마감일\n",
    "#elem='//*[@id=\"__next\"]/main/div[1]/div/section/section/article[3]/span'\n",
    "#time.sleep(5)\n",
    "#근무지역 \n",
    "#elem='//*[@id=\"__next\"]/main/div[1]/div/section/section/article[5]/div/div/span'\n",
    "#time.sleep(5)"
   ]
  },
  {
   "cell_type": "code",
   "execution_count": null,
   "id": "f4ba304e",
   "metadata": {},
   "outputs": [],
   "source": []
  },
  {
   "cell_type": "code",
   "execution_count": 169,
   "id": "c953b665",
   "metadata": {},
   "outputs": [],
   "source": [
    "#df = pd.DataFrame()\n",
    "    \n",
    "#df['기업명'] = name\n",
    "#df['채용공고'] = title\n",
    "#df['경력'] = career\n",
    "#df['위치'] = loc"
   ]
  },
  {
   "cell_type": "code",
   "execution_count": null,
   "id": "811b0761",
   "metadata": {},
   "outputs": [],
   "source": []
  },
  {
   "cell_type": "code",
   "execution_count": 12,
   "id": "7e201986",
   "metadata": {},
   "outputs": [
    {
     "data": {
      "text/plain": [
       "pandas.core.frame.DataFrame"
      ]
     },
     "execution_count": 12,
     "metadata": {},
     "output_type": "execute_result"
    }
   ],
   "source": [
    "df"
   ]
  },
  {
   "cell_type": "code",
   "execution_count": null,
   "id": "0b9fd64f",
   "metadata": {},
   "outputs": [],
   "source": []
  },
  {
   "cell_type": "code",
   "execution_count": null,
   "id": "a012d871",
   "metadata": {},
   "outputs": [],
   "source": []
  },
  {
   "cell_type": "code",
   "execution_count": null,
   "id": "f564bb0a",
   "metadata": {},
   "outputs": [],
   "source": []
  },
  {
   "cell_type": "code",
   "execution_count": 24,
   "id": "6a0a3a88",
   "metadata": {},
   "outputs": [],
   "source": [
    "df.to_csv('C:\\\\alcc\\\\1.파이썬\\\\Pflow\\\\wanted_Selenium.csv', encoding='utf-8')"
   ]
  },
  {
   "cell_type": "code",
   "execution_count": null,
   "id": "b7a3d464",
   "metadata": {},
   "outputs": [],
   "source": []
  },
  {
   "cell_type": "code",
   "execution_count": null,
   "id": "3e360a41",
   "metadata": {},
   "outputs": [],
   "source": []
  },
  {
   "cell_type": "code",
   "execution_count": 22,
   "id": "adb1c643",
   "metadata": {},
   "outputs": [
    {
     "data": {
      "text/html": [
       "<div>\n",
       "<style scoped>\n",
       "    .dataframe tbody tr th:only-of-type {\n",
       "        vertical-align: middle;\n",
       "    }\n",
       "\n",
       "    .dataframe tbody tr th {\n",
       "        vertical-align: top;\n",
       "    }\n",
       "\n",
       "    .dataframe thead th {\n",
       "        text-align: right;\n",
       "    }\n",
       "</style>\n",
       "<table border=\"1\" class=\"dataframe\">\n",
       "  <thead>\n",
       "    <tr style=\"text-align: right;\">\n",
       "      <th></th>\n",
       "      <th>기업명</th>\n",
       "      <th>채용공고</th>\n",
       "      <th>경력</th>\n",
       "      <th>위치</th>\n",
       "    </tr>\n",
       "  </thead>\n",
       "  <tbody>\n",
       "    <tr>\n",
       "      <th>0</th>\n",
       "      <td>포지큐브(POSICUBE)</td>\n",
       "      <td>Vision Deep learning 기술 개발</td>\n",
       "      <td>신입-경력 5년</td>\n",
       "      <td>서울 강남구</td>\n",
       "    </tr>\n",
       "  </tbody>\n",
       "</table>\n",
       "</div>"
      ],
      "text/plain": [
       "              기업명                        채용공고        경력      위치\n",
       "0  포지큐브(POSICUBE)  Vision Deep learning 기술 개발  신입-경력 5년  서울 강남구"
      ]
     },
     "execution_count": 22,
     "metadata": {},
     "output_type": "execute_result"
    }
   ],
   "source": [
    "df"
   ]
  },
  {
   "cell_type": "code",
   "execution_count": null,
   "id": "5c1a0859",
   "metadata": {},
   "outputs": [],
   "source": []
  },
  {
   "cell_type": "code",
   "execution_count": 29,
   "id": "2519b635",
   "metadata": {},
   "outputs": [
    {
     "ename": "TypeError",
     "evalue": "drop_duplicates() missing 1 required positional argument: 'self'",
     "output_type": "error",
     "traceback": [
      "\u001b[1;31m---------------------------------------------------------------------------\u001b[0m",
      "\u001b[1;31mTypeError\u001b[0m                                 Traceback (most recent call last)",
      "Input \u001b[1;32mIn [29]\u001b[0m, in \u001b[0;36m<cell line: 3>\u001b[1;34m()\u001b[0m\n\u001b[0;32m      1\u001b[0m df\u001b[38;5;241m=\u001b[39mpd\u001b[38;5;241m.\u001b[39mDataFrame\n\u001b[1;32m----> 3\u001b[0m df_unique \u001b[38;5;241m=\u001b[39m \u001b[43mdf\u001b[49m\u001b[38;5;241;43m.\u001b[39;49m\u001b[43mdrop_duplicates\u001b[49m\u001b[43m(\u001b[49m\u001b[43msubset\u001b[49m\u001b[38;5;241;43m=\u001b[39;49m\u001b[43m[\u001b[49m\u001b[38;5;124;43m'\u001b[39;49m\u001b[38;5;124;43mA\u001b[39;49m\u001b[38;5;124;43m'\u001b[39;49m\u001b[43m]\u001b[49m\u001b[43m)\u001b[49m\n",
      "File \u001b[1;32m~\\anaconda3\\lib\\site-packages\\pandas\\util\\_decorators.py:311\u001b[0m, in \u001b[0;36mdeprecate_nonkeyword_arguments.<locals>.decorate.<locals>.wrapper\u001b[1;34m(*args, **kwargs)\u001b[0m\n\u001b[0;32m    305\u001b[0m \u001b[38;5;28;01mif\u001b[39;00m \u001b[38;5;28mlen\u001b[39m(args) \u001b[38;5;241m>\u001b[39m num_allow_args:\n\u001b[0;32m    306\u001b[0m     warnings\u001b[38;5;241m.\u001b[39mwarn(\n\u001b[0;32m    307\u001b[0m         msg\u001b[38;5;241m.\u001b[39mformat(arguments\u001b[38;5;241m=\u001b[39marguments),\n\u001b[0;32m    308\u001b[0m         \u001b[38;5;167;01mFutureWarning\u001b[39;00m,\n\u001b[0;32m    309\u001b[0m         stacklevel\u001b[38;5;241m=\u001b[39mstacklevel,\n\u001b[0;32m    310\u001b[0m     )\n\u001b[1;32m--> 311\u001b[0m \u001b[38;5;28;01mreturn\u001b[39;00m func(\u001b[38;5;241m*\u001b[39margs, \u001b[38;5;241m*\u001b[39m\u001b[38;5;241m*\u001b[39mkwargs)\n",
      "\u001b[1;31mTypeError\u001b[0m: drop_duplicates() missing 1 required positional argument: 'self'"
     ]
    }
   ],
   "source": [
    "df=pd.DataFrame\n",
    "\n",
    "df_unique = df.drop_duplicates(subset=['A'])"
   ]
  },
  {
   "cell_type": "code",
   "execution_count": null,
   "id": "9ae84f3d",
   "metadata": {},
   "outputs": [],
   "source": []
  },
  {
   "cell_type": "code",
   "execution_count": null,
   "id": "2b1efa8d",
   "metadata": {},
   "outputs": [],
   "source": []
  },
  {
   "cell_type": "code",
   "execution_count": 5,
   "id": "332c35fb",
   "metadata": {},
   "outputs": [
    {
     "data": {
      "text/plain": [
       "0"
      ]
     },
     "execution_count": 5,
     "metadata": {},
     "output_type": "execute_result"
    }
   ],
   "source": [
    "# MariaDB 연결\n",
    "#conn = pymysql.connect(host='127.0.0.1', port=3306, user='user', password='user1234', db='dbmaria', charset='utf8')\n",
    "# 커서 생성\n",
    "#cur = conn.cursor()\n",
    "# User 테이블 생성 (nameUser에 UNIQUE 제약 추가)\n",
    "#cur.execute('''CREATE TABLE IF NOT EXISTS wanted (\n",
    "              #name VARCHAR(255),\n",
    "                #loc VARCHAR(255),\n",
    "                #career VARCHAR(255),\n",
    "                #title VARCHAR(255),\n",
    "                #position VARCHAR(20000),\n",
    "                #cdate VARCHAR(255),\n",
    "                #tag VARCHAR(255),\n",
    "                #loc2 VARCHAR(255)\n",
    "            #)''')"
   ]
  },
  {
   "cell_type": "code",
   "execution_count": null,
   "id": "05302ba1",
   "metadata": {},
   "outputs": [],
   "source": []
  },
  {
   "cell_type": "code",
   "execution_count": 57,
   "id": "135ba060",
   "metadata": {},
   "outputs": [
    {
     "data": {
      "text/html": [
       "<div>\n",
       "<style scoped>\n",
       "    .dataframe tbody tr th:only-of-type {\n",
       "        vertical-align: middle;\n",
       "    }\n",
       "\n",
       "    .dataframe tbody tr th {\n",
       "        vertical-align: top;\n",
       "    }\n",
       "\n",
       "    .dataframe thead th {\n",
       "        text-align: right;\n",
       "    }\n",
       "</style>\n",
       "<table border=\"1\" class=\"dataframe\">\n",
       "  <thead>\n",
       "    <tr style=\"text-align: right;\">\n",
       "      <th></th>\n",
       "      <th>기업명</th>\n",
       "      <th>채용공고</th>\n",
       "      <th>경력</th>\n",
       "      <th>위치</th>\n",
       "    </tr>\n",
       "  </thead>\n",
       "  <tbody>\n",
       "    <tr>\n",
       "      <th>0</th>\n",
       "      <td>바로팜</td>\n",
       "      <td>[200억↑투자] 백엔드 개발자 (Python)</td>\n",
       "      <td>경력 5-15년</td>\n",
       "      <td>서울 강남구</td>\n",
       "    </tr>\n",
       "  </tbody>\n",
       "</table>\n",
       "</div>"
      ],
      "text/plain": [
       "   기업명                        채용공고        경력      위치\n",
       "0  바로팜  [200억↑투자] 백엔드 개발자 (Python)  경력 5-15년  서울 강남구"
      ]
     },
     "execution_count": 57,
     "metadata": {},
     "output_type": "execute_result"
    }
   ],
   "source": [
    "df.drop_duplicates()"
   ]
  },
  {
   "cell_type": "code",
   "execution_count": null,
   "id": "b246810d",
   "metadata": {},
   "outputs": [],
   "source": []
  },
  {
   "cell_type": "code",
   "execution_count": null,
   "id": "e2872537",
   "metadata": {},
   "outputs": [],
   "source": []
  },
  {
   "cell_type": "code",
   "execution_count": 30,
   "id": "3999a954",
   "metadata": {},
   "outputs": [
    {
     "ename": "TypeError",
     "evalue": "iterrows() missing 1 required positional argument: 'self'",
     "output_type": "error",
     "traceback": [
      "\u001b[1;31m---------------------------------------------------------------------------\u001b[0m",
      "\u001b[1;31mTypeError\u001b[0m                                 Traceback (most recent call last)",
      "Input \u001b[1;32mIn [30]\u001b[0m, in \u001b[0;36m<cell line: 2>\u001b[1;34m()\u001b[0m\n\u001b[0;32m      1\u001b[0m \u001b[38;5;66;03m# # 데이터 프레임의 데이터를 데이터베이스에 삽입\u001b[39;00m\n\u001b[1;32m----> 2\u001b[0m \u001b[38;5;28;01mfor\u001b[39;00m index, row \u001b[38;5;129;01min\u001b[39;00m \u001b[43mdf\u001b[49m\u001b[38;5;241;43m.\u001b[39;49m\u001b[43miterrows\u001b[49m\u001b[43m(\u001b[49m\u001b[43m)\u001b[49m:\n\u001b[0;32m      3\u001b[0m       cur\u001b[38;5;241m.\u001b[39mexecute(\u001b[38;5;124m\"\"\"\u001b[39m\n\u001b[0;32m      4\u001b[0m \u001b[38;5;124m        INSERT INTO  wanted(\u001b[39m\n\u001b[0;32m      5\u001b[0m \u001b[38;5;124m            name,\u001b[39m\n\u001b[1;32m   (...)\u001b[0m\n\u001b[0;32m     22\u001b[0m         \n\u001b[0;32m     23\u001b[0m      ))\n",
      "\u001b[1;31mTypeError\u001b[0m: iterrows() missing 1 required positional argument: 'self'"
     ]
    }
   ],
   "source": [
    "# # 데이터 프레임의 데이터를 데이터베이스에 삽입\n",
    "for index, row in df.iterrows():\n",
    "      cur.execute(\"\"\"\n",
    "        INSERT INTO  wanted(\n",
    "            name,\n",
    "            loc,\n",
    "          career,\n",
    "            title,\n",
    "            loc2,\n",
    "            tag,\n",
    "            cdate,position\n",
    "        ) VALUES (%s, %s, %s, %s,%s,%s,%s,%s)\n",
    "   \"\"\", (\n",
    "        row['기업명'],\n",
    "          row['채용공고'],\n",
    "          row['경력'],\n",
    "          row['위치'],\n",
    "          row['근무장소'],\n",
    "          row['태그'],\n",
    "          row['마감일'],\n",
    "          row['포지션']\n",
    "        \n",
    "     ))"
   ]
  },
  {
   "cell_type": "code",
   "execution_count": null,
   "id": "fff002ab",
   "metadata": {},
   "outputs": [],
   "source": []
  },
  {
   "cell_type": "code",
   "execution_count": null,
   "id": "dd199bd6",
   "metadata": {},
   "outputs": [],
   "source": []
  },
  {
   "cell_type": "code",
   "execution_count": 46,
   "id": "73b8f9e4",
   "metadata": {},
   "outputs": [],
   "source": [
    "# 변경사항 커밋\n",
    "#conn.commit()\n",
    "\n",
    "# 연결 종료\n",
    "#conn.close()"
   ]
  },
  {
   "cell_type": "code",
   "execution_count": null,
   "id": "e36a93af",
   "metadata": {},
   "outputs": [],
   "source": []
  },
  {
   "cell_type": "code",
   "execution_count": 33,
   "id": "4c8e650a",
   "metadata": {},
   "outputs": [
    {
     "data": {
      "text/plain": [
       "pandas.core.frame.DataFrame"
      ]
     },
     "execution_count": 33,
     "metadata": {},
     "output_type": "execute_result"
    }
   ],
   "source": [
    "#df"
   ]
  },
  {
   "cell_type": "code",
   "execution_count": null,
   "id": "4f2ab7a1",
   "metadata": {},
   "outputs": [],
   "source": []
  },
  {
   "cell_type": "code",
   "execution_count": null,
   "id": "7be8f6b0",
   "metadata": {},
   "outputs": [],
   "source": [
    "#//*[@id=\"__next\"]/main/div[1]/div/section/header"
   ]
  },
  {
   "cell_type": "code",
   "execution_count": null,
   "id": "aa7fd186",
   "metadata": {},
   "outputs": [],
   "source": [
    "#//*[@id=\"__next\"]/div[3]/div[2]/ul/li[3]/div/a/div[2]/p"
   ]
  }
 ],
 "metadata": {
  "kernelspec": {
   "display_name": "Python 3 (ipykernel)",
   "language": "python",
   "name": "python3"
  },
  "language_info": {
   "codemirror_mode": {
    "name": "ipython",
    "version": 3
   },
   "file_extension": ".py",
   "mimetype": "text/x-python",
   "name": "python",
   "nbconvert_exporter": "python",
   "pygments_lexer": "ipython3",
   "version": "3.9.12"
  }
 },
 "nbformat": 4,
 "nbformat_minor": 5
}
